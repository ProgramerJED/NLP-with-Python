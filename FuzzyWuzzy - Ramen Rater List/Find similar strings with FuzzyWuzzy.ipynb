{
 "cells": [
  {
   "cell_type": "markdown",
   "metadata": {},
   "source": [
    "# Find similar strings with FuzzyWuzzy"
   ]
  },
  {
   "cell_type": "markdown",
   "metadata": {},
   "source": [
    "There are different ways to make data dirty, and inconsistent data entry is one of them. Inconsistent values are even worse than duplicates, and sometimes difficult to detect.<br>\n",
    "In this notebook, I apply [FuzzyWuzzy](https://github.com/seatgeek/fuzzywuzzy) package to find similar ramen brand names in a ramen review dataset.<br>\n",
    "Data source: [The ramen rater Big list](https://www.theramenrater.com/resources-2/the-list/)"
   ]
  },
  {
   "cell_type": "markdown",
   "metadata": {},
   "source": [
    "## Import"
   ]
  },
  {
   "cell_type": "code",
   "execution_count": 1,
   "metadata": {},
   "outputs": [],
   "source": [
    "import pandas as pd\n",
    "import numpy as np\n",
    "from fuzzywuzzy import process, fuzz"
   ]
  },
  {
   "cell_type": "markdown",
   "metadata": {},
   "source": [
    "## Overview of the dataset"
   ]
  },
  {
   "cell_type": "code",
   "execution_count": 2,
   "metadata": {},
   "outputs": [],
   "source": [
    "# Load in the excel file\n",
    "ramen = pd.read_excel('The-Ramen-Rater-The-Big-List-1-3400-Current-As-Of-Jan-25-2020.xlsx')"
   ]
  },
  {
   "cell_type": "code",
   "execution_count": 3,
   "metadata": {},
   "outputs": [
    {
     "data": {
      "text/html": [
       "<div>\n",
       "<style scoped>\n",
       "    .dataframe tbody tr th:only-of-type {\n",
       "        vertical-align: middle;\n",
       "    }\n",
       "\n",
       "    .dataframe tbody tr th {\n",
       "        vertical-align: top;\n",
       "    }\n",
       "\n",
       "    .dataframe thead th {\n",
       "        text-align: right;\n",
       "    }\n",
       "</style>\n",
       "<table border=\"1\" class=\"dataframe\">\n",
       "  <thead>\n",
       "    <tr style=\"text-align: right;\">\n",
       "      <th></th>\n",
       "      <th>Review #</th>\n",
       "      <th>Brand</th>\n",
       "      <th>Variety</th>\n",
       "      <th>Style</th>\n",
       "      <th>Country</th>\n",
       "      <th>Stars</th>\n",
       "    </tr>\n",
       "  </thead>\n",
       "  <tbody>\n",
       "    <tr>\n",
       "      <td>0</td>\n",
       "      <td>3400</td>\n",
       "      <td>EDO Pack</td>\n",
       "      <td>Kumamoto Flavour Noodles</td>\n",
       "      <td>Cup</td>\n",
       "      <td>Hong Kong</td>\n",
       "      <td>1</td>\n",
       "    </tr>\n",
       "    <tr>\n",
       "      <td>1</td>\n",
       "      <td>3399</td>\n",
       "      <td>Pan Mee</td>\n",
       "      <td>Goreng Dried Chili Shrimp Flavour</td>\n",
       "      <td>Pack</td>\n",
       "      <td>Malaysia</td>\n",
       "      <td>5</td>\n",
       "    </tr>\n",
       "    <tr>\n",
       "      <td>2</td>\n",
       "      <td>3398</td>\n",
       "      <td>Paldo</td>\n",
       "      <td>King Lid Ramen Noodle Soup</td>\n",
       "      <td>Pack</td>\n",
       "      <td>South Korea</td>\n",
       "      <td>5</td>\n",
       "    </tr>\n",
       "    <tr>\n",
       "      <td>3</td>\n",
       "      <td>3397</td>\n",
       "      <td>Nissin Miojo</td>\n",
       "      <td>Cremoso Carno Com Chili</td>\n",
       "      <td>Pack</td>\n",
       "      <td>Brazil</td>\n",
       "      <td>2</td>\n",
       "    </tr>\n",
       "    <tr>\n",
       "      <td>4</td>\n",
       "      <td>3396</td>\n",
       "      <td>Samyang Foods</td>\n",
       "      <td>Cham Ramen Big Bowl</td>\n",
       "      <td>Bowl</td>\n",
       "      <td>South Korea</td>\n",
       "      <td>2.25</td>\n",
       "    </tr>\n",
       "  </tbody>\n",
       "</table>\n",
       "</div>"
      ],
      "text/plain": [
       "   Review #          Brand                            Variety Style  \\\n",
       "0      3400       EDO Pack           Kumamoto Flavour Noodles   Cup   \n",
       "1      3399        Pan Mee  Goreng Dried Chili Shrimp Flavour  Pack   \n",
       "2      3398          Paldo         King Lid Ramen Noodle Soup  Pack   \n",
       "3      3397   Nissin Miojo            Cremoso Carno Com Chili  Pack   \n",
       "4      3396  Samyang Foods                Cham Ramen Big Bowl  Bowl   \n",
       "\n",
       "       Country Stars  \n",
       "0    Hong Kong     1  \n",
       "1     Malaysia     5  \n",
       "2  South Korea     5  \n",
       "3       Brazil     2  \n",
       "4  South Korea  2.25  "
      ]
     },
     "execution_count": 3,
     "metadata": {},
     "output_type": "execute_result"
    }
   ],
   "source": [
    "# Display the first columns\n",
    "ramen.head()"
   ]
  },
  {
   "cell_type": "code",
   "execution_count": 4,
   "metadata": {},
   "outputs": [
    {
     "name": "stdout",
     "output_type": "stream",
     "text": [
      "<class 'pandas.core.frame.DataFrame'>\n",
      "RangeIndex: 3400 entries, 0 to 3399\n",
      "Data columns (total 6 columns):\n",
      "Review #    3400 non-null int64\n",
      "Brand       3400 non-null object\n",
      "Variety     3400 non-null object\n",
      "Style       3400 non-null object\n",
      "Country     3400 non-null object\n",
      "Stars       3400 non-null object\n",
      "dtypes: int64(1), object(5)\n",
      "memory usage: 159.5+ KB\n"
     ]
    }
   ],
   "source": [
    "# Check data type and null values\n",
    "ramen.info()"
   ]
  },
  {
   "cell_type": "code",
   "execution_count": 5,
   "metadata": {},
   "outputs": [],
   "source": [
    "# Remove leading and trailing spaces in each string value\n",
    "ramen['Brand'] = ramen['Brand'].str.strip()\n",
    "ramen['Variety'] = ramen['Variety'].str.strip()\n",
    "ramen['Style'] = ramen['Style'].str.strip()\n",
    "ramen['Country'] = ramen['Country'].str.strip()"
   ]
  },
  {
   "cell_type": "markdown",
   "metadata": {},
   "source": [
    "Let's check number of unique values of Brand, Style, and Country"
   ]
  },
  {
   "cell_type": "code",
   "execution_count": 6,
   "metadata": {},
   "outputs": [
    {
     "data": {
      "text/plain": [
       "499"
      ]
     },
     "execution_count": 6,
     "metadata": {},
     "output_type": "execute_result"
    }
   ],
   "source": [
    "ramen['Brand'].nunique()"
   ]
  },
  {
   "cell_type": "code",
   "execution_count": 7,
   "metadata": {},
   "outputs": [
    {
     "data": {
      "text/plain": [
       "8"
      ]
     },
     "execution_count": 7,
     "metadata": {},
     "output_type": "execute_result"
    }
   ],
   "source": [
    "ramen['Style'].nunique()"
   ]
  },
  {
   "cell_type": "code",
   "execution_count": 8,
   "metadata": {},
   "outputs": [
    {
     "data": {
      "text/plain": [
       "48"
      ]
     },
     "execution_count": 8,
     "metadata": {},
     "output_type": "execute_result"
    }
   ],
   "source": [
    "ramen['Country'].nunique()"
   ]
  },
  {
   "cell_type": "code",
   "execution_count": 9,
   "metadata": {},
   "outputs": [
    {
     "data": {
      "text/plain": [
       "array(['Hong Kong', 'Malaysia', 'South Korea', 'Brazil', 'Japan',\n",
       "       'United States', 'Taiwan', 'Mexico', 'China', 'Canada', 'Peru',\n",
       "       'Spain', 'Thailand', 'Indonesia', 'Portugal', 'United Kingdom',\n",
       "       'Italy', 'Russia', 'Singapore', 'Philippines', 'Bangladesh',\n",
       "       'France', 'Australia', 'Vietnam', 'New Zealand', 'Ukraine',\n",
       "       'Sarawak', 'Netherlands', 'Poland', 'Germany', 'USA', 'India',\n",
       "       'Phlippines', 'Nigeria', 'Ghana', 'Hungary', 'Fiji', 'Pakistan',\n",
       "       'Nepal', 'UK', 'Myanmar', 'Cambodia', 'Finland', 'Sweden',\n",
       "       'Colombia', 'Estonia', 'Holland', 'Dubai'], dtype=object)"
      ]
     },
     "execution_count": 9,
     "metadata": {},
     "output_type": "execute_result"
    }
   ],
   "source": [
    "ramen['Country'].unique()"
   ]
  },
  {
   "cell_type": "markdown",
   "metadata": {},
   "source": [
    "I would like to know if one brand can have multiple manufacturers in different countries."
   ]
  },
  {
   "cell_type": "code",
   "execution_count": 10,
   "metadata": {},
   "outputs": [
    {
     "data": {
      "text/plain": [
       "574"
      ]
     },
     "execution_count": 10,
     "metadata": {},
     "output_type": "execute_result"
    }
   ],
   "source": [
    "brand_country = ramen['Brand'] +' '+ ramen['Country']\n",
    "brand_country.nunique()"
   ]
  },
  {
   "cell_type": "markdown",
   "metadata": {},
   "source": [
    "574 is greater than 499 brands, so yes, one brand can have different country values. Next, we need to get the list of unique brand names."
   ]
  },
  {
   "cell_type": "code",
   "execution_count": 11,
   "metadata": {},
   "outputs": [
    {
     "data": {
      "text/plain": [
       "['1 To 3 Noodles',\n",
       " '7 Select',\n",
       " '7 Select/Nissin',\n",
       " '7-Eleven / Nissin',\n",
       " 'A-One',\n",
       " 'A-Sha',\n",
       " 'A-Sha Dry Noodle',\n",
       " 'A1',\n",
       " 'ABC',\n",
       " 'Acecook',\n",
       " 'Adabi',\n",
       " 'Ah Lai',\n",
       " 'Aji-no-men',\n",
       " 'Ajinatori',\n",
       " 'Ajinomoto',\n",
       " 'Alhami',\n",
       " 'Amianda',\n",
       " 'Amino',\n",
       " \"Annie Chun's\",\n",
       " 'Aroi',\n",
       " 'Asia Gold',\n",
       " 'Asian Thai Foods',\n",
       " 'Atomy',\n",
       " 'Authentically Asian',\n",
       " 'Azami',\n",
       " 'Baijia',\n",
       " 'Baixiang Noodles',\n",
       " 'Baltix',\n",
       " 'Bamee',\n",
       " 'Banzai',\n",
       " 'Batchelors',\n",
       " 'Best Wok',\n",
       " 'Big Bon',\n",
       " 'Binh Tay',\n",
       " 'Blount',\n",
       " 'Bon Go Jang',\n",
       " 'Bonasia',\n",
       " 'Boss',\n",
       " 'Bowlfull',\n",
       " 'Buitoni',\n",
       " 'Burung Layang Terbang',\n",
       " 'CJ CheilJedang',\n",
       " 'COCO 2.0',\n",
       " \"Campbell's\",\n",
       " 'Canton',\n",
       " 'Cap Atoom Bulan',\n",
       " 'CarJEN',\n",
       " \"Chaudhary's Wai Wai\",\n",
       " \"Chef Nic's Noodles\",\n",
       " 'Chencun',\n",
       " 'Chering Chang',\n",
       " 'Chewy',\n",
       " 'Chikara',\n",
       " 'Chil Kab Farm Products',\n",
       " 'China Best',\n",
       " \"Ching's Secret\",\n",
       " 'Chitato',\n",
       " 'Chongqing Suanlabao Food Co., Ltd.',\n",
       " 'Chorip Dong',\n",
       " 'ChoripDong',\n",
       " 'Choumama',\n",
       " 'Chuan Wei Wang',\n",
       " 'Chuanbei',\n",
       " 'Cigala',\n",
       " 'Cintan',\n",
       " 'Conimex',\n",
       " 'Crystal Noodle',\n",
       " \"Culley's\",\n",
       " 'Curry Prince',\n",
       " 'Da Long Yi',\n",
       " 'Daddy',\n",
       " 'Daifuku',\n",
       " 'Daikoku',\n",
       " 'Daraz',\n",
       " 'Deshome',\n",
       " 'Doll',\n",
       " 'Dongwon',\n",
       " 'Double Mountain',\n",
       " \"Dr. McDougall's\",\n",
       " 'Dragonfly']"
      ]
     },
     "execution_count": 11,
     "metadata": {},
     "output_type": "execute_result"
    }
   ],
   "source": [
    "unique_brand = ramen['Brand'].unique().tolist()\n",
    "sorted(unique_brand)[:80]"
   ]
  },
  {
   "cell_type": "markdown",
   "metadata": {},
   "source": [
    "We can see some suspicious names right at the beginning. Let's have some tests first."
   ]
  },
  {
   "cell_type": "markdown",
   "metadata": {},
   "source": [
    "## FuzzyWuzzy"
   ]
  },
  {
   "cell_type": "markdown",
   "metadata": {},
   "source": [
    "FuzzyWuzzy has four scorer options to find the Levenshtein distance between two strings. In this example, I would check on the token sort ratio and the token set ratio, for I believe they are more suitable for this dataset which might have mixed words order and duplicated words.<br>\n",
    "I would pick four brand names and find their similar names in the Brand column. Since we're matching the Brand column with itself, the result would always include the selected name with a score of 100."
   ]
  },
  {
   "cell_type": "markdown",
   "metadata": {},
   "source": [
    "### Token Sort Ratio\n",
    "The token sort ratio scorer tokenizes the strings and cleans them by returning these strings to lower cases, removing punctuations, and then sorting them alphabetically. After that, it finds the Levenshtein distance and returns the similarity percentage."
   ]
  },
  {
   "cell_type": "code",
   "execution_count": 12,
   "metadata": {},
   "outputs": [
    {
     "data": {
      "text/plain": [
       "[('7 Select', 100),\n",
       " ('7 Select/Nissin', 70),\n",
       " ('Jinbo Selection', 61),\n",
       " ('Seven & I', 53),\n",
       " ('Lele', 50)]"
      ]
     },
     "execution_count": 12,
     "metadata": {},
     "output_type": "execute_result"
    }
   ],
   "source": [
    "process.extract('7 Select', unique_brand, scorer=fuzz.token_sort_ratio)"
   ]
  },
  {
   "cell_type": "markdown",
   "metadata": {},
   "source": [
    "This result means that '7 Select/Nissin' has 70% similarity when referring to '7 Select'. Not bad if I set the threshold at 70% to get the pair of 7 Select - 7 Select/Nissin."
   ]
  },
  {
   "cell_type": "code",
   "execution_count": 13,
   "metadata": {},
   "outputs": [
    {
     "data": {
      "text/plain": [
       "[('A-Sha', 100), ('Shan', 67), ('Nasoya', 55), ('Alhami', 55), ('Ah Lai', 55)]"
      ]
     },
     "execution_count": 13,
     "metadata": {},
     "output_type": "execute_result"
    }
   ],
   "source": [
    "process.extract('A-Sha', unique_brand, scorer=fuzz.token_sort_ratio)"
   ]
  },
  {
   "cell_type": "markdown",
   "metadata": {},
   "source": [
    "Below 70%, there's no match for A-sha."
   ]
  },
  {
   "cell_type": "code",
   "execution_count": 14,
   "metadata": {},
   "outputs": [
    {
     "data": {
      "text/plain": [
       "[('Acecook', 100),\n",
       " ('Vina Acecook', 74),\n",
       " ('Yatekomo', 53),\n",
       " ('Sahmyook', 53),\n",
       " ('Panco', 50)]"
      ]
     },
     "execution_count": 14,
     "metadata": {},
     "output_type": "execute_result"
    }
   ],
   "source": [
    "process.extract('Acecook', unique_brand, scorer=fuzz.token_sort_ratio)"
   ]
  },
  {
   "cell_type": "markdown",
   "metadata": {},
   "source": [
    "Still good at 70% threshold."
   ]
  },
  {
   "cell_type": "code",
   "execution_count": 15,
   "metadata": {},
   "outputs": [
    {
     "data": {
      "text/plain": [
       "[(\"Chef Nic's Noodles\", 100),\n",
       " (\"Mr. Lee's Noodles\", 71),\n",
       " ('Fantastic Noodles', 69),\n",
       " ('1 To 3 Noodles', 62),\n",
       " (\"Mom's Dry Noodle\", 59)]"
      ]
     },
     "execution_count": 15,
     "metadata": {},
     "output_type": "execute_result"
    }
   ],
   "source": [
    "process.extract(\"Chef Nic's Noodles\", unique_brand, scorer=fuzz.token_sort_ratio)"
   ]
  },
  {
   "cell_type": "markdown",
   "metadata": {},
   "source": [
    "Now, we have a problem here. Token sort ratio scorer will gets the wrong pair of Chef Nic's Noodles - Mr. Lee's Noodles if I set 70% threshold."
   ]
  },
  {
   "cell_type": "code",
   "execution_count": 16,
   "metadata": {},
   "outputs": [
    {
     "data": {
      "text/plain": [
       "[('Chorip Dong', 100),\n",
       " ('ChoripDong', 95),\n",
       " ('Hi-Myon', 56),\n",
       " ('Mr. Udon', 56),\n",
       " ('Maison de Coree', 54)]"
      ]
     },
     "execution_count": 16,
     "metadata": {},
     "output_type": "execute_result"
    }
   ],
   "source": [
    "process.extract('Chorip Dong', unique_brand, scorer=fuzz.token_sort_ratio)"
   ]
  },
  {
   "cell_type": "markdown",
   "metadata": {},
   "source": [
    "This one looks good enough."
   ]
  },
  {
   "cell_type": "markdown",
   "metadata": {},
   "source": [
    "### Token Set Ratio\n",
    "The token set ratio scorer also tokenizes the strings, and follows processing steps just like the token sort ratio. Then it collects common tokens between two strings and performs pairwise comparisons to find the similarity percentage."
   ]
  },
  {
   "cell_type": "code",
   "execution_count": 17,
   "metadata": {},
   "outputs": [
    {
     "data": {
      "text/plain": [
       "[('7 Select', 100),\n",
       " ('7 Select/Nissin', 100),\n",
       " ('The Ramen Rater Select', 86),\n",
       " ('Jinbo Selection', 61),\n",
       " ('Seven & I', 53)]"
      ]
     },
     "execution_count": 17,
     "metadata": {},
     "output_type": "execute_result"
    }
   ],
   "source": [
    "process.extract('7 Select', unique_brand, scorer=fuzz.token_set_ratio)"
   ]
  },
  {
   "cell_type": "markdown",
   "metadata": {},
   "source": [
    "Since the token set ratio is more flexible, the score has increased from 70% to 100% for 7 Select - 7 Select/Nissin."
   ]
  },
  {
   "cell_type": "code",
   "execution_count": 18,
   "metadata": {},
   "outputs": [
    {
     "data": {
      "text/plain": [
       "[('A-Sha', 100),\n",
       " ('A-Sha Dry Noodle', 100),\n",
       " ('Shan', 67),\n",
       " ('Nasoya', 55),\n",
       " ('Alhami', 55)]"
      ]
     },
     "execution_count": 18,
     "metadata": {},
     "output_type": "execute_result"
    }
   ],
   "source": [
    "process.extract('A-Sha', unique_brand, scorer=fuzz.token_set_ratio)"
   ]
  },
  {
   "cell_type": "markdown",
   "metadata": {},
   "source": [
    "Now we see A-Sha has another name as A-Sha Dry Noodle. And we can see this only by using token set ratio."
   ]
  },
  {
   "cell_type": "code",
   "execution_count": 19,
   "metadata": {},
   "outputs": [
    {
     "data": {
      "text/plain": [
       "[('Acecook', 100),\n",
       " ('Vina Acecook', 100),\n",
       " ('Yatekomo', 53),\n",
       " ('Sahmyook', 53),\n",
       " ('Panco', 50)]"
      ]
     },
     "execution_count": 19,
     "metadata": {},
     "output_type": "execute_result"
    }
   ],
   "source": [
    "process.extract('Acecook', unique_brand, scorer=fuzz.token_set_ratio)"
   ]
  },
  {
   "cell_type": "markdown",
   "metadata": {},
   "source": [
    "This one got 100% just like the 7 Select case."
   ]
  },
  {
   "cell_type": "code",
   "execution_count": 20,
   "metadata": {},
   "outputs": [
    {
     "data": {
      "text/plain": [
       "[(\"Chef Nic's Noodles\", 100),\n",
       " ('S&S', 100),\n",
       " ('Mr. Noodles', 82),\n",
       " (\"Mr. Lee's Noodles\", 72),\n",
       " ('Tseng Noodles', 70)]"
      ]
     },
     "execution_count": 20,
     "metadata": {},
     "output_type": "execute_result"
    }
   ],
   "source": [
    "process.extract(\"Chef Nic's Noodles\", unique_brand, scorer=fuzz.token_set_ratio)"
   ]
  },
  {
   "cell_type": "markdown",
   "metadata": {},
   "source": [
    "This one got much worse when token set ratio returns 100% for the pair of Chef Nic's Noodles - S&S."
   ]
  },
  {
   "cell_type": "code",
   "execution_count": 21,
   "metadata": {},
   "outputs": [
    {
     "data": {
      "text/plain": [
       "[('Chorip Dong', 100),\n",
       " ('ChoripDong', 95),\n",
       " ('Hi-Myon', 56),\n",
       " ('Mr. Udon', 56),\n",
       " ('Maison de Coree', 54)]"
      ]
     },
     "execution_count": 21,
     "metadata": {},
     "output_type": "execute_result"
    }
   ],
   "source": [
    "process.extract('Chorip Dong', unique_brand, scorer=fuzz.token_set_ratio)"
   ]
  },
  {
   "cell_type": "markdown",
   "metadata": {},
   "source": [
    "We have the same result for this one."
   ]
  },
  {
   "cell_type": "markdown",
   "metadata": {},
   "source": [
    "Although the token set ratio is more flexible and can detect more similar strings than the token sort ratio, it might also bring in more wrong matches."
   ]
  },
  {
   "cell_type": "markdown",
   "metadata": {},
   "source": [
    "## Apply FuzzyWuzzy in one column"
   ]
  },
  {
   "cell_type": "markdown",
   "metadata": {},
   "source": [
    "To avoid obtain wrong matches with high scores, I choose the token sort ratio as the scorer for this dataset."
   ]
  },
  {
   "cell_type": "code",
   "execution_count": 22,
   "metadata": {},
   "outputs": [],
   "source": [
    "#Create tuples of brand names, matched brand names, and the score\n",
    "get_score = [(x,) + i\n",
    "             for x in unique_brand \n",
    "             for i in process.extract(x, unique_brand, scorer=fuzz.token_sort_ratio)]"
   ]
  },
  {
   "cell_type": "code",
   "execution_count": 23,
   "metadata": {},
   "outputs": [
    {
     "data": {
      "text/html": [
       "<div>\n",
       "<style scoped>\n",
       "    .dataframe tbody tr th:only-of-type {\n",
       "        vertical-align: middle;\n",
       "    }\n",
       "\n",
       "    .dataframe tbody tr th {\n",
       "        vertical-align: top;\n",
       "    }\n",
       "\n",
       "    .dataframe thead th {\n",
       "        text-align: right;\n",
       "    }\n",
       "</style>\n",
       "<table border=\"1\" class=\"dataframe\">\n",
       "  <thead>\n",
       "    <tr style=\"text-align: right;\">\n",
       "      <th></th>\n",
       "      <th>brand</th>\n",
       "      <th>match</th>\n",
       "      <th>score</th>\n",
       "      <th>sorted_brand</th>\n",
       "    </tr>\n",
       "  </thead>\n",
       "  <tbody>\n",
       "    <tr>\n",
       "      <td>0</td>\n",
       "      <td>EDO Pack</td>\n",
       "      <td>EDO Pack</td>\n",
       "      <td>100</td>\n",
       "      <td>EDO Pack</td>\n",
       "    </tr>\n",
       "    <tr>\n",
       "      <td>1</td>\n",
       "      <td>EDO Pack</td>\n",
       "      <td>Gau Do</td>\n",
       "      <td>57</td>\n",
       "      <td>EDO Pack</td>\n",
       "    </tr>\n",
       "    <tr>\n",
       "      <td>2</td>\n",
       "      <td>EDO Pack</td>\n",
       "      <td>Pan Mee</td>\n",
       "      <td>53</td>\n",
       "      <td>EDO Pack</td>\n",
       "    </tr>\n",
       "    <tr>\n",
       "      <td>3</td>\n",
       "      <td>EDO Pack</td>\n",
       "      <td>Plats Du Chef</td>\n",
       "      <td>48</td>\n",
       "      <td>EDO Pack</td>\n",
       "    </tr>\n",
       "    <tr>\n",
       "      <td>4</td>\n",
       "      <td>EDO Pack</td>\n",
       "      <td>Vedan</td>\n",
       "      <td>46</td>\n",
       "      <td>EDO Pack</td>\n",
       "    </tr>\n",
       "    <tr>\n",
       "      <td>...</td>\n",
       "      <td>...</td>\n",
       "      <td>...</td>\n",
       "      <td>...</td>\n",
       "      <td>...</td>\n",
       "    </tr>\n",
       "    <tr>\n",
       "      <td>2490</td>\n",
       "      <td>Westbrae</td>\n",
       "      <td>Westbrae</td>\n",
       "      <td>100</td>\n",
       "      <td>Westbrae</td>\n",
       "    </tr>\n",
       "    <tr>\n",
       "      <td>2491</td>\n",
       "      <td>Westbrae</td>\n",
       "      <td>Trader Joe's</td>\n",
       "      <td>60</td>\n",
       "      <td>Trader Joe's</td>\n",
       "    </tr>\n",
       "    <tr>\n",
       "      <td>2492</td>\n",
       "      <td>Westbrae</td>\n",
       "      <td>Tabate</td>\n",
       "      <td>57</td>\n",
       "      <td>Tabate</td>\n",
       "    </tr>\n",
       "    <tr>\n",
       "      <td>2493</td>\n",
       "      <td>Westbrae</td>\n",
       "      <td>Easybab</td>\n",
       "      <td>53</td>\n",
       "      <td>Easybab</td>\n",
       "    </tr>\n",
       "    <tr>\n",
       "      <td>2494</td>\n",
       "      <td>Westbrae</td>\n",
       "      <td>Three Meters</td>\n",
       "      <td>50</td>\n",
       "      <td>Three Meters</td>\n",
       "    </tr>\n",
       "  </tbody>\n",
       "</table>\n",
       "<p>2495 rows × 4 columns</p>\n",
       "</div>"
      ],
      "text/plain": [
       "         brand          match  score  sorted_brand\n",
       "0     EDO Pack       EDO Pack    100      EDO Pack\n",
       "1     EDO Pack         Gau Do     57      EDO Pack\n",
       "2     EDO Pack        Pan Mee     53      EDO Pack\n",
       "3     EDO Pack  Plats Du Chef     48      EDO Pack\n",
       "4     EDO Pack          Vedan     46      EDO Pack\n",
       "...        ...            ...    ...           ...\n",
       "2490  Westbrae       Westbrae    100      Westbrae\n",
       "2491  Westbrae   Trader Joe's     60  Trader Joe's\n",
       "2492  Westbrae         Tabate     57        Tabate\n",
       "2493  Westbrae        Easybab     53       Easybab\n",
       "2494  Westbrae   Three Meters     50  Three Meters\n",
       "\n",
       "[2495 rows x 4 columns]"
      ]
     },
     "execution_count": 23,
     "metadata": {},
     "output_type": "execute_result"
    }
   ],
   "source": [
    "#Create dataframe from the tuples\n",
    "similarity = pd.DataFrame(get_score, columns=['brand','match','score'])\n",
    "#Create represented name to exclude the same pairs later\n",
    "similarity['sorted_brand'] = np.minimum(similarity['brand'], similarity['match'])\n",
    "similarity"
   ]
  },
  {
   "cell_type": "code",
   "execution_count": 24,
   "metadata": {
    "scrolled": false
   },
   "outputs": [
    {
     "data": {
      "text/html": [
       "<div>\n",
       "<style scoped>\n",
       "    .dataframe tbody tr th:only-of-type {\n",
       "        vertical-align: middle;\n",
       "    }\n",
       "\n",
       "    .dataframe tbody tr th {\n",
       "        vertical-align: top;\n",
       "    }\n",
       "\n",
       "    .dataframe thead th {\n",
       "        text-align: right;\n",
       "    }\n",
       "</style>\n",
       "<table border=\"1\" class=\"dataframe\">\n",
       "  <thead>\n",
       "    <tr style=\"text-align: right;\">\n",
       "      <th></th>\n",
       "      <th>brand</th>\n",
       "      <th>match</th>\n",
       "      <th>score</th>\n",
       "      <th>sorted_brand</th>\n",
       "    </tr>\n",
       "  </thead>\n",
       "  <tbody>\n",
       "    <tr>\n",
       "      <td>1481</td>\n",
       "      <td>Bamee</td>\n",
       "      <td>Mamee</td>\n",
       "      <td>80</td>\n",
       "      <td>Bamee</td>\n",
       "    </tr>\n",
       "    <tr>\n",
       "      <td>2441</td>\n",
       "      <td>Chorip Dong</td>\n",
       "      <td>ChoripDong</td>\n",
       "      <td>95</td>\n",
       "      <td>Chorip Dong</td>\n",
       "    </tr>\n",
       "    <tr>\n",
       "      <td>966</td>\n",
       "      <td>Chuanbei</td>\n",
       "      <td>Wei Chuan</td>\n",
       "      <td>82</td>\n",
       "      <td>Chuanbei</td>\n",
       "    </tr>\n",
       "    <tr>\n",
       "      <td>1171</td>\n",
       "      <td>Fashion Food</td>\n",
       "      <td>Fashion Foods</td>\n",
       "      <td>96</td>\n",
       "      <td>Fashion Food</td>\n",
       "    </tr>\n",
       "    <tr>\n",
       "      <td>291</td>\n",
       "      <td>FitMee</td>\n",
       "      <td>iMee</td>\n",
       "      <td>80</td>\n",
       "      <td>FitMee</td>\n",
       "    </tr>\n",
       "    <tr>\n",
       "      <td>2125</td>\n",
       "      <td>Goku Uma</td>\n",
       "      <td>Goku-Uma</td>\n",
       "      <td>100</td>\n",
       "      <td>Goku Uma</td>\n",
       "    </tr>\n",
       "    <tr>\n",
       "      <td>1531</td>\n",
       "      <td>Higashimaru</td>\n",
       "      <td>Ishimaru</td>\n",
       "      <td>84</td>\n",
       "      <td>Higashimaru</td>\n",
       "    </tr>\n",
       "    <tr>\n",
       "      <td>946</td>\n",
       "      <td>KOKA</td>\n",
       "      <td>Koka</td>\n",
       "      <td>100</td>\n",
       "      <td>KOKA</td>\n",
       "    </tr>\n",
       "    <tr>\n",
       "      <td>731</td>\n",
       "      <td>Kiki</td>\n",
       "      <td>Kuriki</td>\n",
       "      <td>80</td>\n",
       "      <td>Kiki</td>\n",
       "    </tr>\n",
       "    <tr>\n",
       "      <td>590</td>\n",
       "      <td>Lau Liu Tou</td>\n",
       "      <td>Lau Liu tou</td>\n",
       "      <td>100</td>\n",
       "      <td>Lau Liu Tou</td>\n",
       "    </tr>\n",
       "    <tr>\n",
       "      <td>2261</td>\n",
       "      <td>Lishan</td>\n",
       "      <td>Shan</td>\n",
       "      <td>80</td>\n",
       "      <td>Lishan</td>\n",
       "    </tr>\n",
       "    <tr>\n",
       "      <td>366</td>\n",
       "      <td>MAMA</td>\n",
       "      <td>Mama</td>\n",
       "      <td>100</td>\n",
       "      <td>MAMA</td>\n",
       "    </tr>\n",
       "    <tr>\n",
       "      <td>486</td>\n",
       "      <td>Mamee / Shinsegae</td>\n",
       "      <td>Mamee Shinsegae</td>\n",
       "      <td>100</td>\n",
       "      <td>Mamee / Shinsegae</td>\n",
       "    </tr>\n",
       "    <tr>\n",
       "      <td>487</td>\n",
       "      <td>Mamee / Shinsegae</td>\n",
       "      <td>Mamee-Shinsegae</td>\n",
       "      <td>100</td>\n",
       "      <td>Mamee / Shinsegae</td>\n",
       "    </tr>\n",
       "    <tr>\n",
       "      <td>552</td>\n",
       "      <td>Mamee Shinsegae</td>\n",
       "      <td>Mamee-Shinsegae</td>\n",
       "      <td>100</td>\n",
       "      <td>Mamee Shinsegae</td>\n",
       "    </tr>\n",
       "    <tr>\n",
       "      <td>1851</td>\n",
       "      <td>Men-Sunaoshi</td>\n",
       "      <td>Sunaoshi</td>\n",
       "      <td>80</td>\n",
       "      <td>Men-Sunaoshi</td>\n",
       "    </tr>\n",
       "    <tr>\n",
       "      <td>1406</td>\n",
       "      <td>Mi Sedaap</td>\n",
       "      <td>Mie Sedaap</td>\n",
       "      <td>95</td>\n",
       "      <td>Mi Sedaap</td>\n",
       "    </tr>\n",
       "    <tr>\n",
       "      <td>876</td>\n",
       "      <td>Mr. Noodle</td>\n",
       "      <td>Mr. Noodles</td>\n",
       "      <td>95</td>\n",
       "      <td>Mr. Noodle</td>\n",
       "    </tr>\n",
       "    <tr>\n",
       "      <td>410</td>\n",
       "      <td>MyKuali</td>\n",
       "      <td>Mykuali</td>\n",
       "      <td>100</td>\n",
       "      <td>MyKuali</td>\n",
       "    </tr>\n",
       "    <tr>\n",
       "      <td>16</td>\n",
       "      <td>Nissin Miojo</td>\n",
       "      <td>Nissin-Miojo</td>\n",
       "      <td>100</td>\n",
       "      <td>Nissin Miojo</td>\n",
       "    </tr>\n",
       "    <tr>\n",
       "      <td>2321</td>\n",
       "      <td>O Sung</td>\n",
       "      <td>Ohsung</td>\n",
       "      <td>83</td>\n",
       "      <td>O Sung</td>\n",
       "    </tr>\n",
       "    <tr>\n",
       "      <td>1556</td>\n",
       "      <td>Pama</td>\n",
       "      <td>Pamana</td>\n",
       "      <td>80</td>\n",
       "      <td>Pama</td>\n",
       "    </tr>\n",
       "    <tr>\n",
       "      <td>896</td>\n",
       "      <td>Ped Chef</td>\n",
       "      <td>Red Chef</td>\n",
       "      <td>88</td>\n",
       "      <td>Ped Chef</td>\n",
       "    </tr>\n",
       "    <tr>\n",
       "      <td>2011</td>\n",
       "      <td>President</td>\n",
       "      <td>Uni-President</td>\n",
       "      <td>82</td>\n",
       "      <td>President</td>\n",
       "    </tr>\n",
       "    <tr>\n",
       "      <td>1351</td>\n",
       "      <td>President Rice</td>\n",
       "      <td>Uni-President</td>\n",
       "      <td>81</td>\n",
       "      <td>President Rice</td>\n",
       "    </tr>\n",
       "    <tr>\n",
       "      <td>1956</td>\n",
       "      <td>Sakura Noodle</td>\n",
       "      <td>Urban Noodle</td>\n",
       "      <td>80</td>\n",
       "      <td>Sakura Noodle</td>\n",
       "    </tr>\n",
       "    <tr>\n",
       "      <td>2351</td>\n",
       "      <td>Sao Tao</td>\n",
       "      <td>Sau Tao</td>\n",
       "      <td>86</td>\n",
       "      <td>Sao Tao</td>\n",
       "    </tr>\n",
       "    <tr>\n",
       "      <td>2191</td>\n",
       "      <td>Souper</td>\n",
       "      <td>Super</td>\n",
       "      <td>91</td>\n",
       "      <td>Souper</td>\n",
       "    </tr>\n",
       "    <tr>\n",
       "      <td>2102</td>\n",
       "      <td>Sun Noodle</td>\n",
       "      <td>Urban Noodle</td>\n",
       "      <td>82</td>\n",
       "      <td>Sun Noodle</td>\n",
       "    </tr>\n",
       "    <tr>\n",
       "      <td>2101</td>\n",
       "      <td>Sun Noodle</td>\n",
       "      <td>Tseng Noodle</td>\n",
       "      <td>82</td>\n",
       "      <td>Sun Noodle</td>\n",
       "    </tr>\n",
       "    <tr>\n",
       "      <td>822</td>\n",
       "      <td>Super</td>\n",
       "      <td>SuperMi</td>\n",
       "      <td>83</td>\n",
       "      <td>Super</td>\n",
       "    </tr>\n",
       "    <tr>\n",
       "      <td>2271</td>\n",
       "      <td>Sura</td>\n",
       "      <td>Suraj</td>\n",
       "      <td>89</td>\n",
       "      <td>Sura</td>\n",
       "    </tr>\n",
       "    <tr>\n",
       "      <td>981</td>\n",
       "      <td>TableMark</td>\n",
       "      <td>Tablemark</td>\n",
       "      <td>100</td>\n",
       "      <td>TableMark</td>\n",
       "    </tr>\n",
       "    <tr>\n",
       "      <td>1596</td>\n",
       "      <td>Thai Chef</td>\n",
       "      <td>Thai Choice</td>\n",
       "      <td>80</td>\n",
       "      <td>Thai Chef</td>\n",
       "    </tr>\n",
       "    <tr>\n",
       "      <td>1026</td>\n",
       "      <td>Tseng Noodle</td>\n",
       "      <td>Tseng Noodles</td>\n",
       "      <td>96</td>\n",
       "      <td>Tseng Noodle</td>\n",
       "    </tr>\n",
       "    <tr>\n",
       "      <td>2155</td>\n",
       "      <td>Unif / Tung-I</td>\n",
       "      <td>Unif Tung-I</td>\n",
       "      <td>100</td>\n",
       "      <td>Unif / Tung-I</td>\n",
       "    </tr>\n",
       "    <tr>\n",
       "      <td>1401</td>\n",
       "      <td>Weh Lih</td>\n",
       "      <td>Wei Lih</td>\n",
       "      <td>86</td>\n",
       "      <td>Weh Lih</td>\n",
       "    </tr>\n",
       "    <tr>\n",
       "      <td>861</td>\n",
       "      <td>World O Noodle</td>\n",
       "      <td>World O' Noodle</td>\n",
       "      <td>100</td>\n",
       "      <td>World O Noodle</td>\n",
       "    </tr>\n",
       "    <tr>\n",
       "      <td>36</td>\n",
       "      <td>Wu Mu</td>\n",
       "      <td>Wu-Mu</td>\n",
       "      <td>100</td>\n",
       "      <td>Wu Mu</td>\n",
       "    </tr>\n",
       "  </tbody>\n",
       "</table>\n",
       "</div>"
      ],
      "text/plain": [
       "                  brand            match  score       sorted_brand\n",
       "1481              Bamee            Mamee     80              Bamee\n",
       "2441        Chorip Dong       ChoripDong     95        Chorip Dong\n",
       "966            Chuanbei        Wei Chuan     82           Chuanbei\n",
       "1171       Fashion Food    Fashion Foods     96       Fashion Food\n",
       "291              FitMee             iMee     80             FitMee\n",
       "2125           Goku Uma         Goku-Uma    100           Goku Uma\n",
       "1531        Higashimaru         Ishimaru     84        Higashimaru\n",
       "946                KOKA             Koka    100               KOKA\n",
       "731                Kiki           Kuriki     80               Kiki\n",
       "590         Lau Liu Tou      Lau Liu tou    100        Lau Liu Tou\n",
       "2261             Lishan             Shan     80             Lishan\n",
       "366                MAMA             Mama    100               MAMA\n",
       "486   Mamee / Shinsegae  Mamee Shinsegae    100  Mamee / Shinsegae\n",
       "487   Mamee / Shinsegae  Mamee-Shinsegae    100  Mamee / Shinsegae\n",
       "552     Mamee Shinsegae  Mamee-Shinsegae    100    Mamee Shinsegae\n",
       "1851       Men-Sunaoshi         Sunaoshi     80       Men-Sunaoshi\n",
       "1406          Mi Sedaap       Mie Sedaap     95          Mi Sedaap\n",
       "876          Mr. Noodle      Mr. Noodles     95         Mr. Noodle\n",
       "410             MyKuali          Mykuali    100            MyKuali\n",
       "16         Nissin Miojo     Nissin-Miojo    100       Nissin Miojo\n",
       "2321             O Sung           Ohsung     83             O Sung\n",
       "1556               Pama           Pamana     80               Pama\n",
       "896            Ped Chef         Red Chef     88           Ped Chef\n",
       "2011          President    Uni-President     82          President\n",
       "1351     President Rice    Uni-President     81     President Rice\n",
       "1956      Sakura Noodle     Urban Noodle     80      Sakura Noodle\n",
       "2351            Sao Tao          Sau Tao     86            Sao Tao\n",
       "2191             Souper            Super     91             Souper\n",
       "2102         Sun Noodle     Urban Noodle     82         Sun Noodle\n",
       "2101         Sun Noodle     Tseng Noodle     82         Sun Noodle\n",
       "822               Super          SuperMi     83              Super\n",
       "2271               Sura            Suraj     89               Sura\n",
       "981           TableMark        Tablemark    100          TableMark\n",
       "1596          Thai Chef      Thai Choice     80          Thai Chef\n",
       "1026       Tseng Noodle    Tseng Noodles     96       Tseng Noodle\n",
       "2155      Unif / Tung-I      Unif Tung-I    100      Unif / Tung-I\n",
       "1401            Weh Lih          Wei Lih     86            Weh Lih\n",
       "861      World O Noodle  World O' Noodle    100     World O Noodle\n",
       "36                Wu Mu            Wu-Mu    100              Wu Mu"
      ]
     },
     "execution_count": 24,
     "metadata": {},
     "output_type": "execute_result"
    }
   ],
   "source": [
    "high_score = similarity.loc[(similarity['score'] >= 80) & #Select pairs which have scores at least 80% \n",
    "                            (similarity['brand'] != similarity['match']) & #not include the brand name itself\n",
    "                            (similarity['sorted_brand'] != similarity['match'])] #not include the same pair\n",
    "high_score.sort_values(['brand'])"
   ]
  },
  {
   "cell_type": "code",
   "execution_count": 25,
   "metadata": {
    "scrolled": false
   },
   "outputs": [
    {
     "data": {
      "text/html": [
       "<div>\n",
       "<style scoped>\n",
       "    .dataframe tbody tr th:only-of-type {\n",
       "        vertical-align: middle;\n",
       "    }\n",
       "\n",
       "    .dataframe tbody tr th {\n",
       "        vertical-align: top;\n",
       "    }\n",
       "\n",
       "    .dataframe thead th {\n",
       "        text-align: right;\n",
       "    }\n",
       "</style>\n",
       "<table border=\"1\" class=\"dataframe\">\n",
       "  <thead>\n",
       "    <tr style=\"text-align: right;\">\n",
       "      <th></th>\n",
       "      <th></th>\n",
       "      <th>match</th>\n",
       "    </tr>\n",
       "    <tr>\n",
       "      <th>brand</th>\n",
       "      <th>score</th>\n",
       "      <th></th>\n",
       "    </tr>\n",
       "  </thead>\n",
       "  <tbody>\n",
       "    <tr>\n",
       "      <td>Nissin Miojo</td>\n",
       "      <td>100</td>\n",
       "      <td>Nissin-Miojo</td>\n",
       "    </tr>\n",
       "    <tr>\n",
       "      <td>Lau Liu Tou</td>\n",
       "      <td>100</td>\n",
       "      <td>Lau Liu tou</td>\n",
       "    </tr>\n",
       "    <tr>\n",
       "      <td>World O Noodle</td>\n",
       "      <td>100</td>\n",
       "      <td>World O' Noodle</td>\n",
       "    </tr>\n",
       "    <tr>\n",
       "      <td>Unif / Tung-I</td>\n",
       "      <td>100</td>\n",
       "      <td>Unif Tung-I</td>\n",
       "    </tr>\n",
       "    <tr>\n",
       "      <td>TableMark</td>\n",
       "      <td>100</td>\n",
       "      <td>Tablemark</td>\n",
       "    </tr>\n",
       "    <tr>\n",
       "      <td>MyKuali</td>\n",
       "      <td>100</td>\n",
       "      <td>Mykuali</td>\n",
       "    </tr>\n",
       "    <tr>\n",
       "      <td>Mamee Shinsegae</td>\n",
       "      <td>100</td>\n",
       "      <td>Mamee-Shinsegae</td>\n",
       "    </tr>\n",
       "    <tr>\n",
       "      <td>Mamee / Shinsegae</td>\n",
       "      <td>100</td>\n",
       "      <td>Mamee Shinsegae, Mamee-Shinsegae</td>\n",
       "    </tr>\n",
       "    <tr>\n",
       "      <td>MAMA</td>\n",
       "      <td>100</td>\n",
       "      <td>Mama</td>\n",
       "    </tr>\n",
       "    <tr>\n",
       "      <td>Wu Mu</td>\n",
       "      <td>100</td>\n",
       "      <td>Wu-Mu</td>\n",
       "    </tr>\n",
       "    <tr>\n",
       "      <td>KOKA</td>\n",
       "      <td>100</td>\n",
       "      <td>Koka</td>\n",
       "    </tr>\n",
       "    <tr>\n",
       "      <td>Goku Uma</td>\n",
       "      <td>100</td>\n",
       "      <td>Goku-Uma</td>\n",
       "    </tr>\n",
       "    <tr>\n",
       "      <td>Tseng Noodle</td>\n",
       "      <td>96</td>\n",
       "      <td>Tseng Noodles</td>\n",
       "    </tr>\n",
       "    <tr>\n",
       "      <td>Fashion Food</td>\n",
       "      <td>96</td>\n",
       "      <td>Fashion Foods</td>\n",
       "    </tr>\n",
       "    <tr>\n",
       "      <td>Mi Sedaap</td>\n",
       "      <td>95</td>\n",
       "      <td>Mie Sedaap</td>\n",
       "    </tr>\n",
       "    <tr>\n",
       "      <td>Mr. Noodle</td>\n",
       "      <td>95</td>\n",
       "      <td>Mr. Noodles</td>\n",
       "    </tr>\n",
       "    <tr>\n",
       "      <td>Chorip Dong</td>\n",
       "      <td>95</td>\n",
       "      <td>ChoripDong</td>\n",
       "    </tr>\n",
       "    <tr>\n",
       "      <td>Souper</td>\n",
       "      <td>91</td>\n",
       "      <td>Super</td>\n",
       "    </tr>\n",
       "    <tr>\n",
       "      <td>Sura</td>\n",
       "      <td>89</td>\n",
       "      <td>Suraj</td>\n",
       "    </tr>\n",
       "    <tr>\n",
       "      <td>Ped Chef</td>\n",
       "      <td>88</td>\n",
       "      <td>Red Chef</td>\n",
       "    </tr>\n",
       "    <tr>\n",
       "      <td>Sao Tao</td>\n",
       "      <td>86</td>\n",
       "      <td>Sau Tao</td>\n",
       "    </tr>\n",
       "    <tr>\n",
       "      <td>Weh Lih</td>\n",
       "      <td>86</td>\n",
       "      <td>Wei Lih</td>\n",
       "    </tr>\n",
       "    <tr>\n",
       "      <td>Higashimaru</td>\n",
       "      <td>84</td>\n",
       "      <td>Ishimaru</td>\n",
       "    </tr>\n",
       "    <tr>\n",
       "      <td>O Sung</td>\n",
       "      <td>83</td>\n",
       "      <td>Ohsung</td>\n",
       "    </tr>\n",
       "    <tr>\n",
       "      <td>Super</td>\n",
       "      <td>83</td>\n",
       "      <td>SuperMi</td>\n",
       "    </tr>\n",
       "    <tr>\n",
       "      <td>President</td>\n",
       "      <td>82</td>\n",
       "      <td>Uni-President</td>\n",
       "    </tr>\n",
       "    <tr>\n",
       "      <td>Chuanbei</td>\n",
       "      <td>82</td>\n",
       "      <td>Wei Chuan</td>\n",
       "    </tr>\n",
       "    <tr>\n",
       "      <td>Sun Noodle</td>\n",
       "      <td>82</td>\n",
       "      <td>Tseng Noodle, Urban Noodle</td>\n",
       "    </tr>\n",
       "    <tr>\n",
       "      <td>President Rice</td>\n",
       "      <td>81</td>\n",
       "      <td>Uni-President</td>\n",
       "    </tr>\n",
       "    <tr>\n",
       "      <td>Thai Chef</td>\n",
       "      <td>80</td>\n",
       "      <td>Thai Choice</td>\n",
       "    </tr>\n",
       "    <tr>\n",
       "      <td>Lishan</td>\n",
       "      <td>80</td>\n",
       "      <td>Shan</td>\n",
       "    </tr>\n",
       "    <tr>\n",
       "      <td>FitMee</td>\n",
       "      <td>80</td>\n",
       "      <td>iMee</td>\n",
       "    </tr>\n",
       "    <tr>\n",
       "      <td>Sakura Noodle</td>\n",
       "      <td>80</td>\n",
       "      <td>Urban Noodle</td>\n",
       "    </tr>\n",
       "    <tr>\n",
       "      <td>Kiki</td>\n",
       "      <td>80</td>\n",
       "      <td>Kuriki</td>\n",
       "    </tr>\n",
       "    <tr>\n",
       "      <td>Pama</td>\n",
       "      <td>80</td>\n",
       "      <td>Pamana</td>\n",
       "    </tr>\n",
       "    <tr>\n",
       "      <td>Men-Sunaoshi</td>\n",
       "      <td>80</td>\n",
       "      <td>Sunaoshi</td>\n",
       "    </tr>\n",
       "    <tr>\n",
       "      <td>Bamee</td>\n",
       "      <td>80</td>\n",
       "      <td>Mamee</td>\n",
       "    </tr>\n",
       "  </tbody>\n",
       "</table>\n",
       "</div>"
      ],
      "text/plain": [
       "                                                    match\n",
       "brand             score                                  \n",
       "Nissin Miojo      100                        Nissin-Miojo\n",
       "Lau Liu Tou       100                         Lau Liu tou\n",
       "World O Noodle    100                     World O' Noodle\n",
       "Unif / Tung-I     100                         Unif Tung-I\n",
       "TableMark         100                           Tablemark\n",
       "MyKuali           100                             Mykuali\n",
       "Mamee Shinsegae   100                     Mamee-Shinsegae\n",
       "Mamee / Shinsegae 100    Mamee Shinsegae, Mamee-Shinsegae\n",
       "MAMA              100                                Mama\n",
       "Wu Mu             100                               Wu-Mu\n",
       "KOKA              100                                Koka\n",
       "Goku Uma          100                            Goku-Uma\n",
       "Tseng Noodle      96                        Tseng Noodles\n",
       "Fashion Food      96                        Fashion Foods\n",
       "Mi Sedaap         95                           Mie Sedaap\n",
       "Mr. Noodle        95                          Mr. Noodles\n",
       "Chorip Dong       95                           ChoripDong\n",
       "Souper            91                                Super\n",
       "Sura              89                                Suraj\n",
       "Ped Chef          88                             Red Chef\n",
       "Sao Tao           86                              Sau Tao\n",
       "Weh Lih           86                              Wei Lih\n",
       "Higashimaru       84                             Ishimaru\n",
       "O Sung            83                               Ohsung\n",
       "Super             83                              SuperMi\n",
       "President         82                        Uni-President\n",
       "Chuanbei          82                            Wei Chuan\n",
       "Sun Noodle        82           Tseng Noodle, Urban Noodle\n",
       "President Rice    81                        Uni-President\n",
       "Thai Chef         80                          Thai Choice\n",
       "Lishan            80                                 Shan\n",
       "FitMee            80                                 iMee\n",
       "Sakura Noodle     80                         Urban Noodle\n",
       "Kiki              80                               Kuriki\n",
       "Pama              80                               Pamana\n",
       "Men-Sunaoshi      80                             Sunaoshi\n",
       "Bamee             80                                Mamee"
      ]
     },
     "execution_count": 25,
     "metadata": {},
     "output_type": "execute_result"
    }
   ],
   "source": [
    "#Group by brand names and scores\n",
    "#pd.set_option('display.max_rows', None)\n",
    "high_score.groupby(['brand','score']).agg({'match': ', '.join}).sort_values(['score'], ascending=False)"
   ]
  },
  {
   "cell_type": "markdown",
   "metadata": {},
   "source": [
    "Taking time to look at this table, from the score of 91 and below, we would need to make some checks to see if these pairs refer to the same brand. Since this dataset is small, we can do this by listing out records from each pair."
   ]
  },
  {
   "cell_type": "code",
   "execution_count": 26,
   "metadata": {},
   "outputs": [
    {
     "data": {
      "text/html": [
       "<div>\n",
       "<style scoped>\n",
       "    .dataframe tbody tr th:only-of-type {\n",
       "        vertical-align: middle;\n",
       "    }\n",
       "\n",
       "    .dataframe tbody tr th {\n",
       "        vertical-align: top;\n",
       "    }\n",
       "\n",
       "    .dataframe thead th {\n",
       "        text-align: right;\n",
       "    }\n",
       "</style>\n",
       "<table border=\"1\" class=\"dataframe\">\n",
       "  <thead>\n",
       "    <tr style=\"text-align: right;\">\n",
       "      <th></th>\n",
       "      <th>Review #</th>\n",
       "      <th>Brand</th>\n",
       "      <th>Variety</th>\n",
       "      <th>Style</th>\n",
       "      <th>Country</th>\n",
       "      <th>Stars</th>\n",
       "    </tr>\n",
       "  </thead>\n",
       "  <tbody>\n",
       "    <tr>\n",
       "      <td>2583</td>\n",
       "      <td>817</td>\n",
       "      <td>Souper</td>\n",
       "      <td>Bowl Ramen Shrimp</td>\n",
       "      <td>Bowl</td>\n",
       "      <td>Taiwan</td>\n",
       "      <td>3.75</td>\n",
       "    </tr>\n",
       "    <tr>\n",
       "      <td>2987</td>\n",
       "      <td>413</td>\n",
       "      <td>Souper</td>\n",
       "      <td>Alimentary Paste Chow Mein</td>\n",
       "      <td>Pack</td>\n",
       "      <td>Taiwan</td>\n",
       "      <td>4.25</td>\n",
       "    </tr>\n",
       "    <tr>\n",
       "      <td>523</td>\n",
       "      <td>2877</td>\n",
       "      <td>Super</td>\n",
       "      <td>Cup Instant Noodle Seafood Flavour</td>\n",
       "      <td>Cup</td>\n",
       "      <td>Malaysia</td>\n",
       "      <td>2.5</td>\n",
       "    </tr>\n",
       "    <tr>\n",
       "      <td>592</td>\n",
       "      <td>2808</td>\n",
       "      <td>Super</td>\n",
       "      <td>Super Cup Signature White Curry</td>\n",
       "      <td>Cup</td>\n",
       "      <td>Malaysia</td>\n",
       "      <td>0.25</td>\n",
       "    </tr>\n",
       "    <tr>\n",
       "      <td>1610</td>\n",
       "      <td>1790</td>\n",
       "      <td>Super</td>\n",
       "      <td>Kimchi</td>\n",
       "      <td>Cup</td>\n",
       "      <td>Malaysia</td>\n",
       "      <td>4.5</td>\n",
       "    </tr>\n",
       "    <tr>\n",
       "      <td>1612</td>\n",
       "      <td>1788</td>\n",
       "      <td>Super</td>\n",
       "      <td>Curry Flavour Noodles</td>\n",
       "      <td>Cup</td>\n",
       "      <td>Malaysia</td>\n",
       "      <td>3</td>\n",
       "    </tr>\n",
       "    <tr>\n",
       "      <td>1615</td>\n",
       "      <td>1785</td>\n",
       "      <td>Super</td>\n",
       "      <td>Instant Noodles Black Pepper Crab Mi Goreng</td>\n",
       "      <td>Cup</td>\n",
       "      <td>Malaysia</td>\n",
       "      <td>3.5</td>\n",
       "    </tr>\n",
       "    <tr>\n",
       "      <td>1668</td>\n",
       "      <td>1732</td>\n",
       "      <td>Super</td>\n",
       "      <td>Seafood Flavour Noodles</td>\n",
       "      <td>Cup</td>\n",
       "      <td>Malaysia</td>\n",
       "      <td>3.25</td>\n",
       "    </tr>\n",
       "    <tr>\n",
       "      <td>1905</td>\n",
       "      <td>1495</td>\n",
       "      <td>Super</td>\n",
       "      <td>Instant Noodles Mee Goreng</td>\n",
       "      <td>Cup</td>\n",
       "      <td>Malaysia</td>\n",
       "      <td>3.75</td>\n",
       "    </tr>\n",
       "  </tbody>\n",
       "</table>\n",
       "</div>"
      ],
      "text/plain": [
       "      Review #   Brand                                      Variety Style  \\\n",
       "2583       817  Souper                            Bowl Ramen Shrimp  Bowl   \n",
       "2987       413  Souper                   Alimentary Paste Chow Mein  Pack   \n",
       "523       2877   Super           Cup Instant Noodle Seafood Flavour   Cup   \n",
       "592       2808   Super              Super Cup Signature White Curry   Cup   \n",
       "1610      1790   Super                                       Kimchi   Cup   \n",
       "1612      1788   Super                        Curry Flavour Noodles   Cup   \n",
       "1615      1785   Super  Instant Noodles Black Pepper Crab Mi Goreng   Cup   \n",
       "1668      1732   Super                      Seafood Flavour Noodles   Cup   \n",
       "1905      1495   Super                   Instant Noodles Mee Goreng   Cup   \n",
       "\n",
       "       Country Stars  \n",
       "2583    Taiwan  3.75  \n",
       "2987    Taiwan  4.25  \n",
       "523   Malaysia   2.5  \n",
       "592   Malaysia  0.25  \n",
       "1610  Malaysia   4.5  \n",
       "1612  Malaysia     3  \n",
       "1615  Malaysia   3.5  \n",
       "1668  Malaysia  3.25  \n",
       "1905  Malaysia  3.75  "
      ]
     },
     "execution_count": 26,
     "metadata": {},
     "output_type": "execute_result"
    }
   ],
   "source": [
    "ramen.loc[(ramen['Brand'] == 'Souper') | (ramen['Brand'] == 'Super')].sort_values(['Brand'])"
   ]
  },
  {
   "cell_type": "markdown",
   "metadata": {},
   "source": [
    "For this pair, we see that these two brands come from different manufacturers, and there's also no similarity in their ramen types or styles. I would say that these brands are not the same."
   ]
  },
  {
   "cell_type": "code",
   "execution_count": 27,
   "metadata": {},
   "outputs": [
    {
     "data": {
      "text/html": [
       "<div>\n",
       "<style scoped>\n",
       "    .dataframe tbody tr th:only-of-type {\n",
       "        vertical-align: middle;\n",
       "    }\n",
       "\n",
       "    .dataframe tbody tr th {\n",
       "        vertical-align: top;\n",
       "    }\n",
       "\n",
       "    .dataframe thead th {\n",
       "        text-align: right;\n",
       "    }\n",
       "</style>\n",
       "<table border=\"1\" class=\"dataframe\">\n",
       "  <thead>\n",
       "    <tr style=\"text-align: right;\">\n",
       "      <th></th>\n",
       "      <th>Review #</th>\n",
       "      <th>Brand</th>\n",
       "      <th>Variety</th>\n",
       "      <th>Style</th>\n",
       "      <th>Country</th>\n",
       "      <th>Stars</th>\n",
       "    </tr>\n",
       "  </thead>\n",
       "  <tbody>\n",
       "    <tr>\n",
       "      <td>2756</td>\n",
       "      <td>644</td>\n",
       "      <td>Sura</td>\n",
       "      <td>Knife Cut Rice Noodle</td>\n",
       "      <td>Bowl</td>\n",
       "      <td>South Korea</td>\n",
       "      <td>3.75</td>\n",
       "    </tr>\n",
       "    <tr>\n",
       "      <td>285</td>\n",
       "      <td>3115</td>\n",
       "      <td>Suraj</td>\n",
       "      <td>Masala Noodles</td>\n",
       "      <td>Pack</td>\n",
       "      <td>Canada</td>\n",
       "      <td>2</td>\n",
       "    </tr>\n",
       "  </tbody>\n",
       "</table>\n",
       "</div>"
      ],
      "text/plain": [
       "      Review #  Brand                Variety Style      Country Stars\n",
       "2756       644   Sura  Knife Cut Rice Noodle  Bowl  South Korea  3.75\n",
       "285       3115  Suraj         Masala Noodles  Pack       Canada     2"
      ]
     },
     "execution_count": 27,
     "metadata": {},
     "output_type": "execute_result"
    }
   ],
   "source": [
    "ramen.loc[(ramen['Brand'] == 'Sura') | (ramen['Brand'] == 'Suraj')].sort_values(['Brand'])"
   ]
  },
  {
   "cell_type": "markdown",
   "metadata": {},
   "source": [
    "Sura and Suraj are two different brands."
   ]
  },
  {
   "cell_type": "code",
   "execution_count": 28,
   "metadata": {},
   "outputs": [
    {
     "data": {
      "text/html": [
       "<div>\n",
       "<style scoped>\n",
       "    .dataframe tbody tr th:only-of-type {\n",
       "        vertical-align: middle;\n",
       "    }\n",
       "\n",
       "    .dataframe tbody tr th {\n",
       "        vertical-align: top;\n",
       "    }\n",
       "\n",
       "    .dataframe thead th {\n",
       "        text-align: right;\n",
       "    }\n",
       "</style>\n",
       "<table border=\"1\" class=\"dataframe\">\n",
       "  <thead>\n",
       "    <tr style=\"text-align: right;\">\n",
       "      <th></th>\n",
       "      <th>Review #</th>\n",
       "      <th>Brand</th>\n",
       "      <th>Variety</th>\n",
       "      <th>Style</th>\n",
       "      <th>Country</th>\n",
       "      <th>Stars</th>\n",
       "    </tr>\n",
       "  </thead>\n",
       "  <tbody>\n",
       "    <tr>\n",
       "      <td>637</td>\n",
       "      <td>2763</td>\n",
       "      <td>Ped Chef</td>\n",
       "      <td>Sesame Clear Soup Noodles</td>\n",
       "      <td>Pack</td>\n",
       "      <td>Malaysia</td>\n",
       "      <td>3.5</td>\n",
       "    </tr>\n",
       "    <tr>\n",
       "      <td>164</td>\n",
       "      <td>3236</td>\n",
       "      <td>Red Chef</td>\n",
       "      <td>Spicy Sakura Prawn Soup Rice Vermicelli &amp; Noodles</td>\n",
       "      <td>Pack</td>\n",
       "      <td>Malaysia</td>\n",
       "      <td>5</td>\n",
       "    </tr>\n",
       "    <tr>\n",
       "      <td>198</td>\n",
       "      <td>3202</td>\n",
       "      <td>Red Chef</td>\n",
       "      <td>Pandan White Curry Noodle (New Recipe)</td>\n",
       "      <td>Pack</td>\n",
       "      <td>Malaysia</td>\n",
       "      <td>5</td>\n",
       "    </tr>\n",
       "    <tr>\n",
       "      <td>638</td>\n",
       "      <td>2762</td>\n",
       "      <td>Red Chef</td>\n",
       "      <td>Pandan White Curry Noodles</td>\n",
       "      <td>Pack</td>\n",
       "      <td>Malaysia</td>\n",
       "      <td>5</td>\n",
       "    </tr>\n",
       "    <tr>\n",
       "      <td>639</td>\n",
       "      <td>2761</td>\n",
       "      <td>Red Chef</td>\n",
       "      <td>Green Tom Yum Soup Noodles</td>\n",
       "      <td>Pack</td>\n",
       "      <td>Malaysia</td>\n",
       "      <td>5</td>\n",
       "    </tr>\n",
       "    <tr>\n",
       "      <td>640</td>\n",
       "      <td>2760</td>\n",
       "      <td>Red Chef</td>\n",
       "      <td>Spicy Sakura Prawn Soup Noodles</td>\n",
       "      <td>Pack</td>\n",
       "      <td>Malaysia</td>\n",
       "      <td>5</td>\n",
       "    </tr>\n",
       "  </tbody>\n",
       "</table>\n",
       "</div>"
      ],
      "text/plain": [
       "     Review #     Brand                                            Variety  \\\n",
       "637      2763  Ped Chef                          Sesame Clear Soup Noodles   \n",
       "164      3236  Red Chef  Spicy Sakura Prawn Soup Rice Vermicelli & Noodles   \n",
       "198      3202  Red Chef             Pandan White Curry Noodle (New Recipe)   \n",
       "638      2762  Red Chef                         Pandan White Curry Noodles   \n",
       "639      2761  Red Chef                         Green Tom Yum Soup Noodles   \n",
       "640      2760  Red Chef                    Spicy Sakura Prawn Soup Noodles   \n",
       "\n",
       "    Style   Country Stars  \n",
       "637  Pack  Malaysia   3.5  \n",
       "164  Pack  Malaysia     5  \n",
       "198  Pack  Malaysia     5  \n",
       "638  Pack  Malaysia     5  \n",
       "639  Pack  Malaysia     5  \n",
       "640  Pack  Malaysia     5  "
      ]
     },
     "execution_count": 28,
     "metadata": {},
     "output_type": "execute_result"
    }
   ],
   "source": [
    "ramen.loc[(ramen['Brand'] == 'Ped Chef') | (ramen['Brand'] == 'Red Chef')].sort_values(['Brand'])"
   ]
  },
  {
   "cell_type": "markdown",
   "metadata": {},
   "source": [
    "Here, we only have one record of the Ped Chef brand, and we also see a pattern in its variety name in comparison to Red Chef brand. I'm pretty sure it should be Red Chef brand."
   ]
  },
  {
   "cell_type": "markdown",
   "metadata": {},
   "source": [
    "We can continue to check other pairs by the same method. From the threshold of 84% and below, we can ignore some pairs which are obviously different or we can make a quick check as above. To get more matches beyond the token sort ratio scorer result, we can apply the token set ratio, but all the mistyped names with scores of 95% and above should be replaced first."
   ]
  }
 ],
 "metadata": {
  "kernelspec": {
   "display_name": "Python 3",
   "language": "python",
   "name": "python3"
  },
  "language_info": {
   "codemirror_mode": {
    "name": "ipython",
    "version": 3
   },
   "file_extension": ".py",
   "mimetype": "text/x-python",
   "name": "python",
   "nbconvert_exporter": "python",
   "pygments_lexer": "ipython3",
   "version": "3.7.4"
  }
 },
 "nbformat": 4,
 "nbformat_minor": 2
}
