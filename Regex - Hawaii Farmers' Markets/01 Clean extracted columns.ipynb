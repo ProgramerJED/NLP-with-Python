{
 "cells": [
  {
   "cell_type": "markdown",
   "metadata": {},
   "source": [
    "# Clean extracted columns\n",
    "In this notebook, I'll continue to clean the extracted columns from Name and get other information from these columns."
   ]
  },
  {
   "cell_type": "markdown",
   "metadata": {},
   "source": [
    "## Import"
   ]
  },
  {
   "cell_type": "code",
   "execution_count": 1,
   "metadata": {},
   "outputs": [],
   "source": [
    "import pandas as pd\n",
    "import numpy as np\n",
    "import seaborn as sns\n",
    "%matplotlib inline\n",
    "\n",
    "pd.set_option('display.max_colwidth',-1)\n",
    "pd.set_option('display.max_rows', None)\n",
    "pd.set_option('display.max_columns', None)"
   ]
  },
  {
   "cell_type": "markdown",
   "metadata": {},
   "source": [
    "## Load in data from part 00"
   ]
  },
  {
   "cell_type": "code",
   "execution_count": 2,
   "metadata": {
    "scrolled": false
   },
   "outputs": [
    {
     "data": {
      "text/html": [
       "<div>\n",
       "<style scoped>\n",
       "    .dataframe tbody tr th:only-of-type {\n",
       "        vertical-align: middle;\n",
       "    }\n",
       "\n",
       "    .dataframe tbody tr th {\n",
       "        vertical-align: top;\n",
       "    }\n",
       "\n",
       "    .dataframe thead th {\n",
       "        text-align: right;\n",
       "    }\n",
       "</style>\n",
       "<table border=\"1\" class=\"dataframe\">\n",
       "  <thead>\n",
       "    <tr style=\"text-align: right;\">\n",
       "      <th></th>\n",
       "      <th>Name</th>\n",
       "      <th>Sunday</th>\n",
       "      <th>Monday</th>\n",
       "      <th>Tuesday</th>\n",
       "      <th>Wednesday</th>\n",
       "      <th>Thursday</th>\n",
       "      <th>Friday</th>\n",
       "      <th>Saturday</th>\n",
       "      <th>Time</th>\n",
       "      <th>Location</th>\n",
       "      <th>Location Info</th>\n",
       "      <th>Island</th>\n",
       "      <th>Website</th>\n",
       "      <th>Contact</th>\n",
       "      <th>Phone</th>\n",
       "      <th>Email</th>\n",
       "      <th>col1</th>\n",
       "      <th>col2</th>\n",
       "      <th>col3</th>\n",
       "      <th>col4</th>\n",
       "      <th>col5</th>\n",
       "      <th>col6</th>\n",
       "      <th>col7</th>\n",
       "      <th>col8</th>\n",
       "      <th>col9</th>\n",
       "    </tr>\n",
       "  </thead>\n",
       "  <tbody>\n",
       "    <tr>\n",
       "      <td>0</td>\n",
       "      <td>Waialua Farmers' Market</td>\n",
       "      <td>NaN</td>\n",
       "      <td>NaN</td>\n",
       "      <td>NaN</td>\n",
       "      <td>NaN</td>\n",
       "      <td>NaN</td>\n",
       "      <td>NaN</td>\n",
       "      <td>X</td>\n",
       "      <td>8:30 AM to 12:00 PM</td>\n",
       "      <td>NaN</td>\n",
       "      <td>NaN</td>\n",
       "      <td>NaN</td>\n",
       "      <td>NaN</td>\n",
       "      <td>NaN</td>\n",
       "      <td>NaN</td>\n",
       "      <td>info@sugarmillhawaii.com</td>\n",
       "      <td>Waialua Sugar Mill</td>\n",
       "      <td>8:30 AM to 12:00 Noon</td>\n",
       "      <td>Edith Ramiscal</td>\n",
       "      <td>Email: info@sugarmillhawaii.com</td>\n",
       "      <td>NaN</td>\n",
       "      <td>NaN</td>\n",
       "      <td>NaN</td>\n",
       "      <td>NaN</td>\n",
       "      <td>NaN</td>\n",
       "    </tr>\n",
       "    <tr>\n",
       "      <td>1</td>\n",
       "      <td>Kekaha Neighborhood Center (Sunshine Markets)</td>\n",
       "      <td>NaN</td>\n",
       "      <td>NaN</td>\n",
       "      <td>NaN</td>\n",
       "      <td>NaN</td>\n",
       "      <td>NaN</td>\n",
       "      <td>NaN</td>\n",
       "      <td>X</td>\n",
       "      <td>9:00 AM</td>\n",
       "      <td>NaN</td>\n",
       "      <td>NaN</td>\n",
       "      <td>NaN</td>\n",
       "      <td>NaN</td>\n",
       "      <td>NaN</td>\n",
       "      <td>(808) 742-1834</td>\n",
       "      <td>NaN</td>\n",
       "      <td>Elepaio Road, Kekaha</td>\n",
       "      <td>9 AM</td>\n",
       "      <td>Cora Asuncion, Phone: (808) 742-1834</td>\n",
       "      <td>NaN</td>\n",
       "      <td>NaN</td>\n",
       "      <td>NaN</td>\n",
       "      <td>NaN</td>\n",
       "      <td>NaN</td>\n",
       "      <td>NaN</td>\n",
       "    </tr>\n",
       "    <tr>\n",
       "      <td>2</td>\n",
       "      <td>Hali'imaile Farmers' Market</td>\n",
       "      <td>NaN</td>\n",
       "      <td>NaN</td>\n",
       "      <td>NaN</td>\n",
       "      <td>NaN</td>\n",
       "      <td>NaN</td>\n",
       "      <td>X</td>\n",
       "      <td>NaN</td>\n",
       "      <td>1:00 PM to 6:00 PM</td>\n",
       "      <td>NaN</td>\n",
       "      <td>NaN</td>\n",
       "      <td>NaN</td>\n",
       "      <td>NaN</td>\n",
       "      <td>NaN</td>\n",
       "      <td>NaN</td>\n",
       "      <td>NaN</td>\n",
       "      <td>Hali'imaile Town Center (in a former Maui Pineapple Co. parking lot next to Hali'imaile General Store)</td>\n",
       "      <td>1:00 PM - 6:00 PM</td>\n",
       "      <td>NaN</td>\n",
       "      <td>NaN</td>\n",
       "      <td>NaN</td>\n",
       "      <td>NaN</td>\n",
       "      <td>NaN</td>\n",
       "      <td>NaN</td>\n",
       "      <td>NaN</td>\n",
       "    </tr>\n",
       "    <tr>\n",
       "      <td>3</td>\n",
       "      <td>Mahiku Farmers' Market</td>\n",
       "      <td>NaN</td>\n",
       "      <td>NaN</td>\n",
       "      <td>NaN</td>\n",
       "      <td>NaN</td>\n",
       "      <td>X</td>\n",
       "      <td>NaN</td>\n",
       "      <td>NaN</td>\n",
       "      <td>4:00 PM to 8:00 PM</td>\n",
       "      <td>NaN</td>\n",
       "      <td>NaN</td>\n",
       "      <td>NaN</td>\n",
       "      <td>www.mahikufarmersmarket.com</td>\n",
       "      <td>NaN</td>\n",
       "      <td>(808) 225-4002</td>\n",
       "      <td>sonnydoung@hotmail.com</td>\n",
       "      <td>International Market Place-Waikiki (near the Food Court)</td>\n",
       "      <td>4:00 PM - 8:00 PM  www.mahikufarmersmarket.com</td>\n",
       "      <td>Contact: Sonny Doung     Phone: (808) 225-4002</td>\n",
       "      <td>Email: sonnydoung@hotmail.com</td>\n",
       "      <td>NaN</td>\n",
       "      <td>NaN</td>\n",
       "      <td>NaN</td>\n",
       "      <td>NaN</td>\n",
       "      <td>NaN</td>\n",
       "    </tr>\n",
       "    <tr>\n",
       "      <td>4</td>\n",
       "      <td>Country Market &amp; Craft Fair at Waimanalo Homestead Community Center</td>\n",
       "      <td>X</td>\n",
       "      <td>NaN</td>\n",
       "      <td>NaN</td>\n",
       "      <td>NaN</td>\n",
       "      <td>NaN</td>\n",
       "      <td>NaN</td>\n",
       "      <td>NaN</td>\n",
       "      <td>9:00 AM to 4:00 PM</td>\n",
       "      <td>1330 Kalanianaole Hwy., HI</td>\n",
       "      <td>Waimanalo Homestead Community Center</td>\n",
       "      <td>Oahu</td>\n",
       "      <td>NaN</td>\n",
       "      <td>Paul Richard</td>\n",
       "      <td>(808) 259-8611, (808) 284-2575</td>\n",
       "      <td>NaN</td>\n",
       "      <td>NaN</td>\n",
       "      <td>NaN</td>\n",
       "      <td>NaN</td>\n",
       "      <td>NaN</td>\n",
       "      <td>NaN</td>\n",
       "      <td>NaN</td>\n",
       "      <td>NaN</td>\n",
       "      <td>NaN</td>\n",
       "      <td>NaN</td>\n",
       "    </tr>\n",
       "  </tbody>\n",
       "</table>\n",
       "</div>"
      ],
      "text/plain": [
       "                                                                  Name Sunday  \\\n",
       "0  Waialua Farmers' Market                                              NaN     \n",
       "1  Kekaha Neighborhood Center (Sunshine Markets)                        NaN     \n",
       "2  Hali'imaile Farmers' Market                                          NaN     \n",
       "3  Mahiku Farmers' Market                                               NaN     \n",
       "4  Country Market & Craft Fair at Waimanalo Homestead Community Center  X       \n",
       "\n",
       "  Monday Tuesday Wednesday Thursday Friday Saturday                 Time  \\\n",
       "0  NaN    NaN     NaN       NaN      NaN    X        8:30 AM to 12:00 PM   \n",
       "1  NaN    NaN     NaN       NaN      NaN    X        9:00 AM               \n",
       "2  NaN    NaN     NaN       NaN      X      NaN      1:00 PM to 6:00 PM    \n",
       "3  NaN    NaN     NaN       X        NaN    NaN      4:00 PM to 8:00 PM    \n",
       "4  NaN    NaN     NaN       NaN      NaN    NaN      9:00 AM to 4:00 PM    \n",
       "\n",
       "                     Location                         Location Info Island  \\\n",
       "0  NaN                         NaN                                   NaN     \n",
       "1  NaN                         NaN                                   NaN     \n",
       "2  NaN                         NaN                                   NaN     \n",
       "3  NaN                         NaN                                   NaN     \n",
       "4  1330 Kalanianaole Hwy., HI  Waimanalo Homestead Community Center  Oahu    \n",
       "\n",
       "                       Website       Contact                           Phone  \\\n",
       "0  NaN                          NaN           NaN                              \n",
       "1  NaN                          NaN           (808) 742-1834                   \n",
       "2  NaN                          NaN           NaN                              \n",
       "3  www.mahikufarmersmarket.com  NaN           (808) 225-4002                   \n",
       "4  NaN                          Paul Richard  (808) 259-8611, (808) 284-2575   \n",
       "\n",
       "                      Email  \\\n",
       "0  info@sugarmillhawaii.com   \n",
       "1  NaN                        \n",
       "2  NaN                        \n",
       "3  sonnydoung@hotmail.com     \n",
       "4  NaN                        \n",
       "\n",
       "                                                                                                     col1  \\\n",
       "0  Waialua Sugar Mill                                                                                       \n",
       "1  Elepaio Road, Kekaha                                                                                     \n",
       "2  Hali'imaile Town Center (in a former Maui Pineapple Co. parking lot next to Hali'imaile General Store)   \n",
       "3  International Market Place-Waikiki (near the Food Court)                                                 \n",
       "4  NaN                                                                                                      \n",
       "\n",
       "                                             col2  \\\n",
       "0  8:30 AM to 12:00 Noon                            \n",
       "1  9 AM                                             \n",
       "2  1:00 PM - 6:00 PM                                \n",
       "3  4:00 PM - 8:00 PM  www.mahikufarmersmarket.com   \n",
       "4  NaN                                              \n",
       "\n",
       "                                             col3  \\\n",
       "0  Edith Ramiscal                                   \n",
       "1  Cora Asuncion, Phone: (808) 742-1834             \n",
       "2  NaN                                              \n",
       "3  Contact: Sonny Doung     Phone: (808) 225-4002   \n",
       "4  NaN                                              \n",
       "\n",
       "                              col4 col5 col6 col7 col8 col9  \n",
       "0  Email: info@sugarmillhawaii.com  NaN  NaN  NaN  NaN  NaN  \n",
       "1  NaN                              NaN  NaN  NaN  NaN  NaN  \n",
       "2  NaN                              NaN  NaN  NaN  NaN  NaN  \n",
       "3  Email: sonnydoung@hotmail.com    NaN  NaN  NaN  NaN  NaN  \n",
       "4  NaN                              NaN  NaN  NaN  NaN  NaN  "
      ]
     },
     "execution_count": 2,
     "metadata": {},
     "output_type": "execute_result"
    }
   ],
   "source": [
    "data = pd.read_csv('00out')\n",
    "data.head()"
   ]
  },
  {
   "cell_type": "code",
   "execution_count": 3,
   "metadata": {},
   "outputs": [
    {
     "data": {
      "text/plain": [
       "<matplotlib.axes._subplots.AxesSubplot at 0x285e17ad348>"
      ]
     },
     "execution_count": 3,
     "metadata": {},
     "output_type": "execute_result"
    },
    {
     "data": {
      "image/png": "[encoded data removed]",
      "text/plain": [
       "<Figure size 432x288 with 1 Axes>"
      ]
     },
     "metadata": {
      "needs_background": "light"
     },
     "output_type": "display_data"
    }
   ],
   "source": [
    "sns.heatmap(data.isna(), cmap='viridis', cbar=False, yticklabels=False)"
   ]
  },
  {
   "cell_type": "markdown",
   "metadata": {},
   "source": [
    "## Clean up extracted columns: col1 - col7\n",
    "In previous part, we already extracted patterns of Time, Website, Phone, and Email. The generated columns may also contain these patterns, but we don't need to extract them another time. However, to make it easier to get other information, it's necessary to remove these patterns from these columns.<br>\n",
    "The process is:\n",
    "1. Check which columns have a certain pattern\n",
    "2. Check if any row has more information than just the pattern\n",
    "3. Replace the pattern with blanks"
   ]
  },
  {
   "cell_type": "markdown",
   "metadata": {},
   "source": [
    "### Time"
   ]
  },
  {
   "cell_type": "code",
   "execution_count": 4,
   "metadata": {},
   "outputs": [
    {
     "name": "stdout",
     "output_type": "stream",
     "text": [
      "Columns that have time information:\n",
      "Time: 220.0\n",
      "col1: 1.0\n",
      "col2: 84.0\n",
      "col3: 14.0\n",
      "col4: 1.0\n"
     ]
    }
   ],
   "source": [
    "#Check which columns have the time pattern:\n",
    "print('Columns that have time information:')\n",
    "for col in data:\n",
    "    if (data[col].str.contains('\\d{1,2}(?:\\W\\d{2})?\\s?(?:AM|PM|NOON|Noon)'\\\n",
    "                               '(?:\\s{1,}?(?:to|-)\\s{1,})?(?:\\d{1,2}'     \\\n",
    "                               '(?:\\W\\d{2})?\\s?(?:AM|PM|NOON|Noon))?', na=False)).any() == True:\n",
    "        print(col + ': ' + str(data[col].str.count(\n",
    "                               '\\d{1,2}(?:\\W\\d{2})?\\s?(?:AM|PM|NOON|Noon)'\\\n",
    "                               '(?:\\s{1,}?(?:to|-)\\s{1,})?(?:\\d{1,2}'     \\\n",
    "                               '(?:\\W\\d{2})?\\s?(?:AM|PM|NOON|Noon))?').sum()))"
   ]
  },
  {
   "cell_type": "code",
   "execution_count": 5,
   "metadata": {},
   "outputs": [
    {
     "name": "stdout",
     "output_type": "stream",
     "text": [
      "['2nd Saturday of the month from 9:00 AM to 1:00 PM']\n",
      "['8:30 AM to 12:00 Noon' '9 AM' '1:00 PM - 6:00 PM'\n",
      " '4:00 PM - 8:00 PM  www.mahikufarmersmarket.com' '7:30 AM to 3:00 PM'\n",
      " '11:00 AM to 11:45 AM' '11:15 AM to 12:00 Noon' '7:30 AM to 1:00 PM'\n",
      " '7:00 AM to 4:00 PM' '12:30 PM to 5:30 PM' '8:00 AM to 5:00 PM'\n",
      " '10:15 AM to 11:00 AM' '2:00 PM to 5:00 PM' '4:00 PM to 8:00 PM'\n",
      " '7:00 AM to 11:00 AM' '5:00 PM to 7:30 PM' '7:00 AM to 8:00 AM'\n",
      " '4:00 PM to 7:00 PM' '3:00 PM to 8:00 PM' '10:00 AM to 11:00 AM'\n",
      " '10:00 AM to 2:00 PM' '9:00 AM to 1:00 PM' '7:00 AM to 12:00 NOON'\n",
      " '4:30 PM' '8:00 AM to 4.00 PM' '9:00 AM to 10:00 AM' '2 PM'\n",
      " '10:45 AM to 11:45 AM' '11:45 AM to 12:30 PM' '7:00 AM to 1:00 PM'\n",
      " '7:15 AM to 8:15 AM' '7:30 AM to 2:00 PM' '3 PM' '11:30 AM to 12:30 PM'\n",
      " '4:30 PM to 7:30 PM' '8:00 AM to 12 NOON' '7:00 AM to 5:00 PM'\n",
      " 'Every Wednesday 10AM - 1PM' '7:00 AM to 3:00 PM'\n",
      " '9:00AM to 1:00PM Every Sunday' '8:15 AM to 9:15 AM'\n",
      " '10:00 AM to 1:00 PM' '7:00 AM to 8:30 AM' '3:00 PM to 6:30 PM'\n",
      " '10:00 AM - 5:00 PM' '(Across from 7-11)  3:00 PM to 7:00 PM' '3:00 PM'\n",
      " '2nd and 4th Tuesday of each month 10AM - 1PM' '7:00 AM to 2:00 PM'\n",
      " '7:30 AM to 11:00 AM' '9 AM  - 1:30 PM' '10:00 AM to 10:45 AM'\n",
      " '6:00 AM to 1:30 PM' '6:30 AM to 7:30 AM' '6:00 AM to 1:00 PM'\n",
      " '7:00 AM to 12:00 PM' '8:15 AM to 9:30 AM' '1:00 PM to 2:00 PM'\n",
      " '8:30 AM to 9:30 AM' '6:00 AM to 4:00 PM' '9:00 AM to 2:00 PM'\n",
      " '8:00 AM - 12:00 NOON' '9:30 AM to 11:00 AM' '7:00 AM to 9:00 AM'\n",
      " '9:00 AM to 5:00 PM' '6:45 AM to 7:45 AM' '7:00 AM to 12 Noon'\n",
      " '10 AM - 1 PM' '8:00 AM to 2:00 PM' '8:00 AM to 12:00 NOON'\n",
      " '4:00 PM to 9:00 PM']\n",
      "['8:00 AM to 1:00 PM' '8 AM' '7:00 AM to 2:00 PM' '9:00 AM to 6:00 PM'\n",
      " '7:00 AM to 4:00 PM' '7:15 AM to 10:00 AM' '9:00 AM - 1:00 PM'\n",
      " '8:00 AM - 1:00 PM' '4:00 PM to 7:00 PM' '7:00 AM - 12:00 NOON'\n",
      " '7:00AM to 5:00PM' '8:30 AM to 11:30 AM'\n",
      " 'Friday: 4:30 PM - 8:00 PM; Saturday: 9:00 AM - 2:00 PM']\n",
      "['3:00 PM to 7:00 PM']\n"
     ]
    }
   ],
   "source": [
    "#Print out unique values for these columns to see if they have other information:\n",
    "for col in data[['col1','col2','col3','col4']]:\n",
    "    print(data[data[col].str.contains(\n",
    "          '\\d{1,2}(?:\\W\\d{2})?\\s?(?:AM|PM|NOON|Noon)'\\\n",
    "          '(?:\\s{1,}?(?:to|-)\\s{1,})?(?:\\d{1,2}'     \\\n",
    "          '(?:\\W\\d{2})?\\s?(?:AM|PM|NOON|Noon))?',na=False)][col].unique())"
   ]
  },
  {
   "cell_type": "markdown",
   "metadata": {},
   "source": [
    "We have website, location, and schedule information in some rows. Among them, I want to keep 'Friday: 4:30 PM - 8:00 PM; Saturday: 9:00 AM - 2:00 PM' value in col3. Other than that, we can replace time patterns with blanks."
   ]
  },
  {
   "cell_type": "code",
   "execution_count": 6,
   "metadata": {},
   "outputs": [],
   "source": [
    "#Replace time patterns with blanks:\n",
    "for col in data[['col2','col3','col4']]:\n",
    "    data[col] = np.where(~data[col].str.contains(r'Friday', na=False) & \\\n",
    "                         data[col].str.contains('\\d{1,2}(?:\\W\\d{2})?\\s?(?:AM|PM|NOON|Noon)'\\\n",
    "                                                '(?:\\s{1,}?(?:to|-)\\s{1,})?(?:\\d{1,2}'     \\\n",
    "                                                '(?:\\W\\d{2})?\\s?(?:AM|PM|NOON|Noon))?',na=False),\n",
    "                         data[col].str.replace('\\d{1,2}(?:\\W\\d{2})?\\s?(?:AM|PM|NOON|Noon)'\\\n",
    "                                               '(?:\\s{1,}?(?:to|-)\\s{1,})?(?:\\d{1,2}'     \\\n",
    "                                               '(?:\\W\\d{2})?\\s?(?:AM|PM|NOON|Noon))?',''),\n",
    "                         data[col])"
   ]
  },
  {
   "cell_type": "markdown",
   "metadata": {},
   "source": [
    "### Website"
   ]
  },
  {
   "cell_type": "code",
   "execution_count": 7,
   "metadata": {},
   "outputs": [
    {
     "name": "stdout",
     "output_type": "stream",
     "text": [
      "Columns that have website information:\n",
      "Website: 102.0\n",
      "col2: 1.0\n",
      "col3: 1.0\n",
      "col4: 40.0\n",
      "col5: 5.0\n",
      "col7: 1.0\n"
     ]
    }
   ],
   "source": [
    "#Check which columns have the website pattern:\n",
    "print('Columns that have website information:')\n",
    "for col in data:\n",
    "    if (data[col].str.contains(\"(?:(?:(?:https?://)?(?:www.))|(?:(?:https?://)(?:www.)?))\" \\\n",
    "                               \"[\\w\\-.~:/?#\\[\\]@!$&'()*+,;=%]+\", na=False)).any() == True:\n",
    "        print(col + ': ' + str(data[col].str.count(\n",
    "                               \"(?:(?:(?:https?://)?(?:www.))|(?:(?:https?://)(?:www.)?))\" \\\n",
    "                               \"[\\w\\-.~:/?#\\[\\]@!$&'()*+,;=%]+\").sum()))"
   ]
  },
  {
   "cell_type": "code",
   "execution_count": 8,
   "metadata": {},
   "outputs": [
    {
     "name": "stdout",
     "output_type": "stream",
     "text": [
      "['  www.mahikufarmersmarket.com']\n",
      "['www.windwardmall.com/event/farmers-market-every-Wednesday']\n",
      "['www.co.honolulu.hi.us/parks/programs/pom'\n",
      " 'Email: sonnydoung@hotmail.com  www.mahikufarmersmarket.com'\n",
      " 'www.hfbf.org' 'www.wardcenters.com' 'http://www.hfbf.org'\n",
      " 'www.haleiwafarmersmarket.com'\n",
      " 'Email:  sonnydoung@hotmail.com  www.mahikufarmersmarket.com'\n",
      " 'Agent Juanita Kawamoto, Farm Fresh Hawaii; www.farmfreshhawaii.com'\n",
      " 'www.hilofarmersmarket.com' 'www.skgm.org'\n",
      " 'www.northshorecountrymarket.com'\n",
      " 'www.local-farmers-markets.com/market/1162/honolulu/fort-street-near-wilcox-park'\n",
      " 'www.kings-village.com']\n",
      "['www.makekeomaunalua.com' 'www.halehalawai.org/market.htm'\n",
      " 'www.waianaefarmersmarket.org' 'www.KakaakoMakaiMarket.com'\n",
      " 'www.sunsetcountrymarket.org']\n",
      "['www.facebook.com/#!/pages/WAIANAE-FARMERS-MARKET/234161083106']\n"
     ]
    }
   ],
   "source": [
    "#Print out unique values from these columns:\n",
    "for col in data[['col2','col3','col4','col5','col7']]:\n",
    "    print(data[data[col].str.contains(\"(?:(?:(?:https?://)?(?:www.))|(?:(?:https?://)(?:www.)?))\" \\\n",
    "                                      \"[\\w\\-.~:/?#\\[\\]@!$&'()*+,;=%]+\",na=False)][col].unique())"
   ]
  },
  {
   "cell_type": "markdown",
   "metadata": {},
   "source": [
    "We can replace the pattern with blanks for these columns."
   ]
  },
  {
   "cell_type": "code",
   "execution_count": 9,
   "metadata": {},
   "outputs": [],
   "source": [
    "#Replace time patterns with blanks:\n",
    "for col in data[['col2','col3','col4','col5','col7']]:\n",
    "    data[col] = np.where(data[col].str.contains(\n",
    "                         \"(?:(?:(?:https?://)?(?:www.))|(?:(?:https?://)(?:www.)?))\" \\\n",
    "                         \"[\\w\\-.~:/?#\\[\\]@!$&'()*+,;=%]+\",na=False),\n",
    "                         data[col].str.replace(\n",
    "                         \"(?:(?:(?:https?://)?(?:www.))|(?:(?:https?://)(?:www.)?))\" \\\n",
    "                         \"[\\w\\-.~:/?#\\[\\]@!$&'()*+,;=%]+\",''),\n",
    "                         data[col])"
   ]
  },
  {
   "cell_type": "markdown",
   "metadata": {},
   "source": [
    "### Email"
   ]
  },
  {
   "cell_type": "code",
   "execution_count": 10,
   "metadata": {},
   "outputs": [
    {
     "name": "stdout",
     "output_type": "stream",
     "text": [
      "Columns that have email information:\n",
      "Email: 49.0\n",
      "col3: 4.0\n",
      "col4: 14.0\n",
      "col5: 2.0\n",
      "col6: 2.0\n"
     ]
    }
   ],
   "source": [
    "#Check which columns have the website pattern:\n",
    "print('Columns that have email information:')\n",
    "for col in data:\n",
    "    if (data[col].str.contains('[\\w\\.-]+@[\\w\\.-]+')).any() == True:\n",
    "        print(col + ': ' + str(data[col].str.count(\n",
    "                               '[\\w\\.-]+@[\\w\\.-]+').sum()))"
   ]
  },
  {
   "cell_type": "code",
   "execution_count": 11,
   "metadata": {},
   "outputs": [
    {
     "name": "stdout",
     "output_type": "stream",
     "text": [
      "['Phone: (808) 388-9696 email: haleiwafarmersmarket@gmail.com'\n",
      " 'Contact: George Lee (808) 735-4550 or georgelee2468@gmail.com'\n",
      " 'Nancy: (808) 322-3118, (808) 322-2362, nkona@hawaii.rr.com'\n",
      " 'Melissa McFerrin at kcfb@hawaiiantel.net; Phone: (808) 337-9944']\n",
      "['Email: info@sugarmillhawaii.com' 'Email: sonnydoung@hotmail.com'\n",
      " 'keala.ching@outrigger.com' 'Email: sonnydoung@hotmail.com  '\n",
      " 'Email:  sonnydoung@hotmail.com  ' 'wfpinfo@isleconcierge.com'\n",
      " 'Email: bethflo@hotmail.com' 'dpcinfo@isleconcierge.com'\n",
      " 'Email: kekahuna@localnet.com' 'dewell@hawaii.rr.com'\n",
      " 'Email: bifb@hawaiiantel.net']\n",
      "['Email: nuuanumarket@gmail.com' 'Email: gagner001@hawaii.rr.com']\n",
      "['Email: sonnydoung@hotmail.com' 'Email:  waianaefarmersmarket@wcchc.com']\n"
     ]
    }
   ],
   "source": [
    "#Print out unique values from these columns:\n",
    "for col in data[['col3','col4','col5','col6']]:\n",
    "    print(data[data[col].str.contains('[\\w\\.-]+@[\\w\\.-]+',na=False)][col].unique())"
   ]
  },
  {
   "cell_type": "code",
   "execution_count": 12,
   "metadata": {},
   "outputs": [],
   "source": [
    "#Replace time patterns with blanks:\n",
    "for col in data[['col3','col4','col5','col6']]:\n",
    "    data[col] = np.where(data[col].str.contains('[\\w\\.-]+@[\\w\\.-]+',na=False),\n",
    "                         data[col].str.replace('[\\w\\.-]+@[\\w\\.-]+',''),\n",
    "                         data[col])"
   ]
  },
  {
   "cell_type": "markdown",
   "metadata": {},
   "source": [
    "### Phone"
   ]
  },
  {
   "cell_type": "code",
   "execution_count": 13,
   "metadata": {},
   "outputs": [
    {
     "name": "stdout",
     "output_type": "stream",
     "text": [
      "Columns that have phone information:\n",
      "Phone: 187.0\n",
      "col2: 1.0\n",
      "col3: 74.0\n",
      "col4: 11.0\n",
      "col5: 2.0\n"
     ]
    }
   ],
   "source": [
    "#Check which columns have the website pattern:\n",
    "print('Columns that have phone information:')\n",
    "for col in data:\n",
    "    if (data[col].str.contains('\\(?\\d{3}\\)?\\W?\\d{3}\\W\\d{4}')).any() == True:\n",
    "        print(col + ': ' + str(data[col].str.count(\n",
    "                               '\\(?\\d{3}\\)?\\W?\\d{3}\\W\\d{4}').sum()))"
   ]
  },
  {
   "cell_type": "code",
   "execution_count": 14,
   "metadata": {},
   "outputs": [
    {
     "name": "stdout",
     "output_type": "stream",
     "text": [
      "['Jan:  Phone: (808) 968-8631']\n",
      "['Cora Asuncion, Phone: (808) 742-1834'\n",
      " 'Contact: Sonny Doung     Phone: (808) 225-4002' 'Phone: (808) 396-0766'\n",
      " 'Phone: (808) 522-7088' 'Ms. Cynda Hearn (808) 871-1307'\n",
      " 'Kumu Keala Ching: (808) 324-2540' 'Jerry:  Phone: (808) 959-0488'\n",
      " 'Phone: (808) 887-0023' 'Contact Sonny Doung   Phone: (808) 225-4002'\n",
      " 'Phone: (808) 847-0494 Cell: (808) 554-4667' 'Phone: (808) 848-2074'\n",
      " 'Phone: (808) 388-9696 email: ' 'Ben Ferris, Phone: (808) 822-1712'\n",
      " 'Contact: (808) 875-0949'\n",
      " 'Contact:  Sonny Doung    Phone: (808) 225-4002'\n",
      " 'Cora Asuncion, Phone (808) 742-1834'\n",
      " 'Contact: George Lee (808) 735-4550 or '\n",
      " 'Nancy: (808) 322-3118, (808) 322-2362, ' 'Phone: (808) 966-4853'\n",
      " 'Phone: (808) 537-5158' 'Branch Harmony, Phone: (808) 322-0718'\n",
      " 'Keith: Phone: (808) 933-1000' 'Beth Fulton: (808) 443-1679'\n",
      " 'Phone: (808) 697-3599 or 692-8200 ext. 2267' 'Phone: (808) 545-4477'\n",
      " 'Vinton:  Phone: (808) 965-9205'\n",
      " 'Stephanie Struble,  Phone (808) 826-1011'\n",
      " 'Phone: (808) 965-1441, (808) 896-5537, (Cell) (808) 217-2307'\n",
      " 'Nancy Blalock, Phone: (808) 822-5887' 'Phone: (808) 244-3100'\n",
      " 'Dennis & Marge: (808) 929-7239' 'Keith:  Phone: (808) 933-1000'\n",
      " 'Esta Feedora: Phone: (808) 328-2400'\n",
      " 'Betsy Mitchell:  Phone: (808) 967-7209' 'Phone: (808) 334-1381'\n",
      " 'Contact: (808) 669-7004' 'Phone: (808) 923-1802'\n",
      " 'Lori: Phone (808) 557-2780'\n",
      " 'Melissa McFerrin at ; Phone: (808) 337-9944' 'Phone: (808) 237-8248'\n",
      " 'Lori Zane; Phone: (808) 777-9216' 'Phone: (808) 237-6340']\n",
      "['Beth:  Phone: (808) 328-8547' 'Pepito Valdez  (808) 298-4289'\n",
      " ', Phone: (808) 259-8611, Cell: (808) 284-2575' 'Phone:  (808) 388-9696'\n",
      " 'Katherine Patton:  (808) 968-1333' 'Phone:  (808) 282-2276'\n",
      " 'Bob Gagne: (808) 333-2478' 'Phone: Desiree at (808) 388-7386'\n",
      " 'Phone:  (808) 330-6224']\n",
      "['Contact: Sonny Doung     Phone: (808) 225-4002'\n",
      " 'Tong Sang, Phone: (808) 259-7602']\n"
     ]
    }
   ],
   "source": [
    "#Print out unique values from these columns:\n",
    "for col in data[['col2','col3','col4','col5']]:\n",
    "    print(data[data[col].str.contains('\\(?\\d{3}\\)?\\W?\\d{3}\\W\\d{4}',na=False)][col].unique())"
   ]
  },
  {
   "cell_type": "markdown",
   "metadata": {},
   "source": [
    "There are contact names in these rows. Before replace phone pattern, we should try to extract contact information first."
   ]
  },
  {
   "cell_type": "markdown",
   "metadata": {},
   "source": [
    "#### Contact\n",
    "I would like to gather the data that have phone pattern in one column. Let's pick one of the existing column.<br>\n",
    "Among col2, col3, col4, and col5, col5 will have the most missing values. We can pick this one."
   ]
  },
  {
   "cell_type": "code",
   "execution_count": 15,
   "metadata": {},
   "outputs": [
    {
     "data": {
      "text/plain": [
       "213"
      ]
     },
     "execution_count": 15,
     "metadata": {},
     "output_type": "execute_result"
    }
   ],
   "source": [
    "#Check how many missing rows in col5:\n",
    "data['col5'].isna().sum()"
   ]
  },
  {
   "cell_type": "code",
   "execution_count": 16,
   "metadata": {},
   "outputs": [
    {
     "data": {
      "text/plain": [
       "array([nan, 'Contact: Sonny Doung     Phone: (808) 225-4002',\n",
       "       'Tong Sang, Phone: (808) 259-7602', '', 'Email: '], dtype=object)"
      ]
     },
     "execution_count": 16,
     "metadata": {},
     "output_type": "execute_result"
    }
   ],
   "source": [
    "#Check unique values in col5:\n",
    "data['col5'].unique()"
   ]
  },
  {
   "cell_type": "markdown",
   "metadata": {},
   "source": [
    "In rows that have phone pattern, there's also contact information.<br>\n",
    "We have blank rows here. Before moving data with phone pattern, we should replace blank data with Nan."
   ]
  },
  {
   "cell_type": "code",
   "execution_count": 17,
   "metadata": {},
   "outputs": [],
   "source": [
    "data.replace('^\\s*$', np.nan, regex=True, inplace = True)"
   ]
  },
  {
   "cell_type": "markdown",
   "metadata": {},
   "source": [
    "Since we will loop over these columns, it's important to see if there's any overlapped patterns among them."
   ]
  },
  {
   "cell_type": "code",
   "execution_count": 18,
   "metadata": {},
   "outputs": [
    {
     "name": "stdout",
     "output_type": "stream",
     "text": [
      "These two columns have phone pattern in same rows:\n",
      "col2 and col3: False\n",
      "col2 and col4: False\n",
      "col2 and col5: False\n",
      "col3 and col4: False\n",
      "col3 and col5: False\n",
      "col4 and col5: True\n"
     ]
    }
   ],
   "source": [
    "print('These two columns have phone pattern in same rows:')\n",
    "for (col1,col2) in zip(data[['col2','col2','col2','col3','col3','col4']],\n",
    "                       data[['col3','col4','col5','col4','col5','col5']]):\n",
    "    print(col1 + ' and ' + col2 + ': ' +\n",
    "          str((data[col1].str.contains('\\(?\\d{3}\\)?\\W?\\d{3}\\W\\d{4}', na=False) &\n",
    "               data[col2].str.contains('\\(?\\d{3}\\)?\\W?\\d{3}\\W\\d{4}', na=False)).any()))"
   ]
  },
  {
   "cell_type": "markdown",
   "metadata": {},
   "source": [
    "We have col4 and col5 have phone pattern in same rows."
   ]
  },
  {
   "cell_type": "code",
   "execution_count": 19,
   "metadata": {},
   "outputs": [
    {
     "data": {
      "text/html": [
       "<div>\n",
       "<style scoped>\n",
       "    .dataframe tbody tr th:only-of-type {\n",
       "        vertical-align: middle;\n",
       "    }\n",
       "\n",
       "    .dataframe tbody tr th {\n",
       "        vertical-align: top;\n",
       "    }\n",
       "\n",
       "    .dataframe thead th {\n",
       "        text-align: right;\n",
       "    }\n",
       "</style>\n",
       "<table border=\"1\" class=\"dataframe\">\n",
       "  <thead>\n",
       "    <tr style=\"text-align: right;\">\n",
       "      <th></th>\n",
       "      <th>col4</th>\n",
       "      <th>col5</th>\n",
       "    </tr>\n",
       "  </thead>\n",
       "  <tbody>\n",
       "    <tr>\n",
       "      <td>83</td>\n",
       "      <td>, Phone: (808) 259-8611, Cell: (808) 284-2575</td>\n",
       "      <td>Tong Sang, Phone: (808) 259-7602</td>\n",
       "    </tr>\n",
       "  </tbody>\n",
       "</table>\n",
       "</div>"
      ],
      "text/plain": [
       "                                             col4  \\\n",
       "83  , Phone: (808) 259-8611, Cell: (808) 284-2575   \n",
       "\n",
       "                                col5  \n",
       "83  Tong Sang, Phone: (808) 259-7602  "
      ]
     },
     "execution_count": 19,
     "metadata": {},
     "output_type": "execute_result"
    }
   ],
   "source": [
    "data[data['col4'].str.contains('\\(?\\d{3}\\)?\\W?\\d{3}\\W\\d{4}', na=False) &\n",
    "     data['col5'].str.contains('\\(?\\d{3}\\)?\\W?\\d{3}\\W\\d{4}', na=False)][['col4','col5']]"
   ]
  },
  {
   "cell_type": "markdown",
   "metadata": {},
   "source": [
    "col5 has contact information, so we will use col5 data.<br>\n",
    "Now we can move data that contain phone pattern from col2, col3, and col4 to col5."
   ]
  },
  {
   "cell_type": "code",
   "execution_count": 20,
   "metadata": {},
   "outputs": [],
   "source": [
    "for col in data[['col2','col3','col4']]:\n",
    "    data['col5'] = np.where(~data['col5'].str.contains('\\(?\\d{3}\\)?\\W?\\d{3}\\W\\d{4}',na=False) &\n",
    "                             data[col].str.contains('\\(?\\d{3}\\)?\\W?\\d{3}\\W\\d{4}',na=False),\n",
    "                             data[col], data['col5'])"
   ]
  },
  {
   "cell_type": "markdown",
   "metadata": {},
   "source": [
    "Let's check pattern of these values."
   ]
  },
  {
   "cell_type": "code",
   "execution_count": 21,
   "metadata": {},
   "outputs": [
    {
     "data": {
      "text/plain": [
       "array([nan, 'Cora Asuncion, Phone: (808) 742-1834',\n",
       "       'Contact: Sonny Doung     Phone: (808) 225-4002',\n",
       "       'Phone: (808) 396-0766', 'Phone: (808) 522-7088',\n",
       "       'Ms. Cynda Hearn (808) 871-1307',\n",
       "       'Kumu Keala Ching: (808) 324-2540', 'Jan:  Phone: (808) 968-8631',\n",
       "       'Jerry:  Phone: (808) 959-0488', 'Phone: (808) 887-0023',\n",
       "       'Contact Sonny Doung   Phone: (808) 225-4002',\n",
       "       'Phone: (808) 847-0494 Cell: (808) 554-4667',\n",
       "       'Phone: (808) 848-2074', 'Phone: (808) 388-9696 email: ',\n",
       "       'Ben Ferris, Phone: (808) 822-1712', 'Contact: (808) 875-0949',\n",
       "       'Beth:  Phone: (808) 328-8547', 'Pepito Valdez  (808) 298-4289',\n",
       "       'Tong Sang, Phone: (808) 259-7602',\n",
       "       'Contact:  Sonny Doung    Phone: (808) 225-4002',\n",
       "       'Cora Asuncion, Phone (808) 742-1834',\n",
       "       'Contact: George Lee (808) 735-4550 or ',\n",
       "       'Nancy: (808) 322-3118, (808) 322-2362, ', 'Phone: (808) 966-4853',\n",
       "       'Phone: (808) 537-5158', 'Branch Harmony, Phone: (808) 322-0718',\n",
       "       'Keith: Phone: (808) 933-1000', 'Beth Fulton: (808) 443-1679',\n",
       "       'Phone:  (808) 388-9696', 'Katherine Patton:  (808) 968-1333',\n",
       "       'Phone: (808) 697-3599 or 692-8200 ext. 2267',\n",
       "       'Phone: (808) 545-4477', 'Vinton:  Phone: (808) 965-9205',\n",
       "       'Phone:  (808) 282-2276', 'Bob Gagne: (808) 333-2478',\n",
       "       'Stephanie Struble,  Phone (808) 826-1011',\n",
       "       'Phone: (808) 965-1441, (808) 896-5537, (Cell) (808) 217-2307',\n",
       "       'Nancy Blalock, Phone: (808) 822-5887', 'Phone: (808) 244-3100',\n",
       "       'Dennis & Marge: (808) 929-7239', 'Keith:  Phone: (808) 933-1000',\n",
       "       'Esta Feedora: Phone: (808) 328-2400',\n",
       "       'Betsy Mitchell:  Phone: (808) 967-7209', 'Phone: (808) 334-1381',\n",
       "       'Phone: Desiree at (808) 388-7386', 'Contact: (808) 669-7004',\n",
       "       'Phone:  (808) 330-6224', 'Phone: (808) 923-1802',\n",
       "       'Lori: Phone (808) 557-2780',\n",
       "       'Melissa McFerrin at ; Phone: (808) 337-9944',\n",
       "       'Phone: (808) 237-8248', 'Lori Zane; Phone: (808) 777-9216',\n",
       "       'Phone: (808) 237-6340'], dtype=object)"
      ]
     },
     "execution_count": 21,
     "metadata": {},
     "output_type": "execute_result"
    }
   ],
   "source": [
    "data['col5'].unique()"
   ]
  },
  {
   "cell_type": "markdown",
   "metadata": {},
   "source": [
    "We will need to remove phone number and some unecessary strings like \"Phone\", \"Cell\", \"Contact\" and some punctuations."
   ]
  },
  {
   "cell_type": "code",
   "execution_count": 22,
   "metadata": {},
   "outputs": [],
   "source": [
    "#Remove unecessary parts from the sy=trings:\n",
    "data['col5'] = np.where(data['col5'].str.contains('(?:Phone:? |Cell:? |Contact:? )?\\(?\\d{3}\\)?\\W?\\d{3}\\W\\d{4}',na=False),\n",
    "                        data['col5'].str.replace('(?:Phone:? |Cell:? |Contact:? )?\\(?\\d{3}\\)?\\W?\\d{3}\\W\\d{4}',''),\n",
    "                        data['col5'])"
   ]
  },
  {
   "cell_type": "code",
   "execution_count": 23,
   "metadata": {},
   "outputs": [],
   "source": [
    "#Replace blanks with Nans:\n",
    "data['col5'].replace('^\\s*$', np.nan, regex=True, inplace = True)"
   ]
  },
  {
   "cell_type": "markdown",
   "metadata": {},
   "source": [
    "Now check what we've got."
   ]
  },
  {
   "cell_type": "code",
   "execution_count": 24,
   "metadata": {},
   "outputs": [
    {
     "data": {
      "text/plain": [
       "array([nan, 'Cora Asuncion, ', 'Contact: Sonny Doung     ',\n",
       "       'Ms. Cynda Hearn ', 'Kumu Keala Ching: ', 'Jan:  ', 'Jerry:  ',\n",
       "       'Contact Sonny Doung   ', ' email: ', 'Ben Ferris, ', 'Beth:  ',\n",
       "       'Pepito Valdez  ', 'Tong Sang, ', 'Contact:  Sonny Doung    ',\n",
       "       'Contact: George Lee  or ', 'Nancy: , , ', 'Branch Harmony, ',\n",
       "       'Keith: ', 'Beth Fulton: ', 'Phone:  ', 'Katherine Patton:  ',\n",
       "       ' or 692-8200 ext. 2267', 'Vinton:  ', 'Bob Gagne: ',\n",
       "       'Stephanie Struble,  ', ', , (Cell) ', 'Nancy Blalock, ',\n",
       "       'Dennis & Marge: ', 'Keith:  ', 'Esta Feedora: ',\n",
       "       'Betsy Mitchell:  ', 'Phone: Desiree at ', 'Lori: ',\n",
       "       'Melissa McFerrin at ; ', 'Lori Zane; '], dtype=object)"
      ]
     },
     "execution_count": 24,
     "metadata": {},
     "output_type": "execute_result"
    }
   ],
   "source": [
    "data['col5'].unique()"
   ]
  },
  {
   "cell_type": "markdown",
   "metadata": {},
   "source": [
    "We still have unwanted strings and punctuations. For this case, it will be simpler to extract names out from the strings. To do this, we should remove unwanted strings that have a capitalized letter at the beginning. These are \"Contact\", \"Phone, \"Ms.\"."
   ]
  },
  {
   "cell_type": "code",
   "execution_count": 25,
   "metadata": {},
   "outputs": [],
   "source": [
    "#Remove unwanted strings with caplitalized letters and then replace blank rows with Nans:\n",
    "data['col5'] = np.where(data['col5'].notna(),\n",
    "                        data['col5'].str.replace('(?:Contact:?|Phone:?|Ms.)', ''),\n",
    "                        data['col5'])\n",
    "data['col5'].replace('^\\s*$', np.nan, regex=True, inplace = True)"
   ]
  },
  {
   "cell_type": "code",
   "execution_count": 26,
   "metadata": {},
   "outputs": [
    {
     "data": {
      "text/plain": [
       "array([nan, 'Cora Asuncion, ', ' Sonny Doung     ', ' Cynda Hearn ',\n",
       "       'Kumu Keala Ching: ', 'Jan:  ', 'Jerry:  ', ' Sonny Doung   ',\n",
       "       ' email: ', 'Ben Ferris, ', 'Beth:  ', 'Pepito Valdez  ',\n",
       "       'Tong Sang, ', '  Sonny Doung    ', ' George Lee  or ',\n",
       "       'Nancy: , , ', 'Branch Harmony, ', 'Keith: ', 'Beth Fulton: ',\n",
       "       'Katherine Patton:  ', ' or 692-8200 ext. 2267', 'Vinton:  ',\n",
       "       'Bob Gagne: ', 'Stephanie Struble,  ', ', , (Cell) ',\n",
       "       'Nancy Blalock, ', 'Dennis & Marge: ', 'Keith:  ',\n",
       "       'Esta Feedora: ', 'Betsy Mitchell:  ', ' Desiree at ', 'Lori: ',\n",
       "       'Melissa McFerrin at ; ', 'Lori Zane; '], dtype=object)"
      ]
     },
     "execution_count": 26,
     "metadata": {},
     "output_type": "execute_result"
    }
   ],
   "source": [
    "data['col5'].unique()"
   ]
  },
  {
   "cell_type": "markdown",
   "metadata": {},
   "source": [
    "Now we can extract names using Regex."
   ]
  },
  {
   "cell_type": "code",
   "execution_count": 27,
   "metadata": {},
   "outputs": [],
   "source": [
    "data['col5'] = np.where(data['col5'].str.contains(\n",
    "                            '[A-Z][a-z]+(?:\\s(?:\\W+)?[A-Z][a-zA-z]+)+|' \\\n",
    "                            '(?!Cell)[A-Z][a-z]+',na=False),\n",
    "                            data['col5'].str.findall(\n",
    "                            '[A-Z][a-z]+(?:\\s(?:\\W+)?[A-Z][a-zA-z]+)+|' \\\n",
    "                            '(?!Cell)[A-Z][a-z]+').str[0], np.nan)"
   ]
  },
  {
   "cell_type": "code",
   "execution_count": 28,
   "metadata": {},
   "outputs": [
    {
     "data": {
      "text/plain": [
       "array([nan, 'Cora Asuncion', 'Sonny Doung', 'Cynda Hearn',\n",
       "       'Kumu Keala Ching', 'Jan', 'Jerry', 'Ben Ferris', 'Beth',\n",
       "       'Pepito Valdez', 'Tong Sang', 'George Lee', 'Nancy',\n",
       "       'Branch Harmony', 'Keith', 'Beth Fulton', 'Katherine Patton',\n",
       "       'Vinton', 'Bob Gagne', 'Stephanie Struble', 'Nancy Blalock',\n",
       "       'Dennis & Marge', 'Esta Feedora', 'Betsy Mitchell', 'Desiree',\n",
       "       'Lori', 'Melissa McFerrin', 'Lori Zane'], dtype=object)"
      ]
     },
     "execution_count": 28,
     "metadata": {},
     "output_type": "execute_result"
    }
   ],
   "source": [
    "data['col5'].unique()"
   ]
  },
  {
   "cell_type": "markdown",
   "metadata": {},
   "source": [
    "This is what we want. Before filling in Contact column with these data, we need to check what kind of Contact data we have right now."
   ]
  },
  {
   "cell_type": "code",
   "execution_count": 29,
   "metadata": {},
   "outputs": [
    {
     "data": {
      "text/plain": [
       "array([nan, 'Paul Richard', 'Dennis & Marge', 'Sonny Doung',\n",
       "       'Cora Asuncion', 'Bob Gagne', 'Keith', 'Debbie', 'Esta Feedora',\n",
       "       'George Lee', 'Katherine Patton', 'Melissa McFerrin',\n",
       "       'Cynda Hearn', 'Kumu Keala Ching', 'Lori', 'Nancy Blalock',\n",
       "       'Nancy', 'Vinton', 'Stephanie Struble', 'Edith Ramiscal', 'Jerry',\n",
       "       'Doreen Rozemond', 'Branch Harmony', 'Betsy Mitchell',\n",
       "       'Matilda Adams at the site', 'Lori Zane', 'Ben Ferris', 'Desiree',\n",
       "       'Jan', 'Beth Fulton'], dtype=object)"
      ]
     },
     "execution_count": 29,
     "metadata": {},
     "output_type": "execute_result"
    }
   ],
   "source": [
    "data['Contact'].unique()"
   ]
  },
  {
   "cell_type": "markdown",
   "metadata": {},
   "source": [
    "Now, let's check if we can use values in col5 to fill in missing data in Contact."
   ]
  },
  {
   "cell_type": "code",
   "execution_count": 30,
   "metadata": {},
   "outputs": [
    {
     "data": {
      "text/plain": [
       "True"
      ]
     },
     "execution_count": 30,
     "metadata": {},
     "output_type": "execute_result"
    }
   ],
   "source": [
    "#Check if we have missing Contact information in rows that have contact information in col5:\n",
    "((data['col5'].isna() & data['Contact'].isna()) |\n",
    " (data['col5'].isna() & data['Contact'].notna()) |\n",
    " (data['col5'].notna() & data['Contact'].isna())).all()"
   ]
  },
  {
   "cell_type": "code",
   "execution_count": 31,
   "metadata": {},
   "outputs": [],
   "source": [
    "#Fill in missing contact with col5 values then drop col5:\n",
    "data['Contact'] = np.where(data['col5'].notna(), data['col5'], data['Contact'])\n",
    "data.drop('col5',axis=1,inplace=True)"
   ]
  },
  {
   "cell_type": "code",
   "execution_count": 32,
   "metadata": {},
   "outputs": [],
   "source": [
    "#Replace contact information with blanks in col2, col3, and col4\n",
    "for col in data[['col2','col3','col4']]:\n",
    "    data[col] = np.where(data[col].str.contains('\\(?\\d{3}\\)?\\W?\\d{3}\\W\\d{4}',na=False),\n",
    "                         data[col].str.replace('[A-Z][a-z]+(?:\\s(?:\\W+)?[A-Z][a-zA-z]+)+|' \\\n",
    "                                               '(?!Cell)[A-Z][a-z]+',''),\n",
    "                         data[col])"
   ]
  },
  {
   "cell_type": "code",
   "execution_count": 33,
   "metadata": {},
   "outputs": [],
   "source": [
    "#Replace phone information with blanks in col2, col3, and col4\n",
    "for col in data[['col2','col3','col4']]:\n",
    "    data[col] = np.where(data[col].str.contains('\\(?\\d{3}\\)?\\W?\\d{3}\\W\\d{4}',na=False),\n",
    "                         data[col].str.replace('\\(?\\d{3}\\)?\\W?\\d{3}\\W\\d{4}',''),\n",
    "                         data[col])"
   ]
  },
  {
   "cell_type": "code",
   "execution_count": 34,
   "metadata": {},
   "outputs": [],
   "source": [
    "#Replace blanks with Nans\n",
    "data.replace('^\\s*$', np.nan, regex=True, inplace = True)"
   ]
  },
  {
   "cell_type": "markdown",
   "metadata": {},
   "source": [
    "## Drop extracted columns\n",
    "Now let's check missing values again."
   ]
  },
  {
   "cell_type": "code",
   "execution_count": 35,
   "metadata": {},
   "outputs": [
    {
     "data": {
      "text/plain": [
       "<matplotlib.axes._subplots.AxesSubplot at 0x285e1bac0c8>"
      ]
     },
     "execution_count": 35,
     "metadata": {},
     "output_type": "execute_result"
    },
    {
     "data": {
      "image/png": "[encoded data removed]",
      "text/plain": [
       "<Figure size 432x288 with 1 Axes>"
      ]
     },
     "metadata": {
      "needs_background": "light"
     },
     "output_type": "display_data"
    }
   ],
   "source": [
    "sns.heatmap(data.isna(), cmap='viridis', cbar=False, yticklabels=False)"
   ]
  },
  {
   "cell_type": "markdown",
   "metadata": {},
   "source": [
    "There are many missing values in col4, col6, and col7. We can check and drop these columns if possible."
   ]
  },
  {
   "cell_type": "code",
   "execution_count": 36,
   "metadata": {
    "scrolled": true
   },
   "outputs": [],
   "source": [
    "data.drop('col7',axis=1,inplace=True)"
   ]
  },
  {
   "cell_type": "code",
   "execution_count": 37,
   "metadata": {},
   "outputs": [
    {
     "data": {
      "text/plain": [
       "array(['Email: ', 'Email:  '], dtype=object)"
      ]
     },
     "execution_count": 37,
     "metadata": {},
     "output_type": "execute_result"
    }
   ],
   "source": [
    "data[data['col6'].notna()]['col6'].unique()"
   ]
  },
  {
   "cell_type": "code",
   "execution_count": 38,
   "metadata": {},
   "outputs": [],
   "source": [
    "data.drop('col6',axis=1,inplace=True)"
   ]
  },
  {
   "cell_type": "code",
   "execution_count": 39,
   "metadata": {},
   "outputs": [
    {
     "data": {
      "text/plain": [
       "array(['Email: ', 'Email:   ', ':  : ', ', : , Cell: ', 'Email:    ',\n",
       "       'Agent Juanita Kawamoto, Farm Fresh Hawaii; ', ':  ', ': ',\n",
       "       'PO Box 822, Hanalei, HI', ':  at '], dtype=object)"
      ]
     },
     "execution_count": 39,
     "metadata": {},
     "output_type": "execute_result"
    }
   ],
   "source": [
    "data[data['col4'].notna()]['col4'].unique()"
   ]
  },
  {
   "cell_type": "markdown",
   "metadata": {},
   "source": [
    "Only two useful data in col4. Let's see which rows they are."
   ]
  },
  {
   "cell_type": "code",
   "execution_count": 40,
   "metadata": {},
   "outputs": [
    {
     "data": {
      "text/html": [
       "<div>\n",
       "<style scoped>\n",
       "    .dataframe tbody tr th:only-of-type {\n",
       "        vertical-align: middle;\n",
       "    }\n",
       "\n",
       "    .dataframe tbody tr th {\n",
       "        vertical-align: top;\n",
       "    }\n",
       "\n",
       "    .dataframe thead th {\n",
       "        text-align: right;\n",
       "    }\n",
       "</style>\n",
       "<table border=\"1\" class=\"dataframe\">\n",
       "  <thead>\n",
       "    <tr style=\"text-align: right;\">\n",
       "      <th></th>\n",
       "      <th>Name</th>\n",
       "      <th>Sunday</th>\n",
       "      <th>Monday</th>\n",
       "      <th>Tuesday</th>\n",
       "      <th>Wednesday</th>\n",
       "      <th>Thursday</th>\n",
       "      <th>Friday</th>\n",
       "      <th>Saturday</th>\n",
       "      <th>Time</th>\n",
       "      <th>Location</th>\n",
       "      <th>Location Info</th>\n",
       "      <th>Island</th>\n",
       "      <th>Website</th>\n",
       "      <th>Contact</th>\n",
       "      <th>Phone</th>\n",
       "      <th>Email</th>\n",
       "      <th>col1</th>\n",
       "      <th>col2</th>\n",
       "      <th>col3</th>\n",
       "      <th>col4</th>\n",
       "      <th>col8</th>\n",
       "      <th>col9</th>\n",
       "    </tr>\n",
       "  </thead>\n",
       "  <tbody>\n",
       "    <tr>\n",
       "      <td>93</td>\n",
       "      <td>Makiki Local Grown Farmers' Market at St. Clement's Church</td>\n",
       "      <td>NaN</td>\n",
       "      <td>NaN</td>\n",
       "      <td>NaN</td>\n",
       "      <td>NaN</td>\n",
       "      <td>X</td>\n",
       "      <td>NaN</td>\n",
       "      <td>NaN</td>\n",
       "      <td>4:30 PM to 7:30 PM</td>\n",
       "      <td>NaN</td>\n",
       "      <td>NaN</td>\n",
       "      <td>NaN</td>\n",
       "      <td>www.farmfreshhawaii.com</td>\n",
       "      <td>George Lee</td>\n",
       "      <td>(808) 735-4550</td>\n",
       "      <td>georgelee2468@gmail.com</td>\n",
       "      <td>1515 Wilder Avenue at Makiki St. (Parking on Wilder after 5:30 p.m.)</td>\n",
       "      <td>NaN</td>\n",
       "      <td>:   or</td>\n",
       "      <td>Agent Juanita Kawamoto, Farm Fresh Hawaii;</td>\n",
       "      <td>NaN</td>\n",
       "      <td>NaN</td>\n",
       "    </tr>\n",
       "    <tr>\n",
       "      <td>152</td>\n",
       "      <td>Hanalei Saturday Market</td>\n",
       "      <td>NaN</td>\n",
       "      <td>NaN</td>\n",
       "      <td>NaN</td>\n",
       "      <td>NaN</td>\n",
       "      <td>NaN</td>\n",
       "      <td>NaN</td>\n",
       "      <td>X</td>\n",
       "      <td>9:00 AM to 1:30 PM</td>\n",
       "      <td>NaN</td>\n",
       "      <td>NaN</td>\n",
       "      <td>NaN</td>\n",
       "      <td>www.halehalawai.org/market.htm</td>\n",
       "      <td>Stephanie Struble</td>\n",
       "      <td>(808) 826-1011</td>\n",
       "      <td>NaN</td>\n",
       "      <td>Hanalei</td>\n",
       "      <td>NaN</td>\n",
       "      <td>,</td>\n",
       "      <td>PO Box 822, Hanalei, HI</td>\n",
       "      <td>NaN</td>\n",
       "      <td>NaN</td>\n",
       "    </tr>\n",
       "  </tbody>\n",
       "</table>\n",
       "</div>"
      ],
      "text/plain": [
       "                                                           Name Sunday Monday  \\\n",
       "93   Makiki Local Grown Farmers' Market at St. Clement's Church  NaN    NaN     \n",
       "152  Hanalei Saturday Market                                     NaN    NaN     \n",
       "\n",
       "    Tuesday Wednesday Thursday Friday Saturday                Time Location  \\\n",
       "93   NaN     NaN       X        NaN    NaN      4:30 PM to 7:30 PM  NaN       \n",
       "152  NaN     NaN       NaN      NaN    X        9:00 AM to 1:30 PM  NaN       \n",
       "\n",
       "    Location Info Island                         Website            Contact  \\\n",
       "93   NaN           NaN    www.farmfreshhawaii.com         George Lee          \n",
       "152  NaN           NaN    www.halehalawai.org/market.htm  Stephanie Struble   \n",
       "\n",
       "              Phone                    Email  \\\n",
       "93   (808) 735-4550  georgelee2468@gmail.com   \n",
       "152  (808) 826-1011  NaN                       \n",
       "\n",
       "                                                                     col1  \\\n",
       "93   1515 Wilder Avenue at Makiki St. (Parking on Wilder after 5:30 p.m.)   \n",
       "152  Hanalei                                                                \n",
       "\n",
       "    col2     col3                                         col4 col8 col9  \n",
       "93   NaN  :   or   Agent Juanita Kawamoto, Farm Fresh Hawaii;   NaN  NaN  \n",
       "152  NaN  ,        PO Box 822, Hanalei, HI                      NaN  NaN  "
      ]
     },
     "execution_count": 40,
     "metadata": {},
     "output_type": "execute_result"
    }
   ],
   "source": [
    "data[(data['col4'] == 'Agent Juanita Kawamoto, Farm Fresh Hawaii; ') |\n",
    "     (data['col4'] == 'PO Box 822, Hanalei, HI')]"
   ]
  },
  {
   "cell_type": "markdown",
   "metadata": {},
   "source": [
    "I will move these value to col2 Info and drop col4."
   ]
  },
  {
   "cell_type": "code",
   "execution_count": 41,
   "metadata": {},
   "outputs": [],
   "source": [
    "data.loc[93]['col2'] = 'Agent Juanita Kawamoto, Farm Fresh Hawaii'\n",
    "data.loc[152]['col2'] = 'PO Box 822, Hanalei, HI'\n",
    "data.drop('col4',axis=1,inplace=True)"
   ]
  },
  {
   "cell_type": "code",
   "execution_count": 42,
   "metadata": {},
   "outputs": [
    {
     "data": {
      "text/plain": [
       "array(['Edith Ramiscal', ', : ', ': : ', ': ', '.  ', ':  : ',\n",
       "       ':  Cell: ', 'First Wednesdays', ':  email: ',\n",
       "       'Pearl City, HI  96782', ',  ', ':   or ', ': , , ',\n",
       "       '1st & 3rd Wednesdays', ':  or 692-8200 ext. 2267',\n",
       "       'Matilda Adams at the site', ',   ', ': , , (Cell) ', 'Phone:',\n",
       "       'Friday: 4:30 PM - 8:00 PM; Saturday: 9:00 AM - 2:00 PM', ':  ',\n",
       "       ' at ; : ', '; : '], dtype=object)"
      ]
     },
     "execution_count": 42,
     "metadata": {},
     "output_type": "execute_result"
    }
   ],
   "source": [
    "data[data['col3'].notna()]['col3'].unique()"
   ]
  },
  {
   "cell_type": "code",
   "execution_count": 43,
   "metadata": {},
   "outputs": [
    {
     "data": {
      "text/html": [
       "<div>\n",
       "<style scoped>\n",
       "    .dataframe tbody tr th:only-of-type {\n",
       "        vertical-align: middle;\n",
       "    }\n",
       "\n",
       "    .dataframe tbody tr th {\n",
       "        vertical-align: top;\n",
       "    }\n",
       "\n",
       "    .dataframe thead th {\n",
       "        text-align: right;\n",
       "    }\n",
       "</style>\n",
       "<table border=\"1\" class=\"dataframe\">\n",
       "  <thead>\n",
       "    <tr style=\"text-align: right;\">\n",
       "      <th></th>\n",
       "      <th>Name</th>\n",
       "      <th>Sunday</th>\n",
       "      <th>Monday</th>\n",
       "      <th>Tuesday</th>\n",
       "      <th>Wednesday</th>\n",
       "      <th>Thursday</th>\n",
       "      <th>Friday</th>\n",
       "      <th>Saturday</th>\n",
       "      <th>Time</th>\n",
       "      <th>Location</th>\n",
       "      <th>Location Info</th>\n",
       "      <th>Island</th>\n",
       "      <th>Website</th>\n",
       "      <th>Contact</th>\n",
       "      <th>Phone</th>\n",
       "      <th>Email</th>\n",
       "      <th>col1</th>\n",
       "      <th>col2</th>\n",
       "      <th>col3</th>\n",
       "      <th>col8</th>\n",
       "      <th>col9</th>\n",
       "    </tr>\n",
       "  </thead>\n",
       "  <tbody>\n",
       "    <tr>\n",
       "      <td>0</td>\n",
       "      <td>Waialua Farmers' Market</td>\n",
       "      <td>NaN</td>\n",
       "      <td>NaN</td>\n",
       "      <td>NaN</td>\n",
       "      <td>NaN</td>\n",
       "      <td>NaN</td>\n",
       "      <td>NaN</td>\n",
       "      <td>X</td>\n",
       "      <td>8:30 AM to 12:00 PM</td>\n",
       "      <td>NaN</td>\n",
       "      <td>NaN</td>\n",
       "      <td>NaN</td>\n",
       "      <td>NaN</td>\n",
       "      <td>NaN</td>\n",
       "      <td>NaN</td>\n",
       "      <td>info@sugarmillhawaii.com</td>\n",
       "      <td>Waialua Sugar Mill</td>\n",
       "      <td>NaN</td>\n",
       "      <td>Edith Ramiscal</td>\n",
       "      <td>NaN</td>\n",
       "      <td>NaN</td>\n",
       "    </tr>\n",
       "    <tr>\n",
       "      <td>55</td>\n",
       "      <td>Queen's Medical Center</td>\n",
       "      <td>NaN</td>\n",
       "      <td>NaN</td>\n",
       "      <td>NaN</td>\n",
       "      <td>X</td>\n",
       "      <td>NaN</td>\n",
       "      <td>NaN</td>\n",
       "      <td>NaN</td>\n",
       "      <td>10:00 AM to 2:00 PM</td>\n",
       "      <td>NaN</td>\n",
       "      <td>1st Wed.</td>\n",
       "      <td>NaN</td>\n",
       "      <td>NaN</td>\n",
       "      <td>NaN</td>\n",
       "      <td>NaN</td>\n",
       "      <td>NaN</td>\n",
       "      <td>1301 Punchbowl Street, Honolulu</td>\n",
       "      <td>NaN</td>\n",
       "      <td>First Wednesdays</td>\n",
       "      <td>NaN</td>\n",
       "      <td>NaN</td>\n",
       "    </tr>\n",
       "    <tr>\n",
       "      <td>59</td>\n",
       "      <td>Mahiku Farmers' Market</td>\n",
       "      <td>NaN</td>\n",
       "      <td>NaN</td>\n",
       "      <td>NaN</td>\n",
       "      <td>NaN</td>\n",
       "      <td>NaN</td>\n",
       "      <td>X</td>\n",
       "      <td>NaN</td>\n",
       "      <td>3:00 PM to 7:00 PM</td>\n",
       "      <td>NaN</td>\n",
       "      <td>NaN</td>\n",
       "      <td>NaN</td>\n",
       "      <td>NaN</td>\n",
       "      <td>Sonny Doung</td>\n",
       "      <td>(808) 225-4002</td>\n",
       "      <td>sonnydoung@hotmail.com</td>\n",
       "      <td>Momilani Community Center</td>\n",
       "      <td>715 Hoomoana St. (corner of Hoomoana &amp; Komo Mai Dr.)</td>\n",
       "      <td>Pearl City, HI  96782</td>\n",
       "      <td>NaN</td>\n",
       "      <td>NaN</td>\n",
       "    </tr>\n",
       "    <tr>\n",
       "      <td>125</td>\n",
       "      <td>First Insurance Center</td>\n",
       "      <td>NaN</td>\n",
       "      <td>NaN</td>\n",
       "      <td>NaN</td>\n",
       "      <td>X</td>\n",
       "      <td>NaN</td>\n",
       "      <td>NaN</td>\n",
       "      <td>NaN</td>\n",
       "      <td>10:00 AM to 1:00 PM</td>\n",
       "      <td>NaN</td>\n",
       "      <td>1st &amp; 3rd</td>\n",
       "      <td>NaN</td>\n",
       "      <td>NaN</td>\n",
       "      <td>NaN</td>\n",
       "      <td>NaN</td>\n",
       "      <td>NaN</td>\n",
       "      <td>1100 Ward Ave., Honolulu (across from Thomas Square)</td>\n",
       "      <td>NaN</td>\n",
       "      <td>1st &amp; 3rd Wednesdays</td>\n",
       "      <td>NaN</td>\n",
       "      <td>NaN</td>\n",
       "    </tr>\n",
       "    <tr>\n",
       "      <td>134</td>\n",
       "      <td>Kalaheo Neighborhood Center (Sunshine Markets)</td>\n",
       "      <td>NaN</td>\n",
       "      <td>NaN</td>\n",
       "      <td>X</td>\n",
       "      <td>NaN</td>\n",
       "      <td>NaN</td>\n",
       "      <td>NaN</td>\n",
       "      <td>NaN</td>\n",
       "      <td>3:00 PM</td>\n",
       "      <td>NaN</td>\n",
       "      <td>NaN</td>\n",
       "      <td>NaN</td>\n",
       "      <td>NaN</td>\n",
       "      <td>NaN</td>\n",
       "      <td>NaN</td>\n",
       "      <td>NaN</td>\n",
       "      <td>Papalina Road off Kaumualii, Kalaheo</td>\n",
       "      <td>NaN</td>\n",
       "      <td>Matilda Adams at the site</td>\n",
       "      <td>NaN</td>\n",
       "      <td>NaN</td>\n",
       "    </tr>\n",
       "    <tr>\n",
       "      <td>206</td>\n",
       "      <td>Kaka'ako Makai Community Cultural Marketplace</td>\n",
       "      <td>NaN</td>\n",
       "      <td>NaN</td>\n",
       "      <td>NaN</td>\n",
       "      <td>NaN</td>\n",
       "      <td>NaN</td>\n",
       "      <td>X</td>\n",
       "      <td>X</td>\n",
       "      <td>9:00 AM to 2:00 PM, 4:30 PM to 8:00 PM</td>\n",
       "      <td>NaN</td>\n",
       "      <td>NaN</td>\n",
       "      <td>NaN</td>\n",
       "      <td>www.KakaakoMakaiMarket.com</td>\n",
       "      <td>NaN</td>\n",
       "      <td>(808) 330-6224</td>\n",
       "      <td>NaN</td>\n",
       "      <td>one block makai of Ala Moana Blvd. &amp; Ward Ave.</td>\n",
       "      <td>corner Ilalo &amp; Ahui Sts.</td>\n",
       "      <td>Friday: 4:30 PM - 8:00 PM; Saturday: 9:00 AM - 2:00 PM</td>\n",
       "      <td>NaN</td>\n",
       "      <td>NaN</td>\n",
       "    </tr>\n",
       "  </tbody>\n",
       "</table>\n",
       "</div>"
      ],
      "text/plain": [
       "                                               Name Sunday Monday Tuesday  \\\n",
       "0    Waialua Farmers' Market                         NaN    NaN    NaN      \n",
       "55   Queen's Medical Center                          NaN    NaN    NaN      \n",
       "59   Mahiku Farmers' Market                          NaN    NaN    NaN      \n",
       "125  First Insurance Center                          NaN    NaN    NaN      \n",
       "134  Kalaheo Neighborhood Center (Sunshine Markets)  NaN    NaN    X        \n",
       "206  Kaka'ako Makai Community Cultural Marketplace   NaN    NaN    NaN      \n",
       "\n",
       "    Wednesday Thursday Friday Saturday  \\\n",
       "0    NaN       NaN      NaN    X         \n",
       "55   X         NaN      NaN    NaN       \n",
       "59   NaN       NaN      X      NaN       \n",
       "125  X         NaN      NaN    NaN       \n",
       "134  NaN       NaN      NaN    NaN       \n",
       "206  NaN       NaN      X      X         \n",
       "\n",
       "                                       Time Location Location Info Island  \\\n",
       "0    8:30 AM to 12:00 PM                     NaN      NaN           NaN     \n",
       "55   10:00 AM to 2:00 PM                     NaN      1st Wed.      NaN     \n",
       "59   3:00 PM to 7:00 PM                      NaN      NaN           NaN     \n",
       "125  10:00 AM to 1:00 PM                     NaN      1st & 3rd     NaN     \n",
       "134  3:00 PM                                 NaN      NaN           NaN     \n",
       "206  9:00 AM to 2:00 PM, 4:30 PM to 8:00 PM  NaN      NaN           NaN     \n",
       "\n",
       "                        Website      Contact           Phone  \\\n",
       "0    NaN                         NaN          NaN              \n",
       "55   NaN                         NaN          NaN              \n",
       "59   NaN                         Sonny Doung  (808) 225-4002   \n",
       "125  NaN                         NaN          NaN              \n",
       "134  NaN                         NaN          NaN              \n",
       "206  www.KakaakoMakaiMarket.com  NaN          (808) 330-6224   \n",
       "\n",
       "                        Email  \\\n",
       "0    info@sugarmillhawaii.com   \n",
       "55   NaN                        \n",
       "59   sonnydoung@hotmail.com     \n",
       "125  NaN                        \n",
       "134  NaN                        \n",
       "206  NaN                        \n",
       "\n",
       "                                                     col1  \\\n",
       "0    Waialua Sugar Mill                                     \n",
       "55   1301 Punchbowl Street, Honolulu                        \n",
       "59   Momilani Community Center                              \n",
       "125  1100 Ward Ave., Honolulu (across from Thomas Square)   \n",
       "134  Papalina Road off Kaumualii, Kalaheo                   \n",
       "206  one block makai of Ala Moana Blvd. & Ward Ave.         \n",
       "\n",
       "                                                     col2  \\\n",
       "0    NaN                                                    \n",
       "55   NaN                                                    \n",
       "59   715 Hoomoana St. (corner of Hoomoana & Komo Mai Dr.)   \n",
       "125  NaN                                                    \n",
       "134  NaN                                                    \n",
       "206  corner Ilalo & Ahui Sts.                               \n",
       "\n",
       "                                                       col3 col8 col9  \n",
       "0    Edith Ramiscal                                          NaN  NaN  \n",
       "55   First Wednesdays                                        NaN  NaN  \n",
       "59   Pearl City, HI  96782                                   NaN  NaN  \n",
       "125  1st & 3rd Wednesdays                                    NaN  NaN  \n",
       "134  Matilda Adams at the site                               NaN  NaN  \n",
       "206  Friday: 4:30 PM - 8:00 PM; Saturday: 9:00 AM - 2:00 PM  NaN  NaN  "
      ]
     },
     "execution_count": 43,
     "metadata": {},
     "output_type": "execute_result"
    }
   ],
   "source": [
    "data[(data['col3'] == 'Edith Ramiscal') |\n",
    "     (data['col3'] == 'First Wednesdays') |\n",
    "     (data['col3'] == 'Pearl City, HI  96782') |\n",
    "     (data['col3'] == '1st & 3rd Wednesdays') |\n",
    "     (data['col3'] == 'Matilda Adams at the site') |\n",
    "     (data['col3'] == 'Friday: 4:30 PM - 8:00 PM; Saturday: 9:00 AM - 2:00 PM')]"
   ]
  },
  {
   "cell_type": "markdown",
   "metadata": {},
   "source": [
    "I will clean this column instead of dropping it."
   ]
  },
  {
   "cell_type": "code",
   "execution_count": 44,
   "metadata": {},
   "outputs": [],
   "source": [
    "data['col3'] = np.where((data['col3'] == 'Edith Ramiscal') |\n",
    "                        (data['col3'] == 'First Wednesdays') |\n",
    "                        (data['col3'] == 'Pearl City, HI  96782') |\n",
    "                        (data['col3'] == '1st & 3rd Wednesdays') |\n",
    "                        (data['col3'] == 'Matilda Adams at the site') |\n",
    "                        (data['col3'] == 'Friday: 4:30 PM - 8:00 PM; Saturday: 9:00 AM - 2:00 PM'),\n",
    "                        data['col3'], np.nan)"
   ]
  },
  {
   "cell_type": "code",
   "execution_count": 45,
   "metadata": {},
   "outputs": [
    {
     "data": {
      "text/plain": [
       "array(['Edith Ramiscal', 'First Wednesdays', 'Pearl City, HI  96782',\n",
       "       '1st & 3rd Wednesdays', 'Matilda Adams at the site',\n",
       "       'Friday: 4:30 PM - 8:00 PM; Saturday: 9:00 AM - 2:00 PM'],\n",
       "      dtype=object)"
      ]
     },
     "execution_count": 45,
     "metadata": {},
     "output_type": "execute_result"
    }
   ],
   "source": [
    "data[data['col3'].notna()]['col3'].unique()"
   ]
  },
  {
   "cell_type": "markdown",
   "metadata": {},
   "source": [
    "Let's see if we can move these data to other columns."
   ]
  },
  {
   "cell_type": "code",
   "execution_count": 46,
   "metadata": {},
   "outputs": [
    {
     "data": {
      "text/html": [
       "<div>\n",
       "<style scoped>\n",
       "    .dataframe tbody tr th:only-of-type {\n",
       "        vertical-align: middle;\n",
       "    }\n",
       "\n",
       "    .dataframe tbody tr th {\n",
       "        vertical-align: top;\n",
       "    }\n",
       "\n",
       "    .dataframe thead th {\n",
       "        text-align: right;\n",
       "    }\n",
       "</style>\n",
       "<table border=\"1\" class=\"dataframe\">\n",
       "  <thead>\n",
       "    <tr style=\"text-align: right;\">\n",
       "      <th></th>\n",
       "      <th>col1</th>\n",
       "      <th>col2</th>\n",
       "      <th>col3</th>\n",
       "    </tr>\n",
       "  </thead>\n",
       "  <tbody>\n",
       "    <tr>\n",
       "      <td>0</td>\n",
       "      <td>Waialua Sugar Mill</td>\n",
       "      <td>NaN</td>\n",
       "      <td>Edith Ramiscal</td>\n",
       "    </tr>\n",
       "    <tr>\n",
       "      <td>55</td>\n",
       "      <td>1301 Punchbowl Street, Honolulu</td>\n",
       "      <td>NaN</td>\n",
       "      <td>First Wednesdays</td>\n",
       "    </tr>\n",
       "    <tr>\n",
       "      <td>59</td>\n",
       "      <td>Momilani Community Center</td>\n",
       "      <td>715 Hoomoana St. (corner of Hoomoana &amp; Komo Mai Dr.)</td>\n",
       "      <td>Pearl City, HI  96782</td>\n",
       "    </tr>\n",
       "    <tr>\n",
       "      <td>125</td>\n",
       "      <td>1100 Ward Ave., Honolulu (across from Thomas Square)</td>\n",
       "      <td>NaN</td>\n",
       "      <td>1st &amp; 3rd Wednesdays</td>\n",
       "    </tr>\n",
       "    <tr>\n",
       "      <td>134</td>\n",
       "      <td>Papalina Road off Kaumualii, Kalaheo</td>\n",
       "      <td>NaN</td>\n",
       "      <td>Matilda Adams at the site</td>\n",
       "    </tr>\n",
       "    <tr>\n",
       "      <td>206</td>\n",
       "      <td>one block makai of Ala Moana Blvd. &amp; Ward Ave.</td>\n",
       "      <td>corner Ilalo &amp; Ahui Sts.</td>\n",
       "      <td>Friday: 4:30 PM - 8:00 PM; Saturday: 9:00 AM - 2:00 PM</td>\n",
       "    </tr>\n",
       "  </tbody>\n",
       "</table>\n",
       "</div>"
      ],
      "text/plain": [
       "                                                     col1  \\\n",
       "0    Waialua Sugar Mill                                     \n",
       "55   1301 Punchbowl Street, Honolulu                        \n",
       "59   Momilani Community Center                              \n",
       "125  1100 Ward Ave., Honolulu (across from Thomas Square)   \n",
       "134  Papalina Road off Kaumualii, Kalaheo                   \n",
       "206  one block makai of Ala Moana Blvd. & Ward Ave.         \n",
       "\n",
       "                                                     col2  \\\n",
       "0    NaN                                                    \n",
       "55   NaN                                                    \n",
       "59   715 Hoomoana St. (corner of Hoomoana & Komo Mai Dr.)   \n",
       "125  NaN                                                    \n",
       "134  NaN                                                    \n",
       "206  corner Ilalo & Ahui Sts.                               \n",
       "\n",
       "                                                       col3  \n",
       "0    Edith Ramiscal                                          \n",
       "55   First Wednesdays                                        \n",
       "59   Pearl City, HI  96782                                   \n",
       "125  1st & 3rd Wednesdays                                    \n",
       "134  Matilda Adams at the site                               \n",
       "206  Friday: 4:30 PM - 8:00 PM; Saturday: 9:00 AM - 2:00 PM  "
      ]
     },
     "execution_count": 46,
     "metadata": {},
     "output_type": "execute_result"
    }
   ],
   "source": [
    "data[data['col3'].notna()][['col1','col2','col3']]"
   ]
  },
  {
   "cell_type": "markdown",
   "metadata": {},
   "source": [
    "I'll move location information in col3 to col2 and keep schedule information only in col3."
   ]
  },
  {
   "cell_type": "code",
   "execution_count": 47,
   "metadata": {},
   "outputs": [],
   "source": [
    "data.loc[0][['col2','col3']] = ['Edith Ramiscal',np.nan]\n",
    "data.loc[59][['col2','col3']] = ['715 Hoomoana St. (corner of Hoomoana & Komo Mai Dr.) Pearl City, HI 96782',np.nan]\n",
    "data.loc[134][['col2','col3']] = ['Matilda Adams at the site',np.nan]"
   ]
  },
  {
   "cell_type": "code",
   "execution_count": 48,
   "metadata": {},
   "outputs": [],
   "source": [
    "data.replace('^\\s*$', np.nan, regex=True, inplace = True)"
   ]
  },
  {
   "cell_type": "markdown",
   "metadata": {},
   "source": [
    "Check col2."
   ]
  },
  {
   "cell_type": "code",
   "execution_count": 49,
   "metadata": {},
   "outputs": [
    {
     "data": {
      "text/plain": [
       "0      Edith Ramiscal                                                           \n",
       "20     :  :                                                                     \n",
       "23     Makapua Center - In front of K-Mart, Kailua-Kona                         \n",
       "46     Kamakee St.                                                              \n",
       "51     Poipu, HI                                                                \n",
       "54     Behind Paniolo Country Inn                                               \n",
       "59     715 Hoomoana St. (corner of Hoomoana & Komo Mai Dr.) Pearl City, HI 96782\n",
       "77     84-4770 Mamalahoa Hwy, Captain Cook                                      \n",
       "79     Kaahumanu Avenue, Kahului                                                \n",
       "93     Agent Juanita Kawamoto, Farm Fresh Hawaii                                \n",
       "109    68-3625 Paniolo Ave., Waikoloa                                           \n",
       "110    Every Wednesday                                                          \n",
       "113    Noon                                                                     \n",
       "116    All day                                                                  \n",
       "117     Every Sunday                                                            \n",
       "119    511 Lunalilo Home Road                                                   \n",
       "127    17-995 Volcano Rd. (Between Mile Markers 12 & 13)                        \n",
       "133    (Across from 7-11)                                                       \n",
       "134    Matilda Adams at the site                                                \n",
       "137    2nd and 4th Tuesday of each month                                        \n",
       "147    2313 Nuuanu Avenue, Honolulu                                             \n",
       "150    Pukalani Longs Drugs at Kulamalu                                         \n",
       "151    Makapua Center - In front of K-Mart, Kailua-Kona                         \n",
       "152    PO Box 822, Hanalei, HI                                                  \n",
       "198    84-4770 Mamalahoa Hwy, Captain Cook                                      \n",
       "202    85-251 Farrington Highway, Waianae                                       \n",
       "206    corner Ilalo & Ahui Sts.                                                 \n",
       "Name: col2, dtype: object"
      ]
     },
     "execution_count": 49,
     "metadata": {},
     "output_type": "execute_result"
    }
   ],
   "source": [
    "data[data['col2'].notna()]['col2']"
   ]
  },
  {
   "cell_type": "code",
   "execution_count": 50,
   "metadata": {},
   "outputs": [],
   "source": [
    "data.loc[20]['col2'] = np.nan\n",
    "data['col2'] = data['col2'].str.strip(' ')"
   ]
  },
  {
   "cell_type": "markdown",
   "metadata": {},
   "source": [
    "## Clean up col8 and col9"
   ]
  },
  {
   "cell_type": "code",
   "execution_count": 51,
   "metadata": {
    "scrolled": true
   },
   "outputs": [
    {
     "data": {
      "text/plain": [
       "array([nan, 'Honolulu, HI', '(21.978857825000432, -159.36718896099975)',\n",
       "       'Kaneohe, HI', 'Ewa Beach, HI', 'Pearl City, HI 96782',\n",
       "       'Mililani, HI', 'Makawao, HI 96768', 'Paia, HI 96799',\n",
       "       '(19.496937200000446, -155.92166908399975)', 'Kailua, HI',\n",
       "       '(21.334220008000443, -158.08191927499973)',\n",
       "       '(21.304850435000446, -157.85774940299973)', 'Honolulu, HI 96814',\n",
       "       '(21.58948073400046, -158.10290913599974)', 'Waipahu, HI',\n",
       "       'Lahina, HI 96761', 'Kahului, HI 96732', 'Kihei, HI 96753',\n",
       "       'Honolulu, HI 96822', '(21.396571048000453, -157.74006959799974)',\n",
       "       '(19.690021148000426, -155.06952407299974)', 'Waianae, HI',\n",
       "       'Hana, HI 96713', 'Lihue', 'Kapolei, HI',\n",
       "       '(21.393800202000477, -157.96977976199975)', 'Kailua-Kona',\n",
       "       '(19.49469006600043, -154.94809898999975)',\n",
       "       '(22.201686187000462, -159.50311687099975)',\n",
       "       'Kihei, HI 96753-8801', 'Honolulu, HI 96825',\n",
       "       'Cooper Center, Volcano', 'Kaunakakai, HI 96748', 'Waikoloa',\n",
       "       'Ewa Beach', 'Kalaheo', 'Honolulu, HI 96816',\n",
       "       '(21.385861307000425, -158.00350991899975)', 'Wailuku, HI 96793',\n",
       "       'Waimanalo, HI'], dtype=object)"
      ]
     },
     "execution_count": 51,
     "metadata": {},
     "output_type": "execute_result"
    }
   ],
   "source": [
    "data['col8'].unique()"
   ]
  },
  {
   "cell_type": "markdown",
   "metadata": {},
   "source": [
    "This column has city information as well as the coordinate information"
   ]
  },
  {
   "cell_type": "code",
   "execution_count": 52,
   "metadata": {
    "scrolled": false
   },
   "outputs": [
    {
     "data": {
      "text/plain": [
       "array([nan, '(21.307250002000444, -157.85527925099973)',\n",
       "       '(21.277500376000432, -157.82711977399973)',\n",
       "       '(21.293791309000426, -157.82719811599975)',\n",
       "       '(21.409360657000434, -157.81028953799975)',\n",
       "       '(21.31503419100045, -158.01439823499973)',\n",
       "       '(21.408970034000447, -157.96024986999973)',\n",
       "       '(21.452906795000445, -158.00846980399973)',\n",
       "       '(21.413500808000435, -157.79883930699975)',\n",
       "       '(21.335250464000467, -157.86880934999974)',\n",
       "       '(20.849390600000447, -156.30839892799975)',\n",
       "       '(20.906238207000456, -156.37416925199975)',\n",
       "       '(21.39584092800044, -157.73751944899973)',\n",
       "       '(21.307830753000474, -157.86242916299975)',\n",
       "       '(21.30376089200047, -157.83456927999973)',\n",
       "       '(21.28928015800045, -157.84219969299974)',\n",
       "       '(21.302690421000477, -157.85208973299973)',\n",
       "       '(21.29999544000043, -157.85177574799974)',\n",
       "       '(21.30367101400043, -157.83730940699974)',\n",
       "       '(21.40006058600045, -158.00463924399975)',\n",
       "       '(20.822089506000452, -156.33009308199973)',\n",
       "       '(20.917090441000425, -156.68139921299974)',\n",
       "       '(20.892510160000427, -156.46427968799975)',\n",
       "       '(20.747920615000453, -156.45249990599973)',\n",
       "       '(21.34594295700043, -157.90491127999974)',\n",
       "       '(21.313510263000467, -157.81033479899975)',\n",
       "       '(21.300129225000433, -157.85790736199974)',\n",
       "       '(21.31354031200044, -158.00906976999974)',\n",
       "       '(20.881122485000446, -156.47201774299972)',\n",
       "       '(21.30303034500048, -157.84976903599974)',\n",
       "       '(21.44185853600044, -158.18862608699973)',\n",
       "       '(20.868329790000473, -156.34021118699974)',\n",
       "       '(20.64924257700045, -156.06698936499973)',\n",
       "       '(21.304850435000446, -157.85774940299973)',\n",
       "       '(21.967180168000425, -159.36190806199974)',\n",
       "       '(21.27717082300046, -157.82522887899975)',\n",
       "       '(21.333890771000426, -158.06702957399975)',\n",
       "       '(19.61399064100044, -155.98165889099974)',\n",
       "       '(21.440746715000444, -158.01797200199974)',\n",
       "       '(21.42064035000044, -157.80338967099974)',\n",
       "       '(20.80699101600044, -156.09087728399973)',\n",
       "       '(21.316240109000432, -157.87050896699975)',\n",
       "       '(21.307510418000447, -157.80973989899974)',\n",
       "       '(20.88888047000046, -156.47681997699974)',\n",
       "       '(20.781950970000423, -156.46301909199974)',\n",
       "       '(21.284702499000446, -157.71043000699973)',\n",
       "       '(21.28424007500047, -157.71158963799974)',\n",
       "       '(21.286071053000455, -157.69769887499973)',\n",
       "       '(21.09017112200047, -157.02199661599974)',\n",
       "       '(19.942734768000435, -155.79099041899974)',\n",
       "       '(21.90751165800043, -159.51190744899975)',\n",
       "       '(21.38803075800047, -157.99936985699975)',\n",
       "       '(21.26960032800048, -157.80306933599974)',\n",
       "       '(21.455940520000468, -158.19946945199973)',\n",
       "       '(21.326480443000435, -157.84731928399975)',\n",
       "       '(20.85027094500043, -156.50449895199975)',\n",
       "       '(21.30061055100043, -157.79599893199975)',\n",
       "       '(21.329640001000428, -157.69172889999973)'], dtype=object)"
      ]
     },
     "execution_count": 52,
     "metadata": {},
     "output_type": "execute_result"
    }
   ],
   "source": [
    "data['col9'].unique()"
   ]
  },
  {
   "cell_type": "markdown",
   "metadata": {},
   "source": [
    "This one has coordinate only. I'll move coordinate from col8 to col9"
   ]
  },
  {
   "cell_type": "code",
   "execution_count": 53,
   "metadata": {},
   "outputs": [],
   "source": [
    "data['col9'] = np.where(data['col9'].isna() &\n",
    "                        data['col8'].str.contains('\\(\\d+\\.\\d+\\, \\-\\d+\\d.\\d+\\)',na=False),\n",
    "                        data['col8'].str.findall('\\(\\d+\\.\\d+\\, \\-\\d+\\d.\\d+\\)').str[0],\n",
    "                        data['col9'])\n",
    "data['col8'] = np.where(data['col8'].str.contains('\\(\\d+\\.\\d+\\, \\-\\d+\\d.\\d+\\)',na=False),\n",
    "                        np.nan, data['col8'])"
   ]
  },
  {
   "cell_type": "code",
   "execution_count": 54,
   "metadata": {},
   "outputs": [],
   "source": [
    "#Export csv file\n",
    "data.to_csv('01out', index=False)"
   ]
  }
 ],
 "metadata": {
  "kernelspec": {
   "display_name": "Python 3",
   "language": "python",
   "name": "python3"
  },
  "language_info": {
   "codemirror_mode": {
    "name": "ipython",
    "version": 3
   },
   "file_extension": ".py",
   "mimetype": "text/x-python",
   "name": "python",
   "nbconvert_exporter": "python",
   "pygments_lexer": "ipython3",
   "version": "3.7.4"
  }
 },
 "nbformat": 4,
 "nbformat_minor": 2
}
