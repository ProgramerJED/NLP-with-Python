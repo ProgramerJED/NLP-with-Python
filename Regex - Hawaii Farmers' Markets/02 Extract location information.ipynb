{
 "cells": [
  {
   "cell_type": "markdown",
   "metadata": {},
   "source": [
    "# Extract location information\n",
    "In this part, I will extract street address and city information. My purpose is to extract as much information as possible, so that I can group by these rows by market name and make it easier to detect duplicates."
   ]
  },
  {
   "cell_type": "markdown",
   "metadata": {},
   "source": [
    "## Import"
   ]
  },
  {
   "cell_type": "code",
   "execution_count": 1,
   "metadata": {},
   "outputs": [],
   "source": [
    "import pandas as pd\n",
    "import numpy as np\n",
    "import seaborn as sns\n",
    "%matplotlib inline\n",
    "\n",
    "pd.set_option('display.max_colwidth',-1)\n",
    "pd.set_option('display.max_rows', None)\n",
    "pd.set_option('display.max_columns', None)"
   ]
  },
  {
   "cell_type": "markdown",
   "metadata": {},
   "source": [
    "## Load in data from part 01"
   ]
  },
  {
   "cell_type": "code",
   "execution_count": 2,
   "metadata": {
    "scrolled": false
   },
   "outputs": [
    {
     "data": {
      "text/html": [
       "<div>\n",
       "<style scoped>\n",
       "    .dataframe tbody tr th:only-of-type {\n",
       "        vertical-align: middle;\n",
       "    }\n",
       "\n",
       "    .dataframe tbody tr th {\n",
       "        vertical-align: top;\n",
       "    }\n",
       "\n",
       "    .dataframe thead th {\n",
       "        text-align: right;\n",
       "    }\n",
       "</style>\n",
       "<table border=\"1\" class=\"dataframe\">\n",
       "  <thead>\n",
       "    <tr style=\"text-align: right;\">\n",
       "      <th></th>\n",
       "      <th>Name</th>\n",
       "      <th>Sunday</th>\n",
       "      <th>Monday</th>\n",
       "      <th>Tuesday</th>\n",
       "      <th>Wednesday</th>\n",
       "      <th>Thursday</th>\n",
       "      <th>Friday</th>\n",
       "      <th>Saturday</th>\n",
       "      <th>Time</th>\n",
       "      <th>Location</th>\n",
       "      <th>Location Info</th>\n",
       "      <th>Island</th>\n",
       "      <th>Website</th>\n",
       "      <th>Contact</th>\n",
       "      <th>Phone</th>\n",
       "      <th>Email</th>\n",
       "      <th>col1</th>\n",
       "      <th>col2</th>\n",
       "      <th>col3</th>\n",
       "      <th>col8</th>\n",
       "      <th>col9</th>\n",
       "    </tr>\n",
       "  </thead>\n",
       "  <tbody>\n",
       "    <tr>\n",
       "      <td>0</td>\n",
       "      <td>Waialua Farmers' Market</td>\n",
       "      <td>NaN</td>\n",
       "      <td>NaN</td>\n",
       "      <td>NaN</td>\n",
       "      <td>NaN</td>\n",
       "      <td>NaN</td>\n",
       "      <td>NaN</td>\n",
       "      <td>X</td>\n",
       "      <td>8:30 AM to 12:00 PM</td>\n",
       "      <td>NaN</td>\n",
       "      <td>NaN</td>\n",
       "      <td>NaN</td>\n",
       "      <td>NaN</td>\n",
       "      <td>NaN</td>\n",
       "      <td>NaN</td>\n",
       "      <td>info@sugarmillhawaii.com</td>\n",
       "      <td>Waialua Sugar Mill</td>\n",
       "      <td>Edith Ramiscal</td>\n",
       "      <td>NaN</td>\n",
       "      <td>NaN</td>\n",
       "      <td>NaN</td>\n",
       "    </tr>\n",
       "    <tr>\n",
       "      <td>1</td>\n",
       "      <td>Kekaha Neighborhood Center (Sunshine Markets)</td>\n",
       "      <td>NaN</td>\n",
       "      <td>NaN</td>\n",
       "      <td>NaN</td>\n",
       "      <td>NaN</td>\n",
       "      <td>NaN</td>\n",
       "      <td>NaN</td>\n",
       "      <td>X</td>\n",
       "      <td>9:00 AM</td>\n",
       "      <td>NaN</td>\n",
       "      <td>NaN</td>\n",
       "      <td>NaN</td>\n",
       "      <td>NaN</td>\n",
       "      <td>Cora Asuncion</td>\n",
       "      <td>(808) 742-1834</td>\n",
       "      <td>NaN</td>\n",
       "      <td>Elepaio Road, Kekaha</td>\n",
       "      <td>NaN</td>\n",
       "      <td>NaN</td>\n",
       "      <td>NaN</td>\n",
       "      <td>NaN</td>\n",
       "    </tr>\n",
       "    <tr>\n",
       "      <td>2</td>\n",
       "      <td>Hali'imaile Farmers' Market</td>\n",
       "      <td>NaN</td>\n",
       "      <td>NaN</td>\n",
       "      <td>NaN</td>\n",
       "      <td>NaN</td>\n",
       "      <td>NaN</td>\n",
       "      <td>X</td>\n",
       "      <td>NaN</td>\n",
       "      <td>1:00 PM to 6:00 PM</td>\n",
       "      <td>NaN</td>\n",
       "      <td>NaN</td>\n",
       "      <td>NaN</td>\n",
       "      <td>NaN</td>\n",
       "      <td>NaN</td>\n",
       "      <td>NaN</td>\n",
       "      <td>NaN</td>\n",
       "      <td>Hali'imaile Town Center (in a former Maui Pineapple Co. parking lot next to Hali'imaile General Store)</td>\n",
       "      <td>NaN</td>\n",
       "      <td>NaN</td>\n",
       "      <td>NaN</td>\n",
       "      <td>NaN</td>\n",
       "    </tr>\n",
       "    <tr>\n",
       "      <td>3</td>\n",
       "      <td>Mahiku Farmers' Market</td>\n",
       "      <td>NaN</td>\n",
       "      <td>NaN</td>\n",
       "      <td>NaN</td>\n",
       "      <td>NaN</td>\n",
       "      <td>X</td>\n",
       "      <td>NaN</td>\n",
       "      <td>NaN</td>\n",
       "      <td>4:00 PM to 8:00 PM</td>\n",
       "      <td>NaN</td>\n",
       "      <td>NaN</td>\n",
       "      <td>NaN</td>\n",
       "      <td>www.mahikufarmersmarket.com</td>\n",
       "      <td>Sonny Doung</td>\n",
       "      <td>(808) 225-4002</td>\n",
       "      <td>sonnydoung@hotmail.com</td>\n",
       "      <td>International Market Place-Waikiki (near the Food Court)</td>\n",
       "      <td>NaN</td>\n",
       "      <td>NaN</td>\n",
       "      <td>NaN</td>\n",
       "      <td>NaN</td>\n",
       "    </tr>\n",
       "    <tr>\n",
       "      <td>4</td>\n",
       "      <td>Country Market &amp; Craft Fair at Waimanalo Homestead Community Center</td>\n",
       "      <td>X</td>\n",
       "      <td>NaN</td>\n",
       "      <td>NaN</td>\n",
       "      <td>NaN</td>\n",
       "      <td>NaN</td>\n",
       "      <td>NaN</td>\n",
       "      <td>NaN</td>\n",
       "      <td>9:00 AM to 4:00 PM</td>\n",
       "      <td>1330 Kalanianaole Hwy., HI</td>\n",
       "      <td>Waimanalo Homestead Community Center</td>\n",
       "      <td>Oahu</td>\n",
       "      <td>NaN</td>\n",
       "      <td>Paul Richard</td>\n",
       "      <td>(808) 259-8611, (808) 284-2575</td>\n",
       "      <td>NaN</td>\n",
       "      <td>NaN</td>\n",
       "      <td>NaN</td>\n",
       "      <td>NaN</td>\n",
       "      <td>NaN</td>\n",
       "      <td>NaN</td>\n",
       "    </tr>\n",
       "  </tbody>\n",
       "</table>\n",
       "</div>"
      ],
      "text/plain": [
       "                                                                  Name Sunday  \\\n",
       "0  Waialua Farmers' Market                                              NaN     \n",
       "1  Kekaha Neighborhood Center (Sunshine Markets)                        NaN     \n",
       "2  Hali'imaile Farmers' Market                                          NaN     \n",
       "3  Mahiku Farmers' Market                                               NaN     \n",
       "4  Country Market & Craft Fair at Waimanalo Homestead Community Center  X       \n",
       "\n",
       "  Monday Tuesday Wednesday Thursday Friday Saturday                 Time  \\\n",
       "0  NaN    NaN     NaN       NaN      NaN    X        8:30 AM to 12:00 PM   \n",
       "1  NaN    NaN     NaN       NaN      NaN    X        9:00 AM               \n",
       "2  NaN    NaN     NaN       NaN      X      NaN      1:00 PM to 6:00 PM    \n",
       "3  NaN    NaN     NaN       X        NaN    NaN      4:00 PM to 8:00 PM    \n",
       "4  NaN    NaN     NaN       NaN      NaN    NaN      9:00 AM to 4:00 PM    \n",
       "\n",
       "                     Location                         Location Info Island  \\\n",
       "0  NaN                         NaN                                   NaN     \n",
       "1  NaN                         NaN                                   NaN     \n",
       "2  NaN                         NaN                                   NaN     \n",
       "3  NaN                         NaN                                   NaN     \n",
       "4  1330 Kalanianaole Hwy., HI  Waimanalo Homestead Community Center  Oahu    \n",
       "\n",
       "                       Website        Contact                           Phone  \\\n",
       "0  NaN                          NaN            NaN                              \n",
       "1  NaN                          Cora Asuncion  (808) 742-1834                   \n",
       "2  NaN                          NaN            NaN                              \n",
       "3  www.mahikufarmersmarket.com  Sonny Doung    (808) 225-4002                   \n",
       "4  NaN                          Paul Richard   (808) 259-8611, (808) 284-2575   \n",
       "\n",
       "                      Email  \\\n",
       "0  info@sugarmillhawaii.com   \n",
       "1  NaN                        \n",
       "2  NaN                        \n",
       "3  sonnydoung@hotmail.com     \n",
       "4  NaN                        \n",
       "\n",
       "                                                                                                     col1  \\\n",
       "0  Waialua Sugar Mill                                                                                       \n",
       "1  Elepaio Road, Kekaha                                                                                     \n",
       "2  Hali'imaile Town Center (in a former Maui Pineapple Co. parking lot next to Hali'imaile General Store)   \n",
       "3  International Market Place-Waikiki (near the Food Court)                                                 \n",
       "4  NaN                                                                                                      \n",
       "\n",
       "             col2 col3 col8 col9  \n",
       "0  Edith Ramiscal  NaN  NaN  NaN  \n",
       "1  NaN             NaN  NaN  NaN  \n",
       "2  NaN             NaN  NaN  NaN  \n",
       "3  NaN             NaN  NaN  NaN  \n",
       "4  NaN             NaN  NaN  NaN  "
      ]
     },
     "execution_count": 2,
     "metadata": {},
     "output_type": "execute_result"
    }
   ],
   "source": [
    "data = pd.read_csv('01out')\n",
    "data.head()"
   ]
  },
  {
   "cell_type": "code",
   "execution_count": 3,
   "metadata": {},
   "outputs": [
    {
     "data": {
      "text/plain": [
       "<matplotlib.axes._subplots.AxesSubplot at 0x237892ef308>"
      ]
     },
     "execution_count": 3,
     "metadata": {},
     "output_type": "execute_result"
    },
    {
     "data": {
      "image/png": "[encoded data removed]",
      "text/plain": [
       "<Figure size 432x288 with 1 Axes>"
      ]
     },
     "metadata": {
      "needs_background": "light"
     },
     "output_type": "display_data"
    }
   ],
   "source": [
    "sns.heatmap(data.isna(), cmap='viridis', cbar=False, yticklabels=False)"
   ]
  },
  {
   "cell_type": "code",
   "execution_count": 4,
   "metadata": {
    "scrolled": true
   },
   "outputs": [
    {
     "data": {
      "text/plain": [
       "array([nan, 'First Wednesdays', '1st & 3rd Wednesdays',\n",
       "       'Friday: 4:30 PM - 8:00 PM; Saturday: 9:00 AM - 2:00 PM'],\n",
       "      dtype=object)"
      ]
     },
     "execution_count": 4,
     "metadata": {},
     "output_type": "execute_result"
    }
   ],
   "source": [
    "#Check unique values in col3\n",
    "data['col3'].unique()"
   ]
  },
  {
   "cell_type": "markdown",
   "metadata": {},
   "source": [
    "Schedule information will contain weekdays, so I will check which columns have weekdays."
   ]
  },
  {
   "cell_type": "code",
   "execution_count": 5,
   "metadata": {},
   "outputs": [
    {
     "name": "stdout",
     "output_type": "stream",
     "text": [
      "Columns which might have weekday information:\n",
      "Location Info\n",
      "col1\n",
      "col2\n",
      "col3\n"
     ]
    }
   ],
   "source": [
    "#Print column names that might have schedule information\n",
    "print('Columns which might have weekday information:')\n",
    "for col in data[['Location','Location Info','col1','col2','col3','col8','col9']]:\n",
    "    if (data[col].str.contains('(?:\\d{1,2}(?:st|nd|rd|th))?'     \\\n",
    "                               '(?:Sun|Mon|Tues|Wed|Thu|Fri|Sat)')).any() == True:\n",
    "        print(col)"
   ]
  },
  {
   "cell_type": "markdown",
   "metadata": {},
   "source": [
    "## Schedule and Time\n",
    "Let's check each column to make sure that we have right information."
   ]
  },
  {
   "cell_type": "code",
   "execution_count": 6,
   "metadata": {
    "scrolled": true
   },
   "outputs": [
    {
     "data": {
      "text/html": [
       "<div>\n",
       "<style scoped>\n",
       "    .dataframe tbody tr th:only-of-type {\n",
       "        vertical-align: middle;\n",
       "    }\n",
       "\n",
       "    .dataframe tbody tr th {\n",
       "        vertical-align: top;\n",
       "    }\n",
       "\n",
       "    .dataframe thead th {\n",
       "        text-align: right;\n",
       "    }\n",
       "</style>\n",
       "<table border=\"1\" class=\"dataframe\">\n",
       "  <thead>\n",
       "    <tr style=\"text-align: right;\">\n",
       "      <th></th>\n",
       "      <th>Location Info</th>\n",
       "      <th>col3</th>\n",
       "    </tr>\n",
       "  </thead>\n",
       "  <tbody>\n",
       "    <tr>\n",
       "      <td>6</td>\n",
       "      <td>First Wednesdays</td>\n",
       "      <td>NaN</td>\n",
       "    </tr>\n",
       "    <tr>\n",
       "      <td>35</td>\n",
       "      <td>2nd &amp; 4th Tuesdays</td>\n",
       "      <td>NaN</td>\n",
       "    </tr>\n",
       "    <tr>\n",
       "      <td>40</td>\n",
       "      <td>2nd and 4th Tuesday of each month</td>\n",
       "      <td>NaN</td>\n",
       "    </tr>\n",
       "    <tr>\n",
       "      <td>55</td>\n",
       "      <td>1st Wed.</td>\n",
       "      <td>First Wednesdays</td>\n",
       "    </tr>\n",
       "    <tr>\n",
       "      <td>102</td>\n",
       "      <td>1st &amp; 3rd Wednesdays, across from Thomas Square</td>\n",
       "      <td>NaN</td>\n",
       "    </tr>\n",
       "    <tr>\n",
       "      <td>105</td>\n",
       "      <td>2nd &amp; 4th Tuesdays</td>\n",
       "      <td>NaN</td>\n",
       "    </tr>\n",
       "    <tr>\n",
       "      <td>173</td>\n",
       "      <td>Monsarrat and Paki Street</td>\n",
       "      <td>NaN</td>\n",
       "    </tr>\n",
       "  </tbody>\n",
       "</table>\n",
       "</div>"
      ],
      "text/plain": [
       "                                       Location Info              col3\n",
       "6    First Wednesdays                                 NaN             \n",
       "35   2nd & 4th Tuesdays                               NaN             \n",
       "40   2nd and 4th Tuesday of each month                NaN             \n",
       "55   1st Wed.                                         First Wednesdays\n",
       "102  1st & 3rd Wednesdays, across from Thomas Square  NaN             \n",
       "105  2nd & 4th Tuesdays                               NaN             \n",
       "173  Monsarrat and Paki Street                        NaN             "
      ]
     },
     "execution_count": 6,
     "metadata": {},
     "output_type": "execute_result"
    }
   ],
   "source": [
    "data[data['Location Info'].str.contains('(?:\\d{1,2}(?:st|nd|rd|th))?'     \\\n",
    "                                        '(?:Sun|Mon|Tues|Wed|Thu|Fri|Sat)',na=False)][['Location Info','col3']]"
   ]
  },
  {
   "cell_type": "code",
   "execution_count": 7,
   "metadata": {},
   "outputs": [],
   "source": [
    "#Replace col3 with schedule information\n",
    "data.loc[6][['Location Info','col3']] = [np.nan,'1st Wednesdays']\n",
    "data.loc[35][['Location Info','col3']] = [np.nan,'2nd and 4th Tuesdays']\n",
    "data.loc[40][['Location Info','col3']] = [np.nan,'2nd and 4th Tuesdays']\n",
    "data.loc[55][['Location Info','col3']] = [np.nan,'1st Wednesdays']\n",
    "data.loc[102][['Location Info','col3']] = [np.nan,'1st and 3rd Wednesdays']\n",
    "data.loc[105][['Location Info','col3']] = [np.nan,'2nd and 4th Tuesdays']"
   ]
  },
  {
   "cell_type": "code",
   "execution_count": 8,
   "metadata": {},
   "outputs": [
    {
     "data": {
      "text/html": [
       "<div>\n",
       "<style scoped>\n",
       "    .dataframe tbody tr th:only-of-type {\n",
       "        vertical-align: middle;\n",
       "    }\n",
       "\n",
       "    .dataframe tbody tr th {\n",
       "        vertical-align: top;\n",
       "    }\n",
       "\n",
       "    .dataframe thead th {\n",
       "        text-align: right;\n",
       "    }\n",
       "</style>\n",
       "<table border=\"1\" class=\"dataframe\">\n",
       "  <thead>\n",
       "    <tr style=\"text-align: right;\">\n",
       "      <th></th>\n",
       "      <th>col1</th>\n",
       "      <th>col3</th>\n",
       "    </tr>\n",
       "  </thead>\n",
       "  <tbody>\n",
       "    <tr>\n",
       "      <td>20</td>\n",
       "      <td>2nd Saturday of the month from 9:00 AM to 1:00 PM</td>\n",
       "      <td>NaN</td>\n",
       "    </tr>\n",
       "    <tr>\n",
       "      <td>49</td>\n",
       "      <td>Monsarrat and Paki Street, Honolulu</td>\n",
       "      <td>NaN</td>\n",
       "    </tr>\n",
       "    <tr>\n",
       "      <td>215</td>\n",
       "      <td>Sunset Beach Elementary School, Haleiwa</td>\n",
       "      <td>NaN</td>\n",
       "    </tr>\n",
       "  </tbody>\n",
       "</table>\n",
       "</div>"
      ],
      "text/plain": [
       "                                                  col1 col3\n",
       "20   2nd Saturday of the month from 9:00 AM to 1:00 PM  NaN\n",
       "49   Monsarrat and Paki Street, Honolulu                NaN\n",
       "215  Sunset Beach Elementary School, Haleiwa            NaN"
      ]
     },
     "execution_count": 8,
     "metadata": {},
     "output_type": "execute_result"
    }
   ],
   "source": [
    "data[data['col1'].str.contains('(?:\\d{1,2}(?:st|nd|rd|th))?'     \\\n",
    "                               '(?:Sun|Mon|Tues|Wed|Thu|Fri|Sat)',na=False)][['col1','col3']]"
   ]
  },
  {
   "cell_type": "markdown",
   "metadata": {},
   "source": [
    "Only replace col3 with schedule information"
   ]
  },
  {
   "cell_type": "code",
   "execution_count": 9,
   "metadata": {},
   "outputs": [],
   "source": [
    "data.loc[20][['col1','col3']] = [np.nan,'2nd Saturdays']"
   ]
  },
  {
   "cell_type": "code",
   "execution_count": 10,
   "metadata": {},
   "outputs": [
    {
     "data": {
      "text/html": [
       "<div>\n",
       "<style scoped>\n",
       "    .dataframe tbody tr th:only-of-type {\n",
       "        vertical-align: middle;\n",
       "    }\n",
       "\n",
       "    .dataframe tbody tr th {\n",
       "        vertical-align: top;\n",
       "    }\n",
       "\n",
       "    .dataframe thead th {\n",
       "        text-align: right;\n",
       "    }\n",
       "</style>\n",
       "<table border=\"1\" class=\"dataframe\">\n",
       "  <thead>\n",
       "    <tr style=\"text-align: right;\">\n",
       "      <th></th>\n",
       "      <th>col2</th>\n",
       "      <th>col3</th>\n",
       "    </tr>\n",
       "  </thead>\n",
       "  <tbody>\n",
       "    <tr>\n",
       "      <td>110</td>\n",
       "      <td>Every Wednesday</td>\n",
       "      <td>NaN</td>\n",
       "    </tr>\n",
       "    <tr>\n",
       "      <td>117</td>\n",
       "      <td>Every Sunday</td>\n",
       "      <td>NaN</td>\n",
       "    </tr>\n",
       "    <tr>\n",
       "      <td>137</td>\n",
       "      <td>2nd and 4th Tuesday of each month</td>\n",
       "      <td>NaN</td>\n",
       "    </tr>\n",
       "  </tbody>\n",
       "</table>\n",
       "</div>"
      ],
      "text/plain": [
       "                                  col2 col3\n",
       "110  Every Wednesday                    NaN\n",
       "117  Every Sunday                       NaN\n",
       "137  2nd and 4th Tuesday of each month  NaN"
      ]
     },
     "execution_count": 10,
     "metadata": {},
     "output_type": "execute_result"
    }
   ],
   "source": [
    "data[data['col2'].str.contains('(?:\\d{1,2}(?:st|nd|rd|th))?'     \\\n",
    "                               '(?:Sun|Mon|Tues|Wed|Thu|Fri|Sat)',na=False)][['col2','col3']]"
   ]
  },
  {
   "cell_type": "code",
   "execution_count": 11,
   "metadata": {},
   "outputs": [],
   "source": [
    "data.loc[110][['col2','col3']] = [np.nan,'Every Wednesday']\n",
    "data.loc[117][['col2','col3']] = [np.nan,'Every Sunday']\n",
    "data.loc[137][['col2','col3']] = [np.nan,'2nd and 4th Tuesdays']"
   ]
  },
  {
   "cell_type": "code",
   "execution_count": 12,
   "metadata": {},
   "outputs": [
    {
     "data": {
      "text/plain": [
       "6      1st Wednesdays                                        \n",
       "20     2nd Saturdays                                         \n",
       "35     2nd and 4th Tuesdays                                  \n",
       "40     2nd and 4th Tuesdays                                  \n",
       "55     1st Wednesdays                                        \n",
       "102    1st and 3rd Wednesdays                                \n",
       "105    2nd and 4th Tuesdays                                  \n",
       "110    Every Wednesday                                       \n",
       "117    Every Sunday                                          \n",
       "125    1st & 3rd Wednesdays                                  \n",
       "137    2nd and 4th Tuesdays                                  \n",
       "206    Friday: 4:30 PM - 8:00 PM; Saturday: 9:00 AM - 2:00 PM\n",
       "Name: col3, dtype: object"
      ]
     },
     "execution_count": 12,
     "metadata": {},
     "output_type": "execute_result"
    }
   ],
   "source": [
    "data[data['col3'].str.contains('(?:\\d{1,2}(?:st|nd|rd|th))?'     \\\n",
    "                               '(?:Sun|Mon|Tues|Wed|Thu|Fri|Sat)',na=False)]['col3']"
   ]
  },
  {
   "cell_type": "code",
   "execution_count": 13,
   "metadata": {},
   "outputs": [],
   "source": [
    "data.loc[125]['col3'] = '1st and 3rd Wednesdays'"
   ]
  },
  {
   "cell_type": "markdown",
   "metadata": {},
   "source": [
    "Row 206 has different time information for different weekdays, so I would like to see the whole row."
   ]
  },
  {
   "cell_type": "code",
   "execution_count": 14,
   "metadata": {},
   "outputs": [
    {
     "data": {
      "text/plain": [
       "Name             Kaka'ako Makai Community Cultural Marketplace         \n",
       "Sunday           NaN                                                   \n",
       "Monday           NaN                                                   \n",
       "Tuesday          NaN                                                   \n",
       "Wednesday        NaN                                                   \n",
       "Thursday         NaN                                                   \n",
       "Friday           X                                                     \n",
       "Saturday         X                                                     \n",
       "Time             9:00 AM to 2:00 PM, 4:30 PM to 8:00 PM                \n",
       "Location         NaN                                                   \n",
       "Location Info    NaN                                                   \n",
       "Island           NaN                                                   \n",
       "Website          www.KakaakoMakaiMarket.com                            \n",
       "Contact          NaN                                                   \n",
       "Phone            (808) 330-6224                                        \n",
       "Email            NaN                                                   \n",
       "col1             one block makai of Ala Moana Blvd. & Ward Ave.        \n",
       "col2             corner Ilalo & Ahui Sts.                              \n",
       "col3             Friday: 4:30 PM - 8:00 PM; Saturday: 9:00 AM - 2:00 PM\n",
       "col8             NaN                                                   \n",
       "col9             NaN                                                   \n",
       "Name: 206, dtype: object"
      ]
     },
     "execution_count": 14,
     "metadata": {},
     "output_type": "execute_result"
    }
   ],
   "source": [
    "data.loc[206]"
   ]
  },
  {
   "cell_type": "markdown",
   "metadata": {},
   "source": [
    "So we have check marks for each time and weekdays. Since I don't want to change the time format, I will replace check marks with time."
   ]
  },
  {
   "cell_type": "code",
   "execution_count": 15,
   "metadata": {},
   "outputs": [],
   "source": [
    "for col in data[['Sunday','Monday','Tuesday','Wednesday','Thursday','Friday','Saturday']]:\n",
    "    data[col] = np.where(data[col].notna(), data['Time'], data[col])"
   ]
  },
  {
   "cell_type": "code",
   "execution_count": 16,
   "metadata": {},
   "outputs": [
    {
     "data": {
      "text/html": [
       "<div>\n",
       "<style scoped>\n",
       "    .dataframe tbody tr th:only-of-type {\n",
       "        vertical-align: middle;\n",
       "    }\n",
       "\n",
       "    .dataframe tbody tr th {\n",
       "        vertical-align: top;\n",
       "    }\n",
       "\n",
       "    .dataframe thead th {\n",
       "        text-align: right;\n",
       "    }\n",
       "</style>\n",
       "<table border=\"1\" class=\"dataframe\">\n",
       "  <thead>\n",
       "    <tr style=\"text-align: right;\">\n",
       "      <th></th>\n",
       "      <th>Sunday</th>\n",
       "      <th>Monday</th>\n",
       "      <th>Tuesday</th>\n",
       "      <th>Wednesday</th>\n",
       "      <th>Thursday</th>\n",
       "      <th>Friday</th>\n",
       "      <th>Saturday</th>\n",
       "      <th>Time</th>\n",
       "    </tr>\n",
       "  </thead>\n",
       "  <tbody>\n",
       "    <tr>\n",
       "      <td>206</td>\n",
       "      <td>NaN</td>\n",
       "      <td>NaN</td>\n",
       "      <td>NaN</td>\n",
       "      <td>NaN</td>\n",
       "      <td>NaN</td>\n",
       "      <td>9:00 AM to 2:00 PM, 4:30 PM to 8:00 PM</td>\n",
       "      <td>9:00 AM to 2:00 PM, 4:30 PM to 8:00 PM</td>\n",
       "      <td>9:00 AM to 2:00 PM, 4:30 PM to 8:00 PM</td>\n",
       "    </tr>\n",
       "    <tr>\n",
       "      <td>211</td>\n",
       "      <td>NaN</td>\n",
       "      <td>NaN</td>\n",
       "      <td>4:00 PM, 10:00 AM</td>\n",
       "      <td>4:00 PM, 10:00 AM</td>\n",
       "      <td>4:00 PM, 10:00 AM</td>\n",
       "      <td>4:00 PM, 10:00 AM</td>\n",
       "      <td>4:00 PM, 10:00 AM</td>\n",
       "      <td>4:00 PM, 10:00 AM</td>\n",
       "    </tr>\n",
       "  </tbody>\n",
       "</table>\n",
       "</div>"
      ],
      "text/plain": [
       "    Sunday Monday            Tuesday          Wednesday           Thursday  \\\n",
       "206  NaN    NaN    NaN                NaN                NaN                 \n",
       "211  NaN    NaN    4:00 PM, 10:00 AM  4:00 PM, 10:00 AM  4:00 PM, 10:00 AM   \n",
       "\n",
       "                                     Friday  \\\n",
       "206  9:00 AM to 2:00 PM, 4:30 PM to 8:00 PM   \n",
       "211  4:00 PM, 10:00 AM                        \n",
       "\n",
       "                                   Saturday  \\\n",
       "206  9:00 AM to 2:00 PM, 4:30 PM to 8:00 PM   \n",
       "211  4:00 PM, 10:00 AM                        \n",
       "\n",
       "                                       Time  \n",
       "206  9:00 AM to 2:00 PM, 4:30 PM to 8:00 PM  \n",
       "211  4:00 PM, 10:00 AM                       "
      ]
     },
     "execution_count": 16,
     "metadata": {},
     "output_type": "execute_result"
    }
   ],
   "source": [
    "#Check rows that have more than one time data:\n",
    "data[data['Time'].str.contains(',',na=False)][['Sunday','Monday','Tuesday','Wednesday',\n",
    "                                               'Thursday','Friday','Saturday','Time']]"
   ]
  },
  {
   "cell_type": "code",
   "execution_count": 17,
   "metadata": {},
   "outputs": [],
   "source": [
    "#Correct time and weekdays\n",
    "data.loc[206][['Friday','Saturday']] = ['4:30 PM to 8:00 PM','9:00 AM to 2:00 PM']\n",
    "data.loc[211][['Tuesday','Wednesday','Thursday','Friday','Saturday','Time']] = '10:00 AM to 4:00 PM'"
   ]
  },
  {
   "cell_type": "code",
   "execution_count": 18,
   "metadata": {},
   "outputs": [
    {
     "data": {
      "text/html": [
       "<div>\n",
       "<style scoped>\n",
       "    .dataframe tbody tr th:only-of-type {\n",
       "        vertical-align: middle;\n",
       "    }\n",
       "\n",
       "    .dataframe tbody tr th {\n",
       "        vertical-align: top;\n",
       "    }\n",
       "\n",
       "    .dataframe thead th {\n",
       "        text-align: right;\n",
       "    }\n",
       "</style>\n",
       "<table border=\"1\" class=\"dataframe\">\n",
       "  <thead>\n",
       "    <tr style=\"text-align: right;\">\n",
       "      <th></th>\n",
       "      <th>Name</th>\n",
       "      <th>Sunday</th>\n",
       "      <th>Monday</th>\n",
       "      <th>Tuesday</th>\n",
       "      <th>Wednesday</th>\n",
       "      <th>Thursday</th>\n",
       "      <th>Friday</th>\n",
       "      <th>Saturday</th>\n",
       "      <th>Time</th>\n",
       "      <th>Location</th>\n",
       "      <th>Location Info</th>\n",
       "      <th>Island</th>\n",
       "      <th>Website</th>\n",
       "      <th>Contact</th>\n",
       "      <th>Phone</th>\n",
       "      <th>Email</th>\n",
       "      <th>col1</th>\n",
       "      <th>col2</th>\n",
       "      <th>col3</th>\n",
       "      <th>col8</th>\n",
       "      <th>col9</th>\n",
       "    </tr>\n",
       "  </thead>\n",
       "  <tbody>\n",
       "    <tr>\n",
       "      <td>111</td>\n",
       "      <td>Hana Fresh Market</td>\n",
       "      <td>NaN</td>\n",
       "      <td>NaN</td>\n",
       "      <td>NaN</td>\n",
       "      <td>NaN</td>\n",
       "      <td>NaN</td>\n",
       "      <td>NaN</td>\n",
       "      <td>NaN</td>\n",
       "      <td>NaN</td>\n",
       "      <td>4590 Hāna Highway</td>\n",
       "      <td>between mile markers 34 and 35.</td>\n",
       "      <td>Maui</td>\n",
       "      <td>NaN</td>\n",
       "      <td>NaN</td>\n",
       "      <td>(808) 248-7515</td>\n",
       "      <td>NaN</td>\n",
       "      <td>NaN</td>\n",
       "      <td>NaN</td>\n",
       "      <td>NaN</td>\n",
       "      <td>Hana, HI 96713</td>\n",
       "      <td>(20.64924257700045, -156.06698936499973)</td>\n",
       "    </tr>\n",
       "    <tr>\n",
       "      <td>113</td>\n",
       "      <td>Koloa Ball Park (Knudsen) (Sunshine Markets)</td>\n",
       "      <td>NaN</td>\n",
       "      <td>NaN</td>\n",
       "      <td>NaN</td>\n",
       "      <td>NaN</td>\n",
       "      <td>NaN</td>\n",
       "      <td>NaN</td>\n",
       "      <td>NaN</td>\n",
       "      <td>NaN</td>\n",
       "      <td>NaN</td>\n",
       "      <td>NaN</td>\n",
       "      <td>NaN</td>\n",
       "      <td>NaN</td>\n",
       "      <td>Branch Harmony</td>\n",
       "      <td>(808) 322-0718</td>\n",
       "      <td>NaN</td>\n",
       "      <td>Maluhia Road, Koloa</td>\n",
       "      <td>Noon</td>\n",
       "      <td>NaN</td>\n",
       "      <td>NaN</td>\n",
       "      <td>NaN</td>\n",
       "    </tr>\n",
       "    <tr>\n",
       "      <td>116</td>\n",
       "      <td>Ono Organic Farms Farmers' Market</td>\n",
       "      <td>NaN</td>\n",
       "      <td>NaN</td>\n",
       "      <td>NaN</td>\n",
       "      <td>NaN</td>\n",
       "      <td>NaN</td>\n",
       "      <td>NaN</td>\n",
       "      <td>NaN</td>\n",
       "      <td>NaN</td>\n",
       "      <td>NaN</td>\n",
       "      <td>NaN</td>\n",
       "      <td>NaN</td>\n",
       "      <td>NaN</td>\n",
       "      <td>NaN</td>\n",
       "      <td>NaN</td>\n",
       "      <td>NaN</td>\n",
       "      <td>Old gas station, Hasegawa General Store - Hana Hwy.</td>\n",
       "      <td>All day</td>\n",
       "      <td>NaN</td>\n",
       "      <td>NaN</td>\n",
       "      <td>NaN</td>\n",
       "    </tr>\n",
       "    <tr>\n",
       "      <td>163</td>\n",
       "      <td>Koloa Ball Park (Knudsen) (Sunshine Markets)</td>\n",
       "      <td>NaN</td>\n",
       "      <td>NaN</td>\n",
       "      <td>NaN</td>\n",
       "      <td>NaN</td>\n",
       "      <td>NaN</td>\n",
       "      <td>NaN</td>\n",
       "      <td>NaN</td>\n",
       "      <td>NaN</td>\n",
       "      <td>Maluhia Road</td>\n",
       "      <td>NaN</td>\n",
       "      <td>Kauai</td>\n",
       "      <td>NaN</td>\n",
       "      <td>Branch Harmony</td>\n",
       "      <td>(808) 322-0718</td>\n",
       "      <td>NaN</td>\n",
       "      <td>NaN</td>\n",
       "      <td>NaN</td>\n",
       "      <td>NaN</td>\n",
       "      <td>NaN</td>\n",
       "      <td>NaN</td>\n",
       "    </tr>\n",
       "  </tbody>\n",
       "</table>\n",
       "</div>"
      ],
      "text/plain": [
       "                                             Name Sunday Monday Tuesday  \\\n",
       "111  Hana Fresh Market                             NaN    NaN    NaN      \n",
       "113  Koloa Ball Park (Knudsen) (Sunshine Markets)  NaN    NaN    NaN      \n",
       "116  Ono Organic Farms Farmers' Market             NaN    NaN    NaN      \n",
       "163  Koloa Ball Park (Knudsen) (Sunshine Markets)  NaN    NaN    NaN      \n",
       "\n",
       "    Wednesday Thursday Friday Saturday Time           Location  \\\n",
       "111  NaN       NaN      NaN    NaN      NaN  4590 Hāna Highway   \n",
       "113  NaN       NaN      NaN    NaN      NaN  NaN                 \n",
       "116  NaN       NaN      NaN    NaN      NaN  NaN                 \n",
       "163  NaN       NaN      NaN    NaN      NaN  Maluhia Road        \n",
       "\n",
       "                       Location Info Island Website         Contact  \\\n",
       "111  between mile markers 34 and 35.  Maui   NaN     NaN              \n",
       "113  NaN                              NaN    NaN     Branch Harmony   \n",
       "116  NaN                              NaN    NaN     NaN              \n",
       "163  NaN                              Kauai  NaN     Branch Harmony   \n",
       "\n",
       "              Phone Email  \\\n",
       "111  (808) 248-7515  NaN    \n",
       "113  (808) 322-0718  NaN    \n",
       "116  NaN             NaN    \n",
       "163  (808) 322-0718  NaN    \n",
       "\n",
       "                                                    col1     col2 col3  \\\n",
       "111  NaN                                                  NaN      NaN   \n",
       "113  Maluhia Road, Koloa                                  Noon     NaN   \n",
       "116  Old gas station, Hasegawa General Store - Hana Hwy.  All day  NaN   \n",
       "163  NaN                                                  NaN      NaN   \n",
       "\n",
       "               col8                                      col9  \n",
       "111  Hana, HI 96713  (20.64924257700045, -156.06698936499973)  \n",
       "113  NaN             NaN                                       \n",
       "116  NaN             NaN                                       \n",
       "163  NaN             NaN                                       "
      ]
     },
     "execution_count": 18,
     "metadata": {},
     "output_type": "execute_result"
    }
   ],
   "source": [
    "#Check if we miss any time data\n",
    "data[data['Time'].isna()]"
   ]
  },
  {
   "cell_type": "code",
   "execution_count": 19,
   "metadata": {},
   "outputs": [],
   "source": [
    "#Fill in col3 with data in col2 for row 113 and 116\n",
    "data.loc[113][['col3','col2']] = ['Noon', np.nan]\n",
    "data.loc[116][['col3','col2']] = ['All day', np.nan]"
   ]
  },
  {
   "cell_type": "markdown",
   "metadata": {},
   "source": [
    "Now we can change data in col3 row 206"
   ]
  },
  {
   "cell_type": "code",
   "execution_count": 20,
   "metadata": {},
   "outputs": [],
   "source": [
    "data.loc[206]['col3'] = 'Every Friday and Saturday'"
   ]
  },
  {
   "cell_type": "markdown",
   "metadata": {},
   "source": [
    "## Location\n",
    "In this part, I will go over columns Location, Location Info, col1, and col2 to see if we can extract address information from these columns.<br>\n",
    "First, check for unique values in Location and Location Info."
   ]
  },
  {
   "cell_type": "code",
   "execution_count": 21,
   "metadata": {},
   "outputs": [
    {
     "data": {
      "text/plain": [
       "array([nan, '1330 Kalanianaole Hwy., HI', '1301 Punchbowl Street',\n",
       "       '2330 Kalakaua Avenue', '64-759 Kahilu Road, Waimea',\n",
       "       '2237 South King Street', 'Lihue', '45-660 Keaahala Road',\n",
       "       '91-740 Papipi Road', '74-5465 Kamakaeha Avenue',\n",
       "       '715 Hoomoana St', '95-1200 Meheula Parkway',\n",
       "       '45-259 Waikalua Road', '1601 N. School Street', '200 Olinda Rd.',\n",
       "       '841 Bishop Street', 'Elepaio Road, Kekaha', '381 Baldwin Ave',\n",
       "       'Captain Cook', '21 South Kainalu Drive', 'Kapolei, HI',\n",
       "       '1515 Wilder Avenue', '99-795 Iwaiwa Street, HI',\n",
       "       '1450 Ala Moana Blvd.', '17-995 Volcano Rd',\n",
       "       '800 North King Street', 'HI', '777 Ward Ave',\n",
       "       '1527 Keeaumoku Street', 'Haleiwa, HI', '94-870 Lumiaina Street',\n",
       "       '55 Kiopaa St', '3636 Lower Honoapi‘ilani Road',\n",
       "       '70 East Kaahumanu Ave', '95 Lipoa Street', '5337 Likini Street',\n",
       "       '2721 Kaaipu Avenue', '1330 Kalanianaole Hwy.', 'Kailua, HI',\n",
       "       '525 Coral Street', '91-955 North Road', '64-604 Mana Road',\n",
       "       '47-528A Kamehameha Hwy., HI', '1990 Kinoole Street, Hilo',\n",
       "       '275 W. Ka’ahumanu Ave', 'Honolulu, HI', '1100 Ward Ave',\n",
       "       '85-037 Pokai Bay Road', '900 Haliimaile Rd', '4590 Hāna Highway',\n",
       "       'Kahau Road, Kapaa', '1911 Kam IV Road', 'Hoolako Road',\n",
       "       '131 Kaiulani Ave.', '91-1049 Kamaaha Loop', 'Pearl City, HI',\n",
       "       '75-6129 Alii Drive', '94-1150 Lanikuhana Avenue',\n",
       "       '46-056 Kamehameha Highway', '315 Kuulei Road, HI',\n",
       "       '149 Hana Highway', 'Pahoa, HI', 'Hanalei', '650 Iwilei Road',\n",
       "       '2752 Woodlawn Drive', \"310 Ka'ahumanu Avenue\", 'Maluhia Road',\n",
       "       '61 South Kihei Road', '300 Keahole Street, Honolulu',\n",
       "       '333 Keahole Street', '511 Lunalilo Home Road', '1000 Wright Road',\n",
       "       '40 Ala Malama Street', '68-3625 Paniolo Ave.', 'Papalina Road',\n",
       "       '94-230 Paiwa Stree', '4303 Diamond Head Road',\n",
       "       '85-251 Farrington Highway', '2313 Nuuanu Avenue', 'Waipahu, HI',\n",
       "       '1670 HONOAPIILANI HWY', '2007 Palolo Avenue',\n",
       "       '41-741 Kalanianaole Highway'], dtype=object)"
      ]
     },
     "execution_count": 21,
     "metadata": {},
     "output_type": "execute_result"
    }
   ],
   "source": [
    "data['Location'].unique()"
   ]
  },
  {
   "cell_type": "code",
   "execution_count": 22,
   "metadata": {},
   "outputs": [
    {
     "data": {
      "text/plain": [
       "array([nan, 'Waimanalo Homestead Community Center', 'Next to Food Court',\n",
       "       'In Front of Ace Hardware, Ka’u', 'Behind Paniolo Country Inn',\n",
       "       'corner of Hoomoana & Komo Mai Dr',\n",
       "       'Mililani High School Parking Lot', 'Kapalama Elementary School',\n",
       "       \"Po'okela Church on Olinda Road\", 'Historical Paia train depot',\n",
       "       'Parking on Wilder after 5:30 p.m',\n",
       "       'Ala Moana Center, upper deck by Sears, corner of Piikoi & Ala Moana Blvd.',\n",
       "       'Hilo Coffee Mill Farm, Between Mile Markers 12 & 13',\n",
       "       'Parking lot across from Ward 16 Theatres, Corner of Auahi & Kamakee St.',\n",
       "       'Campus front parking lot across from Grove Farm',\n",
       "       'Ward Ave. & King Street',\n",
       "       \"in the parking lot next to Long's\\xa0 Drugs at Kulamalu\",\n",
       "       'Location at Hawaiian Motors parking lot (across from Honokowai Park)',\n",
       "       'Kailua Road - Kailua Parking Garage (behind Longs)',\n",
       "       'Across from 7-11', 'Kam Hwy. and Joseph P. Leong Bypass',\n",
       "       'Poipu Road and Cane Haul Road', 'Center stage area',\n",
       "       'Kalihi Street',\n",
       "       \"in former Maui Pineapple Co. parking lot next to Hali'imaile General Store\",\n",
       "       'Across from Hale Halawai, Kailua-Kona',\n",
       "       'between mile markers 34 and 35.', 'fronting Ace Hardware',\n",
       "       \"Waikiki Community Center's Parking Lot\", '1st & 3rd',\n",
       "       'Corner of Kamehameha Avenue and Mamo Street',\n",
       "       'Komo Mai Drive, Pearl City', 'N. Cane & California Avenue',\n",
       "       \"fronting Macy's\",\n",
       "       'Old gas station, Hasegawa General Store - Hana Hwy.',\n",
       "       'Akebono Parking Lot', 'Waialua Sugar Mill',\n",
       "       'Maui Community College (lot nearest to Kahului Beach Road)',\n",
       "       'Alapai & Beretania Street',\n",
       "       'Located in Suda Store parking lot on South Kihei Road',\n",
       "       'behind Panda Express', 'Monsarrat and Paki Street',\n",
       "       'Kaiser High School parking lot',\n",
       "       'International Market Place-Waikiki (near the Food Court)',\n",
       "       'Ala Malama Street at the Thomas Trade Building, located between Bank of Hawai‘i and American Savings Bank.',\n",
       "       'Waikoloa Community Church Parking Lot',\n",
       "       'Papalina Road off Kaumualii, Kalaheo', \"In front of Macy's\",\n",
       "       'Keneke off Lighthouse Road',\n",
       "       'Waianae High School, Cafeteria Lanai',\n",
       "       'one block makai of Ala Moana Blvd. & Ward Ave. corner Ilalo & Ahui Sts.',\n",
       "       'Kupuna Lp / Kupohi Stree'], dtype=object)"
      ]
     },
     "execution_count": 22,
     "metadata": {},
     "output_type": "execute_result"
    }
   ],
   "source": [
    "data['Location Info'].unique()"
   ]
  },
  {
   "cell_type": "markdown",
   "metadata": {},
   "source": [
    "The address should have street number, street name, and city. We don't need state since all of them are in Hawaii. Before extracting address and city information, I want to check if there's data in col1 or col2 when Location or Location Info is not missing."
   ]
  },
  {
   "cell_type": "code",
   "execution_count": 23,
   "metadata": {},
   "outputs": [
    {
     "data": {
      "text/plain": [
       "[True, True]"
      ]
     },
     "execution_count": 23,
     "metadata": {},
     "output_type": "execute_result"
    }
   ],
   "source": [
    "[data[data[x].notna()][y].notna().any() for x in data[['Location']]\n",
    "                                        for y in data[['col1','col2']]]"
   ]
  },
  {
   "cell_type": "markdown",
   "metadata": {},
   "source": [
    "In more details"
   ]
  },
  {
   "cell_type": "code",
   "execution_count": 24,
   "metadata": {
    "scrolled": true
   },
   "outputs": [
    {
     "data": {
      "text/html": [
       "<div>\n",
       "<style scoped>\n",
       "    .dataframe tbody tr th:only-of-type {\n",
       "        vertical-align: middle;\n",
       "    }\n",
       "\n",
       "    .dataframe tbody tr th {\n",
       "        vertical-align: top;\n",
       "    }\n",
       "\n",
       "    .dataframe thead th {\n",
       "        text-align: right;\n",
       "    }\n",
       "</style>\n",
       "<table border=\"1\" class=\"dataframe\">\n",
       "  <thead>\n",
       "    <tr style=\"text-align: right;\">\n",
       "      <th></th>\n",
       "      <th>Location</th>\n",
       "      <th>Location Info</th>\n",
       "      <th>col1</th>\n",
       "    </tr>\n",
       "  </thead>\n",
       "  <tbody>\n",
       "    <tr>\n",
       "      <td>44</td>\n",
       "      <td>Kapolei, HI</td>\n",
       "      <td>NaN</td>\n",
       "      <td>Kapolei High School</td>\n",
       "    </tr>\n",
       "    <tr>\n",
       "      <td>83</td>\n",
       "      <td>1330 Kalanianaole Hwy.</td>\n",
       "      <td>NaN</td>\n",
       "      <td>Waimanalo Homestead Community Center</td>\n",
       "    </tr>\n",
       "  </tbody>\n",
       "</table>\n",
       "</div>"
      ],
      "text/plain": [
       "                  Location Location Info                                  col1\n",
       "44  Kapolei, HI             NaN           Kapolei High School                 \n",
       "83  1330 Kalanianaole Hwy.  NaN           Waimanalo Homestead Community Center"
      ]
     },
     "execution_count": 24,
     "metadata": {},
     "output_type": "execute_result"
    }
   ],
   "source": [
    "data[data['Location'].notna() & data['col1'].notna()][['Location','Location Info','col1']]"
   ]
  },
  {
   "cell_type": "markdown",
   "metadata": {},
   "source": [
    "For these two rows, we can fill in Location Info with values in col1."
   ]
  },
  {
   "cell_type": "code",
   "execution_count": 25,
   "metadata": {},
   "outputs": [],
   "source": [
    "data.loc[44][['Location Info','col1']] = ['Kapolei High School',np.nan]\n",
    "data.loc[83][['Location Info','col1']] = ['Waimanalo Homestead Community Center',np.nan]"
   ]
  },
  {
   "cell_type": "code",
   "execution_count": 26,
   "metadata": {},
   "outputs": [
    {
     "data": {
      "text/html": [
       "<div>\n",
       "<style scoped>\n",
       "    .dataframe tbody tr th:only-of-type {\n",
       "        vertical-align: middle;\n",
       "    }\n",
       "\n",
       "    .dataframe tbody tr th {\n",
       "        vertical-align: top;\n",
       "    }\n",
       "\n",
       "    .dataframe thead th {\n",
       "        text-align: right;\n",
       "    }\n",
       "</style>\n",
       "<table border=\"1\" class=\"dataframe\">\n",
       "  <thead>\n",
       "    <tr style=\"text-align: right;\">\n",
       "      <th></th>\n",
       "      <th>Location</th>\n",
       "      <th>Location Info</th>\n",
       "      <th>col2</th>\n",
       "    </tr>\n",
       "  </thead>\n",
       "  <tbody>\n",
       "    <tr>\n",
       "      <td>23</td>\n",
       "      <td>74-5465 Kamakaeha Avenue</td>\n",
       "      <td>NaN</td>\n",
       "      <td>Makapua Center - In front of K-Mart, Kailua-Kona</td>\n",
       "    </tr>\n",
       "  </tbody>\n",
       "</table>\n",
       "</div>"
      ],
      "text/plain": [
       "                    Location Location Info  \\\n",
       "23  74-5465 Kamakaeha Avenue  NaN            \n",
       "\n",
       "                                                col2  \n",
       "23  Makapua Center - In front of K-Mart, Kailua-Kona  "
      ]
     },
     "execution_count": 26,
     "metadata": {},
     "output_type": "execute_result"
    }
   ],
   "source": [
    "data[data['Location'].notna() & data['col2'].notna()][['Location','Location Info','col2']]"
   ]
  },
  {
   "cell_type": "markdown",
   "metadata": {},
   "source": [
    "Same as col1, we can fill in Location Info with value in col2."
   ]
  },
  {
   "cell_type": "code",
   "execution_count": 27,
   "metadata": {},
   "outputs": [],
   "source": [
    "data.loc[23][['Location Info','col2']] = ['Makapua Center - In front of K-Mart, Kailua-Kona',np.nan]"
   ]
  },
  {
   "cell_type": "markdown",
   "metadata": {},
   "source": [
    "Moving to Location Info"
   ]
  },
  {
   "cell_type": "code",
   "execution_count": 28,
   "metadata": {},
   "outputs": [
    {
     "data": {
      "text/plain": [
       "[True, False]"
      ]
     },
     "execution_count": 28,
     "metadata": {},
     "output_type": "execute_result"
    }
   ],
   "source": [
    "[data[data[x].notna()][y].notna().any() for x in data[['Location Info']]\n",
    "                                        for y in data[['col1','col2']]]"
   ]
  },
  {
   "cell_type": "code",
   "execution_count": 29,
   "metadata": {},
   "outputs": [
    {
     "data": {
      "text/html": [
       "<div>\n",
       "<style scoped>\n",
       "    .dataframe tbody tr th:only-of-type {\n",
       "        vertical-align: middle;\n",
       "    }\n",
       "\n",
       "    .dataframe tbody tr th {\n",
       "        vertical-align: top;\n",
       "    }\n",
       "\n",
       "    .dataframe thead th {\n",
       "        text-align: right;\n",
       "    }\n",
       "</style>\n",
       "<table border=\"1\" class=\"dataframe\">\n",
       "  <thead>\n",
       "    <tr style=\"text-align: right;\">\n",
       "      <th></th>\n",
       "      <th>Location</th>\n",
       "      <th>Location Info</th>\n",
       "      <th>col1</th>\n",
       "    </tr>\n",
       "  </thead>\n",
       "  <tbody>\n",
       "    <tr>\n",
       "      <td>125</td>\n",
       "      <td>NaN</td>\n",
       "      <td>1st &amp; 3rd</td>\n",
       "      <td>1100 Ward Ave., Honolulu (across from Thomas Square)</td>\n",
       "    </tr>\n",
       "  </tbody>\n",
       "</table>\n",
       "</div>"
      ],
      "text/plain": [
       "    Location Location Info  \\\n",
       "125  NaN      1st & 3rd      \n",
       "\n",
       "                                                     col1  \n",
       "125  1100 Ward Ave., Honolulu (across from Thomas Square)  "
      ]
     },
     "execution_count": 29,
     "metadata": {},
     "output_type": "execute_result"
    }
   ],
   "source": [
    "data[data['Location Info'].notna() & data['col1'].notna()][['Location','Location Info','col1']]"
   ]
  },
  {
   "cell_type": "markdown",
   "metadata": {},
   "source": [
    "col1 has address information, so I will move it to Location. Also, we can replace value in Location Info with Nan for this row."
   ]
  },
  {
   "cell_type": "code",
   "execution_count": 30,
   "metadata": {},
   "outputs": [],
   "source": [
    "data.loc[125]['Location Info'] = np.nan\n",
    "data.loc[125][['Location','col1']] = ['1100 Ward Ave., Honolulu (across from Thomas Square)',np.nan]"
   ]
  },
  {
   "cell_type": "markdown",
   "metadata": {},
   "source": [
    "Now we have separate location information in two pairs: Location - Location Info, or col1 - col2.<br>\n",
    "Next, check which columns have street address information."
   ]
  },
  {
   "cell_type": "code",
   "execution_count": 31,
   "metadata": {},
   "outputs": [
    {
     "name": "stdout",
     "output_type": "stream",
     "text": [
      "Location has street number information: True\n",
      "Location Info has street number information: False\n",
      "col1 has street number information: True\n",
      "col2 has street number information: True\n"
     ]
    }
   ],
   "source": [
    "for col in data[['Location','Location Info','col1','col2']]:\n",
    "    print(col + ' has street number information: ' +\n",
    "         str(data[col].str.contains('^\\d+(?:\\-?\\d+)?(?:[A-Za-z]+)?',na=False).any()))"
   ]
  },
  {
   "cell_type": "code",
   "execution_count": 32,
   "metadata": {},
   "outputs": [
    {
     "name": "stdout",
     "output_type": "stream",
     "text": [
      "['1330 Kalanianaole Hwy., HI' '1301 Punchbowl Street'\n",
      " '2330 Kalakaua Avenue' '64-759 Kahilu Road, Waimea'\n",
      " '2237 South King Street' '45-660 Keaahala Road' '91-740 Papipi Road'\n",
      " '74-5465 Kamakaeha Avenue' '715 Hoomoana St' '95-1200 Meheula Parkway'\n",
      " '45-259 Waikalua Road' '1601 N. School Street' '200 Olinda Rd.'\n",
      " '841 Bishop Street' '381 Baldwin Ave' '21 South Kainalu Drive'\n",
      " '1515 Wilder Avenue' '99-795 Iwaiwa Street, HI' '1450 Ala Moana Blvd.'\n",
      " '17-995 Volcano Rd' '800 North King Street' '777 Ward Ave'\n",
      " '1527 Keeaumoku Street' '94-870 Lumiaina Street' '55 Kiopaa St'\n",
      " '3636 Lower Honoapi‘ilani Road' '70 East Kaahumanu Ave' '95 Lipoa Street'\n",
      " '5337 Likini Street' '2721 Kaaipu Avenue' '1330 Kalanianaole Hwy.'\n",
      " '525 Coral Street' '91-955 North Road' '64-604 Mana Road'\n",
      " '47-528A Kamehameha Hwy., HI' '1990 Kinoole Street, Hilo'\n",
      " '275 W. Ka’ahumanu Ave' '1100 Ward Ave' '85-037 Pokai Bay Road'\n",
      " '900 Haliimaile Rd' '4590 Hāna Highway' '1911 Kam IV Road'\n",
      " '131 Kaiulani Ave.' '91-1049 Kamaaha Loop'\n",
      " '1100 Ward Ave., Honolulu (across from Thomas Square)'\n",
      " '75-6129 Alii Drive' '94-1150 Lanikuhana Avenue'\n",
      " '46-056 Kamehameha Highway' '315 Kuulei Road, HI' '149 Hana Highway'\n",
      " '650 Iwilei Road' '2752 Woodlawn Drive' \"310 Ka'ahumanu Avenue\"\n",
      " '61 South Kihei Road' '300 Keahole Street, Honolulu' '333 Keahole Street'\n",
      " '511 Lunalilo Home Road' '1000 Wright Road' '40 Ala Malama Street'\n",
      " '68-3625 Paniolo Ave.' '94-230 Paiwa Stree' '4303 Diamond Head Road'\n",
      " '85-251 Farrington Highway' '2313 Nuuanu Avenue' '1670 HONOAPIILANI HWY'\n",
      " '2007 Palolo Avenue' '41-741 Kalanianaole Highway']\n",
      "['85-037 Pokai Bay Road, Waianae' '5337 Likini Street, Honolulu'\n",
      " '525 Coral Street, Honolulu' '64-604 Mana Road'\n",
      " '315 Kuulei Road, Kailua - parking lot' '2752 Woodlawn Drive, Honolulu'\n",
      " '99-795 Iwaiwa Street'\n",
      " \"46-056 Kamehameha Highway, Kaneohe (fronting Macy's)\"\n",
      " '1301 Punchbowl Street, Honolulu'\n",
      " '64-759 Kahilu Road, Waimea (located at Kuhio Hale Building)'\n",
      " '21 South Kainalu Drive, Kailua' '45-660 Keaahala Road, Kaneohe'\n",
      " '94-1150 Lanikuhana Avenue, Mililani'\n",
      " '41-741 Kalanianaole Highway, Waimanalo'\n",
      " '94-870 Lumiaina Street, Waipahu'\n",
      " '1515 Wilder Avenue at Makiki St. (Parking on Wilder after 5:30 p.m.)'\n",
      " '16-0550 Old Volcano Road' '500 Ala Moana Boulevard, Honolulu'\n",
      " '2237 South King Street, Honolulu' '91-1049 Kamaaha Loop, Kapolei'\n",
      " '3654 Baldwin Avenue' '841 Bishop Street, Honolulu'\n",
      " '94-230 Paiwa Street, Waipahu' '91-740 Papipi Road, Ewa Beach'\n",
      " '4303 Diamond Head Road, Honolulu' '74-5465 Kamakaeha Avenue'\n",
      " '1911 Kam IV Road, Honolulu' '300 Keahole Street, Honolulu'\n",
      " '1527 Keeaumoku Street, Honolulu' '2007 Palolo Avenue, Honolulu'\n",
      " '1000 Wright Road, Cooper Center, Volcano'\n",
      " '75-6129 Alii Drive, Kailua-Kona' '2721 Kaaipu Avenue, Honolulu'\n",
      " '1990 Kinoole Street, Hilo' '2330 Kalakaua Avenue, Honolulu'\n",
      " '95-1200 Meheula Parkway, Mililani High School Parking Lot'\n",
      " '131 Kaiulani Ave., Honolulu']\n",
      "['715 Hoomoana St. (corner of Hoomoana & Komo Mai Dr.) Pearl City, HI 96782'\n",
      " '84-4770 Mamalahoa Hwy, Captain Cook' '68-3625 Paniolo Ave., Waikoloa'\n",
      " '511 Lunalilo Home Road'\n",
      " '17-995 Volcano Rd. (Between Mile Markers 12 & 13)'\n",
      " '2313 Nuuanu Avenue, Honolulu' '85-251 Farrington Highway, Waianae']\n"
     ]
    }
   ],
   "source": [
    "#Print out unique values from these columns:\n",
    "for col in data[['Location','col1','col2']]:\n",
    "    print(data[data[col].str.contains('^\\d+(?:\\-?\\d+)?(?:[A-Za-z]+)?',na=False)][col].unique())"
   ]
  },
  {
   "cell_type": "markdown",
   "metadata": {},
   "source": [
    "Before extracting address information from these columns, we should check if there're rows that have address information in both col1 and col2."
   ]
  },
  {
   "cell_type": "code",
   "execution_count": 33,
   "metadata": {},
   "outputs": [
    {
     "data": {
      "text/plain": [
       "False"
      ]
     },
     "execution_count": 33,
     "metadata": {},
     "output_type": "execute_result"
    }
   ],
   "source": [
    "(data['Location'].isna() &\n",
    " data['col1'].str.contains('^\\d+(?:\\-?\\d+)?(?:[A-Za-z]+)?',na=False) &\n",
    " data['col2'].str.contains('^\\d+(?:\\-?\\d+)?(?:[A-Za-z]+)?',na=False)).any()"
   ]
  },
  {
   "cell_type": "code",
   "execution_count": 34,
   "metadata": {},
   "outputs": [],
   "source": [
    "#Fill in missing Location with col1 or col2 values that have street address information\n",
    "for col in data[['col1','col2']]:\n",
    "    data['Location'] = np.where(data['Location'].isna() &\n",
    "                                data[col].str.contains('^\\d+(?:\\-?\\d+)?(?:[A-Za-z]+)?',na=False),\n",
    "                                data[col], data['Location'])"
   ]
  },
  {
   "cell_type": "markdown",
   "metadata": {},
   "source": [
    "Now we can extract address information into two new columns: address and city."
   ]
  },
  {
   "cell_type": "code",
   "execution_count": 35,
   "metadata": {},
   "outputs": [],
   "source": [
    "data_location = data['Location'].str.extractall(\"^(\\d+(?:\\-?\\d+)?(?:[A-Za-z]+)?) ?([A-Za-z'.-/]+(?:(?: [A-Za-z'.-/]+)+)?)\"\n",
    "                                                \",? ?((?!HI)[A-Za-z'.-/]+(?:(?!HI) [A-Za-z'.-/]+)?)?\")\n",
    "data_location = data_location.droplevel(level=1)\n",
    "data_location['Address'] = data_location[0] + ' ' + data_location[1]\n",
    "data_location['City'] = data_location[2]\n",
    "data_location.drop([0,1,2], axis=1, inplace=True)\n",
    "data = data.join(data_location)"
   ]
  },
  {
   "cell_type": "markdown",
   "metadata": {},
   "source": [
    "Other than address information, what location information does Location columns has?"
   ]
  },
  {
   "cell_type": "code",
   "execution_count": 36,
   "metadata": {},
   "outputs": [
    {
     "data": {
      "text/html": [
       "<div>\n",
       "<style scoped>\n",
       "    .dataframe tbody tr th:only-of-type {\n",
       "        vertical-align: middle;\n",
       "    }\n",
       "\n",
       "    .dataframe tbody tr th {\n",
       "        vertical-align: top;\n",
       "    }\n",
       "\n",
       "    .dataframe thead th {\n",
       "        text-align: right;\n",
       "    }\n",
       "</style>\n",
       "<table border=\"1\" class=\"dataframe\">\n",
       "  <thead>\n",
       "    <tr style=\"text-align: right;\">\n",
       "      <th></th>\n",
       "      <th>Location</th>\n",
       "      <th>Location Info</th>\n",
       "    </tr>\n",
       "  </thead>\n",
       "  <tbody>\n",
       "    <tr>\n",
       "      <td>15</td>\n",
       "      <td>Lihue</td>\n",
       "      <td>NaN</td>\n",
       "    </tr>\n",
       "    <tr>\n",
       "      <td>36</td>\n",
       "      <td>Elepaio Road, Kekaha</td>\n",
       "      <td>NaN</td>\n",
       "    </tr>\n",
       "    <tr>\n",
       "      <td>38</td>\n",
       "      <td>Captain Cook</td>\n",
       "      <td>NaN</td>\n",
       "    </tr>\n",
       "    <tr>\n",
       "      <td>44</td>\n",
       "      <td>Kapolei, HI</td>\n",
       "      <td>Kapolei High School</td>\n",
       "    </tr>\n",
       "    <tr>\n",
       "      <td>58</td>\n",
       "      <td>HI</td>\n",
       "      <td>Parking lot across from Ward 16 Theatres, Corner of Auahi &amp; Kamakee St.</td>\n",
       "    </tr>\n",
       "    <tr>\n",
       "      <td>67</td>\n",
       "      <td>Haleiwa, HI</td>\n",
       "      <td>NaN</td>\n",
       "    </tr>\n",
       "    <tr>\n",
       "      <td>84</td>\n",
       "      <td>Kailua, HI</td>\n",
       "      <td>Kailua Road - Kailua Parking Garage (behind Longs)</td>\n",
       "    </tr>\n",
       "    <tr>\n",
       "      <td>96</td>\n",
       "      <td>HI</td>\n",
       "      <td>Kam Hwy. and Joseph P. Leong Bypass</td>\n",
       "    </tr>\n",
       "    <tr>\n",
       "      <td>100</td>\n",
       "      <td>Honolulu, HI</td>\n",
       "      <td>Kalihi Street</td>\n",
       "    </tr>\n",
       "    <tr>\n",
       "      <td>112</td>\n",
       "      <td>Kahau Road, Kapaa</td>\n",
       "      <td>NaN</td>\n",
       "    </tr>\n",
       "    <tr>\n",
       "      <td>120</td>\n",
       "      <td>Hoolako Road</td>\n",
       "      <td>NaN</td>\n",
       "    </tr>\n",
       "    <tr>\n",
       "      <td>122</td>\n",
       "      <td>HI</td>\n",
       "      <td>Waikiki Community Center's Parking Lot</td>\n",
       "    </tr>\n",
       "    <tr>\n",
       "      <td>129</td>\n",
       "      <td>Pearl City, HI</td>\n",
       "      <td>Komo Mai Drive, Pearl City</td>\n",
       "    </tr>\n",
       "    <tr>\n",
       "      <td>132</td>\n",
       "      <td>HI</td>\n",
       "      <td>N. Cane &amp; California Avenue</td>\n",
       "    </tr>\n",
       "    <tr>\n",
       "      <td>145</td>\n",
       "      <td>Pahoa, HI</td>\n",
       "      <td>Akebono Parking Lot</td>\n",
       "    </tr>\n",
       "    <tr>\n",
       "      <td>146</td>\n",
       "      <td>Hanalei</td>\n",
       "      <td>NaN</td>\n",
       "    </tr>\n",
       "    <tr>\n",
       "      <td>149</td>\n",
       "      <td>HI</td>\n",
       "      <td>Waialua Sugar Mill</td>\n",
       "    </tr>\n",
       "    <tr>\n",
       "      <td>160</td>\n",
       "      <td>Honolulu, HI</td>\n",
       "      <td>Alapai &amp; Beretania Street</td>\n",
       "    </tr>\n",
       "    <tr>\n",
       "      <td>163</td>\n",
       "      <td>Maluhia Road</td>\n",
       "      <td>NaN</td>\n",
       "    </tr>\n",
       "    <tr>\n",
       "      <td>173</td>\n",
       "      <td>Honolulu, HI</td>\n",
       "      <td>Monsarrat and Paki Street</td>\n",
       "    </tr>\n",
       "    <tr>\n",
       "      <td>178</td>\n",
       "      <td>Honolulu, HI</td>\n",
       "      <td>International Market Place-Waikiki (near the Food Court)</td>\n",
       "    </tr>\n",
       "    <tr>\n",
       "      <td>181</td>\n",
       "      <td>Honolulu, HI</td>\n",
       "      <td>Alapai &amp; Beretania Street</td>\n",
       "    </tr>\n",
       "    <tr>\n",
       "      <td>190</td>\n",
       "      <td>Papalina Road</td>\n",
       "      <td>Papalina Road off Kaumualii, Kalaheo</td>\n",
       "    </tr>\n",
       "    <tr>\n",
       "      <td>192</td>\n",
       "      <td>Honolulu, HI</td>\n",
       "      <td>In front of Macy's</td>\n",
       "    </tr>\n",
       "    <tr>\n",
       "      <td>199</td>\n",
       "      <td>Honolulu, HI</td>\n",
       "      <td>one block makai of Ala Moana Blvd. &amp; Ward Ave. corner Ilalo &amp; Ahui Sts.</td>\n",
       "    </tr>\n",
       "    <tr>\n",
       "      <td>210</td>\n",
       "      <td>Waipahu, HI</td>\n",
       "      <td>Kupuna Lp / Kupohi Stree</td>\n",
       "    </tr>\n",
       "    <tr>\n",
       "      <td>213</td>\n",
       "      <td>Honolulu, HI</td>\n",
       "      <td>one block makai of Ala Moana Blvd. &amp; Ward Ave. corner Ilalo &amp; Ahui Sts.</td>\n",
       "    </tr>\n",
       "  </tbody>\n",
       "</table>\n",
       "</div>"
      ],
      "text/plain": [
       "                 Location  \\\n",
       "15   Lihue                  \n",
       "36   Elepaio Road, Kekaha   \n",
       "38   Captain Cook           \n",
       "44   Kapolei, HI            \n",
       "58   HI                     \n",
       "67   Haleiwa, HI            \n",
       "84   Kailua, HI             \n",
       "96   HI                     \n",
       "100  Honolulu, HI           \n",
       "112  Kahau Road, Kapaa      \n",
       "120  Hoolako Road           \n",
       "122  HI                     \n",
       "129  Pearl City, HI         \n",
       "132  HI                     \n",
       "145  Pahoa, HI              \n",
       "146  Hanalei                \n",
       "149  HI                     \n",
       "160  Honolulu, HI           \n",
       "163  Maluhia Road           \n",
       "173  Honolulu, HI           \n",
       "178  Honolulu, HI           \n",
       "181  Honolulu, HI           \n",
       "190  Papalina Road          \n",
       "192  Honolulu, HI           \n",
       "199  Honolulu, HI           \n",
       "210  Waipahu, HI            \n",
       "213  Honolulu, HI           \n",
       "\n",
       "                                                               Location Info  \n",
       "15   NaN                                                                      \n",
       "36   NaN                                                                      \n",
       "38   NaN                                                                      \n",
       "44   Kapolei High School                                                      \n",
       "58   Parking lot across from Ward 16 Theatres, Corner of Auahi & Kamakee St.  \n",
       "67   NaN                                                                      \n",
       "84   Kailua Road - Kailua Parking Garage (behind Longs)                       \n",
       "96   Kam Hwy. and Joseph P. Leong Bypass                                      \n",
       "100  Kalihi Street                                                            \n",
       "112  NaN                                                                      \n",
       "120  NaN                                                                      \n",
       "122  Waikiki Community Center's Parking Lot                                   \n",
       "129  Komo Mai Drive, Pearl City                                               \n",
       "132  N. Cane & California Avenue                                              \n",
       "145  Akebono Parking Lot                                                      \n",
       "146  NaN                                                                      \n",
       "149  Waialua Sugar Mill                                                       \n",
       "160  Alapai & Beretania Street                                                \n",
       "163  NaN                                                                      \n",
       "173  Monsarrat and Paki Street                                                \n",
       "178  International Market Place-Waikiki (near the Food Court)                 \n",
       "181  Alapai & Beretania Street                                                \n",
       "190  Papalina Road off Kaumualii, Kalaheo                                     \n",
       "192  In front of Macy's                                                       \n",
       "199  one block makai of Ala Moana Blvd. & Ward Ave. corner Ilalo & Ahui Sts.  \n",
       "210  Kupuna Lp / Kupohi Stree                                                 \n",
       "213  one block makai of Ala Moana Blvd. & Ward Ave. corner Ilalo & Ahui Sts.  "
      ]
     },
     "execution_count": 36,
     "metadata": {},
     "output_type": "execute_result"
    }
   ],
   "source": [
    "data[data['Location'].notna() &\n",
    "    ~data['Location'].str.contains('^\\d+(?:\\-?\\d+)?(?:[A-Za-z]+)?',na=False)][['Location','Location Info']]"
   ]
  },
  {
   "cell_type": "markdown",
   "metadata": {},
   "source": [
    "We have street name and city in these rows. We can extract city information from these rows."
   ]
  },
  {
   "cell_type": "code",
   "execution_count": 37,
   "metadata": {},
   "outputs": [],
   "source": [
    "data['City'] = np.where(data['Location'].notna() &\n",
    "                        ~data['Location'].str.contains('^\\d+(?:\\-?\\d+)?(?:[A-Za-z]+)?', na=False) &\n",
    "                        ~data['Location'].str.contains('Road', regex=False, na=False),\n",
    "                        data['Location'].str.findall('^[A-Z][a-z]+(?: [A-Z][a-z]+)?').str[0],\n",
    "                        data['City'])"
   ]
  },
  {
   "cell_type": "markdown",
   "metadata": {},
   "source": [
    "Remove data in Location column that have City information only."
   ]
  },
  {
   "cell_type": "code",
   "execution_count": 38,
   "metadata": {},
   "outputs": [],
   "source": [
    "data['Location'] = np.where((data['Location'].notna() &\n",
    "                            ~data['Location'].str.contains('^\\d+(?:\\-?\\d+)?(?:[A-Za-z]+)?', na=False) &\n",
    "                            (data['Location'] == data['City'])) |\n",
    "                            (data['Location'].notna() &\n",
    "                            ~data['Location'].str.contains('^\\d+(?:\\-?\\d+)?(?:[A-Za-z]+)?', na=False) &\n",
    "                            data['Location'].str.contains('HI', regex=False, na=False)),\n",
    "                            np.nan, data['Location'])"
   ]
  },
  {
   "cell_type": "markdown",
   "metadata": {},
   "source": [
    "Now check these rows again"
   ]
  },
  {
   "cell_type": "code",
   "execution_count": 39,
   "metadata": {},
   "outputs": [
    {
     "data": {
      "text/html": [
       "<div>\n",
       "<style scoped>\n",
       "    .dataframe tbody tr th:only-of-type {\n",
       "        vertical-align: middle;\n",
       "    }\n",
       "\n",
       "    .dataframe tbody tr th {\n",
       "        vertical-align: top;\n",
       "    }\n",
       "\n",
       "    .dataframe thead th {\n",
       "        text-align: right;\n",
       "    }\n",
       "</style>\n",
       "<table border=\"1\" class=\"dataframe\">\n",
       "  <thead>\n",
       "    <tr style=\"text-align: right;\">\n",
       "      <th></th>\n",
       "      <th>Location</th>\n",
       "      <th>Location Info</th>\n",
       "    </tr>\n",
       "  </thead>\n",
       "  <tbody>\n",
       "    <tr>\n",
       "      <td>36</td>\n",
       "      <td>Elepaio Road, Kekaha</td>\n",
       "      <td>NaN</td>\n",
       "    </tr>\n",
       "    <tr>\n",
       "      <td>112</td>\n",
       "      <td>Kahau Road, Kapaa</td>\n",
       "      <td>NaN</td>\n",
       "    </tr>\n",
       "    <tr>\n",
       "      <td>120</td>\n",
       "      <td>Hoolako Road</td>\n",
       "      <td>NaN</td>\n",
       "    </tr>\n",
       "    <tr>\n",
       "      <td>163</td>\n",
       "      <td>Maluhia Road</td>\n",
       "      <td>NaN</td>\n",
       "    </tr>\n",
       "    <tr>\n",
       "      <td>190</td>\n",
       "      <td>Papalina Road</td>\n",
       "      <td>Papalina Road off Kaumualii, Kalaheo</td>\n",
       "    </tr>\n",
       "  </tbody>\n",
       "</table>\n",
       "</div>"
      ],
      "text/plain": [
       "                 Location                         Location Info\n",
       "36   Elepaio Road, Kekaha  NaN                                 \n",
       "112  Kahau Road, Kapaa     NaN                                 \n",
       "120  Hoolako Road          NaN                                 \n",
       "163  Maluhia Road          NaN                                 \n",
       "190  Papalina Road         Papalina Road off Kaumualii, Kalaheo"
      ]
     },
     "execution_count": 39,
     "metadata": {},
     "output_type": "execute_result"
    }
   ],
   "source": [
    "data[data['Location'].notna() &\n",
    "    ~data['Location'].str.contains('^\\d+(?:\\-?\\d+)?(?:[A-Za-z]+)?',na=False)][['Location','Location Info']]"
   ]
  },
  {
   "cell_type": "markdown",
   "metadata": {},
   "source": [
    "Update Location Info, City column and replace data in Location with Nans."
   ]
  },
  {
   "cell_type": "code",
   "execution_count": 40,
   "metadata": {},
   "outputs": [],
   "source": [
    "data.loc[36][['Location','Location Info','City']] = [np.nan,'Elepaio Road','Kekaha']\n",
    "data.loc[112][['Location','Location Info','City']] = [np.nan,'Kahau Road','Kapaa']\n",
    "data.loc[120][['Location','Location Info']] = [np.nan,'Hoolako Road']\n",
    "data.loc[163][['Location','Location Info']] = [np.nan,'Maluhia Road']\n",
    "data.loc[190]['Location'] = np.nan"
   ]
  },
  {
   "cell_type": "markdown",
   "metadata": {},
   "source": [
    "Check if we missed any address or city information."
   ]
  },
  {
   "cell_type": "code",
   "execution_count": 41,
   "metadata": {},
   "outputs": [
    {
     "data": {
      "text/html": [
       "<div>\n",
       "<style scoped>\n",
       "    .dataframe tbody tr th:only-of-type {\n",
       "        vertical-align: middle;\n",
       "    }\n",
       "\n",
       "    .dataframe tbody tr th {\n",
       "        vertical-align: top;\n",
       "    }\n",
       "\n",
       "    .dataframe thead th {\n",
       "        text-align: right;\n",
       "    }\n",
       "</style>\n",
       "<table border=\"1\" class=\"dataframe\">\n",
       "  <thead>\n",
       "    <tr style=\"text-align: right;\">\n",
       "      <th></th>\n",
       "      <th>Location</th>\n",
       "      <th>Address</th>\n",
       "      <th>Location Info</th>\n",
       "    </tr>\n",
       "  </thead>\n",
       "  <tbody>\n",
       "    <tr>\n",
       "      <td>4</td>\n",
       "      <td>1330 Kalanianaole Hwy., HI</td>\n",
       "      <td>1330 Kalanianaole Hwy.</td>\n",
       "      <td>Waimanalo Homestead Community Center</td>\n",
       "    </tr>\n",
       "    <tr>\n",
       "      <td>50</td>\n",
       "      <td>99-795 Iwaiwa Street, HI</td>\n",
       "      <td>99-795 Iwaiwa Street</td>\n",
       "      <td>NaN</td>\n",
       "    </tr>\n",
       "    <tr>\n",
       "      <td>59</td>\n",
       "      <td>715 Hoomoana St. (corner of Hoomoana &amp; Komo Mai Dr.) Pearl City, HI 96782</td>\n",
       "      <td>715 Hoomoana St.</td>\n",
       "      <td>NaN</td>\n",
       "    </tr>\n",
       "    <tr>\n",
       "      <td>73</td>\n",
       "      <td>3636 Lower Honoapi‘ilani Road</td>\n",
       "      <td>3636 Lower Honoapi</td>\n",
       "      <td>Location at Hawaiian Motors parking lot (across from Honokowai Park)</td>\n",
       "    </tr>\n",
       "    <tr>\n",
       "      <td>93</td>\n",
       "      <td>1515 Wilder Avenue at Makiki St. (Parking on Wilder after 5:30 p.m.)</td>\n",
       "      <td>1515 Wilder Avenue at Makiki St.</td>\n",
       "      <td>NaN</td>\n",
       "    </tr>\n",
       "    <tr>\n",
       "      <td>94</td>\n",
       "      <td>47-528A Kamehameha Hwy., HI</td>\n",
       "      <td>47-528A Kamehameha Hwy.</td>\n",
       "      <td>Across from 7-11</td>\n",
       "    </tr>\n",
       "    <tr>\n",
       "      <td>98</td>\n",
       "      <td>275 W. Ka’ahumanu Ave</td>\n",
       "      <td>275 W. Ka</td>\n",
       "      <td>Center stage area</td>\n",
       "    </tr>\n",
       "    <tr>\n",
       "      <td>111</td>\n",
       "      <td>4590 Hāna Highway</td>\n",
       "      <td>4590 H</td>\n",
       "      <td>between mile markers 34 and 35.</td>\n",
       "    </tr>\n",
       "    <tr>\n",
       "      <td>127</td>\n",
       "      <td>17-995 Volcano Rd. (Between Mile Markers 12 &amp; 13)</td>\n",
       "      <td>17-995 Volcano Rd.</td>\n",
       "      <td>NaN</td>\n",
       "    </tr>\n",
       "    <tr>\n",
       "      <td>141</td>\n",
       "      <td>315 Kuulei Road, HI</td>\n",
       "      <td>315 Kuulei Road</td>\n",
       "      <td>NaN</td>\n",
       "    </tr>\n",
       "  </tbody>\n",
       "</table>\n",
       "</div>"
      ],
      "text/plain": [
       "                                                                      Location  \\\n",
       "4    1330 Kalanianaole Hwy., HI                                                  \n",
       "50   99-795 Iwaiwa Street, HI                                                    \n",
       "59   715 Hoomoana St. (corner of Hoomoana & Komo Mai Dr.) Pearl City, HI 96782   \n",
       "73   3636 Lower Honoapi‘ilani Road                                               \n",
       "93   1515 Wilder Avenue at Makiki St. (Parking on Wilder after 5:30 p.m.)        \n",
       "94   47-528A Kamehameha Hwy., HI                                                 \n",
       "98   275 W. Ka’ahumanu Ave                                                       \n",
       "111  4590 Hāna Highway                                                           \n",
       "127  17-995 Volcano Rd. (Between Mile Markers 12 & 13)                           \n",
       "141  315 Kuulei Road, HI                                                         \n",
       "\n",
       "                              Address  \\\n",
       "4    1330 Kalanianaole Hwy.             \n",
       "50   99-795 Iwaiwa Street               \n",
       "59   715 Hoomoana St.                   \n",
       "73   3636 Lower Honoapi                 \n",
       "93   1515 Wilder Avenue at Makiki St.   \n",
       "94   47-528A Kamehameha Hwy.            \n",
       "98   275 W. Ka                          \n",
       "111  4590 H                             \n",
       "127  17-995 Volcano Rd.                 \n",
       "141  315 Kuulei Road                    \n",
       "\n",
       "                                                            Location Info  \n",
       "4    Waimanalo Homestead Community Center                                  \n",
       "50   NaN                                                                   \n",
       "59   NaN                                                                   \n",
       "73   Location at Hawaiian Motors parking lot (across from Honokowai Park)  \n",
       "93   NaN                                                                   \n",
       "94   Across from 7-11                                                      \n",
       "98   Center stage area                                                     \n",
       "111  between mile markers 34 and 35.                                       \n",
       "127  NaN                                                                   \n",
       "141  NaN                                                                   "
      ]
     },
     "execution_count": 41,
     "metadata": {},
     "output_type": "execute_result"
    }
   ],
   "source": [
    "data[data['Location'].notna() & data['Address'].notna() & data['City'].isna() &\n",
    "    (data['Location'] != data['Address'])][['Location','Address','Location Info']]"
   ]
  },
  {
   "cell_type": "markdown",
   "metadata": {},
   "source": [
    "Adjust these values."
   ]
  },
  {
   "cell_type": "code",
   "execution_count": 42,
   "metadata": {},
   "outputs": [],
   "source": [
    "data.loc[59]['City'] = 'Pearl City'\n",
    "data.loc[73]['Address'] = \"3636 Lower Honoapi‘ilani Road\"\n",
    "data.loc[98]['Address'] = \"275 W. Ka’ahumanu Ave\"\n",
    "data.loc[111]['Address'] = '4590 Hāna Highway'"
   ]
  },
  {
   "cell_type": "markdown",
   "metadata": {},
   "source": [
    "It seems like we can extract location information which is contained in parentheses."
   ]
  },
  {
   "cell_type": "code",
   "execution_count": 43,
   "metadata": {},
   "outputs": [
    {
     "data": {
      "text/html": [
       "<div>\n",
       "<style scoped>\n",
       "    .dataframe tbody tr th:only-of-type {\n",
       "        vertical-align: middle;\n",
       "    }\n",
       "\n",
       "    .dataframe tbody tr th {\n",
       "        vertical-align: top;\n",
       "    }\n",
       "\n",
       "    .dataframe thead th {\n",
       "        text-align: right;\n",
       "    }\n",
       "</style>\n",
       "<table border=\"1\" class=\"dataframe\">\n",
       "  <thead>\n",
       "    <tr style=\"text-align: right;\">\n",
       "      <th></th>\n",
       "      <th>Location</th>\n",
       "      <th>Location Info</th>\n",
       "    </tr>\n",
       "  </thead>\n",
       "  <tbody>\n",
       "    <tr>\n",
       "      <td>48</td>\n",
       "      <td>46-056 Kamehameha Highway, Kaneohe (fronting Macy's)</td>\n",
       "      <td>NaN</td>\n",
       "    </tr>\n",
       "    <tr>\n",
       "      <td>59</td>\n",
       "      <td>715 Hoomoana St. (corner of Hoomoana &amp; Komo Mai Dr.) Pearl City, HI 96782</td>\n",
       "      <td>NaN</td>\n",
       "    </tr>\n",
       "    <tr>\n",
       "      <td>61</td>\n",
       "      <td>64-759 Kahilu Road, Waimea (located at Kuhio Hale Building)</td>\n",
       "      <td>NaN</td>\n",
       "    </tr>\n",
       "    <tr>\n",
       "      <td>93</td>\n",
       "      <td>1515 Wilder Avenue at Makiki St. (Parking on Wilder after 5:30 p.m.)</td>\n",
       "      <td>NaN</td>\n",
       "    </tr>\n",
       "    <tr>\n",
       "      <td>125</td>\n",
       "      <td>1100 Ward Ave., Honolulu (across from Thomas Square)</td>\n",
       "      <td>NaN</td>\n",
       "    </tr>\n",
       "    <tr>\n",
       "      <td>127</td>\n",
       "      <td>17-995 Volcano Rd. (Between Mile Markers 12 &amp; 13)</td>\n",
       "      <td>NaN</td>\n",
       "    </tr>\n",
       "  </tbody>\n",
       "</table>\n",
       "</div>"
      ],
      "text/plain": [
       "                                                                      Location  \\\n",
       "48   46-056 Kamehameha Highway, Kaneohe (fronting Macy's)                        \n",
       "59   715 Hoomoana St. (corner of Hoomoana & Komo Mai Dr.) Pearl City, HI 96782   \n",
       "61   64-759 Kahilu Road, Waimea (located at Kuhio Hale Building)                 \n",
       "93   1515 Wilder Avenue at Makiki St. (Parking on Wilder after 5:30 p.m.)        \n",
       "125  1100 Ward Ave., Honolulu (across from Thomas Square)                        \n",
       "127  17-995 Volcano Rd. (Between Mile Markers 12 & 13)                           \n",
       "\n",
       "    Location Info  \n",
       "48   NaN           \n",
       "59   NaN           \n",
       "61   NaN           \n",
       "93   NaN           \n",
       "125  NaN           \n",
       "127  NaN           "
      ]
     },
     "execution_count": 43,
     "metadata": {},
     "output_type": "execute_result"
    }
   ],
   "source": [
    "data[data['Location'].str.contains('^\\d+(?:\\-?\\d+)?(?:[A-Za-z]+)?',na=False) &\n",
    "     data['Location'].str.contains('\\(',na=False)][['Location','Location Info']]"
   ]
  },
  {
   "cell_type": "code",
   "execution_count": 44,
   "metadata": {},
   "outputs": [
    {
     "data": {
      "text/plain": [
       "48     fronting Macy's                  \n",
       "59     corner of Hoomoana & Komo Mai Dr.\n",
       "61     located at Kuhio Hale Building   \n",
       "93     Parking on Wilder after 5:30 p.m.\n",
       "125    across from Thomas Square        \n",
       "127    Between Mile Markers 12 & 13     \n",
       "Name: Location, dtype: object"
      ]
     },
     "execution_count": 44,
     "metadata": {},
     "output_type": "execute_result"
    }
   ],
   "source": [
    "data[data['Location'].str.contains('^\\d+(?:\\-?\\d+)?(?:[A-Za-z]+)?',na=False) &\n",
    "     data['Location'].str.contains('\\(',na=False)]['Location'].str.findall(r'\\((.*?)\\)').str[0]"
   ]
  },
  {
   "cell_type": "code",
   "execution_count": 45,
   "metadata": {},
   "outputs": [],
   "source": [
    "data['Location Info'] = np.where(data['Location'].str.contains('^\\d+(?:\\-?\\d+)?(?:[A-Za-z]+)?',na=False) &\n",
    "                                 data['Location'].str.contains('\\(',na=False),\n",
    "                                 data['Location'].str.findall(r'\\((.*?)\\)').str[0], data['Location Info'])"
   ]
  },
  {
   "cell_type": "markdown",
   "metadata": {},
   "source": [
    "Check if we get right address and city information."
   ]
  },
  {
   "cell_type": "code",
   "execution_count": 46,
   "metadata": {},
   "outputs": [
    {
     "data": {
      "text/html": [
       "<div>\n",
       "<style scoped>\n",
       "    .dataframe tbody tr th:only-of-type {\n",
       "        vertical-align: middle;\n",
       "    }\n",
       "\n",
       "    .dataframe tbody tr th {\n",
       "        vertical-align: top;\n",
       "    }\n",
       "\n",
       "    .dataframe thead th {\n",
       "        text-align: right;\n",
       "    }\n",
       "</style>\n",
       "<table border=\"1\" class=\"dataframe\">\n",
       "  <thead>\n",
       "    <tr style=\"text-align: right;\">\n",
       "      <th></th>\n",
       "      <th>Location</th>\n",
       "      <th>Address</th>\n",
       "      <th>City</th>\n",
       "    </tr>\n",
       "  </thead>\n",
       "  <tbody>\n",
       "    <tr>\n",
       "      <td>7</td>\n",
       "      <td>85-037 Pokai Bay Road, Waianae</td>\n",
       "      <td>85-037 Pokai Bay Road</td>\n",
       "      <td>Waianae</td>\n",
       "    </tr>\n",
       "    <tr>\n",
       "      <td>9</td>\n",
       "      <td>64-759 Kahilu Road, Waimea</td>\n",
       "      <td>64-759 Kahilu Road</td>\n",
       "      <td>Waimea</td>\n",
       "    </tr>\n",
       "    <tr>\n",
       "      <td>10</td>\n",
       "      <td>5337 Likini Street, Honolulu</td>\n",
       "      <td>5337 Likini Street</td>\n",
       "      <td>Honolulu</td>\n",
       "    </tr>\n",
       "    <tr>\n",
       "      <td>25</td>\n",
       "      <td>525 Coral Street, Honolulu</td>\n",
       "      <td>525 Coral Street</td>\n",
       "      <td>Honolulu</td>\n",
       "    </tr>\n",
       "    <tr>\n",
       "      <td>31</td>\n",
       "      <td>315 Kuulei Road, Kailua - parking lot</td>\n",
       "      <td>315 Kuulei Road</td>\n",
       "      <td>Kailua</td>\n",
       "    </tr>\n",
       "    <tr>\n",
       "      <td>41</td>\n",
       "      <td>2752 Woodlawn Drive, Honolulu</td>\n",
       "      <td>2752 Woodlawn Drive</td>\n",
       "      <td>Honolulu</td>\n",
       "    </tr>\n",
       "    <tr>\n",
       "      <td>50</td>\n",
       "      <td>99-795 Iwaiwa Street, HI</td>\n",
       "      <td>99-795 Iwaiwa Street</td>\n",
       "      <td>NaN</td>\n",
       "    </tr>\n",
       "    <tr>\n",
       "      <td>55</td>\n",
       "      <td>1301 Punchbowl Street, Honolulu</td>\n",
       "      <td>1301 Punchbowl Street</td>\n",
       "      <td>Honolulu</td>\n",
       "    </tr>\n",
       "    <tr>\n",
       "      <td>68</td>\n",
       "      <td>21 South Kainalu Drive, Kailua</td>\n",
       "      <td>21 South Kainalu Drive</td>\n",
       "      <td>Kailua</td>\n",
       "    </tr>\n",
       "    <tr>\n",
       "      <td>72</td>\n",
       "      <td>45-660 Keaahala Road, Kaneohe</td>\n",
       "      <td>45-660 Keaahala Road</td>\n",
       "      <td>Kaneohe</td>\n",
       "    </tr>\n",
       "    <tr>\n",
       "      <td>77</td>\n",
       "      <td>84-4770 Mamalahoa Hwy, Captain Cook</td>\n",
       "      <td>84-4770 Mamalahoa Hwy</td>\n",
       "      <td>Captain Cook</td>\n",
       "    </tr>\n",
       "    <tr>\n",
       "      <td>80</td>\n",
       "      <td>94-1150 Lanikuhana Avenue, Mililani</td>\n",
       "      <td>94-1150 Lanikuhana Avenue</td>\n",
       "      <td>Mililani</td>\n",
       "    </tr>\n",
       "    <tr>\n",
       "      <td>89</td>\n",
       "      <td>41-741 Kalanianaole Highway, Waimanalo</td>\n",
       "      <td>41-741 Kalanianaole Highway</td>\n",
       "      <td>Waimanalo</td>\n",
       "    </tr>\n",
       "    <tr>\n",
       "      <td>92</td>\n",
       "      <td>94-870 Lumiaina Street, Waipahu</td>\n",
       "      <td>94-870 Lumiaina Street</td>\n",
       "      <td>Waipahu</td>\n",
       "    </tr>\n",
       "    <tr>\n",
       "      <td>95</td>\n",
       "      <td>1990 Kinoole Street, Hilo</td>\n",
       "      <td>1990 Kinoole Street</td>\n",
       "      <td>Hilo</td>\n",
       "    </tr>\n",
       "    <tr>\n",
       "      <td>109</td>\n",
       "      <td>68-3625 Paniolo Ave., Waikoloa</td>\n",
       "      <td>68-3625 Paniolo Ave.</td>\n",
       "      <td>Waikoloa</td>\n",
       "    </tr>\n",
       "    <tr>\n",
       "      <td>110</td>\n",
       "      <td>500 Ala Moana Boulevard, Honolulu</td>\n",
       "      <td>500 Ala Moana Boulevard</td>\n",
       "      <td>Honolulu</td>\n",
       "    </tr>\n",
       "    <tr>\n",
       "      <td>123</td>\n",
       "      <td>2237 South King Street, Honolulu</td>\n",
       "      <td>2237 South King Street</td>\n",
       "      <td>Honolulu</td>\n",
       "    </tr>\n",
       "    <tr>\n",
       "      <td>128</td>\n",
       "      <td>91-1049 Kamaaha Loop, Kapolei</td>\n",
       "      <td>91-1049 Kamaaha Loop</td>\n",
       "      <td>Kapolei</td>\n",
       "    </tr>\n",
       "    <tr>\n",
       "      <td>137</td>\n",
       "      <td>841 Bishop Street, Honolulu</td>\n",
       "      <td>841 Bishop Street</td>\n",
       "      <td>Honolulu</td>\n",
       "    </tr>\n",
       "    <tr>\n",
       "      <td>138</td>\n",
       "      <td>94-230 Paiwa Street, Waipahu</td>\n",
       "      <td>94-230 Paiwa Street</td>\n",
       "      <td>Waipahu</td>\n",
       "    </tr>\n",
       "    <tr>\n",
       "      <td>141</td>\n",
       "      <td>315 Kuulei Road, HI</td>\n",
       "      <td>315 Kuulei Road</td>\n",
       "      <td>NaN</td>\n",
       "    </tr>\n",
       "    <tr>\n",
       "      <td>142</td>\n",
       "      <td>91-740 Papipi Road, Ewa Beach</td>\n",
       "      <td>91-740 Papipi Road</td>\n",
       "      <td>Ewa Beach</td>\n",
       "    </tr>\n",
       "    <tr>\n",
       "      <td>147</td>\n",
       "      <td>2313 Nuuanu Avenue, Honolulu</td>\n",
       "      <td>2313 Nuuanu Avenue</td>\n",
       "      <td>Honolulu</td>\n",
       "    </tr>\n",
       "    <tr>\n",
       "      <td>148</td>\n",
       "      <td>4303 Diamond Head Road, Honolulu</td>\n",
       "      <td>4303 Diamond Head Road</td>\n",
       "      <td>Honolulu</td>\n",
       "    </tr>\n",
       "    <tr>\n",
       "      <td>155</td>\n",
       "      <td>1911 Kam IV Road, Honolulu</td>\n",
       "      <td>1911 Kam IV Road</td>\n",
       "      <td>Honolulu</td>\n",
       "    </tr>\n",
       "    <tr>\n",
       "      <td>167</td>\n",
       "      <td>300 Keahole Street, Honolulu</td>\n",
       "      <td>300 Keahole Street</td>\n",
       "      <td>Honolulu</td>\n",
       "    </tr>\n",
       "    <tr>\n",
       "      <td>171</td>\n",
       "      <td>300 Keahole Street, Honolulu</td>\n",
       "      <td>300 Keahole Street</td>\n",
       "      <td>Honolulu</td>\n",
       "    </tr>\n",
       "    <tr>\n",
       "      <td>174</td>\n",
       "      <td>1527 Keeaumoku Street, Honolulu</td>\n",
       "      <td>1527 Keeaumoku Street</td>\n",
       "      <td>Honolulu</td>\n",
       "    </tr>\n",
       "    <tr>\n",
       "      <td>180</td>\n",
       "      <td>2007 Palolo Avenue, Honolulu</td>\n",
       "      <td>2007 Palolo Avenue</td>\n",
       "      <td>Honolulu</td>\n",
       "    </tr>\n",
       "    <tr>\n",
       "      <td>186</td>\n",
       "      <td>1000 Wright Road, Cooper Center, Volcano</td>\n",
       "      <td>1000 Wright Road</td>\n",
       "      <td>Cooper Center</td>\n",
       "    </tr>\n",
       "    <tr>\n",
       "      <td>191</td>\n",
       "      <td>75-6129 Alii Drive, Kailua-Kona</td>\n",
       "      <td>75-6129 Alii Drive</td>\n",
       "      <td>Kailua</td>\n",
       "    </tr>\n",
       "    <tr>\n",
       "      <td>198</td>\n",
       "      <td>84-4770 Mamalahoa Hwy, Captain Cook</td>\n",
       "      <td>84-4770 Mamalahoa Hwy</td>\n",
       "      <td>Captain Cook</td>\n",
       "    </tr>\n",
       "    <tr>\n",
       "      <td>200</td>\n",
       "      <td>2721 Kaaipu Avenue, Honolulu</td>\n",
       "      <td>2721 Kaaipu Avenue</td>\n",
       "      <td>Honolulu</td>\n",
       "    </tr>\n",
       "    <tr>\n",
       "      <td>202</td>\n",
       "      <td>85-251 Farrington Highway, Waianae</td>\n",
       "      <td>85-251 Farrington Highway</td>\n",
       "      <td>Waianae</td>\n",
       "    </tr>\n",
       "    <tr>\n",
       "      <td>208</td>\n",
       "      <td>1990 Kinoole Street, Hilo</td>\n",
       "      <td>1990 Kinoole Street</td>\n",
       "      <td>Hilo</td>\n",
       "    </tr>\n",
       "    <tr>\n",
       "      <td>214</td>\n",
       "      <td>2330 Kalakaua Avenue, Honolulu</td>\n",
       "      <td>2330 Kalakaua Avenue</td>\n",
       "      <td>Honolulu</td>\n",
       "    </tr>\n",
       "    <tr>\n",
       "      <td>217</td>\n",
       "      <td>95-1200 Meheula Parkway, Mililani High School Parking Lot</td>\n",
       "      <td>95-1200 Meheula Parkway</td>\n",
       "      <td>Mililani High</td>\n",
       "    </tr>\n",
       "    <tr>\n",
       "      <td>221</td>\n",
       "      <td>131 Kaiulani Ave., Honolulu</td>\n",
       "      <td>131 Kaiulani Ave.</td>\n",
       "      <td>Honolulu</td>\n",
       "    </tr>\n",
       "  </tbody>\n",
       "</table>\n",
       "</div>"
      ],
      "text/plain": [
       "                                                      Location  \\\n",
       "7    85-037 Pokai Bay Road, Waianae                              \n",
       "9    64-759 Kahilu Road, Waimea                                  \n",
       "10   5337 Likini Street, Honolulu                                \n",
       "25   525 Coral Street, Honolulu                                  \n",
       "31   315 Kuulei Road, Kailua - parking lot                       \n",
       "41   2752 Woodlawn Drive, Honolulu                               \n",
       "50   99-795 Iwaiwa Street, HI                                    \n",
       "55   1301 Punchbowl Street, Honolulu                             \n",
       "68   21 South Kainalu Drive, Kailua                              \n",
       "72   45-660 Keaahala Road, Kaneohe                               \n",
       "77   84-4770 Mamalahoa Hwy, Captain Cook                         \n",
       "80   94-1150 Lanikuhana Avenue, Mililani                         \n",
       "89   41-741 Kalanianaole Highway, Waimanalo                      \n",
       "92   94-870 Lumiaina Street, Waipahu                             \n",
       "95   1990 Kinoole Street, Hilo                                   \n",
       "109  68-3625 Paniolo Ave., Waikoloa                              \n",
       "110  500 Ala Moana Boulevard, Honolulu                           \n",
       "123  2237 South King Street, Honolulu                            \n",
       "128  91-1049 Kamaaha Loop, Kapolei                               \n",
       "137  841 Bishop Street, Honolulu                                 \n",
       "138  94-230 Paiwa Street, Waipahu                                \n",
       "141  315 Kuulei Road, HI                                         \n",
       "142  91-740 Papipi Road, Ewa Beach                               \n",
       "147  2313 Nuuanu Avenue, Honolulu                                \n",
       "148  4303 Diamond Head Road, Honolulu                            \n",
       "155  1911 Kam IV Road, Honolulu                                  \n",
       "167  300 Keahole Street, Honolulu                                \n",
       "171  300 Keahole Street, Honolulu                                \n",
       "174  1527 Keeaumoku Street, Honolulu                             \n",
       "180  2007 Palolo Avenue, Honolulu                                \n",
       "186  1000 Wright Road, Cooper Center, Volcano                    \n",
       "191  75-6129 Alii Drive, Kailua-Kona                             \n",
       "198  84-4770 Mamalahoa Hwy, Captain Cook                         \n",
       "200  2721 Kaaipu Avenue, Honolulu                                \n",
       "202  85-251 Farrington Highway, Waianae                          \n",
       "208  1990 Kinoole Street, Hilo                                   \n",
       "214  2330 Kalakaua Avenue, Honolulu                              \n",
       "217  95-1200 Meheula Parkway, Mililani High School Parking Lot   \n",
       "221  131 Kaiulani Ave., Honolulu                                 \n",
       "\n",
       "                         Address           City  \n",
       "7    85-037 Pokai Bay Road        Waianae        \n",
       "9    64-759 Kahilu Road           Waimea         \n",
       "10   5337 Likini Street           Honolulu       \n",
       "25   525 Coral Street             Honolulu       \n",
       "31   315 Kuulei Road              Kailua         \n",
       "41   2752 Woodlawn Drive          Honolulu       \n",
       "50   99-795 Iwaiwa Street         NaN            \n",
       "55   1301 Punchbowl Street        Honolulu       \n",
       "68   21 South Kainalu Drive       Kailua         \n",
       "72   45-660 Keaahala Road         Kaneohe        \n",
       "77   84-4770 Mamalahoa Hwy        Captain Cook   \n",
       "80   94-1150 Lanikuhana Avenue    Mililani       \n",
       "89   41-741 Kalanianaole Highway  Waimanalo      \n",
       "92   94-870 Lumiaina Street       Waipahu        \n",
       "95   1990 Kinoole Street          Hilo           \n",
       "109  68-3625 Paniolo Ave.         Waikoloa       \n",
       "110  500 Ala Moana Boulevard      Honolulu       \n",
       "123  2237 South King Street       Honolulu       \n",
       "128  91-1049 Kamaaha Loop         Kapolei        \n",
       "137  841 Bishop Street            Honolulu       \n",
       "138  94-230 Paiwa Street          Waipahu        \n",
       "141  315 Kuulei Road              NaN            \n",
       "142  91-740 Papipi Road           Ewa Beach      \n",
       "147  2313 Nuuanu Avenue           Honolulu       \n",
       "148  4303 Diamond Head Road       Honolulu       \n",
       "155  1911 Kam IV Road             Honolulu       \n",
       "167  300 Keahole Street           Honolulu       \n",
       "171  300 Keahole Street           Honolulu       \n",
       "174  1527 Keeaumoku Street        Honolulu       \n",
       "180  2007 Palolo Avenue           Honolulu       \n",
       "186  1000 Wright Road             Cooper Center  \n",
       "191  75-6129 Alii Drive           Kailua         \n",
       "198  84-4770 Mamalahoa Hwy        Captain Cook   \n",
       "200  2721 Kaaipu Avenue           Honolulu       \n",
       "202  85-251 Farrington Highway    Waianae        \n",
       "208  1990 Kinoole Street          Hilo           \n",
       "214  2330 Kalakaua Avenue         Honolulu       \n",
       "217  95-1200 Meheula Parkway      Mililani High  \n",
       "221  131 Kaiulani Ave.            Honolulu       "
      ]
     },
     "execution_count": 46,
     "metadata": {},
     "output_type": "execute_result"
    }
   ],
   "source": [
    "data[data['Location'].notna() & data['Address'].notna() & data['Location Info'].isna() &\n",
    "    (data['Location'] != data['Address'])][['Location','Address','City']]"
   ]
  },
  {
   "cell_type": "markdown",
   "metadata": {},
   "source": [
    "Make some adjsutment."
   ]
  },
  {
   "cell_type": "code",
   "execution_count": 47,
   "metadata": {},
   "outputs": [],
   "source": [
    "data.loc[31]['Location Info'] = 'parking lot'\n",
    "data.loc[217]['City'] = np.nan"
   ]
  },
  {
   "cell_type": "code",
   "execution_count": 48,
   "metadata": {},
   "outputs": [
    {
     "data": {
      "text/plain": [
       "array([nan, 'Waianae', 'Waimea', 'Honolulu', 'Lihue', 'Kailua', 'Kekaha',\n",
       "       'Captain Cook', 'Kapolei', 'Kaneohe', 'Pearl City', 'Haleiwa',\n",
       "       'Mililani', 'Waimanalo', 'Waipahu', 'Hilo', 'Waikoloa', 'Kapaa',\n",
       "       'Ewa Beach', 'Pahoa', 'Hanalei', 'Cooper Center'], dtype=object)"
      ]
     },
     "execution_count": 48,
     "metadata": {},
     "output_type": "execute_result"
    }
   ],
   "source": [
    "data['City'].unique()"
   ]
  },
  {
   "cell_type": "markdown",
   "metadata": {},
   "source": [
    "Now replace Location with Address column. Strip \".\" to get the nearest format."
   ]
  },
  {
   "cell_type": "code",
   "execution_count": 49,
   "metadata": {},
   "outputs": [],
   "source": [
    "data['Location'] = data['Address']\n",
    "data.drop('Address', axis=1, inplace=True)\n",
    "data['Location'] = data['Location'].str.strip('.')"
   ]
  },
  {
   "cell_type": "code",
   "execution_count": 50,
   "metadata": {},
   "outputs": [
    {
     "data": {
      "text/html": [
       "<div>\n",
       "<style scoped>\n",
       "    .dataframe tbody tr th:only-of-type {\n",
       "        vertical-align: middle;\n",
       "    }\n",
       "\n",
       "    .dataframe tbody tr th {\n",
       "        vertical-align: top;\n",
       "    }\n",
       "\n",
       "    .dataframe thead th {\n",
       "        text-align: right;\n",
       "    }\n",
       "</style>\n",
       "<table border=\"1\" class=\"dataframe\">\n",
       "  <thead>\n",
       "    <tr style=\"text-align: right;\">\n",
       "      <th></th>\n",
       "      <th>col1</th>\n",
       "      <th>Location</th>\n",
       "      <th>Location Info</th>\n",
       "      <th>City</th>\n",
       "    </tr>\n",
       "  </thead>\n",
       "  <tbody>\n",
       "    <tr>\n",
       "      <td>7</td>\n",
       "      <td>85-037 Pokai Bay Road, Waianae</td>\n",
       "      <td>85-037 Pokai Bay Road</td>\n",
       "      <td>NaN</td>\n",
       "      <td>Waianae</td>\n",
       "    </tr>\n",
       "    <tr>\n",
       "      <td>10</td>\n",
       "      <td>5337 Likini Street, Honolulu</td>\n",
       "      <td>5337 Likini Street</td>\n",
       "      <td>NaN</td>\n",
       "      <td>Honolulu</td>\n",
       "    </tr>\n",
       "    <tr>\n",
       "      <td>25</td>\n",
       "      <td>525 Coral Street, Honolulu</td>\n",
       "      <td>525 Coral Street</td>\n",
       "      <td>NaN</td>\n",
       "      <td>Honolulu</td>\n",
       "    </tr>\n",
       "    <tr>\n",
       "      <td>30</td>\n",
       "      <td>64-604 Mana Road</td>\n",
       "      <td>64-604 Mana Road</td>\n",
       "      <td>NaN</td>\n",
       "      <td>NaN</td>\n",
       "    </tr>\n",
       "    <tr>\n",
       "      <td>31</td>\n",
       "      <td>315 Kuulei Road, Kailua - parking lot</td>\n",
       "      <td>315 Kuulei Road</td>\n",
       "      <td>parking lot</td>\n",
       "      <td>Kailua</td>\n",
       "    </tr>\n",
       "    <tr>\n",
       "      <td>41</td>\n",
       "      <td>2752 Woodlawn Drive, Honolulu</td>\n",
       "      <td>2752 Woodlawn Drive</td>\n",
       "      <td>NaN</td>\n",
       "      <td>Honolulu</td>\n",
       "    </tr>\n",
       "    <tr>\n",
       "      <td>43</td>\n",
       "      <td>99-795 Iwaiwa Street</td>\n",
       "      <td>99-795 Iwaiwa Street</td>\n",
       "      <td>NaN</td>\n",
       "      <td>NaN</td>\n",
       "    </tr>\n",
       "    <tr>\n",
       "      <td>48</td>\n",
       "      <td>46-056 Kamehameha Highway, Kaneohe (fronting Macy's)</td>\n",
       "      <td>46-056 Kamehameha Highway</td>\n",
       "      <td>fronting Macy's</td>\n",
       "      <td>Kaneohe</td>\n",
       "    </tr>\n",
       "    <tr>\n",
       "      <td>55</td>\n",
       "      <td>1301 Punchbowl Street, Honolulu</td>\n",
       "      <td>1301 Punchbowl Street</td>\n",
       "      <td>NaN</td>\n",
       "      <td>Honolulu</td>\n",
       "    </tr>\n",
       "    <tr>\n",
       "      <td>61</td>\n",
       "      <td>64-759 Kahilu Road, Waimea (located at Kuhio Hale Building)</td>\n",
       "      <td>64-759 Kahilu Road</td>\n",
       "      <td>located at Kuhio Hale Building</td>\n",
       "      <td>Waimea</td>\n",
       "    </tr>\n",
       "    <tr>\n",
       "      <td>68</td>\n",
       "      <td>21 South Kainalu Drive, Kailua</td>\n",
       "      <td>21 South Kainalu Drive</td>\n",
       "      <td>NaN</td>\n",
       "      <td>Kailua</td>\n",
       "    </tr>\n",
       "    <tr>\n",
       "      <td>72</td>\n",
       "      <td>45-660 Keaahala Road, Kaneohe</td>\n",
       "      <td>45-660 Keaahala Road</td>\n",
       "      <td>NaN</td>\n",
       "      <td>Kaneohe</td>\n",
       "    </tr>\n",
       "    <tr>\n",
       "      <td>80</td>\n",
       "      <td>94-1150 Lanikuhana Avenue, Mililani</td>\n",
       "      <td>94-1150 Lanikuhana Avenue</td>\n",
       "      <td>NaN</td>\n",
       "      <td>Mililani</td>\n",
       "    </tr>\n",
       "    <tr>\n",
       "      <td>89</td>\n",
       "      <td>41-741 Kalanianaole Highway, Waimanalo</td>\n",
       "      <td>41-741 Kalanianaole Highway</td>\n",
       "      <td>NaN</td>\n",
       "      <td>Waimanalo</td>\n",
       "    </tr>\n",
       "    <tr>\n",
       "      <td>92</td>\n",
       "      <td>94-870 Lumiaina Street, Waipahu</td>\n",
       "      <td>94-870 Lumiaina Street</td>\n",
       "      <td>NaN</td>\n",
       "      <td>Waipahu</td>\n",
       "    </tr>\n",
       "    <tr>\n",
       "      <td>93</td>\n",
       "      <td>1515 Wilder Avenue at Makiki St. (Parking on Wilder after 5:30 p.m.)</td>\n",
       "      <td>1515 Wilder Avenue at Makiki St</td>\n",
       "      <td>Parking on Wilder after 5:30 p.m.</td>\n",
       "      <td>NaN</td>\n",
       "    </tr>\n",
       "    <tr>\n",
       "      <td>108</td>\n",
       "      <td>16-0550 Old Volcano Road</td>\n",
       "      <td>16-0550 Old Volcano Road</td>\n",
       "      <td>NaN</td>\n",
       "      <td>NaN</td>\n",
       "    </tr>\n",
       "    <tr>\n",
       "      <td>110</td>\n",
       "      <td>500 Ala Moana Boulevard, Honolulu</td>\n",
       "      <td>500 Ala Moana Boulevard</td>\n",
       "      <td>NaN</td>\n",
       "      <td>Honolulu</td>\n",
       "    </tr>\n",
       "    <tr>\n",
       "      <td>123</td>\n",
       "      <td>2237 South King Street, Honolulu</td>\n",
       "      <td>2237 South King Street</td>\n",
       "      <td>NaN</td>\n",
       "      <td>Honolulu</td>\n",
       "    </tr>\n",
       "    <tr>\n",
       "      <td>128</td>\n",
       "      <td>91-1049 Kamaaha Loop, Kapolei</td>\n",
       "      <td>91-1049 Kamaaha Loop</td>\n",
       "      <td>NaN</td>\n",
       "      <td>Kapolei</td>\n",
       "    </tr>\n",
       "    <tr>\n",
       "      <td>131</td>\n",
       "      <td>3654 Baldwin Avenue</td>\n",
       "      <td>3654 Baldwin Avenue</td>\n",
       "      <td>NaN</td>\n",
       "      <td>NaN</td>\n",
       "    </tr>\n",
       "    <tr>\n",
       "      <td>137</td>\n",
       "      <td>841 Bishop Street, Honolulu</td>\n",
       "      <td>841 Bishop Street</td>\n",
       "      <td>NaN</td>\n",
       "      <td>Honolulu</td>\n",
       "    </tr>\n",
       "    <tr>\n",
       "      <td>138</td>\n",
       "      <td>94-230 Paiwa Street, Waipahu</td>\n",
       "      <td>94-230 Paiwa Street</td>\n",
       "      <td>NaN</td>\n",
       "      <td>Waipahu</td>\n",
       "    </tr>\n",
       "    <tr>\n",
       "      <td>142</td>\n",
       "      <td>91-740 Papipi Road, Ewa Beach</td>\n",
       "      <td>91-740 Papipi Road</td>\n",
       "      <td>NaN</td>\n",
       "      <td>Ewa Beach</td>\n",
       "    </tr>\n",
       "    <tr>\n",
       "      <td>148</td>\n",
       "      <td>4303 Diamond Head Road, Honolulu</td>\n",
       "      <td>4303 Diamond Head Road</td>\n",
       "      <td>NaN</td>\n",
       "      <td>Honolulu</td>\n",
       "    </tr>\n",
       "    <tr>\n",
       "      <td>151</td>\n",
       "      <td>74-5465 Kamakaeha Avenue</td>\n",
       "      <td>74-5465 Kamakaeha Avenue</td>\n",
       "      <td>NaN</td>\n",
       "      <td>NaN</td>\n",
       "    </tr>\n",
       "    <tr>\n",
       "      <td>155</td>\n",
       "      <td>1911 Kam IV Road, Honolulu</td>\n",
       "      <td>1911 Kam IV Road</td>\n",
       "      <td>NaN</td>\n",
       "      <td>Honolulu</td>\n",
       "    </tr>\n",
       "    <tr>\n",
       "      <td>165</td>\n",
       "      <td>16-0550 Old Volcano Road</td>\n",
       "      <td>16-0550 Old Volcano Road</td>\n",
       "      <td>NaN</td>\n",
       "      <td>NaN</td>\n",
       "    </tr>\n",
       "    <tr>\n",
       "      <td>171</td>\n",
       "      <td>300 Keahole Street, Honolulu</td>\n",
       "      <td>300 Keahole Street</td>\n",
       "      <td>NaN</td>\n",
       "      <td>Honolulu</td>\n",
       "    </tr>\n",
       "    <tr>\n",
       "      <td>174</td>\n",
       "      <td>1527 Keeaumoku Street, Honolulu</td>\n",
       "      <td>1527 Keeaumoku Street</td>\n",
       "      <td>NaN</td>\n",
       "      <td>Honolulu</td>\n",
       "    </tr>\n",
       "    <tr>\n",
       "      <td>180</td>\n",
       "      <td>2007 Palolo Avenue, Honolulu</td>\n",
       "      <td>2007 Palolo Avenue</td>\n",
       "      <td>NaN</td>\n",
       "      <td>Honolulu</td>\n",
       "    </tr>\n",
       "    <tr>\n",
       "      <td>186</td>\n",
       "      <td>1000 Wright Road, Cooper Center, Volcano</td>\n",
       "      <td>1000 Wright Road</td>\n",
       "      <td>NaN</td>\n",
       "      <td>Cooper Center</td>\n",
       "    </tr>\n",
       "    <tr>\n",
       "      <td>191</td>\n",
       "      <td>75-6129 Alii Drive, Kailua-Kona</td>\n",
       "      <td>75-6129 Alii Drive</td>\n",
       "      <td>NaN</td>\n",
       "      <td>Kailua</td>\n",
       "    </tr>\n",
       "    <tr>\n",
       "      <td>200</td>\n",
       "      <td>2721 Kaaipu Avenue, Honolulu</td>\n",
       "      <td>2721 Kaaipu Avenue</td>\n",
       "      <td>NaN</td>\n",
       "      <td>Honolulu</td>\n",
       "    </tr>\n",
       "    <tr>\n",
       "      <td>208</td>\n",
       "      <td>1990 Kinoole Street, Hilo</td>\n",
       "      <td>1990 Kinoole Street</td>\n",
       "      <td>NaN</td>\n",
       "      <td>Hilo</td>\n",
       "    </tr>\n",
       "    <tr>\n",
       "      <td>214</td>\n",
       "      <td>2330 Kalakaua Avenue, Honolulu</td>\n",
       "      <td>2330 Kalakaua Avenue</td>\n",
       "      <td>NaN</td>\n",
       "      <td>Honolulu</td>\n",
       "    </tr>\n",
       "    <tr>\n",
       "      <td>217</td>\n",
       "      <td>95-1200 Meheula Parkway, Mililani High School Parking Lot</td>\n",
       "      <td>95-1200 Meheula Parkway</td>\n",
       "      <td>NaN</td>\n",
       "      <td>NaN</td>\n",
       "    </tr>\n",
       "    <tr>\n",
       "      <td>221</td>\n",
       "      <td>131 Kaiulani Ave., Honolulu</td>\n",
       "      <td>131 Kaiulani Ave</td>\n",
       "      <td>NaN</td>\n",
       "      <td>Honolulu</td>\n",
       "    </tr>\n",
       "  </tbody>\n",
       "</table>\n",
       "</div>"
      ],
      "text/plain": [
       "                                                                     col1  \\\n",
       "7    85-037 Pokai Bay Road, Waianae                                         \n",
       "10   5337 Likini Street, Honolulu                                           \n",
       "25   525 Coral Street, Honolulu                                             \n",
       "30   64-604 Mana Road                                                       \n",
       "31   315 Kuulei Road, Kailua - parking lot                                  \n",
       "41   2752 Woodlawn Drive, Honolulu                                          \n",
       "43   99-795 Iwaiwa Street                                                   \n",
       "48   46-056 Kamehameha Highway, Kaneohe (fronting Macy's)                   \n",
       "55   1301 Punchbowl Street, Honolulu                                        \n",
       "61   64-759 Kahilu Road, Waimea (located at Kuhio Hale Building)            \n",
       "68   21 South Kainalu Drive, Kailua                                         \n",
       "72   45-660 Keaahala Road, Kaneohe                                          \n",
       "80   94-1150 Lanikuhana Avenue, Mililani                                    \n",
       "89   41-741 Kalanianaole Highway, Waimanalo                                 \n",
       "92   94-870 Lumiaina Street, Waipahu                                        \n",
       "93   1515 Wilder Avenue at Makiki St. (Parking on Wilder after 5:30 p.m.)   \n",
       "108  16-0550 Old Volcano Road                                               \n",
       "110  500 Ala Moana Boulevard, Honolulu                                      \n",
       "123  2237 South King Street, Honolulu                                       \n",
       "128  91-1049 Kamaaha Loop, Kapolei                                          \n",
       "131  3654 Baldwin Avenue                                                    \n",
       "137  841 Bishop Street, Honolulu                                            \n",
       "138  94-230 Paiwa Street, Waipahu                                           \n",
       "142  91-740 Papipi Road, Ewa Beach                                          \n",
       "148  4303 Diamond Head Road, Honolulu                                       \n",
       "151  74-5465 Kamakaeha Avenue                                               \n",
       "155  1911 Kam IV Road, Honolulu                                             \n",
       "165  16-0550 Old Volcano Road                                               \n",
       "171  300 Keahole Street, Honolulu                                           \n",
       "174  1527 Keeaumoku Street, Honolulu                                        \n",
       "180  2007 Palolo Avenue, Honolulu                                           \n",
       "186  1000 Wright Road, Cooper Center, Volcano                               \n",
       "191  75-6129 Alii Drive, Kailua-Kona                                        \n",
       "200  2721 Kaaipu Avenue, Honolulu                                           \n",
       "208  1990 Kinoole Street, Hilo                                              \n",
       "214  2330 Kalakaua Avenue, Honolulu                                         \n",
       "217  95-1200 Meheula Parkway, Mililani High School Parking Lot              \n",
       "221  131 Kaiulani Ave., Honolulu                                            \n",
       "\n",
       "                            Location                      Location Info  \\\n",
       "7    85-037 Pokai Bay Road            NaN                                 \n",
       "10   5337 Likini Street               NaN                                 \n",
       "25   525 Coral Street                 NaN                                 \n",
       "30   64-604 Mana Road                 NaN                                 \n",
       "31   315 Kuulei Road                  parking lot                         \n",
       "41   2752 Woodlawn Drive              NaN                                 \n",
       "43   99-795 Iwaiwa Street             NaN                                 \n",
       "48   46-056 Kamehameha Highway        fronting Macy's                     \n",
       "55   1301 Punchbowl Street            NaN                                 \n",
       "61   64-759 Kahilu Road               located at Kuhio Hale Building      \n",
       "68   21 South Kainalu Drive           NaN                                 \n",
       "72   45-660 Keaahala Road             NaN                                 \n",
       "80   94-1150 Lanikuhana Avenue        NaN                                 \n",
       "89   41-741 Kalanianaole Highway      NaN                                 \n",
       "92   94-870 Lumiaina Street           NaN                                 \n",
       "93   1515 Wilder Avenue at Makiki St  Parking on Wilder after 5:30 p.m.   \n",
       "108  16-0550 Old Volcano Road         NaN                                 \n",
       "110  500 Ala Moana Boulevard          NaN                                 \n",
       "123  2237 South King Street           NaN                                 \n",
       "128  91-1049 Kamaaha Loop             NaN                                 \n",
       "131  3654 Baldwin Avenue              NaN                                 \n",
       "137  841 Bishop Street                NaN                                 \n",
       "138  94-230 Paiwa Street              NaN                                 \n",
       "142  91-740 Papipi Road               NaN                                 \n",
       "148  4303 Diamond Head Road           NaN                                 \n",
       "151  74-5465 Kamakaeha Avenue         NaN                                 \n",
       "155  1911 Kam IV Road                 NaN                                 \n",
       "165  16-0550 Old Volcano Road         NaN                                 \n",
       "171  300 Keahole Street               NaN                                 \n",
       "174  1527 Keeaumoku Street            NaN                                 \n",
       "180  2007 Palolo Avenue               NaN                                 \n",
       "186  1000 Wright Road                 NaN                                 \n",
       "191  75-6129 Alii Drive               NaN                                 \n",
       "200  2721 Kaaipu Avenue               NaN                                 \n",
       "208  1990 Kinoole Street              NaN                                 \n",
       "214  2330 Kalakaua Avenue             NaN                                 \n",
       "217  95-1200 Meheula Parkway          NaN                                 \n",
       "221  131 Kaiulani Ave                 NaN                                 \n",
       "\n",
       "              City  \n",
       "7    Waianae        \n",
       "10   Honolulu       \n",
       "25   Honolulu       \n",
       "30   NaN            \n",
       "31   Kailua         \n",
       "41   Honolulu       \n",
       "43   NaN            \n",
       "48   Kaneohe        \n",
       "55   Honolulu       \n",
       "61   Waimea         \n",
       "68   Kailua         \n",
       "72   Kaneohe        \n",
       "80   Mililani       \n",
       "89   Waimanalo      \n",
       "92   Waipahu        \n",
       "93   NaN            \n",
       "108  NaN            \n",
       "110  Honolulu       \n",
       "123  Honolulu       \n",
       "128  Kapolei        \n",
       "131  NaN            \n",
       "137  Honolulu       \n",
       "138  Waipahu        \n",
       "142  Ewa Beach      \n",
       "148  Honolulu       \n",
       "151  NaN            \n",
       "155  Honolulu       \n",
       "165  NaN            \n",
       "171  Honolulu       \n",
       "174  Honolulu       \n",
       "180  Honolulu       \n",
       "186  Cooper Center  \n",
       "191  Kailua         \n",
       "200  Honolulu       \n",
       "208  Hilo           \n",
       "214  Honolulu       \n",
       "217  NaN            \n",
       "221  Honolulu       "
      ]
     },
     "execution_count": 50,
     "metadata": {},
     "output_type": "execute_result"
    }
   ],
   "source": [
    "data[data['col1'].str.contains('^\\d+(?:\\-?\\d+)?(?:[A-Za-z]+)?',na=False)][['col1','Location','Location Info','City']]"
   ]
  },
  {
   "cell_type": "markdown",
   "metadata": {},
   "source": [
    "We already captured all address information from col1. Let's replace these values with Nans."
   ]
  },
  {
   "cell_type": "code",
   "execution_count": 51,
   "metadata": {},
   "outputs": [],
   "source": [
    "data['col1'] = np.where(data['col1'].str.contains(\n",
    "                        '^\\d+(?:\\-?\\d+)?(?:[A-Za-z]+)?',na=False),\n",
    "                        np.nan, data['col1'])"
   ]
  },
  {
   "cell_type": "code",
   "execution_count": 52,
   "metadata": {},
   "outputs": [
    {
     "data": {
      "text/plain": [
       "array(['Waialua Sugar Mill', 'Elepaio Road, Kekaha',\n",
       "       \"Hali'imaile Town Center (in a former Maui Pineapple Co. parking lot next to Hali'imaile General Store)\",\n",
       "       'International Market Place-Waikiki (near the Food Court)', nan,\n",
       "       'Kalanianaole Highway at Keahole Street, Honolulu', 'Hawi',\n",
       "       'Maui Mall, Kahului', 'Keauhou Beach Resort Royal Gardens',\n",
       "       'in Old Hanapepe Town',\n",
       "       'Corner of Puainako and Ohuohu., On the sidewalk of Hilo WalMart',\n",
       "       'Across from the Hilo Farmer’s Market',\n",
       "       'Across from Hale Halawai, Kailua-Kona',\n",
       "       'Kailua Road - Kailua Parking Garage (behind Longs)',\n",
       "       'Parking lot across from Ward 16 Theatres, Corner of Auahi &',\n",
       "       'Neal S. Blaisdell Center (Ward Ave. & Kapiolani Blvd.)',\n",
       "       'Monsarrat and Paki Street, Honolulu',\n",
       "       'Poipu Road and Cane Haul Road', 'Parker School',\n",
       "       'Kam Hwy. and Joseph P. Leong Bypass', 'Momilani Community Center',\n",
       "       'Keneke off Lighthouse Road, Kilauea',\n",
       "       'Located in Suda Store parking lot on South Kihei Road',\n",
       "       'Waipa, Hanalei',\n",
       "       'Near the old Higashi Store, between mile marker 103 &104',\n",
       "       \"Queen Ka'ahumanu Shopping Center (center stage area)\",\n",
       "       'N. Cane & California Avenue, Wahiawa',\n",
       "       'Kapalama Elementary School - 1601 N. School Street',\n",
       "       'Old Botelho Bldg., Downtown Honokaa', 'Hoolako Road, Lihue',\n",
       "       'Keauhou Shopping Center, fronting Ace Hardware',\n",
       "       'Old Hanapepe Town', 'Mamo Parking Lot, Hilo',\n",
       "       'Waikoloa Community Church Parking Lot', 'Maluhia Road, Koloa',\n",
       "       'Old gas station, Hasegawa General Store - Hana Hwy.',\n",
       "       'Laupahoehoe - next to the Minit Stop on Hwy. 19',\n",
       "       'at Kaiser High School in Hawaii Kai', 'Hilo Coffee Mill Farm',\n",
       "       'Kapolei High School',\n",
       "       'Windward Baptist Church at 47-528A Kamehameha Hwy.',\n",
       "       'Papalina Road off Kaumualii, Kalaheo',\n",
       "       'Akebono Parking Lot, Pahoa',\n",
       "       'Honolulu Central Seventh Day Adventist Church',\n",
       "       '(formerly at Eddie Tam Community Center)', 'Hanalei',\n",
       "       'Highway 130, between Keaau and Pahoa', 'Kahau Road, Kapaa',\n",
       "       'Komo Mai Drive, Pearl City', 'Lihue',\n",
       "       \"Maui Community College on Ka'ahumanu Avenue (lot nearest to Kahului Beach Road)\",\n",
       "       'In Front of Ace Hardware, Ka’u', 'Kalihi Street, Honolulu',\n",
       "       'Corner of Kamehameha Avenue and Mamo Street',\n",
       "       'Amy Greenwell Ethnobotanical Garden field in Captain Cook',\n",
       "       'Liipoa Street in Kihei', 'Kupuna Lp / Kupohi Street, Waipahu',\n",
       "       'Waianae High School, Cafeteria Lanai',\n",
       "       'Location at Hawaiian Motors parking lot (across from Honokowai Park)',\n",
       "       'one block makai of Ala Moana Blvd. & Ward Ave.',\n",
       "       \"Waikiki Community Center's Parking Lot\",\n",
       "       'Campus front parking lot across from Grove Farm',\n",
       "       'Sunset Beach Elementary School, Haleiwa',\n",
       "       \"Honolulu (In front of Macy's)\"], dtype=object)"
      ]
     },
     "execution_count": 52,
     "metadata": {},
     "output_type": "execute_result"
    }
   ],
   "source": [
    "data['col1'].unique()"
   ]
  },
  {
   "cell_type": "markdown",
   "metadata": {},
   "source": [
    "We can extract City information from the end of these strings"
   ]
  },
  {
   "cell_type": "markdown",
   "metadata": {},
   "source": [
    "## Clean up col1 and col2"
   ]
  },
  {
   "cell_type": "code",
   "execution_count": 53,
   "metadata": {},
   "outputs": [
    {
     "data": {
      "text/plain": [
       "array([nan, 'Kekaha', 'Honolulu', 'Kahului', 'Kailua-Kona', 'Kilauea',\n",
       "       'Hanalei', 'Wahiawa', 'Lihue', 'Hilo', 'Koloa', 'Kalaheo', 'Pahoa',\n",
       "       'Kapaa', 'Ka’u', 'Waipahu', 'Haleiwa'], dtype=object)"
      ]
     },
     "execution_count": 53,
     "metadata": {},
     "output_type": "execute_result"
    }
   ],
   "source": [
    "data['col1'].str.findall(\"\\, ((?!HI)[a-zA-Z-’]+)$\").str[0].unique()"
   ]
  },
  {
   "cell_type": "code",
   "execution_count": 54,
   "metadata": {},
   "outputs": [],
   "source": [
    "#Fill in missing city with extracted data from col1\n",
    "data['City'] = np.where(data['City'].isna(),\n",
    "                        data['col1'].str.findall(\"\\, ((?!HI)[a-zA-Z-’]+)$\").str[0],\n",
    "                        data['City'])"
   ]
  },
  {
   "cell_type": "markdown",
   "metadata": {},
   "source": [
    "Check if col1 has rows which contain city names only."
   ]
  },
  {
   "cell_type": "code",
   "execution_count": 55,
   "metadata": {},
   "outputs": [
    {
     "data": {
      "text/plain": [
       "True"
      ]
     },
     "execution_count": 55,
     "metadata": {},
     "output_type": "execute_result"
    }
   ],
   "source": [
    "(data['col1'].notna() & ~data['col1'].str.contains(' ',na=False)).any()"
   ]
  },
  {
   "cell_type": "code",
   "execution_count": 56,
   "metadata": {},
   "outputs": [
    {
     "data": {
      "text/plain": [
       "13     Hawi   \n",
       "152    Hanalei\n",
       "166    Lihue  \n",
       "Name: col1, dtype: object"
      ]
     },
     "execution_count": 56,
     "metadata": {},
     "output_type": "execute_result"
    }
   ],
   "source": [
    "data[data['col1'].notna() & ~data['col1'].str.contains(' ',na=False)]['col1']"
   ]
  },
  {
   "cell_type": "markdown",
   "metadata": {},
   "source": [
    "Fill these values in missing city data"
   ]
  },
  {
   "cell_type": "code",
   "execution_count": 57,
   "metadata": {},
   "outputs": [],
   "source": [
    "data.loc[13][['col1','City']] = [np.nan,'Hawi']\n",
    "data.loc[152][['col1','City']] = [np.nan,'Hanalei']\n",
    "data.loc[166][['col1','City']] = [np.nan,'Lihue']"
   ]
  },
  {
   "cell_type": "markdown",
   "metadata": {},
   "source": [
    "Check if col1 has rows which contain 'HI'."
   ]
  },
  {
   "cell_type": "code",
   "execution_count": 58,
   "metadata": {},
   "outputs": [
    {
     "data": {
      "text/plain": [
       "False"
      ]
     },
     "execution_count": 58,
     "metadata": {},
     "output_type": "execute_result"
    }
   ],
   "source": [
    "data['col1'].str.contains(r'HI',na=False).any()"
   ]
  },
  {
   "cell_type": "markdown",
   "metadata": {},
   "source": [
    "Now, check if we extracted all address information from col2"
   ]
  },
  {
   "cell_type": "code",
   "execution_count": 59,
   "metadata": {},
   "outputs": [
    {
     "data": {
      "text/html": [
       "<div>\n",
       "<style scoped>\n",
       "    .dataframe tbody tr th:only-of-type {\n",
       "        vertical-align: middle;\n",
       "    }\n",
       "\n",
       "    .dataframe tbody tr th {\n",
       "        vertical-align: top;\n",
       "    }\n",
       "\n",
       "    .dataframe thead th {\n",
       "        text-align: right;\n",
       "    }\n",
       "</style>\n",
       "<table border=\"1\" class=\"dataframe\">\n",
       "  <thead>\n",
       "    <tr style=\"text-align: right;\">\n",
       "      <th></th>\n",
       "      <th>col2</th>\n",
       "      <th>Location</th>\n",
       "      <th>Location Info</th>\n",
       "      <th>City</th>\n",
       "    </tr>\n",
       "  </thead>\n",
       "  <tbody>\n",
       "    <tr>\n",
       "      <td>59</td>\n",
       "      <td>715 Hoomoana St. (corner of Hoomoana &amp; Komo Mai Dr.) Pearl City, HI 96782</td>\n",
       "      <td>715 Hoomoana St</td>\n",
       "      <td>corner of Hoomoana &amp; Komo Mai Dr.</td>\n",
       "      <td>Pearl City</td>\n",
       "    </tr>\n",
       "    <tr>\n",
       "      <td>77</td>\n",
       "      <td>84-4770 Mamalahoa Hwy, Captain Cook</td>\n",
       "      <td>84-4770 Mamalahoa Hwy</td>\n",
       "      <td>NaN</td>\n",
       "      <td>Captain Cook</td>\n",
       "    </tr>\n",
       "    <tr>\n",
       "      <td>109</td>\n",
       "      <td>68-3625 Paniolo Ave., Waikoloa</td>\n",
       "      <td>68-3625 Paniolo Ave</td>\n",
       "      <td>NaN</td>\n",
       "      <td>Waikoloa</td>\n",
       "    </tr>\n",
       "    <tr>\n",
       "      <td>119</td>\n",
       "      <td>511 Lunalilo Home Road</td>\n",
       "      <td>511 Lunalilo Home Road</td>\n",
       "      <td>NaN</td>\n",
       "      <td>NaN</td>\n",
       "    </tr>\n",
       "    <tr>\n",
       "      <td>127</td>\n",
       "      <td>17-995 Volcano Rd. (Between Mile Markers 12 &amp; 13)</td>\n",
       "      <td>17-995 Volcano Rd</td>\n",
       "      <td>Between Mile Markers 12 &amp; 13</td>\n",
       "      <td>NaN</td>\n",
       "    </tr>\n",
       "    <tr>\n",
       "      <td>147</td>\n",
       "      <td>2313 Nuuanu Avenue, Honolulu</td>\n",
       "      <td>2313 Nuuanu Avenue</td>\n",
       "      <td>NaN</td>\n",
       "      <td>Honolulu</td>\n",
       "    </tr>\n",
       "    <tr>\n",
       "      <td>198</td>\n",
       "      <td>84-4770 Mamalahoa Hwy, Captain Cook</td>\n",
       "      <td>84-4770 Mamalahoa Hwy</td>\n",
       "      <td>NaN</td>\n",
       "      <td>Captain Cook</td>\n",
       "    </tr>\n",
       "    <tr>\n",
       "      <td>202</td>\n",
       "      <td>85-251 Farrington Highway, Waianae</td>\n",
       "      <td>85-251 Farrington Highway</td>\n",
       "      <td>NaN</td>\n",
       "      <td>Waianae</td>\n",
       "    </tr>\n",
       "  </tbody>\n",
       "</table>\n",
       "</div>"
      ],
      "text/plain": [
       "                                                                          col2  \\\n",
       "59   715 Hoomoana St. (corner of Hoomoana & Komo Mai Dr.) Pearl City, HI 96782   \n",
       "77   84-4770 Mamalahoa Hwy, Captain Cook                                         \n",
       "109  68-3625 Paniolo Ave., Waikoloa                                              \n",
       "119  511 Lunalilo Home Road                                                      \n",
       "127  17-995 Volcano Rd. (Between Mile Markers 12 & 13)                           \n",
       "147  2313 Nuuanu Avenue, Honolulu                                                \n",
       "198  84-4770 Mamalahoa Hwy, Captain Cook                                         \n",
       "202  85-251 Farrington Highway, Waianae                                          \n",
       "\n",
       "                      Location                      Location Info  \\\n",
       "59   715 Hoomoana St            corner of Hoomoana & Komo Mai Dr.   \n",
       "77   84-4770 Mamalahoa Hwy      NaN                                 \n",
       "109  68-3625 Paniolo Ave        NaN                                 \n",
       "119  511 Lunalilo Home Road     NaN                                 \n",
       "127  17-995 Volcano Rd          Between Mile Markers 12 & 13        \n",
       "147  2313 Nuuanu Avenue         NaN                                 \n",
       "198  84-4770 Mamalahoa Hwy      NaN                                 \n",
       "202  85-251 Farrington Highway  NaN                                 \n",
       "\n",
       "             City  \n",
       "59   Pearl City    \n",
       "77   Captain Cook  \n",
       "109  Waikoloa      \n",
       "119  NaN           \n",
       "127  NaN           \n",
       "147  Honolulu      \n",
       "198  Captain Cook  \n",
       "202  Waianae       "
      ]
     },
     "execution_count": 59,
     "metadata": {},
     "output_type": "execute_result"
    }
   ],
   "source": [
    "data[data['col2'].str.contains(\n",
    "    '^\\d+(?:\\-?\\d+)?(?:[A-Za-z]+)?',na=False)][['col2','Location','Location Info','City']]"
   ]
  },
  {
   "cell_type": "markdown",
   "metadata": {},
   "source": [
    "Looks good! Now we can replace address information in col2 with Nans."
   ]
  },
  {
   "cell_type": "code",
   "execution_count": 60,
   "metadata": {},
   "outputs": [],
   "source": [
    "data['col2'] = np.where(data['col2'].str.contains(\n",
    "                        '^\\d+(?:\\-?\\d+)?(?:[A-Za-z]+)?',na=False),\n",
    "                        np.nan, data['col2'])"
   ]
  },
  {
   "cell_type": "code",
   "execution_count": 61,
   "metadata": {},
   "outputs": [
    {
     "data": {
      "text/plain": [
       "array(['Edith Ramiscal', nan, 'Kamakee St.', 'Poipu, HI',\n",
       "       'Behind Paniolo Country Inn', 'Kaahumanu Avenue, Kahului',\n",
       "       'Agent Juanita Kawamoto, Farm Fresh Hawaii', '(Across from 7-11)',\n",
       "       'Matilda Adams at the site', 'Pukalani Longs Drugs at Kulamalu',\n",
       "       'Makapua Center - In front of K-Mart, Kailua-Kona',\n",
       "       'PO Box 822, Hanalei, HI', 'corner Ilalo & Ahui Sts.'],\n",
       "      dtype=object)"
      ]
     },
     "execution_count": 61,
     "metadata": {},
     "output_type": "execute_result"
    }
   ],
   "source": [
    "#Print unique values in col2\n",
    "data['col2'].unique()"
   ]
  },
  {
   "cell_type": "code",
   "execution_count": 62,
   "metadata": {},
   "outputs": [
    {
     "data": {
      "text/plain": [
       "0      Edith Ramiscal                                  \n",
       "46     Kamakee St.                                     \n",
       "51     Poipu, HI                                       \n",
       "54     Behind Paniolo Country Inn                      \n",
       "79     Kaahumanu Avenue, Kahului                       \n",
       "93     Agent Juanita Kawamoto, Farm Fresh Hawaii       \n",
       "133    (Across from 7-11)                              \n",
       "134    Matilda Adams at the site                       \n",
       "150    Pukalani Longs Drugs at Kulamalu                \n",
       "151    Makapua Center - In front of K-Mart, Kailua-Kona\n",
       "152    PO Box 822, Hanalei, HI                         \n",
       "206    corner Ilalo & Ahui Sts.                        \n",
       "Name: col2, dtype: object"
      ]
     },
     "execution_count": 62,
     "metadata": {},
     "output_type": "execute_result"
    }
   ],
   "source": [
    "data[data['col2'].notna()]['col2']"
   ]
  },
  {
   "cell_type": "markdown",
   "metadata": {},
   "source": [
    "We can get some more information here"
   ]
  },
  {
   "cell_type": "code",
   "execution_count": 63,
   "metadata": {},
   "outputs": [],
   "source": [
    "data.loc[51][['col2','City']] = [np.nan, 'Poipu']\n",
    "data.loc[79][['col2','City']] = [np.nan, 'Kahului']\n",
    "data.loc[151][['col2','City']] = [np.nan, 'Kailua-Kona']\n",
    "data.loc[152][['col2','Location','City']] = [np.nan, 'PO Box 822','Hanalei']"
   ]
  },
  {
   "cell_type": "markdown",
   "metadata": {},
   "source": [
    "Let's see the remaining part pf col2"
   ]
  },
  {
   "cell_type": "code",
   "execution_count": 64,
   "metadata": {},
   "outputs": [
    {
     "data": {
      "text/html": [
       "<div>\n",
       "<style scoped>\n",
       "    .dataframe tbody tr th:only-of-type {\n",
       "        vertical-align: middle;\n",
       "    }\n",
       "\n",
       "    .dataframe tbody tr th {\n",
       "        vertical-align: top;\n",
       "    }\n",
       "\n",
       "    .dataframe thead th {\n",
       "        text-align: right;\n",
       "    }\n",
       "</style>\n",
       "<table border=\"1\" class=\"dataframe\">\n",
       "  <thead>\n",
       "    <tr style=\"text-align: right;\">\n",
       "      <th></th>\n",
       "      <th>col1</th>\n",
       "      <th>col2</th>\n",
       "    </tr>\n",
       "  </thead>\n",
       "  <tbody>\n",
       "    <tr>\n",
       "      <td>0</td>\n",
       "      <td>Waialua Sugar Mill</td>\n",
       "      <td>Edith Ramiscal</td>\n",
       "    </tr>\n",
       "    <tr>\n",
       "      <td>46</td>\n",
       "      <td>Parking lot across from Ward 16 Theatres, Corner of Auahi &amp;</td>\n",
       "      <td>Kamakee St.</td>\n",
       "    </tr>\n",
       "    <tr>\n",
       "      <td>54</td>\n",
       "      <td>Parker School</td>\n",
       "      <td>Behind Paniolo Country Inn</td>\n",
       "    </tr>\n",
       "    <tr>\n",
       "      <td>93</td>\n",
       "      <td>NaN</td>\n",
       "      <td>Agent Juanita Kawamoto, Farm Fresh Hawaii</td>\n",
       "    </tr>\n",
       "    <tr>\n",
       "      <td>133</td>\n",
       "      <td>Windward Baptist Church at 47-528A Kamehameha Hwy.</td>\n",
       "      <td>(Across from 7-11)</td>\n",
       "    </tr>\n",
       "    <tr>\n",
       "      <td>134</td>\n",
       "      <td>Papalina Road off Kaumualii, Kalaheo</td>\n",
       "      <td>Matilda Adams at the site</td>\n",
       "    </tr>\n",
       "    <tr>\n",
       "      <td>150</td>\n",
       "      <td>(formerly at Eddie Tam Community Center)</td>\n",
       "      <td>Pukalani Longs Drugs at Kulamalu</td>\n",
       "    </tr>\n",
       "    <tr>\n",
       "      <td>206</td>\n",
       "      <td>one block makai of Ala Moana Blvd. &amp; Ward Ave.</td>\n",
       "      <td>corner Ilalo &amp; Ahui Sts.</td>\n",
       "    </tr>\n",
       "  </tbody>\n",
       "</table>\n",
       "</div>"
      ],
      "text/plain": [
       "                                                            col1  \\\n",
       "0    Waialua Sugar Mill                                            \n",
       "46   Parking lot across from Ward 16 Theatres, Corner of Auahi &   \n",
       "54   Parker School                                                 \n",
       "93   NaN                                                           \n",
       "133  Windward Baptist Church at 47-528A Kamehameha Hwy.            \n",
       "134  Papalina Road off Kaumualii, Kalaheo                          \n",
       "150  (formerly at Eddie Tam Community Center)                      \n",
       "206  one block makai of Ala Moana Blvd. & Ward Ave.                \n",
       "\n",
       "                                          col2  \n",
       "0    Edith Ramiscal                             \n",
       "46   Kamakee St.                                \n",
       "54   Behind Paniolo Country Inn                 \n",
       "93   Agent Juanita Kawamoto, Farm Fresh Hawaii  \n",
       "133  (Across from 7-11)                         \n",
       "134  Matilda Adams at the site                  \n",
       "150  Pukalani Longs Drugs at Kulamalu           \n",
       "206  corner Ilalo & Ahui Sts.                   "
      ]
     },
     "execution_count": 64,
     "metadata": {},
     "output_type": "execute_result"
    }
   ],
   "source": [
    "data[data['col2'].notna()][['col1','col2']]"
   ]
  },
  {
   "cell_type": "markdown",
   "metadata": {},
   "source": [
    "I decide to combine col1 and col2, then drop col2"
   ]
  },
  {
   "cell_type": "code",
   "execution_count": 65,
   "metadata": {},
   "outputs": [],
   "source": [
    "data['col1'] = np.where(data['col1'].notna() & data['col2'].notna(),\n",
    "                        data['col1'] + ' ' + data['col2'], data['col1'])\n",
    "\n",
    "data['col1'] = np.where(data['col1'].isna() & data['col2'].notna(),\n",
    "                        data['col2'], data['col1'])"
   ]
  },
  {
   "cell_type": "code",
   "execution_count": 66,
   "metadata": {},
   "outputs": [],
   "source": [
    "data.drop('col2', axis=1, inplace=True)"
   ]
  },
  {
   "cell_type": "code",
   "execution_count": 67,
   "metadata": {},
   "outputs": [
    {
     "data": {
      "text/html": [
       "<div>\n",
       "<style scoped>\n",
       "    .dataframe tbody tr th:only-of-type {\n",
       "        vertical-align: middle;\n",
       "    }\n",
       "\n",
       "    .dataframe tbody tr th {\n",
       "        vertical-align: top;\n",
       "    }\n",
       "\n",
       "    .dataframe thead th {\n",
       "        text-align: right;\n",
       "    }\n",
       "</style>\n",
       "<table border=\"1\" class=\"dataframe\">\n",
       "  <thead>\n",
       "    <tr style=\"text-align: right;\">\n",
       "      <th></th>\n",
       "      <th>col1</th>\n",
       "      <th>col3</th>\n",
       "    </tr>\n",
       "  </thead>\n",
       "  <tbody>\n",
       "    <tr>\n",
       "      <td>113</td>\n",
       "      <td>Maluhia Road, Koloa</td>\n",
       "      <td>Noon</td>\n",
       "    </tr>\n",
       "    <tr>\n",
       "      <td>116</td>\n",
       "      <td>Old gas station, Hasegawa General Store - Hana Hwy.</td>\n",
       "      <td>All day</td>\n",
       "    </tr>\n",
       "    <tr>\n",
       "      <td>117</td>\n",
       "      <td>Laupahoehoe - next to the Minit Stop on Hwy. 19</td>\n",
       "      <td>Every Sunday</td>\n",
       "    </tr>\n",
       "    <tr>\n",
       "      <td>206</td>\n",
       "      <td>one block makai of Ala Moana Blvd. &amp; Ward Ave. corner Ilalo &amp; Ahui Sts.</td>\n",
       "      <td>Every Friday and Saturday</td>\n",
       "    </tr>\n",
       "  </tbody>\n",
       "</table>\n",
       "</div>"
      ],
      "text/plain": [
       "                                                                        col1  \\\n",
       "113  Maluhia Road, Koloa                                                       \n",
       "116  Old gas station, Hasegawa General Store - Hana Hwy.                       \n",
       "117  Laupahoehoe - next to the Minit Stop on Hwy. 19                           \n",
       "206  one block makai of Ala Moana Blvd. & Ward Ave. corner Ilalo & Ahui Sts.   \n",
       "\n",
       "                          col3  \n",
       "113  Noon                       \n",
       "116  All day                    \n",
       "117  Every Sunday               \n",
       "206  Every Friday and Saturday  "
      ]
     },
     "execution_count": 67,
     "metadata": {},
     "output_type": "execute_result"
    }
   ],
   "source": [
    "data[data['col1'].notna() & data['col3'].notna()][['col1','col3']]"
   ]
  },
  {
   "cell_type": "markdown",
   "metadata": {},
   "source": [
    "We also have city information in col8. First check if there're city information in both City and col8 in the same rows."
   ]
  },
  {
   "cell_type": "code",
   "execution_count": 68,
   "metadata": {},
   "outputs": [
    {
     "data": {
      "text/plain": [
       "True"
      ]
     },
     "execution_count": 68,
     "metadata": {},
     "output_type": "execute_result"
    }
   ],
   "source": [
    "data[data['City'].notna()]['col8'].notna().any()"
   ]
  },
  {
   "cell_type": "markdown",
   "metadata": {},
   "source": [
    "Print them out"
   ]
  },
  {
   "cell_type": "code",
   "execution_count": 69,
   "metadata": {},
   "outputs": [
    {
     "data": {
      "text/html": [
       "<div>\n",
       "<style scoped>\n",
       "    .dataframe tbody tr th:only-of-type {\n",
       "        vertical-align: middle;\n",
       "    }\n",
       "\n",
       "    .dataframe tbody tr th {\n",
       "        vertical-align: top;\n",
       "    }\n",
       "\n",
       "    .dataframe thead th {\n",
       "        text-align: right;\n",
       "    }\n",
       "</style>\n",
       "<table border=\"1\" class=\"dataframe\">\n",
       "  <thead>\n",
       "    <tr style=\"text-align: right;\">\n",
       "      <th></th>\n",
       "      <th>City</th>\n",
       "      <th>col8</th>\n",
       "    </tr>\n",
       "  </thead>\n",
       "  <tbody>\n",
       "    <tr>\n",
       "      <td>167</td>\n",
       "      <td>Honolulu</td>\n",
       "      <td>Honolulu, HI</td>\n",
       "    </tr>\n",
       "  </tbody>\n",
       "</table>\n",
       "</div>"
      ],
      "text/plain": [
       "         City          col8\n",
       "167  Honolulu  Honolulu, HI"
      ]
     },
     "execution_count": 69,
     "metadata": {},
     "output_type": "execute_result"
    }
   ],
   "source": [
    "data[data['City'].notna() & data['col8'].notna()][['City','col8']]"
   ]
  },
  {
   "cell_type": "markdown",
   "metadata": {},
   "source": [
    "We have correct information here. Now, we can fill in missing city information with data extracted from col8, then drop col8"
   ]
  },
  {
   "cell_type": "code",
   "execution_count": 70,
   "metadata": {},
   "outputs": [],
   "source": [
    "data['City'] = np.where(data['City'].isna() & data['col8'].notna(),\n",
    "                        data['col8'].str.findall('^[A-Z][a-z]+(?: [A-Z][a-z]+)?').str[0],\n",
    "                        data['City'])"
   ]
  },
  {
   "cell_type": "code",
   "execution_count": 71,
   "metadata": {},
   "outputs": [],
   "source": [
    "data.drop('col8', axis=1, inplace=True)"
   ]
  },
  {
   "cell_type": "code",
   "execution_count": 72,
   "metadata": {},
   "outputs": [
    {
     "data": {
      "text/plain": [
       "array([nan, 'Kekaha', 'Honolulu', 'Waianae', 'Waimea', 'Hawi', 'Kahului',\n",
       "       'Lihue', 'Kaneohe', 'Ewa Beach', 'Pearl City', 'Mililani',\n",
       "       'Kailua', 'Makawao', 'Kailua-Kona', 'Paia', 'Captain Cook',\n",
       "       'Kapolei', 'Poipu', 'Kilauea', 'Haleiwa', 'Waipahu', 'Hanalei',\n",
       "       'Lahina', 'Kihei', 'Wahiawa', 'Waimanalo', 'Hilo', 'Waikoloa',\n",
       "       'Hana', 'Kapaa', 'Koloa', 'Kalaheo', 'Pahoa', 'Ka’u',\n",
       "       'Cooper Center', 'Kaunakakai', 'Wailuku'], dtype=object)"
      ]
     },
     "execution_count": 72,
     "metadata": {},
     "output_type": "execute_result"
    }
   ],
   "source": [
    "#Print out unique City values\n",
    "data['City'].unique()"
   ]
  },
  {
   "cell_type": "markdown",
   "metadata": {},
   "source": [
    "Kaikua and Kaikua-Kona refer to one region, so I will rename one of them."
   ]
  },
  {
   "cell_type": "code",
   "execution_count": 73,
   "metadata": {},
   "outputs": [],
   "source": [
    "data['City'] = np.where(data['City'] == 'Kailua',\n",
    "                        ['Kailua-Kona'], data['City'])"
   ]
  },
  {
   "cell_type": "code",
   "execution_count": 74,
   "metadata": {},
   "outputs": [],
   "source": [
    "data.to_csv('02out',index=False)"
   ]
  }
 ],
 "metadata": {
  "kernelspec": {
   "display_name": "Python 3",
   "language": "python",
   "name": "python3"
  },
  "language_info": {
   "codemirror_mode": {
    "name": "ipython",
    "version": 3
   },
   "file_extension": ".py",
   "mimetype": "text/x-python",
   "name": "python",
   "nbconvert_exporter": "python",
   "pygments_lexer": "ipython3",
   "version": "3.7.4"
  }
 },
 "nbformat": 4,
 "nbformat_minor": 2
}
