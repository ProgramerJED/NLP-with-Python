{
 "cells": [
  {
   "cell_type": "markdown",
   "metadata": {},
   "source": [
    "# Find patterns and extract simple information\n",
    "In this notebook, I'll list out unique values of Time, Phone Number, Email, and Website and then use str.findall() function to extract these information."
   ]
  },
  {
   "cell_type": "markdown",
   "metadata": {},
   "source": [
    "## Import"
   ]
  },
  {
   "cell_type": "code",
   "execution_count": 1,
   "metadata": {},
   "outputs": [],
   "source": [
    "import pandas as pd\n",
    "import numpy as np\n",
    "import seaborn as sns\n",
    "%matplotlib inline"
   ]
  },
  {
   "cell_type": "markdown",
   "metadata": {},
   "source": [
    "## Load in data"
   ]
  },
  {
   "cell_type": "markdown",
   "metadata": {},
   "source": [
    "### Data description"
   ]
  },
  {
   "cell_type": "code",
   "execution_count": 2,
   "metadata": {},
   "outputs": [
    {
     "data": {
      "text/html": [
       "<div>\n",
       "<style scoped>\n",
       "    .dataframe tbody tr th:only-of-type {\n",
       "        vertical-align: middle;\n",
       "    }\n",
       "\n",
       "    .dataframe tbody tr th {\n",
       "        vertical-align: top;\n",
       "    }\n",
       "\n",
       "    .dataframe thead th {\n",
       "        text-align: right;\n",
       "    }\n",
       "</style>\n",
       "<table border=\"1\" class=\"dataframe\">\n",
       "  <thead>\n",
       "    <tr style=\"text-align: right;\">\n",
       "      <th></th>\n",
       "      <th>FARMER'S MARKET</th>\n",
       "      <th>Sunday</th>\n",
       "      <th>Monday</th>\n",
       "      <th>Tuesday</th>\n",
       "      <th>Wednesday</th>\n",
       "      <th>Thursday</th>\n",
       "      <th>Friday</th>\n",
       "      <th>Saturday</th>\n",
       "      <th>Time</th>\n",
       "      <th>Location 1</th>\n",
       "      <th>Location Info</th>\n",
       "      <th>Island</th>\n",
       "      <th>Website</th>\n",
       "      <th>Contact</th>\n",
       "      <th>Phone</th>\n",
       "      <th>Email</th>\n",
       "    </tr>\n",
       "  </thead>\n",
       "  <tbody>\n",
       "    <tr>\n",
       "      <td>0</td>\n",
       "      <td>Waialua Farmers' Market\\nWaialua Sugar Mill\\n8...</td>\n",
       "      <td>NaN</td>\n",
       "      <td>NaN</td>\n",
       "      <td>NaN</td>\n",
       "      <td>NaN</td>\n",
       "      <td>NaN</td>\n",
       "      <td>NaN</td>\n",
       "      <td>X</td>\n",
       "      <td>NaN</td>\n",
       "      <td>NaN</td>\n",
       "      <td>NaN</td>\n",
       "      <td>NaN</td>\n",
       "      <td>NaN</td>\n",
       "      <td>NaN</td>\n",
       "      <td>NaN</td>\n",
       "      <td>NaN</td>\n",
       "    </tr>\n",
       "    <tr>\n",
       "      <td>1</td>\n",
       "      <td>MAUI FARMER’S MARKETS\\nUpdated 3/1/2011</td>\n",
       "      <td>NaN</td>\n",
       "      <td>NaN</td>\n",
       "      <td>NaN</td>\n",
       "      <td>NaN</td>\n",
       "      <td>NaN</td>\n",
       "      <td>NaN</td>\n",
       "      <td>NaN</td>\n",
       "      <td>NaN</td>\n",
       "      <td>NaN</td>\n",
       "      <td>NaN</td>\n",
       "      <td>NaN</td>\n",
       "      <td>NaN</td>\n",
       "      <td>NaN</td>\n",
       "      <td>NaN</td>\n",
       "      <td>NaN</td>\n",
       "    </tr>\n",
       "    <tr>\n",
       "      <td>2</td>\n",
       "      <td>Kekaha Neighborhood Center (Sunshine Markets)\\...</td>\n",
       "      <td>NaN</td>\n",
       "      <td>NaN</td>\n",
       "      <td>NaN</td>\n",
       "      <td>NaN</td>\n",
       "      <td>NaN</td>\n",
       "      <td>NaN</td>\n",
       "      <td>X</td>\n",
       "      <td>NaN</td>\n",
       "      <td>NaN</td>\n",
       "      <td>NaN</td>\n",
       "      <td>NaN</td>\n",
       "      <td>NaN</td>\n",
       "      <td>NaN</td>\n",
       "      <td>NaN</td>\n",
       "      <td>NaN</td>\n",
       "    </tr>\n",
       "    <tr>\n",
       "      <td>3</td>\n",
       "      <td>Hali'imaile Farmers' Market\\nHali'imaile Town ...</td>\n",
       "      <td>NaN</td>\n",
       "      <td>NaN</td>\n",
       "      <td>NaN</td>\n",
       "      <td>NaN</td>\n",
       "      <td>NaN</td>\n",
       "      <td>X</td>\n",
       "      <td>NaN</td>\n",
       "      <td>NaN</td>\n",
       "      <td>NaN</td>\n",
       "      <td>NaN</td>\n",
       "      <td>NaN</td>\n",
       "      <td>NaN</td>\n",
       "      <td>NaN</td>\n",
       "      <td>NaN</td>\n",
       "      <td>NaN</td>\n",
       "    </tr>\n",
       "    <tr>\n",
       "      <td>4</td>\n",
       "      <td>Mahiku Farmers' Market\\nInternational Market P...</td>\n",
       "      <td>NaN</td>\n",
       "      <td>NaN</td>\n",
       "      <td>NaN</td>\n",
       "      <td>NaN</td>\n",
       "      <td>X</td>\n",
       "      <td>NaN</td>\n",
       "      <td>NaN</td>\n",
       "      <td>NaN</td>\n",
       "      <td>NaN</td>\n",
       "      <td>NaN</td>\n",
       "      <td>NaN</td>\n",
       "      <td>NaN</td>\n",
       "      <td>NaN</td>\n",
       "      <td>NaN</td>\n",
       "      <td>NaN</td>\n",
       "    </tr>\n",
       "  </tbody>\n",
       "</table>\n",
       "</div>"
      ],
      "text/plain": [
       "                                     FARMER'S MARKET Sunday Monday Tuesday  \\\n",
       "0  Waialua Farmers' Market\\nWaialua Sugar Mill\\n8...    NaN    NaN     NaN   \n",
       "1            MAUI FARMER’S MARKETS\\nUpdated 3/1/2011    NaN    NaN     NaN   \n",
       "2  Kekaha Neighborhood Center (Sunshine Markets)\\...    NaN    NaN     NaN   \n",
       "3  Hali'imaile Farmers' Market\\nHali'imaile Town ...    NaN    NaN     NaN   \n",
       "4  Mahiku Farmers' Market\\nInternational Market P...    NaN    NaN     NaN   \n",
       "\n",
       "  Wednesday Thursday Friday Saturday Time Location 1 Location Info Island  \\\n",
       "0       NaN      NaN    NaN        X  NaN        NaN           NaN    NaN   \n",
       "1       NaN      NaN    NaN      NaN  NaN        NaN           NaN    NaN   \n",
       "2       NaN      NaN    NaN        X  NaN        NaN           NaN    NaN   \n",
       "3       NaN      NaN      X      NaN  NaN        NaN           NaN    NaN   \n",
       "4       NaN        X    NaN      NaN  NaN        NaN           NaN    NaN   \n",
       "\n",
       "  Website Contact Phone Email  \n",
       "0     NaN     NaN   NaN   NaN  \n",
       "1     NaN     NaN   NaN   NaN  \n",
       "2     NaN     NaN   NaN   NaN  \n",
       "3     NaN     NaN   NaN   NaN  \n",
       "4     NaN     NaN   NaN   NaN  "
      ]
     },
     "execution_count": 2,
     "metadata": {},
     "output_type": "execute_result"
    }
   ],
   "source": [
    "data = pd.read_csv('Hawaii_Farmer_s_Markets.csv')\n",
    "data.head()"
   ]
  },
  {
   "cell_type": "markdown",
   "metadata": {},
   "source": [
    "We have a bunch of missing data here. Note thate there're break lines \\n in the first column."
   ]
  },
  {
   "cell_type": "code",
   "execution_count": 3,
   "metadata": {},
   "outputs": [
    {
     "name": "stdout",
     "output_type": "stream",
     "text": [
      "<class 'pandas.core.frame.DataFrame'>\n",
      "RangeIndex: 230 entries, 0 to 229\n",
      "Data columns (total 16 columns):\n",
      "Name             225 non-null object\n",
      "Sunday           47 non-null object\n",
      "Monday           36 non-null object\n",
      "Tuesday          52 non-null object\n",
      "Wednesday        57 non-null object\n",
      "Thursday         51 non-null object\n",
      "Friday           58 non-null object\n",
      "Saturday         92 non-null object\n",
      "Time             122 non-null object\n",
      "Location         102 non-null object\n",
      "Location Info    59 non-null object\n",
      "Island           138 non-null object\n",
      "Website          52 non-null object\n",
      "Contact          64 non-null object\n",
      "Phone            93 non-null object\n",
      "Email            24 non-null object\n",
      "dtypes: object(16)\n",
      "memory usage: 28.9+ KB\n"
     ]
    }
   ],
   "source": [
    "#Rename some columns and get an overview of the dataframe\n",
    "data = data.rename(columns={\"FARMER'S MARKET\": 'Name','Location 1':'Location'})\n",
    "data.info()"
   ]
  },
  {
   "cell_type": "code",
   "execution_count": 4,
   "metadata": {},
   "outputs": [
    {
     "data": {
      "text/plain": [
       "228"
      ]
     },
     "execution_count": 4,
     "metadata": {},
     "output_type": "execute_result"
    }
   ],
   "source": [
    "#Drop duplicates if available and check for the data length\n",
    "data = data.drop_duplicates()\n",
    "len(data.index)"
   ]
  },
  {
   "cell_type": "markdown",
   "metadata": {},
   "source": [
    "## Missing values\n",
    "Let's have a visualization to see how many missing data we have here."
   ]
  },
  {
   "cell_type": "code",
   "execution_count": 5,
   "metadata": {},
   "outputs": [
    {
     "data": {
      "text/plain": [
       "<matplotlib.axes._subplots.AxesSubplot at 0x1f5cc739708>"
      ]
     },
     "execution_count": 5,
     "metadata": {},
     "output_type": "execute_result"
    },
    {
     "data": {
      "image/png": "[encoded data removed]",
      "text/plain": [
       "<Figure size 432x288 with 1 Axes>"
      ]
     },
     "metadata": {
      "needs_background": "light"
     },
     "output_type": "display_data"
    }
   ],
   "source": [
    "sns.heatmap(data.isna(), cmap='viridis', cbar=False, yticklabels=False)"
   ]
  },
  {
   "cell_type": "markdown",
   "metadata": {},
   "source": [
    "That's a lot. Note that we have 3 missing names."
   ]
  },
  {
   "cell_type": "code",
   "execution_count": 6,
   "metadata": {},
   "outputs": [
    {
     "data": {
      "text/html": [
       "<div>\n",
       "<style scoped>\n",
       "    .dataframe tbody tr th:only-of-type {\n",
       "        vertical-align: middle;\n",
       "    }\n",
       "\n",
       "    .dataframe tbody tr th {\n",
       "        vertical-align: top;\n",
       "    }\n",
       "\n",
       "    .dataframe thead th {\n",
       "        text-align: right;\n",
       "    }\n",
       "</style>\n",
       "<table border=\"1\" class=\"dataframe\">\n",
       "  <thead>\n",
       "    <tr style=\"text-align: right;\">\n",
       "      <th></th>\n",
       "      <th>Name</th>\n",
       "      <th>Sunday</th>\n",
       "      <th>Monday</th>\n",
       "      <th>Tuesday</th>\n",
       "      <th>Wednesday</th>\n",
       "      <th>Thursday</th>\n",
       "      <th>Friday</th>\n",
       "      <th>Saturday</th>\n",
       "      <th>Time</th>\n",
       "      <th>Location</th>\n",
       "      <th>Location Info</th>\n",
       "      <th>Island</th>\n",
       "      <th>Website</th>\n",
       "      <th>Contact</th>\n",
       "      <th>Phone</th>\n",
       "      <th>Email</th>\n",
       "    </tr>\n",
       "  </thead>\n",
       "  <tbody>\n",
       "    <tr>\n",
       "      <td>61</td>\n",
       "      <td>NaN</td>\n",
       "      <td>Sun</td>\n",
       "      <td>Mon</td>\n",
       "      <td>Tues</td>\n",
       "      <td>Wed</td>\n",
       "      <td>Thurs</td>\n",
       "      <td>Fri</td>\n",
       "      <td>Sat</td>\n",
       "      <td>Time</td>\n",
       "      <td>Address\\nCity, State Zip</td>\n",
       "      <td>Location Info</td>\n",
       "      <td>Website</td>\n",
       "      <td>NaN</td>\n",
       "      <td>Phone</td>\n",
       "      <td>Email</td>\n",
       "      <td>NaN</td>\n",
       "    </tr>\n",
       "    <tr>\n",
       "      <td>71</td>\n",
       "      <td>NaN</td>\n",
       "      <td>NaN</td>\n",
       "      <td>NaN</td>\n",
       "      <td>NaN</td>\n",
       "      <td>NaN</td>\n",
       "      <td>NaN</td>\n",
       "      <td>NaN</td>\n",
       "      <td>NaN</td>\n",
       "      <td>NaN</td>\n",
       "      <td>.\\nBIG ISLAND FARMER’S MARKETS Updated 01/10/2011</td>\n",
       "      <td>NaN</td>\n",
       "      <td>NaN</td>\n",
       "      <td>NaN</td>\n",
       "      <td>NaN</td>\n",
       "      <td>NaN</td>\n",
       "      <td>NaN</td>\n",
       "    </tr>\n",
       "    <tr>\n",
       "      <td>102</td>\n",
       "      <td>NaN</td>\n",
       "      <td>Sun</td>\n",
       "      <td>Mon</td>\n",
       "      <td>Tues</td>\n",
       "      <td>Wed</td>\n",
       "      <td>Thurs</td>\n",
       "      <td>Fri</td>\n",
       "      <td>Sat</td>\n",
       "      <td>NaN</td>\n",
       "      <td>NaN</td>\n",
       "      <td>NaN</td>\n",
       "      <td>NaN</td>\n",
       "      <td>NaN</td>\n",
       "      <td>NaN</td>\n",
       "      <td>NaN</td>\n",
       "      <td>NaN</td>\n",
       "    </tr>\n",
       "  </tbody>\n",
       "</table>\n",
       "</div>"
      ],
      "text/plain": [
       "    Name Sunday Monday Tuesday Wednesday Thursday Friday Saturday  Time  \\\n",
       "61   NaN    Sun    Mon    Tues       Wed    Thurs    Fri      Sat  Time   \n",
       "71   NaN    NaN    NaN     NaN       NaN      NaN    NaN      NaN   NaN   \n",
       "102  NaN    Sun    Mon    Tues       Wed    Thurs    Fri      Sat   NaN   \n",
       "\n",
       "                                              Location  Location Info  \\\n",
       "61                            Address\\nCity, State Zip  Location Info   \n",
       "71   .\\nBIG ISLAND FARMER’S MARKETS Updated 01/10/2011            NaN   \n",
       "102                                                NaN            NaN   \n",
       "\n",
       "      Island Website Contact  Phone Email  \n",
       "61   Website     NaN   Phone  Email   NaN  \n",
       "71       NaN     NaN     NaN    NaN   NaN  \n",
       "102      NaN     NaN     NaN    NaN   NaN  "
      ]
     },
     "execution_count": 6,
     "metadata": {},
     "output_type": "execute_result"
    }
   ],
   "source": [
    "#Display rows that have missing Name\n",
    "data[data['Name'].isna()]"
   ]
  },
  {
   "cell_type": "markdown",
   "metadata": {},
   "source": [
    "These look like headers of different tables. I guess the dataframe was appended more than once with other data. It would be suspicious if a row does not have weekday schedule information.<br>\n",
    "Let's see if we have missing values in all weekdays."
   ]
  },
  {
   "cell_type": "code",
   "execution_count": 7,
   "metadata": {},
   "outputs": [
    {
     "data": {
      "text/html": [
       "<div>\n",
       "<style scoped>\n",
       "    .dataframe tbody tr th:only-of-type {\n",
       "        vertical-align: middle;\n",
       "    }\n",
       "\n",
       "    .dataframe tbody tr th {\n",
       "        vertical-align: top;\n",
       "    }\n",
       "\n",
       "    .dataframe thead th {\n",
       "        text-align: right;\n",
       "    }\n",
       "</style>\n",
       "<table border=\"1\" class=\"dataframe\">\n",
       "  <thead>\n",
       "    <tr style=\"text-align: right;\">\n",
       "      <th></th>\n",
       "      <th>Name</th>\n",
       "      <th>Sunday</th>\n",
       "      <th>Monday</th>\n",
       "      <th>Tuesday</th>\n",
       "      <th>Wednesday</th>\n",
       "      <th>Thursday</th>\n",
       "      <th>Friday</th>\n",
       "      <th>Saturday</th>\n",
       "      <th>Time</th>\n",
       "      <th>Location</th>\n",
       "      <th>Location Info</th>\n",
       "      <th>Island</th>\n",
       "      <th>Website</th>\n",
       "      <th>Contact</th>\n",
       "      <th>Phone</th>\n",
       "      <th>Email</th>\n",
       "    </tr>\n",
       "  </thead>\n",
       "  <tbody>\n",
       "    <tr>\n",
       "      <td>1</td>\n",
       "      <td>MAUI FARMER’S MARKETS\\nUpdated 3/1/2011</td>\n",
       "      <td>NaN</td>\n",
       "      <td>NaN</td>\n",
       "      <td>NaN</td>\n",
       "      <td>NaN</td>\n",
       "      <td>NaN</td>\n",
       "      <td>NaN</td>\n",
       "      <td>NaN</td>\n",
       "      <td>NaN</td>\n",
       "      <td>NaN</td>\n",
       "      <td>NaN</td>\n",
       "      <td>NaN</td>\n",
       "      <td>NaN</td>\n",
       "      <td>NaN</td>\n",
       "      <td>NaN</td>\n",
       "      <td>NaN</td>\n",
       "    </tr>\n",
       "    <tr>\n",
       "      <td>46</td>\n",
       "      <td>KAUAI FARMER’S MARKETS\\nUpdated 3/15/2011</td>\n",
       "      <td>NaN</td>\n",
       "      <td>NaN</td>\n",
       "      <td>NaN</td>\n",
       "      <td>NaN</td>\n",
       "      <td>NaN</td>\n",
       "      <td>NaN</td>\n",
       "      <td>NaN</td>\n",
       "      <td>NaN</td>\n",
       "      <td>NaN</td>\n",
       "      <td>NaN</td>\n",
       "      <td>NaN</td>\n",
       "      <td>NaN</td>\n",
       "      <td>NaN</td>\n",
       "      <td>NaN</td>\n",
       "      <td>NaN</td>\n",
       "    </tr>\n",
       "    <tr>\n",
       "      <td>71</td>\n",
       "      <td>NaN</td>\n",
       "      <td>NaN</td>\n",
       "      <td>NaN</td>\n",
       "      <td>NaN</td>\n",
       "      <td>NaN</td>\n",
       "      <td>NaN</td>\n",
       "      <td>NaN</td>\n",
       "      <td>NaN</td>\n",
       "      <td>NaN</td>\n",
       "      <td>.\\nBIG ISLAND FARMER’S MARKETS Updated 01/10/2011</td>\n",
       "      <td>NaN</td>\n",
       "      <td>NaN</td>\n",
       "      <td>NaN</td>\n",
       "      <td>NaN</td>\n",
       "      <td>NaN</td>\n",
       "      <td>NaN</td>\n",
       "    </tr>\n",
       "    <tr>\n",
       "      <td>191</td>\n",
       "      <td>OAHU FARMER'S MARKETS\\nUpdated 5/22/2012</td>\n",
       "      <td>NaN</td>\n",
       "      <td>NaN</td>\n",
       "      <td>NaN</td>\n",
       "      <td>NaN</td>\n",
       "      <td>NaN</td>\n",
       "      <td>NaN</td>\n",
       "      <td>NaN</td>\n",
       "      <td>NaN</td>\n",
       "      <td>NaN</td>\n",
       "      <td>NaN</td>\n",
       "      <td>NaN</td>\n",
       "      <td>NaN</td>\n",
       "      <td>NaN</td>\n",
       "      <td>NaN</td>\n",
       "      <td>NaN</td>\n",
       "    </tr>\n",
       "  </tbody>\n",
       "</table>\n",
       "</div>"
      ],
      "text/plain": [
       "                                          Name Sunday Monday Tuesday  \\\n",
       "1      MAUI FARMER’S MARKETS\\nUpdated 3/1/2011    NaN    NaN     NaN   \n",
       "46   KAUAI FARMER’S MARKETS\\nUpdated 3/15/2011    NaN    NaN     NaN   \n",
       "71                                         NaN    NaN    NaN     NaN   \n",
       "191   OAHU FARMER'S MARKETS\\nUpdated 5/22/2012    NaN    NaN     NaN   \n",
       "\n",
       "    Wednesday Thursday Friday Saturday Time  \\\n",
       "1         NaN      NaN    NaN      NaN  NaN   \n",
       "46        NaN      NaN    NaN      NaN  NaN   \n",
       "71        NaN      NaN    NaN      NaN  NaN   \n",
       "191       NaN      NaN    NaN      NaN  NaN   \n",
       "\n",
       "                                              Location Location Info Island  \\\n",
       "1                                                  NaN           NaN    NaN   \n",
       "46                                                 NaN           NaN    NaN   \n",
       "71   .\\nBIG ISLAND FARMER’S MARKETS Updated 01/10/2011           NaN    NaN   \n",
       "191                                                NaN           NaN    NaN   \n",
       "\n",
       "    Website Contact Phone Email  \n",
       "1       NaN     NaN   NaN   NaN  \n",
       "46      NaN     NaN   NaN   NaN  \n",
       "71      NaN     NaN   NaN   NaN  \n",
       "191     NaN     NaN   NaN   NaN  "
      ]
     },
     "execution_count": 7,
     "metadata": {},
     "output_type": "execute_result"
    }
   ],
   "source": [
    "#Display rows that have missing all weekdays\n",
    "data[data.iloc[:,1:8].isna().all(axis=1)]"
   ]
  },
  {
   "cell_type": "markdown",
   "metadata": {},
   "source": [
    "Now we actually see that the data were updated, and it looks like the data were updated by Island. Let's check Island value from a certain set, Maui for example."
   ]
  },
  {
   "cell_type": "code",
   "execution_count": 8,
   "metadata": {},
   "outputs": [
    {
     "data": {
      "text/plain": [
       "array([nan, 'Oahu', 'www.co.honolulu.hi.us/parks/programs/pom ', 'Hawaii',\n",
       "       'Kauai', 'Maui'], dtype=object)"
      ]
     },
     "execution_count": 8,
     "metadata": {},
     "output_type": "execute_result"
    }
   ],
   "source": [
    "data.loc[1:45]['Island'].unique()"
   ]
  },
  {
   "cell_type": "markdown",
   "metadata": {},
   "source": [
    "Other than Maui, this set contains Ohau and Kauai as well. So we cannot trust in the data order. I'll drop these values then."
   ]
  },
  {
   "cell_type": "code",
   "execution_count": 9,
   "metadata": {},
   "outputs": [],
   "source": [
    "data = data.dropna(subset=['Name'])\n",
    "data.drop([1,46,191], inplace=True)"
   ]
  },
  {
   "cell_type": "markdown",
   "metadata": {},
   "source": [
    "We can see that the data have break lines. I would like to check which columns have break lines."
   ]
  },
  {
   "cell_type": "code",
   "execution_count": 10,
   "metadata": {},
   "outputs": [
    {
     "name": "stdout",
     "output_type": "stream",
     "text": [
      "Columns that have break lines:\n",
      "Name: 115 record(s). Max: 7 ocurrence(s)\n",
      "Tuesday: 1 record(s). Max: 1.0 ocurrence(s)\n",
      "Wednesday: 2 record(s). Max: 1.0 ocurrence(s)\n",
      "Location: 86 record(s). Max: 2.0 ocurrence(s)\n",
      "Island: 1 record(s). Max: 1.0 ocurrence(s)\n",
      "Contact: 1 record(s). Max: 1.0 ocurrence(s)\n",
      "Phone: 1 record(s). Max: 1.0 ocurrence(s)\n"
     ]
    }
   ],
   "source": [
    "print('Columns that have break lines:')\n",
    "for col in data:\n",
    "    if (data[col].str.contains(r'\\n', na=False)).any() == True:\n",
    "        print(col + ': ' + str(data[col].str.contains(r'\\n', na=False).sum()) +\n",
    "              ' record(s). Max: ' + str(data[col].str.count(r'\\n').max()) + ' ocurrence(s)')"
   ]
  },
  {
   "cell_type": "markdown",
   "metadata": {},
   "source": [
    "Mostly Name and Location have break lines. We can make a quick check for other columns."
   ]
  },
  {
   "cell_type": "code",
   "execution_count": 11,
   "metadata": {
    "scrolled": false
   },
   "outputs": [
    {
     "data": {
      "text/html": [
       "<div>\n",
       "<style scoped>\n",
       "    .dataframe tbody tr th:only-of-type {\n",
       "        vertical-align: middle;\n",
       "    }\n",
       "\n",
       "    .dataframe tbody tr th {\n",
       "        vertical-align: top;\n",
       "    }\n",
       "\n",
       "    .dataframe thead th {\n",
       "        text-align: right;\n",
       "    }\n",
       "</style>\n",
       "<table border=\"1\" class=\"dataframe\">\n",
       "  <thead>\n",
       "    <tr style=\"text-align: right;\">\n",
       "      <th></th>\n",
       "      <th>Name</th>\n",
       "      <th>Sunday</th>\n",
       "      <th>Monday</th>\n",
       "      <th>Tuesday</th>\n",
       "      <th>Wednesday</th>\n",
       "      <th>Thursday</th>\n",
       "      <th>Friday</th>\n",
       "      <th>Saturday</th>\n",
       "      <th>Time</th>\n",
       "      <th>Location</th>\n",
       "      <th>Location Info</th>\n",
       "      <th>Island</th>\n",
       "      <th>Website</th>\n",
       "      <th>Contact</th>\n",
       "      <th>Phone</th>\n",
       "      <th>Email</th>\n",
       "    </tr>\n",
       "  </thead>\n",
       "  <tbody>\n",
       "    <tr>\n",
       "      <td>36</td>\n",
       "      <td>Davies Pacific Center</td>\n",
       "      <td>NaN</td>\n",
       "      <td>NaN</td>\n",
       "      <td>X\\n*2nd &amp; 4th</td>\n",
       "      <td>NaN</td>\n",
       "      <td>NaN</td>\n",
       "      <td>NaN</td>\n",
       "      <td>NaN</td>\n",
       "      <td>10:00 AM - 1:00 PM</td>\n",
       "      <td>841 Bishop Street</td>\n",
       "      <td>*2nd &amp; 4th Tuesdays</td>\n",
       "      <td>NaN</td>\n",
       "      <td>NaN</td>\n",
       "      <td>NaN</td>\n",
       "      <td>NaN</td>\n",
       "      <td>NaN</td>\n",
       "    </tr>\n",
       "    <tr>\n",
       "      <td>54</td>\n",
       "      <td>Ala Moana Farmers' Market</td>\n",
       "      <td>NaN</td>\n",
       "      <td>NaN</td>\n",
       "      <td>NaN</td>\n",
       "      <td>NaN</td>\n",
       "      <td>NaN</td>\n",
       "      <td>NaN</td>\n",
       "      <td>X</td>\n",
       "      <td>9:00 AM to 1:00 PM</td>\n",
       "      <td>1450 Ala Moana Blvd.\\nHonolulu, HI\\n(21.289280...</td>\n",
       "      <td>Ala Moana Center, upper deck by Sears, corner ...</td>\n",
       "      <td>\\nhttp://alamoanafarmersmarket.com/ala-moana.html</td>\n",
       "      <td>NaN</td>\n",
       "      <td>808-388-9696\\n</td>\n",
       "      <td>AlaMoanaFarmersMarket@gmail.com</td>\n",
       "      <td>NaN</td>\n",
       "    </tr>\n",
       "    <tr>\n",
       "      <td>57</td>\n",
       "      <td>Queen's Medical Center\\n1301 Punchbowl Street,...</td>\n",
       "      <td>NaN</td>\n",
       "      <td>NaN</td>\n",
       "      <td>NaN</td>\n",
       "      <td>X\\n1st Wed.</td>\n",
       "      <td>NaN</td>\n",
       "      <td>NaN</td>\n",
       "      <td>NaN</td>\n",
       "      <td>NaN</td>\n",
       "      <td>NaN</td>\n",
       "      <td>NaN</td>\n",
       "      <td>NaN</td>\n",
       "      <td>NaN</td>\n",
       "      <td>NaN</td>\n",
       "      <td>NaN</td>\n",
       "      <td>NaN</td>\n",
       "    </tr>\n",
       "    <tr>\n",
       "      <td>130</td>\n",
       "      <td>First Insurance Center\\n1100 Ward Ave., Honolu...</td>\n",
       "      <td>NaN</td>\n",
       "      <td>NaN</td>\n",
       "      <td>NaN</td>\n",
       "      <td>X\\n*1st &amp; 3rd</td>\n",
       "      <td>NaN</td>\n",
       "      <td>NaN</td>\n",
       "      <td>NaN</td>\n",
       "      <td>NaN</td>\n",
       "      <td>NaN</td>\n",
       "      <td>NaN</td>\n",
       "      <td>NaN</td>\n",
       "      <td>NaN</td>\n",
       "      <td>NaN</td>\n",
       "      <td>NaN</td>\n",
       "      <td>NaN</td>\n",
       "    </tr>\n",
       "    <tr>\n",
       "      <td>146</td>\n",
       "      <td>Ala Moana Farmers' Market</td>\n",
       "      <td>NaN</td>\n",
       "      <td>NaN</td>\n",
       "      <td>NaN</td>\n",
       "      <td>NaN</td>\n",
       "      <td>NaN</td>\n",
       "      <td>NaN</td>\n",
       "      <td>X</td>\n",
       "      <td>9:00 AM to 1:00 PM</td>\n",
       "      <td>1450 Ala Moana Blvd.\\nHonolulu, HI\\n(21.289280...</td>\n",
       "      <td>Ala Moana Center, upper deck by Sears, corner ...</td>\n",
       "      <td>Oahu</td>\n",
       "      <td>http://alamoanafarmersmarket.com/ala-moana.html</td>\n",
       "      <td>NaN</td>\n",
       "      <td>808-388-9696\\n</td>\n",
       "      <td>AlaMoanaFarmersMarket@gmail.com</td>\n",
       "    </tr>\n",
       "  </tbody>\n",
       "</table>\n",
       "</div>"
      ],
      "text/plain": [
       "                                                  Name Sunday Monday  \\\n",
       "36                               Davies Pacific Center    NaN    NaN   \n",
       "54                           Ala Moana Farmers' Market    NaN    NaN   \n",
       "57   Queen's Medical Center\\n1301 Punchbowl Street,...    NaN    NaN   \n",
       "130  First Insurance Center\\n1100 Ward Ave., Honolu...    NaN    NaN   \n",
       "146                          Ala Moana Farmers' Market    NaN    NaN   \n",
       "\n",
       "           Tuesday       Wednesday Thursday Friday Saturday  \\\n",
       "36   X\\n*2nd & 4th             NaN      NaN    NaN      NaN   \n",
       "54             NaN             NaN      NaN    NaN        X   \n",
       "57             NaN     X\\n1st Wed.      NaN    NaN      NaN   \n",
       "130            NaN  X\\n*1st & 3rd       NaN    NaN      NaN   \n",
       "146            NaN             NaN      NaN    NaN        X   \n",
       "\n",
       "                   Time                                           Location  \\\n",
       "36   10:00 AM - 1:00 PM                                  841 Bishop Street   \n",
       "54   9:00 AM to 1:00 PM  1450 Ala Moana Blvd.\\nHonolulu, HI\\n(21.289280...   \n",
       "57                  NaN                                                NaN   \n",
       "130                 NaN                                                NaN   \n",
       "146  9:00 AM to 1:00 PM  1450 Ala Moana Blvd.\\nHonolulu, HI\\n(21.289280...   \n",
       "\n",
       "                                         Location Info  \\\n",
       "36                                 *2nd & 4th Tuesdays   \n",
       "54   Ala Moana Center, upper deck by Sears, corner ...   \n",
       "57                                                 NaN   \n",
       "130                                                NaN   \n",
       "146  Ala Moana Center, upper deck by Sears, corner ...   \n",
       "\n",
       "                                                Island  \\\n",
       "36                                                 NaN   \n",
       "54   \\nhttp://alamoanafarmersmarket.com/ala-moana.html   \n",
       "57                                                 NaN   \n",
       "130                                                NaN   \n",
       "146                                               Oahu   \n",
       "\n",
       "                                             Website         Contact  \\\n",
       "36                                               NaN             NaN   \n",
       "54                                               NaN  808-388-9696\\n   \n",
       "57                                               NaN             NaN   \n",
       "130                                              NaN             NaN   \n",
       "146  http://alamoanafarmersmarket.com/ala-moana.html             NaN   \n",
       "\n",
       "                               Phone                            Email  \n",
       "36                               NaN                              NaN  \n",
       "54   AlaMoanaFarmersMarket@gmail.com                              NaN  \n",
       "57                               NaN                              NaN  \n",
       "130                              NaN                              NaN  \n",
       "146                   808-388-9696\\n  AlaMoanaFarmersMarket@gmail.com  "
      ]
     },
     "execution_count": 11,
     "metadata": {},
     "output_type": "execute_result"
    }
   ],
   "source": [
    "data[data['Tuesday'].str.contains(r'\\n', na=False) |\n",
    "     data['Wednesday'].str.contains(r'\\n', na=False) |\n",
    "     data['Island'].str.contains(r'\\n', na=False) |\n",
    "     data['Contact'].str.contains(r'\\n', na=False) |\n",
    "     data['Phone'].str.contains(r'\\n', na=False) ]"
   ]
  },
  {
   "cell_type": "markdown",
   "metadata": {},
   "source": [
    "This is not too bad. I can manually change these values."
   ]
  },
  {
   "cell_type": "code",
   "execution_count": 12,
   "metadata": {},
   "outputs": [],
   "source": [
    "data.loc[36]['Tuesday'] = 'X'\n",
    "data.loc[57]['Wednesday'] = 'X'\n",
    "data.loc[57]['Location Info'] = '1st Wed.'\n",
    "data.loc[130]['Wednesday'] = 'X'\n",
    "data.loc[130]['Location Info'] = '1st & 3rd'"
   ]
  },
  {
   "cell_type": "markdown",
   "metadata": {},
   "source": [
    "Let's strip the data, and replace blanks with Nans."
   ]
  },
  {
   "cell_type": "code",
   "execution_count": 13,
   "metadata": {},
   "outputs": [],
   "source": [
    "data[data.columns] = data.apply(lambda x: x.str.strip('\\n'))\n",
    "data[data.columns] = data.apply(lambda x: x.str.strip('*'))\n",
    "data[data.columns] = data.apply(lambda x: x.str.strip(' '))\n",
    "data.replace('^\\s*$', np.nan, regex=True, inplace = True)"
   ]
  },
  {
   "cell_type": "markdown",
   "metadata": {},
   "source": [
    "For Name and Location rows that have break lines, I would like to know if other columns from these rows are missing or not."
   ]
  },
  {
   "cell_type": "code",
   "execution_count": 14,
   "metadata": {},
   "outputs": [
    {
     "name": "stdout",
     "output_type": "stream",
     "text": [
      "For Name values that have break lines: 113 records\n",
      "Number of non-missing values in Time: 12\n",
      "Number of non-missing values in Location: 3\n",
      "Number of non-missing values in Location Info: 2\n",
      "Number of non-missing values in Island: 31\n",
      "Number of non-missing values in Website: 1\n",
      "Number of non-missing values in Contact: 25\n",
      "Number of non-missing values in Phone: 8\n"
     ]
    }
   ],
   "source": [
    "print('For Name values that have break lines: ' +\n",
    "      str(data['Name'].str.contains(r'\\n', na=False).sum()) + ' records')\n",
    "for col in data.iloc[:,8:15]:\n",
    "    print('Number of non-missing values in ' + col + ': ' +\n",
    "          str(np.where(data['Name'].str.contains(r'\\n', na=False),data[col].notna(),0).sum()))"
   ]
  },
  {
   "cell_type": "markdown",
   "metadata": {},
   "source": [
    "We have a really messy data here!"
   ]
  },
  {
   "cell_type": "markdown",
   "metadata": {},
   "source": [
    "## Build Regex"
   ]
  },
  {
   "cell_type": "markdown",
   "metadata": {},
   "source": [
    "In this part, I will use Regex to extract pattern of Time, Website, Email, and Phone. The goal is to use extracted information to fill in missing values."
   ]
  },
  {
   "cell_type": "markdown",
   "metadata": {},
   "source": [
    "### Time\n",
    "#### Check pattern and extract information"
   ]
  },
  {
   "cell_type": "code",
   "execution_count": 15,
   "metadata": {},
   "outputs": [
    {
     "data": {
      "text/plain": [
       "[nan,\n",
       " '9:00 AM to 4:00PM',\n",
       " '10:00 AM to 2:00 PM',\n",
       " '4:00 PM to 8:00 PM',\n",
       " '7:00 AM to 12:00 NOON',\n",
       " '8:15 AM to 9:15 AM',\n",
       " '7:00 AM to 12:00 PM',\n",
       " '3:00 PM',\n",
       " '10:45 AM to 11:45 AM',\n",
       " '9:00 AM to 1:00 PM',\n",
       " '7:00 AM to 2:00 PM',\n",
       " '7:00AM to 5:00PM',\n",
       " '3:00 PM to 7:00 PM',\n",
       " '8:00 AM to 12:00 NOON',\n",
       " '8:00 AM to 2:00 PM',\n",
       " '7:00 AM to 1:00 PM',\n",
       " '7:00 AM to 3:00 PM',\n",
       " '9:30 AM -   2:00 PM',\n",
       " '10:00 AM - 1:00 PM',\n",
       " '9:00 AM',\n",
       " '10:00 AM - 4:00 PM',\n",
       " '9:00 AM to 2:00 PM',\n",
       " '9:00 AM to 10:00 AM',\n",
       " '10:00 AM to 1:00 PM',\n",
       " '3:00 PM to 6:30 PM',\n",
       " '4:30 PM to 7:30 PM',\n",
       " '7:00 AM to 8:00 AM',\n",
       " '8:00 AM - 1:00 PM',\n",
       " '6:15 AM to 7:30 AM',\n",
       " '8:00 AM to 1:00 PM',\n",
       " '4:00 PM to 7:00 PM',\n",
       " '8:30 AM to 9:30 AM',\n",
       " '7:30 AM to 1:00 PM',\n",
       " '11:30 AM to 12:30 PM',\n",
       " '7:00 AM - 12:00 NOON',\n",
       " '7:00 AM to 11:00 AM',\n",
       " '7:00 AM to 4:00 PM',\n",
       " '12:30 PM to 5:30 PM',\n",
       " '8:00 AM - 12:00 NOON',\n",
       " '11:15 AM to 12:00 Noon',\n",
       " '6:45 AM to 7:45 AM',\n",
       " '5:00 PM to 7:30 PM',\n",
       " '10:15 AM to 11:00 AM',\n",
       " '2:00 PM to 5:00 PM',\n",
       " '7:00 AM to 12 Noon',\n",
       " '8:00 AM',\n",
       " '8:15 AM to 9:30 AM',\n",
       " '8:00 AM to 5:00 PM',\n",
       " '11:00 AM to 11:45 AM',\n",
       " '1:00 PM - 6:00 PM',\n",
       " 'All Day',\n",
       " '8:00 AM to 12 NOON',\n",
       " '10:00 AM to 10:45 AM',\n",
       " '4:00 PM to 9:00 PM',\n",
       " '7:00 AM to 8:30 AM',\n",
       " '6:00 AM to 4:00 PM',\n",
       " '6:30 AM to 7:30 AM',\n",
       " '10:00 AM to 11:00 AM',\n",
       " '9:00 AM to 5:00 PM',\n",
       " '11:45 AM to 12:30 PM',\n",
       " '3:00 PM to 8:00 PM',\n",
       " '10:00 AM to 6:00 PM',\n",
       " '9 AM  - 1:30 PM',\n",
       " '8:30 AM to 12:00 Noon',\n",
       " '10:00 AM to 5:00 PM',\n",
       " '6:00 AM to 1:00 PM',\n",
       " '6:00 AM to 1:30 PM',\n",
       " 'Noon',\n",
       " '8:00 AM to 4:00 PM',\n",
       " '7:00 AM to 5:00 PM',\n",
       " '1:00 PM to 2:00 PM',\n",
       " '7:30 AM to 3:00 PM',\n",
       " '2:00 PM',\n",
       " '9:00 AM - 1:00 PM',\n",
       " '4:00 PM - 8:00 PM',\n",
       " '7:00 AM to 9:00 AM',\n",
       " '7:30 AM to 2:00 PM',\n",
       " '7:00 AM - 12 NOON',\n",
       " '7:15 AM to 10:00 AM',\n",
       " '4:30 PM',\n",
       " '7:30 AM to 11:00 AM',\n",
       " '8:30 AM to 11:30 AM',\n",
       " '9:00 AM to 6:00 PM',\n",
       " '9:00 AM - 2:00 PM',\n",
       " '9:00AM to 1:00PM',\n",
       " '9:30 AM to 11:00 AM',\n",
       " '10:00 AM -4:00 PM',\n",
       " '4:30 PM - 8:00 PM',\n",
       " '7:15 AM to 8:15 AM']"
      ]
     },
     "execution_count": 15,
     "metadata": {},
     "output_type": "execute_result"
    }
   ],
   "source": [
    "#List all unique values to find the pattern.\n",
    "data['Time'].unique().tolist()"
   ]
  },
  {
   "cell_type": "markdown",
   "metadata": {},
   "source": [
    "The Regex for time is:\n",
    "\n",
    "```\n",
    "\\d{1,2}(?:\\W\\d{2})?\\s?(?:AM|PM|NOON|Noon)\n",
    "(?:\\s{1,}?(?:to|-)\\s{1,})?\n",
    "(?:\\d{1,2}(?:\\W\\d{2})?\\s?(?:AM|PM|NOON|Noon))?\n",
    "```"
   ]
  },
  {
   "cell_type": "code",
   "execution_count": 16,
   "metadata": {},
   "outputs": [
    {
     "name": "stdout",
     "output_type": "stream",
     "text": [
      "Columns that have time information:\n",
      "Name: max 2 occurence(s)\n",
      "Time: max 2.0 occurence(s)\n"
     ]
    }
   ],
   "source": [
    "#Check which columns have time pattern.\n",
    "print('Columns that have time information:')\n",
    "for col in data:\n",
    "    if (data[col].str.contains('\\d{1,2}(?:\\W\\d{2})?\\s?(?:AM|PM|NOON|Noon)'\\\n",
    "                               '(?:\\s{1,}?(?:to|-)\\s{1,})?(?:\\d{1,2}'     \\\n",
    "                               '(?:\\W\\d{2})?\\s?(?:AM|PM|NOON|Noon))?', na=False)).any() == True:\n",
    "        print(col + ': max ' + str(data[col].str.count(\n",
    "                                   '\\d{1,2}(?:\\W\\d{2})?\\s?(?:AM|PM|NOON|Noon)'\\\n",
    "                                   '(?:\\s{1,}?(?:to|-)\\s{1,})?(?:\\d{1,2}'     \\\n",
    "                                   '(?:\\W\\d{2})?\\s?(?:AM|PM|NOON|Noon))?').max()) + ' occurence(s)')"
   ]
  },
  {
   "cell_type": "code",
   "execution_count": 17,
   "metadata": {},
   "outputs": [
    {
     "data": {
      "text/plain": [
       "False"
      ]
     },
     "execution_count": 17,
     "metadata": {},
     "output_type": "execute_result"
    }
   ],
   "source": [
    "#Check if both Name and Time have time pattern in one row.\n",
    "(data['Name'].str.contains('\\d{1,2}(?:\\W\\d{2})?\\s?(?:AM|PM|NOON|Noon)'\\\n",
    "                           '(?:\\s{1,}?(?:to|-)\\s{1,})?(?:\\d{1,2}'     \\\n",
    "                           '(?:\\W\\d{2})?\\s?(?:AM|PM|NOON|Noon))?', na=False) &\n",
    " data['Time'].str.contains('\\d{1,2}(?:\\W\\d{2})?\\s?(?:AM|PM|NOON|Noon)'\\\n",
    "                           '(?:\\s{1,}?(?:to|-)\\s{1,})?(?:\\d{1,2}'     \\\n",
    "                           '(?:\\W\\d{2})?\\s?(?:AM|PM|NOON|Noon))?', na=False)).any()"
   ]
  },
  {
   "cell_type": "code",
   "execution_count": 18,
   "metadata": {},
   "outputs": [],
   "source": [
    "#Replace data in Time column with extracted time pattern.\n",
    "data['Time'] = np.where(data['Name'].str.contains(\n",
    "                        '\\d{1,2}(?:\\W\\d{2})?\\s?(?:AM|PM|NOON|Noon)'\\\n",
    "                        '(?:\\s{1,}?(?:to|-)\\s{1,})?(?:\\d{1,2}'     \\\n",
    "                        '(?:\\W\\d{2})?\\s?(?:AM|PM|NOON|Noon))?', na=False),\n",
    "                        data['Name'].str.findall(\n",
    "                        '\\d{1,2}(?:\\W\\d{2})?\\s?(?:AM|PM|NOON|Noon)'\\\n",
    "                        '(?:\\s{1,}?(?:to|-)\\s{1,})?(?:\\d{1,2}'     \\\n",
    "                        '(?:\\W\\d{2})?\\s?(?:AM|PM|NOON|Noon))?').apply(lambda x: ', '.join(set(x))),\n",
    "                        data['Time'])"
   ]
  },
  {
   "cell_type": "markdown",
   "metadata": {},
   "source": [
    "#### Format\n",
    "In this part, I will format all time values."
   ]
  },
  {
   "cell_type": "code",
   "execution_count": 19,
   "metadata": {},
   "outputs": [
    {
     "data": {
      "text/plain": [
       "['8:30 AM to 12:00 Noon',\n",
       " '9 AM',\n",
       " '1:00 PM - 6:00 PM',\n",
       " '4:00 PM - 8:00 PM',\n",
       " '9:00 AM to 4:00PM',\n",
       " '7:30 AM to 3:00 PM',\n",
       " '10:00 AM to 2:00 PM',\n",
       " '11:00 AM to 11:45 AM',\n",
       " '4:00 PM to 8:00 PM',\n",
       " '7:00 AM to 12:00 NOON',\n",
       " '11:15 AM to 12:00 Noon',\n",
       " '8:15 AM to 9:15 AM',\n",
       " '7:00 AM to 12:00 PM',\n",
       " '7:30 AM to 1:00 PM',\n",
       " '7:00 AM to 4:00 PM',\n",
       " '3:00 PM',\n",
       " '10:45 AM to 11:45 AM',\n",
       " '9:00 AM to 1:00 PM',\n",
       " '12:30 PM to 5:30 PM',\n",
       " '7:00 AM to 2:00 PM',\n",
       " '8:00 AM to 5:00 PM',\n",
       " '7:00AM to 5:00PM',\n",
       " '3:00 PM to 7:00 PM',\n",
       " '10:15 AM to 11:00 AM',\n",
       " '8:00 AM to 12:00 NOON',\n",
       " '8:00 AM to 2:00 PM',\n",
       " '7:00 AM to 1:00 PM',\n",
       " '7:00 AM to 3:00 PM',\n",
       " '2:00 PM to 5:00 PM',\n",
       " '9:30 AM -   2:00 PM',\n",
       " '10:00 AM - 1:00 PM',\n",
       " '9:00 AM',\n",
       " '10:00 AM - 4:00 PM',\n",
       " '9:00 AM to 2:00 PM',\n",
       " '9:00 AM to 10:00 AM',\n",
       " '10:00 AM to 1:00 PM',\n",
       " '7:00 AM to 11:00 AM',\n",
       " '5:00 PM to 7:30 PM',\n",
       " '7:00 AM to 8:00 AM',\n",
       " '3:00 PM to 6:30 PM',\n",
       " '4:30 PM to 7:30 PM',\n",
       " '8:00 AM to 1:00 PM',\n",
       " '4:00 PM to 7:00 PM',\n",
       " '3:00 PM to 8:00 PM',\n",
       " '10:00 AM to 11:00 AM',\n",
       " '8 AM',\n",
       " '8:00 AM - 1:00 PM',\n",
       " '6:15 AM to 7:30 AM',\n",
       " '4:30 PM',\n",
       " '8:30 AM to 9:30 AM',\n",
       " '8:00 AM to 4.00 PM',\n",
       " '11:30 AM to 12:30 PM',\n",
       " '7:00 AM - 12:00 NOON',\n",
       " '2 PM',\n",
       " '8:00 AM - 12:00 NOON',\n",
       " '9:00 AM to 6:00 PM',\n",
       " '11:45 AM to 12:30 PM',\n",
       " '6:45 AM to 7:45 AM',\n",
       " '7:15 AM to 8:15 AM',\n",
       " '7:30 AM to 2:00 PM',\n",
       " '3 PM',\n",
       " '7:00 AM to 12 Noon',\n",
       " '8:00 AM',\n",
       " '8:00 AM to 12 NOON',\n",
       " '8:15 AM to 9:30 AM',\n",
       " '7:00 AM to 5:00 PM',\n",
       " '7:15 AM to 10:00 AM',\n",
       " '10AM - 1PM',\n",
       " 'All Day',\n",
       " nan,\n",
       " '9:00AM to 1:00PM',\n",
       " '10:00 AM to 10:45 AM',\n",
       " '9:00 AM - 1:00 PM',\n",
       " '4:00 PM to 9:00 PM',\n",
       " '7:00 AM to 8:30 AM',\n",
       " '6:00 AM to 4:00 PM',\n",
       " '6:30 AM to 7:30 AM',\n",
       " '10:00 AM - 5:00 PM',\n",
       " '9:00 AM to 5:00 PM',\n",
       " '10:00 AM to 6:00 PM',\n",
       " '9 AM  - 1:30 PM',\n",
       " '7:30 AM to 11:00 AM',\n",
       " '10:00 AM to 5:00 PM',\n",
       " '6:00 AM to 1:30 PM',\n",
       " '6:00 AM to 1:00 PM',\n",
       " 'Noon',\n",
       " '8:00 AM to 4:00 PM',\n",
       " '1:00 PM to 2:00 PM',\n",
       " '2:00 PM',\n",
       " '7:00 AM to 9:00 AM',\n",
       " '9:30 AM to 11:00 AM',\n",
       " '7:00 AM - 12 NOON',\n",
       " '8:30 AM to 11:30 AM',\n",
       " '9:00 AM - 2:00 PM',\n",
       " '4:30 PM - 8:00 PM, 9:00 AM - 2:00 PM',\n",
       " '10:00 AM -4:00 PM',\n",
       " '10 AM - 1 PM',\n",
       " '4:30 PM - 8:00 PM']"
      ]
     },
     "execution_count": 19,
     "metadata": {},
     "output_type": "execute_result"
    }
   ],
   "source": [
    "#Recheck time column\n",
    "data['Time'].unique().tolist()"
   ]
  },
  {
   "cell_type": "markdown",
   "metadata": {},
   "source": [
    "Next, I will extract time part (hour, minute, part of day then combine them as a formatted form."
   ]
  },
  {
   "cell_type": "code",
   "execution_count": 20,
   "metadata": {},
   "outputs": [],
   "source": [
    "#Extract time part to a data frame\n",
    "data_time = data['Time'].str.extractall('(\\d{1,2})\\W?(\\d{2})?\\s?(AM|PM|NOON|Noon)'\n",
    "                                        '(?:(\\s{1,}?(?:to|-)\\s{1,})?(\\d{1,2})\\W?'\n",
    "                                        '(\\d{2})?\\s?(AM|PM|NOON|Noon)?)?')"
   ]
  },
  {
   "cell_type": "code",
   "execution_count": 21,
   "metadata": {},
   "outputs": [],
   "source": [
    "#Replace Nans with 00 and Noon with PM\n",
    "data_time.replace(np.nan,'00',inplace=True)\n",
    "data_time.replace('NOON','PM',inplace=True)\n",
    "data_time.replace('Noon','PM',inplace=True)"
   ]
  },
  {
   "cell_type": "code",
   "execution_count": 22,
   "metadata": {},
   "outputs": [
    {
     "data": {
      "text/html": [
       "<div>\n",
       "<style scoped>\n",
       "    .dataframe tbody tr th:only-of-type {\n",
       "        vertical-align: middle;\n",
       "    }\n",
       "\n",
       "    .dataframe tbody tr th {\n",
       "        vertical-align: top;\n",
       "    }\n",
       "\n",
       "    .dataframe thead th {\n",
       "        text-align: right;\n",
       "    }\n",
       "</style>\n",
       "<table border=\"1\" class=\"dataframe\">\n",
       "  <thead>\n",
       "    <tr style=\"text-align: right;\">\n",
       "      <th></th>\n",
       "      <th></th>\n",
       "      <th>0</th>\n",
       "      <th>1</th>\n",
       "      <th>2</th>\n",
       "      <th>3</th>\n",
       "      <th>4</th>\n",
       "      <th>5</th>\n",
       "      <th>6</th>\n",
       "    </tr>\n",
       "    <tr>\n",
       "      <th></th>\n",
       "      <th>match</th>\n",
       "      <th></th>\n",
       "      <th></th>\n",
       "      <th></th>\n",
       "      <th></th>\n",
       "      <th></th>\n",
       "      <th></th>\n",
       "      <th></th>\n",
       "    </tr>\n",
       "  </thead>\n",
       "  <tbody>\n",
       "    <tr>\n",
       "      <td>0</td>\n",
       "      <td>0</td>\n",
       "      <td>8</td>\n",
       "      <td>30</td>\n",
       "      <td>AM</td>\n",
       "      <td>to</td>\n",
       "      <td>12</td>\n",
       "      <td>00</td>\n",
       "      <td>PM</td>\n",
       "    </tr>\n",
       "    <tr>\n",
       "      <td>2</td>\n",
       "      <td>0</td>\n",
       "      <td>9</td>\n",
       "      <td>00</td>\n",
       "      <td>AM</td>\n",
       "      <td>00</td>\n",
       "      <td>00</td>\n",
       "      <td>00</td>\n",
       "      <td>00</td>\n",
       "    </tr>\n",
       "    <tr>\n",
       "      <td>3</td>\n",
       "      <td>0</td>\n",
       "      <td>1</td>\n",
       "      <td>00</td>\n",
       "      <td>PM</td>\n",
       "      <td>-</td>\n",
       "      <td>6</td>\n",
       "      <td>00</td>\n",
       "      <td>PM</td>\n",
       "    </tr>\n",
       "    <tr>\n",
       "      <td>4</td>\n",
       "      <td>0</td>\n",
       "      <td>4</td>\n",
       "      <td>00</td>\n",
       "      <td>PM</td>\n",
       "      <td>-</td>\n",
       "      <td>8</td>\n",
       "      <td>00</td>\n",
       "      <td>PM</td>\n",
       "    </tr>\n",
       "    <tr>\n",
       "      <td>5</td>\n",
       "      <td>0</td>\n",
       "      <td>9</td>\n",
       "      <td>00</td>\n",
       "      <td>AM</td>\n",
       "      <td>to</td>\n",
       "      <td>4</td>\n",
       "      <td>00</td>\n",
       "      <td>PM</td>\n",
       "    </tr>\n",
       "  </tbody>\n",
       "</table>\n",
       "</div>"
      ],
      "text/plain": [
       "         0   1   2     3   4   5   6\n",
       "  match                             \n",
       "0 0      8  30  AM   to   12  00  PM\n",
       "2 0      9  00  AM    00  00  00  00\n",
       "3 0      1  00  PM    -    6  00  PM\n",
       "4 0      4  00  PM    -    8  00  PM\n",
       "5 0      9  00  AM   to    4  00  PM"
      ]
     },
     "execution_count": 22,
     "metadata": {},
     "output_type": "execute_result"
    }
   ],
   "source": [
    "data_time.head()"
   ]
  },
  {
   "cell_type": "markdown",
   "metadata": {},
   "source": [
    "So we might have both opening and closing time (8:30 AM to 12:00 PM), or just opening time (9:00 AM) in a row. We also might have more than one time frame in a row. First, I combine these values into desired format."
   ]
  },
  {
   "cell_type": "code",
   "execution_count": 23,
   "metadata": {},
   "outputs": [],
   "source": [
    "#Combine and rewrite these parts to formated values.\n",
    "data_time['Time'] = np.where(data_time[3] == '00',\n",
    "                             data_time[0] + ':' + data_time[1] + ' ' + data_time[2],\n",
    "                             data_time[0] + ':' + data_time[1] + ' ' + data_time[2] + \\\n",
    "                             ' to ' + data_time[4] + ':' + data_time[5] + ' ' + data_time[6])"
   ]
  },
  {
   "cell_type": "code",
   "execution_count": 24,
   "metadata": {},
   "outputs": [
    {
     "data": {
      "text/html": [
       "<div>\n",
       "<style scoped>\n",
       "    .dataframe tbody tr th:only-of-type {\n",
       "        vertical-align: middle;\n",
       "    }\n",
       "\n",
       "    .dataframe tbody tr th {\n",
       "        vertical-align: top;\n",
       "    }\n",
       "\n",
       "    .dataframe thead th {\n",
       "        text-align: right;\n",
       "    }\n",
       "</style>\n",
       "<table border=\"1\" class=\"dataframe\">\n",
       "  <thead>\n",
       "    <tr style=\"text-align: right;\">\n",
       "      <th></th>\n",
       "      <th></th>\n",
       "      <th>0</th>\n",
       "      <th>1</th>\n",
       "      <th>2</th>\n",
       "      <th>3</th>\n",
       "      <th>4</th>\n",
       "      <th>5</th>\n",
       "      <th>6</th>\n",
       "      <th>Time</th>\n",
       "    </tr>\n",
       "    <tr>\n",
       "      <th></th>\n",
       "      <th>match</th>\n",
       "      <th></th>\n",
       "      <th></th>\n",
       "      <th></th>\n",
       "      <th></th>\n",
       "      <th></th>\n",
       "      <th></th>\n",
       "      <th></th>\n",
       "      <th></th>\n",
       "    </tr>\n",
       "  </thead>\n",
       "  <tbody>\n",
       "    <tr>\n",
       "      <td>0</td>\n",
       "      <td>0</td>\n",
       "      <td>8</td>\n",
       "      <td>30</td>\n",
       "      <td>AM</td>\n",
       "      <td>to</td>\n",
       "      <td>12</td>\n",
       "      <td>00</td>\n",
       "      <td>PM</td>\n",
       "      <td>8:30 AM to 12:00 PM</td>\n",
       "    </tr>\n",
       "    <tr>\n",
       "      <td>2</td>\n",
       "      <td>0</td>\n",
       "      <td>9</td>\n",
       "      <td>00</td>\n",
       "      <td>AM</td>\n",
       "      <td>00</td>\n",
       "      <td>00</td>\n",
       "      <td>00</td>\n",
       "      <td>00</td>\n",
       "      <td>9:00 AM</td>\n",
       "    </tr>\n",
       "    <tr>\n",
       "      <td>3</td>\n",
       "      <td>0</td>\n",
       "      <td>1</td>\n",
       "      <td>00</td>\n",
       "      <td>PM</td>\n",
       "      <td>-</td>\n",
       "      <td>6</td>\n",
       "      <td>00</td>\n",
       "      <td>PM</td>\n",
       "      <td>1:00 PM to 6:00 PM</td>\n",
       "    </tr>\n",
       "    <tr>\n",
       "      <td>4</td>\n",
       "      <td>0</td>\n",
       "      <td>4</td>\n",
       "      <td>00</td>\n",
       "      <td>PM</td>\n",
       "      <td>-</td>\n",
       "      <td>8</td>\n",
       "      <td>00</td>\n",
       "      <td>PM</td>\n",
       "      <td>4:00 PM to 8:00 PM</td>\n",
       "    </tr>\n",
       "    <tr>\n",
       "      <td>5</td>\n",
       "      <td>0</td>\n",
       "      <td>9</td>\n",
       "      <td>00</td>\n",
       "      <td>AM</td>\n",
       "      <td>to</td>\n",
       "      <td>4</td>\n",
       "      <td>00</td>\n",
       "      <td>PM</td>\n",
       "      <td>9:00 AM to 4:00 PM</td>\n",
       "    </tr>\n",
       "  </tbody>\n",
       "</table>\n",
       "</div>"
      ],
      "text/plain": [
       "         0   1   2     3   4   5   6                 Time\n",
       "  match                                                  \n",
       "0 0      8  30  AM   to   12  00  PM  8:30 AM to 12:00 PM\n",
       "2 0      9  00  AM    00  00  00  00              9:00 AM\n",
       "3 0      1  00  PM    -    6  00  PM   1:00 PM to 6:00 PM\n",
       "4 0      4  00  PM    -    8  00  PM   4:00 PM to 8:00 PM\n",
       "5 0      9  00  AM   to    4  00  PM   9:00 AM to 4:00 PM"
      ]
     },
     "execution_count": 24,
     "metadata": {},
     "output_type": "execute_result"
    }
   ],
   "source": [
    "data_time.head()"
   ]
  },
  {
   "cell_type": "markdown",
   "metadata": {},
   "source": [
    "Looks good! Since I want to join these information into our dataframe, I'll need to group these data by index (first level) and join unique values for each index."
   ]
  },
  {
   "cell_type": "code",
   "execution_count": 25,
   "metadata": {},
   "outputs": [],
   "source": [
    "#Group data by index and join unique values, then create a new dataframe\n",
    "data_time = data_time.groupby(level=[0]).agg(lambda x: ', '.join(set(x)))['Time']\n",
    "data_time = pd.DataFrame(data_time)"
   ]
  },
  {
   "cell_type": "code",
   "execution_count": 26,
   "metadata": {},
   "outputs": [],
   "source": [
    "#Join with the original dataframe\n",
    "data = data.join(data_time,rsuffix='_group')"
   ]
  },
  {
   "cell_type": "code",
   "execution_count": 27,
   "metadata": {},
   "outputs": [],
   "source": [
    "#Replace old Time column with extracted values\n",
    "data['Time'] = data['Time_group']\n",
    "data.drop('Time_group',axis=1,inplace=True)"
   ]
  },
  {
   "cell_type": "markdown",
   "metadata": {},
   "source": [
    "I'll go over the same steps for Website, Phone, and Email columns"
   ]
  },
  {
   "cell_type": "markdown",
   "metadata": {},
   "source": [
    "### Website\n",
    "#### Check pattern and extract information"
   ]
  },
  {
   "cell_type": "code",
   "execution_count": 28,
   "metadata": {},
   "outputs": [
    {
     "data": {
      "text/plain": [
       "[nan,\n",
       " 'http://www.co.honolulu.hi.us/parks/programs/pom',\n",
       " 'http://www.mahikufarmersmarket.com',\n",
       " 'http://www.hfbf.org',\n",
       " 'http://www.hilofarmersmarket.com',\n",
       " 'http://makawaofarmersmarket.org/',\n",
       " 'http://www.lahainaproduce.com',\n",
       " 'http://www.skgm.org',\n",
       " 'http://www.wardcenters.com',\n",
       " 'http://www.northshorecountrymarket.com',\n",
       " 'http://www.haleiwafarmersmarket.com',\n",
       " 'http://www.kings-village.com',\n",
       " 'http://www.windwardmall.com/event/farmers-market-every-Wednesday',\n",
       " 'http://alamoanafarmersmarket.com/ala-moana.html',\n",
       " 'http://www.halehalawai.org/market.htm',\n",
       " 'http://www.makekeomaunalua.com',\n",
       " 'http://www.local-farmers-markets.com/market/1162/honolulu/fort-street-near-wilcox-park',\n",
       " 'http://www.waianaefarmersmarket.org',\n",
       " 'http://www.KakaakoMakaiMarket.com']"
      ]
     },
     "execution_count": 28,
     "metadata": {},
     "output_type": "execute_result"
    }
   ],
   "source": [
    "#List all unique values to find the pattern\n",
    "data['Website'].unique().tolist()"
   ]
  },
  {
   "cell_type": "markdown",
   "metadata": {},
   "source": [
    "The Regex for website is:\n",
    "```\n",
    "(?:(?:(?:https?://)?(?:www.))|(?:(?:https?://)(?:www.)?))[\\w\\-.~:/?#\\[\\]@!$&'()*+,;=%]+\n",
    "```"
   ]
  },
  {
   "cell_type": "code",
   "execution_count": 29,
   "metadata": {},
   "outputs": [
    {
     "name": "stdout",
     "output_type": "stream",
     "text": [
      "Columns that have website information:\n",
      "Name: max 2 occurence(s)\n",
      "Island: max 1.0 occurence(s)\n",
      "Website: max 1.0 occurence(s)\n",
      "Phone: max 1.0 occurence(s)\n"
     ]
    }
   ],
   "source": [
    "#Check which columns have time pattern\n",
    "print('Columns that have website information:')\n",
    "for col in data:\n",
    "    if (data[col].str.contains(\"(?:(?:(?:https?://)?(?:www.))|(?:(?:https?://)(?:www.)?))\" \\\n",
    "                               \"[\\w\\-.~:/?#\\[\\]@!$&'()*+,;=%]+\", na=False)).any() == True:\n",
    "        print(col + ': max ' + str(data[col].str.count(\n",
    "                                   \"(?:(?:(?:https?://)?(?:www.))|(?:(?:https?://)(?:www.)?))\" \\\n",
    "                                   \"[\\w\\-.~:/?#\\[\\]@!$&'()*+,;=%]+\").max()) + ' occurence(s)')"
   ]
  },
  {
   "cell_type": "code",
   "execution_count": 30,
   "metadata": {},
   "outputs": [
    {
     "name": "stdout",
     "output_type": "stream",
     "text": [
      "All rows that have website information in these columns have missing data in Website column:\n",
      "Name: True\n",
      "Island: True\n",
      "Phone: True\n"
     ]
    }
   ],
   "source": [
    "#Check if these rows have website information only when there're missing values in Website column\n",
    "print('All rows that have website information in these columns have missing data in Website column:')\n",
    "for col in data[['Name','Island','Phone']]:\n",
    "    print(col + ': ' +\n",
    "          str(data[data[col].str.contains(\n",
    "              \"(?:(?:(?:https?://)?(?:www.))|(?:(?:https?://)(?:www.)?))\" \\\n",
    "              \"[\\w\\-.~:/?#\\[\\]@!$&'()*+,;=%]+\", na=False)]['Website'].isna().all()))"
   ]
  },
  {
   "cell_type": "code",
   "execution_count": 31,
   "metadata": {
    "scrolled": true
   },
   "outputs": [
    {
     "name": "stdout",
     "output_type": "stream",
     "text": [
      "These two columns have website pattern in same rows:\n",
      "Name and Island: True\n",
      "Name and Website: False\n",
      "Name and Phone: False\n",
      "Island and Website: False\n",
      "Island and Phone: False\n",
      "Website and Phone: False\n"
     ]
    }
   ],
   "source": [
    "#Check if there're rows that have website information in two columns at the same time#\n",
    "print('These two columns have website pattern in same rows:')\n",
    "for (col1,col2) in zip(data[['Name','Name','Name','Island','Island','Website']],\n",
    "                       data[['Island','Website','Phone','Website','Phone','Phone']]):\n",
    "    print(col1 + ' and ' + col2 + ': ' +\n",
    "          str((data[col1].str.contains(\n",
    "              \"(?:(?:(?:https?://)?(?:www.))|(?:(?:https?://)(?:www.)?))\" \\\n",
    "              \"[\\w\\-.~:/?#\\[\\]@!$&'()*+,;=%]+\", na=False) &\n",
    "              data[col2].str.contains(\n",
    "              \"(?:(?:(?:https?://)?(?:www.))|(?:(?:https?://)(?:www.)?))\" \\\n",
    "              \"[\\w\\-.~:/?#\\[\\]@!$&'()*+,;=%]+\", na=False)).any()))"
   ]
  },
  {
   "cell_type": "markdown",
   "metadata": {},
   "source": [
    "So Name and Island have website information at the same time. We can check this after fill in website missing values with extracted information from Name column."
   ]
  },
  {
   "cell_type": "code",
   "execution_count": 32,
   "metadata": {},
   "outputs": [],
   "source": [
    "#Fill in Website column with extracted website pattern from Name column:\n",
    "data['Website'] = np.where(data['Name'].str.contains(\n",
    "                           \"(?:(?:(?:https?://)?(?:www.))|(?:(?:https?://)(?:www.)?))\" \\\n",
    "                           \"[\\w\\-.~:/?#\\[\\]@!$&'()*+,;=%]+\", na=False),\n",
    "                           data['Name'].str.findall(\n",
    "                           \"(?:(?:(?:https?://)?(?:www.))|(?:(?:https?://)(?:www.)?))\" \\\n",
    "                           \"[\\w\\-.~:/?#\\[\\]@!$&'()*+,;=%]+\").apply(lambda x: ', '.join(set(x))),\n",
    "                           data['Website'])"
   ]
  },
  {
   "cell_type": "code",
   "execution_count": 33,
   "metadata": {},
   "outputs": [
    {
     "data": {
      "text/html": [
       "<div>\n",
       "<style scoped>\n",
       "    .dataframe tbody tr th:only-of-type {\n",
       "        vertical-align: middle;\n",
       "    }\n",
       "\n",
       "    .dataframe tbody tr th {\n",
       "        vertical-align: top;\n",
       "    }\n",
       "\n",
       "    .dataframe thead th {\n",
       "        text-align: right;\n",
       "    }\n",
       "</style>\n",
       "<table border=\"1\" class=\"dataframe\">\n",
       "  <thead>\n",
       "    <tr style=\"text-align: right;\">\n",
       "      <th></th>\n",
       "      <th>Website</th>\n",
       "      <th>Island</th>\n",
       "    </tr>\n",
       "  </thead>\n",
       "  <tbody>\n",
       "    <tr>\n",
       "      <td>8</td>\n",
       "      <td>www.co.honolulu.hi.us/parks/programs/pom</td>\n",
       "      <td>www.co.honolulu.hi.us/parks/programs/pom</td>\n",
       "    </tr>\n",
       "    <tr>\n",
       "      <td>11</td>\n",
       "      <td>www.co.honolulu.hi.us/parks/programs/pom</td>\n",
       "      <td>www.co.honolulu.hi.us/parks/programs/pom</td>\n",
       "    </tr>\n",
       "    <tr>\n",
       "      <td>26</td>\n",
       "      <td>www.co.honolulu.hi.us/parks/programs/pom</td>\n",
       "      <td>www.co.honolulu.hi.us/parks/programs/pom</td>\n",
       "    </tr>\n",
       "    <tr>\n",
       "      <td>44</td>\n",
       "      <td>www.co.honolulu.hi.us/parks/programs/pom</td>\n",
       "      <td>www.co.honolulu.hi.us/parks/programs/pom</td>\n",
       "    </tr>\n",
       "    <tr>\n",
       "      <td>51</td>\n",
       "      <td>www.co.honolulu.hi.us/parks/programs/pom</td>\n",
       "      <td>www.co.honolulu.hi.us/parks/programs/pom</td>\n",
       "    </tr>\n",
       "    <tr>\n",
       "      <td>54</td>\n",
       "      <td>NaN</td>\n",
       "      <td>http://alamoanafarmersmarket.com/ala-moana.html</td>\n",
       "    </tr>\n",
       "    <tr>\n",
       "      <td>72</td>\n",
       "      <td>www.co.honolulu.hi.us/parks/programs/pom</td>\n",
       "      <td>www.co.honolulu.hi.us/parks/programs/pom</td>\n",
       "    </tr>\n",
       "    <tr>\n",
       "      <td>76</td>\n",
       "      <td>www.co.honolulu.hi.us/parks/programs/pom</td>\n",
       "      <td>www.co.honolulu.hi.us/parks/programs/pom</td>\n",
       "    </tr>\n",
       "    <tr>\n",
       "      <td>84</td>\n",
       "      <td>www.co.honolulu.hi.us/parks/programs/pom</td>\n",
       "      <td>www.co.honolulu.hi.us/parks/programs/pom</td>\n",
       "    </tr>\n",
       "    <tr>\n",
       "      <td>85</td>\n",
       "      <td>www.co.honolulu.hi.us/parks/programs/pom</td>\n",
       "      <td>www.co.honolulu.hi.us/parks/programs/pom</td>\n",
       "    </tr>\n",
       "    <tr>\n",
       "      <td>93</td>\n",
       "      <td>www.co.honolulu.hi.us/parks/programs/pom</td>\n",
       "      <td>www.co.honolulu.hi.us/parks/programs/pom</td>\n",
       "    </tr>\n",
       "    <tr>\n",
       "      <td>96</td>\n",
       "      <td>www.co.honolulu.hi.us/parks/programs/pom</td>\n",
       "      <td>www.co.honolulu.hi.us/parks/programs/pom</td>\n",
       "    </tr>\n",
       "    <tr>\n",
       "      <td>128</td>\n",
       "      <td>www.co.honolulu.hi.us/parks/programs/pom</td>\n",
       "      <td>www.co.honolulu.hi.us/parks/programs/pom</td>\n",
       "    </tr>\n",
       "    <tr>\n",
       "      <td>133</td>\n",
       "      <td>www.co.honolulu.hi.us/parks/programs/pom</td>\n",
       "      <td>www.co.honolulu.hi.us/parks/programs/pom</td>\n",
       "    </tr>\n",
       "    <tr>\n",
       "      <td>143</td>\n",
       "      <td>www.co.honolulu.hi.us/parks/programs/pom</td>\n",
       "      <td>www.co.honolulu.hi.us/parks/programs/pom</td>\n",
       "    </tr>\n",
       "    <tr>\n",
       "      <td>161</td>\n",
       "      <td>www.co.honolulu.hi.us/parks/programs/pom</td>\n",
       "      <td>www.co.honolulu.hi.us/parks/programs/pom</td>\n",
       "    </tr>\n",
       "    <tr>\n",
       "      <td>168</td>\n",
       "      <td>www.co.honolulu.hi.us/parks/programs/pom</td>\n",
       "      <td>www.co.honolulu.hi.us/parks/programs/pom</td>\n",
       "    </tr>\n",
       "    <tr>\n",
       "      <td>176</td>\n",
       "      <td>www.co.honolulu.hi.us/parks/programs/pom</td>\n",
       "      <td>www.co.honolulu.hi.us/parks/programs/pom</td>\n",
       "    </tr>\n",
       "    <tr>\n",
       "      <td>186</td>\n",
       "      <td>www.co.honolulu.hi.us/parks/programs/pom</td>\n",
       "      <td>www.co.honolulu.hi.us/parks/programs/pom</td>\n",
       "    </tr>\n",
       "    <tr>\n",
       "      <td>187</td>\n",
       "      <td>NaN</td>\n",
       "      <td>www.co.honolulu.hi.us/parks/programs/pom</td>\n",
       "    </tr>\n",
       "    <tr>\n",
       "      <td>192</td>\n",
       "      <td>www.co.honolulu.hi.us/parks/programs/pom</td>\n",
       "      <td>www.co.honolulu.hi.us/parks/programs/pom</td>\n",
       "    </tr>\n",
       "    <tr>\n",
       "      <td>196</td>\n",
       "      <td>NaN</td>\n",
       "      <td>www.co.honolulu.hi.us/parks/programs/pom</td>\n",
       "    </tr>\n",
       "    <tr>\n",
       "      <td>207</td>\n",
       "      <td>www.co.honolulu.hi.us/parks/programs/pom</td>\n",
       "      <td>www.co.honolulu.hi.us/parks/programs/pom</td>\n",
       "    </tr>\n",
       "    <tr>\n",
       "      <td>227</td>\n",
       "      <td>NaN</td>\n",
       "      <td>www.co.honolulu.hi.us/parks/programs/pom</td>\n",
       "    </tr>\n",
       "  </tbody>\n",
       "</table>\n",
       "</div>"
      ],
      "text/plain": [
       "                                      Website  \\\n",
       "8    www.co.honolulu.hi.us/parks/programs/pom   \n",
       "11   www.co.honolulu.hi.us/parks/programs/pom   \n",
       "26   www.co.honolulu.hi.us/parks/programs/pom   \n",
       "44   www.co.honolulu.hi.us/parks/programs/pom   \n",
       "51   www.co.honolulu.hi.us/parks/programs/pom   \n",
       "54                                        NaN   \n",
       "72   www.co.honolulu.hi.us/parks/programs/pom   \n",
       "76   www.co.honolulu.hi.us/parks/programs/pom   \n",
       "84   www.co.honolulu.hi.us/parks/programs/pom   \n",
       "85   www.co.honolulu.hi.us/parks/programs/pom   \n",
       "93   www.co.honolulu.hi.us/parks/programs/pom   \n",
       "96   www.co.honolulu.hi.us/parks/programs/pom   \n",
       "128  www.co.honolulu.hi.us/parks/programs/pom   \n",
       "133  www.co.honolulu.hi.us/parks/programs/pom   \n",
       "143  www.co.honolulu.hi.us/parks/programs/pom   \n",
       "161  www.co.honolulu.hi.us/parks/programs/pom   \n",
       "168  www.co.honolulu.hi.us/parks/programs/pom   \n",
       "176  www.co.honolulu.hi.us/parks/programs/pom   \n",
       "186  www.co.honolulu.hi.us/parks/programs/pom   \n",
       "187                                       NaN   \n",
       "192  www.co.honolulu.hi.us/parks/programs/pom   \n",
       "196                                       NaN   \n",
       "207  www.co.honolulu.hi.us/parks/programs/pom   \n",
       "227                                       NaN   \n",
       "\n",
       "                                              Island  \n",
       "8           www.co.honolulu.hi.us/parks/programs/pom  \n",
       "11          www.co.honolulu.hi.us/parks/programs/pom  \n",
       "26          www.co.honolulu.hi.us/parks/programs/pom  \n",
       "44          www.co.honolulu.hi.us/parks/programs/pom  \n",
       "51          www.co.honolulu.hi.us/parks/programs/pom  \n",
       "54   http://alamoanafarmersmarket.com/ala-moana.html  \n",
       "72          www.co.honolulu.hi.us/parks/programs/pom  \n",
       "76          www.co.honolulu.hi.us/parks/programs/pom  \n",
       "84          www.co.honolulu.hi.us/parks/programs/pom  \n",
       "85          www.co.honolulu.hi.us/parks/programs/pom  \n",
       "93          www.co.honolulu.hi.us/parks/programs/pom  \n",
       "96          www.co.honolulu.hi.us/parks/programs/pom  \n",
       "128         www.co.honolulu.hi.us/parks/programs/pom  \n",
       "133         www.co.honolulu.hi.us/parks/programs/pom  \n",
       "143         www.co.honolulu.hi.us/parks/programs/pom  \n",
       "161         www.co.honolulu.hi.us/parks/programs/pom  \n",
       "168         www.co.honolulu.hi.us/parks/programs/pom  \n",
       "176         www.co.honolulu.hi.us/parks/programs/pom  \n",
       "186         www.co.honolulu.hi.us/parks/programs/pom  \n",
       "187         www.co.honolulu.hi.us/parks/programs/pom  \n",
       "192         www.co.honolulu.hi.us/parks/programs/pom  \n",
       "196         www.co.honolulu.hi.us/parks/programs/pom  \n",
       "207         www.co.honolulu.hi.us/parks/programs/pom  \n",
       "227         www.co.honolulu.hi.us/parks/programs/pom  "
      ]
     },
     "execution_count": 33,
     "metadata": {},
     "output_type": "execute_result"
    }
   ],
   "source": [
    "#Check how these values overlap Island:\n",
    "data[data['Island'].str.contains(r\"(?:(?:(?:https?://)?(?:www.))|(?:(?:https?://)(?:www.)?))\" \\\n",
    "                                 r\"[\\w\\-.~:/?#\\[\\]@!$&'()*+,;=%]+\", na=False)][['Website','Island']]"
   ]
  },
  {
   "cell_type": "markdown",
   "metadata": {},
   "source": [
    "So the overlapped values are the same. We can go ahead and fill in missing website values with information extracted from Island and Phone columns."
   ]
  },
  {
   "cell_type": "code",
   "execution_count": 34,
   "metadata": {},
   "outputs": [],
   "source": [
    "#Fill in missing website information with pattern extracted from Island and Phone:\n",
    "#Replace website pattern in Island and Phone column with Nan:\n",
    "for col in data[['Island','Phone']]:\n",
    "    data['Website'] = np.where(data[col].str.contains(\n",
    "                               \"(?:(?:(?:https?://)?(?:www.))|(?:(?:https?://)(?:www.)?))\" \\\n",
    "                               \"[\\w\\-.~:/?#\\[\\]@!$&'()*+,;=%]+\", na=False),\n",
    "                               data[col].str.findall(\n",
    "                               \"(?:(?:(?:https?://)?(?:www.))|(?:(?:https?://)(?:www.)?))\" \\\n",
    "                               \"[\\w\\-.~:/?#\\[\\]@!$&'()*+,;=%]+\").str[0],\n",
    "                               data['Website'])\n",
    "    data[col] = np.where(data[col] == data['Website'],np.nan,data[col])"
   ]
  },
  {
   "cell_type": "markdown",
   "metadata": {},
   "source": [
    "#### Format"
   ]
  },
  {
   "cell_type": "code",
   "execution_count": 35,
   "metadata": {},
   "outputs": [
    {
     "data": {
      "text/plain": [
       "[nan,\n",
       " 'www.mahikufarmersmarket.com',\n",
       " 'www.co.honolulu.hi.us/parks/programs/pom',\n",
       " 'http://www.co.honolulu.hi.us/parks/programs/pom',\n",
       " 'http://www.mahikufarmersmarket.com',\n",
       " 'http://www.hfbf.org',\n",
       " 'http://www.hilofarmersmarket.com',\n",
       " 'http://makawaofarmersmarket.org/',\n",
       " 'http://www.lahainaproduce.com',\n",
       " 'http://www.skgm.org',\n",
       " 'www.hfbf.org',\n",
       " 'www.wardcenters.com',\n",
       " 'www.windwardmall.com/event/farmers-market-every-Wednesday',\n",
       " 'http://alamoanafarmersmarket.com/ala-moana.html',\n",
       " 'www.haleiwafarmersmarket.com',\n",
       " 'http://www.wardcenters.com',\n",
       " 'http://www.northshorecountrymarket.com',\n",
       " 'www.farmfreshhawaii.com',\n",
       " 'http://www.haleiwafarmersmarket.com',\n",
       " 'www.hilofarmersmarket.com',\n",
       " 'www.makekeomaunalua.com',\n",
       " 'http://www.kings-village.com',\n",
       " 'http://www.windwardmall.com/event/farmers-market-every-Wednesday',\n",
       " 'http://www.halehalawai.org/market.htm',\n",
       " 'www.halehalawai.org/market.htm',\n",
       " 'http://www.makekeomaunalua.com',\n",
       " 'www.skgm.org',\n",
       " 'http://www.local-farmers-markets.com/market/1162/honolulu/fort-street-near-wilcox-park',\n",
       " 'http://www.waianaefarmersmarket.org',\n",
       " 'http://www.KakaakoMakaiMarket.com',\n",
       " 'www.waianaefarmersmarket.org, www.facebook.com/#!/pages/WAIANAE-FARMERS-MARKET/234161083106',\n",
       " 'www.KakaakoMakaiMarket.com',\n",
       " 'www.northshorecountrymarket.com, www.sunsetcountrymarket.org',\n",
       " 'www.local-farmers-markets.com/market/1162/honolulu/fort-street-near-wilcox-park',\n",
       " 'www.kings-village.com']"
      ]
     },
     "execution_count": 35,
     "metadata": {},
     "output_type": "execute_result"
    }
   ],
   "source": [
    "#Recheck Website column\n",
    "data['Website'].unique().tolist()"
   ]
  },
  {
   "cell_type": "markdown",
   "metadata": {},
   "source": [
    "There's inconsistent pattern. Let's strip the data."
   ]
  },
  {
   "cell_type": "code",
   "execution_count": 36,
   "metadata": {},
   "outputs": [],
   "source": [
    "data['Website'] = data['Website'].str.strip(r'http://')"
   ]
  },
  {
   "cell_type": "markdown",
   "metadata": {},
   "source": [
    "### Email\n",
    "#### Check pattern and extract information"
   ]
  },
  {
   "cell_type": "code",
   "execution_count": 37,
   "metadata": {},
   "outputs": [
    {
     "data": {
      "text/plain": [
       "[nan,\n",
       " 'dewell@hawaii.rr.com',\n",
       " 'sonnydoung@hotmail.com',\n",
       " 'gagner001@hawaii.rr.com',\n",
       " 'dpcinfo@isleconcierge.com',\n",
       " 'georgelee2468@gmail.com',\n",
       " 'kcfb@hawaiiantel.ne',\n",
       " 'info@upcountryfarmersmarket.com',\n",
       " 'keala.ching@outrigger.com',\n",
       " 'bifb@hawaiiantel.net',\n",
       " 'haleiwafarmersmarket@gmail.com',\n",
       " 'nkona@hawaii.rr.com',\n",
       " 'AlaMoanaFarmersMarket@gmail.com',\n",
       " 'info@sugarmillhawaii.com',\n",
       " 'drozemond@castlecooke.com',\n",
       " 'kekahuna@localnet.com',\n",
       " 'waianaefarmersmarket@wcchc.com',\n",
       " 'nuuanumarket@gmail.com',\n",
       " 'bethflo@hotmail.com']"
      ]
     },
     "execution_count": 37,
     "metadata": {},
     "output_type": "execute_result"
    }
   ],
   "source": [
    "#List all unique value\n",
    "data['Email'].unique().tolist()"
   ]
  },
  {
   "cell_type": "markdown",
   "metadata": {},
   "source": [
    "The Regex for email is:\n",
    "```\n",
    "[\\w\\.-]+@[\\w\\.-]+\n",
    "```"
   ]
  },
  {
   "cell_type": "code",
   "execution_count": 38,
   "metadata": {},
   "outputs": [
    {
     "name": "stdout",
     "output_type": "stream",
     "text": [
      "Columns that have email information:\n",
      "Name: max 1 occurence(s)\n",
      "Phone: max 1.0 occurence(s)\n",
      "Email: max 1.0 occurence(s)\n"
     ]
    }
   ],
   "source": [
    "#Check which columns contain the pattern\n",
    "print('Columns that have email information:')\n",
    "for col in data:\n",
    "    if (data[col].str.contains('[\\w\\.-]+@[\\w\\.-]+')).any() == True:\n",
    "        print(col + ': max ' + str(data[col].str.count(\n",
    "                                   '[\\w\\.-]+@[\\w\\.-]+').max()) + ' occurence(s)')"
   ]
  },
  {
   "cell_type": "code",
   "execution_count": 39,
   "metadata": {},
   "outputs": [
    {
     "name": "stdout",
     "output_type": "stream",
     "text": [
      "All rows that have email information in these columns have missing data in Email column:\n",
      "Name: True\n",
      "Phone: True\n"
     ]
    }
   ],
   "source": [
    "#Check if these rows have email information only when there're missing values in Email column\n",
    "print('All rows that have email information in these columns have missing data in Email column:')\n",
    "for col in data[['Name','Phone']]:\n",
    "    print(col + ': ' + str(data[data[col].str.contains(\n",
    "                           '[\\w\\.-]+@[\\w\\.-]+', na=False)]['Email'].isna().all()))"
   ]
  },
  {
   "cell_type": "code",
   "execution_count": 40,
   "metadata": {},
   "outputs": [
    {
     "name": "stdout",
     "output_type": "stream",
     "text": [
      "Name and Phone have email information in same rows: False\n"
     ]
    }
   ],
   "source": [
    "#Check if Name and Phone have email information in same rows:\n",
    "print('Name and Phone have email information in same rows: ' +\n",
    "str((data['Name'].str.contains('[\\w\\.-]+@[\\w\\.-]+', na=False) &\n",
    "     data['Phone'].str.contains('[\\w\\.-]+@[\\w\\.-]+', na=False)).any()))"
   ]
  },
  {
   "cell_type": "code",
   "execution_count": 41,
   "metadata": {},
   "outputs": [],
   "source": [
    "#Replace missing email values with extracted information from Phone column\n",
    "for col in data[['Name','Phone']]:\n",
    "    data['Email'] = np.where(data[col].str.contains(\n",
    "                             '[\\w\\.-]+@[\\w\\.-]+', na=False),\n",
    "                             data[col].str.findall('[\\w\\.-]+@[\\w\\.-]+').str[0],\n",
    "                             data['Email'])"
   ]
  },
  {
   "cell_type": "code",
   "execution_count": 42,
   "metadata": {},
   "outputs": [],
   "source": [
    "#Replace email pattern in Phone column with Nan:\n",
    "data['Phone'] = np.where(data['Phone'] == data['Email'],np.nan,data['Phone'])"
   ]
  },
  {
   "cell_type": "markdown",
   "metadata": {},
   "source": [
    "#### Format"
   ]
  },
  {
   "cell_type": "code",
   "execution_count": 43,
   "metadata": {},
   "outputs": [
    {
     "data": {
      "text/plain": [
       "['info@sugarmillhawaii.com',\n",
       " nan,\n",
       " 'sonnydoung@hotmail.com',\n",
       " 'dewell@hawaii.rr.com',\n",
       " 'keala.ching@outrigger.com',\n",
       " 'gagner001@hawaii.rr.com',\n",
       " 'dpcinfo@isleconcierge.com',\n",
       " 'georgelee2468@gmail.com',\n",
       " 'AlaMoanaFarmersMarket@gmail.com',\n",
       " 'haleiwafarmersmarket@gmail.com',\n",
       " 'kcfb@hawaiiantel.ne',\n",
       " 'info@upcountryfarmersmarket.com',\n",
       " 'bifb@hawaiiantel.net',\n",
       " 'nkona@hawaii.rr.com',\n",
       " 'wfpinfo@isleconcierge.com',\n",
       " 'bethflo@hotmail.com',\n",
       " 'nuuanumarket@gmail.com',\n",
       " 'drozemond@castlecooke.com',\n",
       " 'kekahuna@localnet.com',\n",
       " 'waianaefarmersmarket@wcchc.com',\n",
       " 'kcfb@hawaiiantel.net']"
      ]
     },
     "execution_count": 43,
     "metadata": {},
     "output_type": "execute_result"
    }
   ],
   "source": [
    "data['Email'].unique().tolist()"
   ]
  },
  {
   "cell_type": "markdown",
   "metadata": {},
   "source": [
    "There's nothing strange in the format general. So I'll leave it this way."
   ]
  },
  {
   "cell_type": "markdown",
   "metadata": {},
   "source": [
    "### Phone\n",
    "#### Check pattern and extract information"
   ]
  },
  {
   "cell_type": "code",
   "execution_count": 44,
   "metadata": {},
   "outputs": [
    {
     "data": {
      "text/plain": [
       "[nan,\n",
       " '(808) 259-8611, Cell: (808) 284-2575',\n",
       " '(808) 522-7088',\n",
       " '(808) 929-7239',\n",
       " '(808) 225-4002',\n",
       " '(808) 742-1834',\n",
       " '(808) 333-2478',\n",
       " '(808) 848-2074',\n",
       " 'sonnydoung@hotmail.com  www.mahikufarmersmarket.com',\n",
       " '(808) 933-1000',\n",
       " '808-419-1570',\n",
       " '(808) 328-2400',\n",
       " '(808) 545-4477',\n",
       " '(808) 697-3599 or 692-8200 ext. 2267',\n",
       " '(808) 735-4550',\n",
       " '(808) 968-1333',\n",
       " '(808) 337-9944',\n",
       " '(808) 237-8248',\n",
       " '(808) 669-7004',\n",
       " '(808) 871-1307',\n",
       " '(808) 324-2540',\n",
       " '(808) 887-0023',\n",
       " '(808) 557-2780',\n",
       " '(808) 388-9696',\n",
       " '(808) 877-4325',\n",
       " '(808) 463-1676',\n",
       " '(808) 248-7515 ext. 26',\n",
       " '(808) 822-5887',\n",
       " '(808) 322-3118, (808) 322-2362',\n",
       " '(808) 237-6340',\n",
       " '(808) 923-1802',\n",
       " '(808) 334-1381',\n",
       " '808-388-9696',\n",
       " '(808) 248-7779',\n",
       " '(808) 965-9205',\n",
       " '(808) 826-1011',\n",
       " '(808) 959-0488',\n",
       " '(808) 847-0494 Cell: (808) 554-4667',\n",
       " '(808) 877-3100',\n",
       " '(808) 965-1441, (808) 896-5537, (Cell) (808) 217-2307',\n",
       " '(808) 322-0718',\n",
       " '(808) 875-0949',\n",
       " '(808) 966-4853',\n",
       " '(808) 396-0766',\n",
       " '(808) 967-7209',\n",
       " '(808) 777-9216',\n",
       " '(808) 822-1712',\n",
       " '(808) 388-7386',\n",
       " '(808) 330-6224',\n",
       " '(808) 968-8631',\n",
       " '(808) 282-2276',\n",
       " '(808) 443-1679',\n",
       " '808-244-7643']"
      ]
     },
     "execution_count": 44,
     "metadata": {},
     "output_type": "execute_result"
    }
   ],
   "source": [
    "#List all unique values\n",
    "data['Phone'].unique().tolist()"
   ]
  },
  {
   "cell_type": "markdown",
   "metadata": {},
   "source": [
    "The Regex for phone is:\n",
    "```\n",
    "\\(?\\d{3}\\)?\\W?\\d{3}\\W\\d{4}\n",
    "```"
   ]
  },
  {
   "cell_type": "code",
   "execution_count": 45,
   "metadata": {},
   "outputs": [
    {
     "name": "stdout",
     "output_type": "stream",
     "text": [
      "Columns that have phone information:\n",
      "Name: max 3 occurence(s)\n",
      "Contact: max 1.0 occurence(s)\n",
      "Phone: max 3.0 occurence(s)\n"
     ]
    }
   ],
   "source": [
    "#Check which columns have phone information\n",
    "print('Columns that have phone information:')\n",
    "for col in data:\n",
    "    if (data[col].str.contains('\\(?\\d{3}\\)?\\W?\\d{3}\\W\\d{4}')).any() == True:\n",
    "        print(col + ': max ' + str(data[col].str.count(\n",
    "                                   '\\(?\\d{3}\\)?\\W?\\d{3}\\W\\d{4}').max()) + ' occurence(s)')"
   ]
  },
  {
   "cell_type": "code",
   "execution_count": 46,
   "metadata": {},
   "outputs": [
    {
     "name": "stdout",
     "output_type": "stream",
     "text": [
      "All rows that have phone information in these columns have missing data in Phone column:\n",
      "Name: True\n",
      "Contact: False\n"
     ]
    }
   ],
   "source": [
    "#Check if these rows have phone information only when there're missing values in Phone column\n",
    "print('All rows that have phone information in these columns have missing data in Phone column:')\n",
    "for col in data[['Name','Contact']]:\n",
    "    print(col + ': ' + str(data[data[col].str.contains(\n",
    "                           '\\(?\\d{3}\\)?\\W?\\d{3}\\W\\d{4}', na=False)]['Phone'].isna().all()))"
   ]
  },
  {
   "cell_type": "markdown",
   "metadata": {},
   "source": [
    "So Contact and Phone columns have phone information in same rows."
   ]
  },
  {
   "cell_type": "code",
   "execution_count": 47,
   "metadata": {
    "scrolled": false
   },
   "outputs": [
    {
     "name": "stdout",
     "output_type": "stream",
     "text": [
      "Name and Contact have phone information in same rows: False\n"
     ]
    }
   ],
   "source": [
    "#Check if Name and Contact have phone information in same rows\n",
    "print('Name and Contact have phone information in same rows: ' +\n",
    "str((data['Name'].str.contains('\\(?\\d{3}\\)?\\W?\\d{3}\\W\\d{4}', na=False) &\n",
    "     data['Email'].str.contains('\\(?\\d{3}\\)?\\W?\\d{3}\\W\\d{4}', na=False)).any()))"
   ]
  },
  {
   "cell_type": "markdown",
   "metadata": {},
   "source": [
    "Now we can fill in missing phone values with extracted information from Name column."
   ]
  },
  {
   "cell_type": "code",
   "execution_count": 48,
   "metadata": {},
   "outputs": [],
   "source": [
    "#Fill in Phone column with extracted phone pattern from Name column:\n",
    "data['Phone'] = np.where(data['Name'].str.contains('\\(?\\d{3}\\)?\\W?\\d{3}\\W\\d{4}', na=False),\n",
    "                         data['Name'].str.findall('\\(?\\d{3}\\)?\\W?\\d{3}\\W\\d{4}').apply(lambda x: ', '.join(set(x))),\n",
    "                         data['Phone'])"
   ]
  },
  {
   "cell_type": "markdown",
   "metadata": {},
   "source": [
    "Let's see which Contact information have phone pattern, and does it matter?"
   ]
  },
  {
   "cell_type": "code",
   "execution_count": 49,
   "metadata": {},
   "outputs": [
    {
     "data": {
      "text/html": [
       "<div>\n",
       "<style scoped>\n",
       "    .dataframe tbody tr th:only-of-type {\n",
       "        vertical-align: middle;\n",
       "    }\n",
       "\n",
       "    .dataframe tbody tr th {\n",
       "        vertical-align: top;\n",
       "    }\n",
       "\n",
       "    .dataframe thead th {\n",
       "        text-align: right;\n",
       "    }\n",
       "</style>\n",
       "<table border=\"1\" class=\"dataframe\">\n",
       "  <thead>\n",
       "    <tr style=\"text-align: right;\">\n",
       "      <th></th>\n",
       "      <th>Phone</th>\n",
       "      <th>Contact</th>\n",
       "    </tr>\n",
       "  </thead>\n",
       "  <tbody>\n",
       "    <tr>\n",
       "      <td>8</td>\n",
       "      <td>(808) 522-7088</td>\n",
       "      <td>(808) 522-7088</td>\n",
       "    </tr>\n",
       "    <tr>\n",
       "      <td>11</td>\n",
       "      <td>(808) 522-7088</td>\n",
       "      <td>(808) 522-7088</td>\n",
       "    </tr>\n",
       "    <tr>\n",
       "      <td>26</td>\n",
       "      <td>(808) 522-7088</td>\n",
       "      <td>(808) 522-7088</td>\n",
       "    </tr>\n",
       "    <tr>\n",
       "      <td>28</td>\n",
       "      <td>sonnydoung@hotmail.com  www.mahikufarmersmarke...</td>\n",
       "      <td>(808) 225-4002</td>\n",
       "    </tr>\n",
       "    <tr>\n",
       "      <td>44</td>\n",
       "      <td>(808) 522-7088</td>\n",
       "      <td>(808) 522-7088</td>\n",
       "    </tr>\n",
       "    <tr>\n",
       "      <td>51</td>\n",
       "      <td>(808) 522-7088</td>\n",
       "      <td>(808) 522-7088</td>\n",
       "    </tr>\n",
       "    <tr>\n",
       "      <td>54</td>\n",
       "      <td>NaN</td>\n",
       "      <td>808-388-9696</td>\n",
       "    </tr>\n",
       "    <tr>\n",
       "      <td>72</td>\n",
       "      <td>(808) 522-7088</td>\n",
       "      <td>(808) 522-7088</td>\n",
       "    </tr>\n",
       "    <tr>\n",
       "      <td>76</td>\n",
       "      <td>(808) 522-7088</td>\n",
       "      <td>(808) 522-7088</td>\n",
       "    </tr>\n",
       "    <tr>\n",
       "      <td>84</td>\n",
       "      <td>(808) 522-7088</td>\n",
       "      <td>(808) 522-7088</td>\n",
       "    </tr>\n",
       "    <tr>\n",
       "      <td>85</td>\n",
       "      <td>(808) 522-7088</td>\n",
       "      <td>(808) 522-7088</td>\n",
       "    </tr>\n",
       "    <tr>\n",
       "      <td>93</td>\n",
       "      <td>(808) 522-7088</td>\n",
       "      <td>(808) 522-7088</td>\n",
       "    </tr>\n",
       "    <tr>\n",
       "      <td>96</td>\n",
       "      <td>(808) 522-7088</td>\n",
       "      <td>(808) 522-7088</td>\n",
       "    </tr>\n",
       "    <tr>\n",
       "      <td>128</td>\n",
       "      <td>(808) 522-7088</td>\n",
       "      <td>(808) 522-7088</td>\n",
       "    </tr>\n",
       "    <tr>\n",
       "      <td>133</td>\n",
       "      <td>(808) 522-7088</td>\n",
       "      <td>(808) 522-7088</td>\n",
       "    </tr>\n",
       "    <tr>\n",
       "      <td>143</td>\n",
       "      <td>(808) 522-7088</td>\n",
       "      <td>(808) 522-7088</td>\n",
       "    </tr>\n",
       "    <tr>\n",
       "      <td>161</td>\n",
       "      <td>(808) 522-7088</td>\n",
       "      <td>(808) 522-7088</td>\n",
       "    </tr>\n",
       "    <tr>\n",
       "      <td>168</td>\n",
       "      <td>(808) 522-7088</td>\n",
       "      <td>(808) 522-7088</td>\n",
       "    </tr>\n",
       "    <tr>\n",
       "      <td>176</td>\n",
       "      <td>(808) 522-7088</td>\n",
       "      <td>(808) 522-7088</td>\n",
       "    </tr>\n",
       "    <tr>\n",
       "      <td>186</td>\n",
       "      <td>(808) 522-7088</td>\n",
       "      <td>(808) 522-7088</td>\n",
       "    </tr>\n",
       "    <tr>\n",
       "      <td>187</td>\n",
       "      <td>NaN</td>\n",
       "      <td>(808) 522-7088</td>\n",
       "    </tr>\n",
       "    <tr>\n",
       "      <td>192</td>\n",
       "      <td>(808) 522-7088</td>\n",
       "      <td>(808) 522-7088</td>\n",
       "    </tr>\n",
       "    <tr>\n",
       "      <td>196</td>\n",
       "      <td>NaN</td>\n",
       "      <td>(808) 522-7088</td>\n",
       "    </tr>\n",
       "    <tr>\n",
       "      <td>207</td>\n",
       "      <td>(808) 522-7088</td>\n",
       "      <td>(808) 522-7088</td>\n",
       "    </tr>\n",
       "    <tr>\n",
       "      <td>227</td>\n",
       "      <td>NaN</td>\n",
       "      <td>(808) 522-7088</td>\n",
       "    </tr>\n",
       "  </tbody>\n",
       "</table>\n",
       "</div>"
      ],
      "text/plain": [
       "                                                 Phone         Contact\n",
       "8                                       (808) 522-7088  (808) 522-7088\n",
       "11                                      (808) 522-7088  (808) 522-7088\n",
       "26                                      (808) 522-7088  (808) 522-7088\n",
       "28   sonnydoung@hotmail.com  www.mahikufarmersmarke...  (808) 225-4002\n",
       "44                                      (808) 522-7088  (808) 522-7088\n",
       "51                                      (808) 522-7088  (808) 522-7088\n",
       "54                                                 NaN    808-388-9696\n",
       "72                                      (808) 522-7088  (808) 522-7088\n",
       "76                                      (808) 522-7088  (808) 522-7088\n",
       "84                                      (808) 522-7088  (808) 522-7088\n",
       "85                                      (808) 522-7088  (808) 522-7088\n",
       "93                                      (808) 522-7088  (808) 522-7088\n",
       "96                                      (808) 522-7088  (808) 522-7088\n",
       "128                                     (808) 522-7088  (808) 522-7088\n",
       "133                                     (808) 522-7088  (808) 522-7088\n",
       "143                                     (808) 522-7088  (808) 522-7088\n",
       "161                                     (808) 522-7088  (808) 522-7088\n",
       "168                                     (808) 522-7088  (808) 522-7088\n",
       "176                                     (808) 522-7088  (808) 522-7088\n",
       "186                                     (808) 522-7088  (808) 522-7088\n",
       "187                                                NaN  (808) 522-7088\n",
       "192                                     (808) 522-7088  (808) 522-7088\n",
       "196                                                NaN  (808) 522-7088\n",
       "207                                     (808) 522-7088  (808) 522-7088\n",
       "227                                                NaN  (808) 522-7088"
      ]
     },
     "execution_count": 49,
     "metadata": {},
     "output_type": "execute_result"
    }
   ],
   "source": [
    "data[data['Contact'].str.contains('\\(?\\d{3}\\)?\\W?\\d{3}\\W\\d{4}', na=False)][['Phone','Contact']]"
   ]
  },
  {
   "cell_type": "markdown",
   "metadata": {},
   "source": [
    "So there're still some rows in Phone column that can be replaced by information from Contact."
   ]
  },
  {
   "cell_type": "code",
   "execution_count": 50,
   "metadata": {},
   "outputs": [],
   "source": [
    "#Fill in missing phone information with pattern extracted from Phone:\n",
    "data['Phone'] = np.where(data['Contact'].str.contains('\\(?\\d{3}\\)?\\W?\\d{3}\\W\\d{4}', na=False),\n",
    "                         data['Contact'].str.findall('\\(?\\d{3}\\)?\\W?\\d{3}\\W\\d{4}').str[0],\n",
    "                         data['Phone'])"
   ]
  },
  {
   "cell_type": "markdown",
   "metadata": {},
   "source": [
    "Since we already extracted email and website information. We can do this step."
   ]
  },
  {
   "cell_type": "code",
   "execution_count": 51,
   "metadata": {},
   "outputs": [],
   "source": [
    "#Replace phone pattern in Contact column with Nan:\n",
    "data['Contact'] = np.where(data['Contact'] == data['Phone'],np.nan,data['Contact'])"
   ]
  },
  {
   "cell_type": "markdown",
   "metadata": {},
   "source": [
    "### Format"
   ]
  },
  {
   "cell_type": "code",
   "execution_count": 52,
   "metadata": {},
   "outputs": [
    {
     "data": {
      "text/plain": [
       "[nan,\n",
       " '(808) 742-1834',\n",
       " '(808) 225-4002',\n",
       " '(808) 259-8611, Cell: (808) 284-2575',\n",
       " '(808) 396-0766',\n",
       " '(808) 522-7088',\n",
       " '(808) 929-7239',\n",
       " '(808) 871-1307',\n",
       " '(808) 324-2540',\n",
       " '(808) 968-8631',\n",
       " '(808) 959-0488',\n",
       " '(808) 333-2478',\n",
       " '(808) 848-2074',\n",
       " '(808) 933-1000',\n",
       " '(808) 887-0023',\n",
       " '808-419-1570',\n",
       " '(808) 328-2400',\n",
       " '(808) 545-4477',\n",
       " '(808) 554-4667, (808) 847-0494',\n",
       " '(808) 697-3599 or 692-8200 ext. 2267',\n",
       " '(808) 735-4550',\n",
       " '808-388-9696',\n",
       " '(808) 968-1333',\n",
       " '(808) 388-9696',\n",
       " '(808) 337-9944',\n",
       " '(808) 822-1712',\n",
       " '(808) 875-0949',\n",
       " '(808) 237-8248',\n",
       " '(808) 669-7004',\n",
       " '(808) 328-8547',\n",
       " '(808) 298-4289',\n",
       " '(808) 259-8611, (808) 259-7602, (808) 284-2575',\n",
       " '(808) 557-2780',\n",
       " '(808) 877-4325',\n",
       " '(808) 322-2362, (808) 322-3118',\n",
       " '(808) 463-1676',\n",
       " '(808) 966-4853',\n",
       " '(808) 537-5158',\n",
       " '(808) 248-7515 ext. 26',\n",
       " '(808) 822-5887',\n",
       " '(808) 322-0718',\n",
       " '(808) 322-3118, (808) 322-2362',\n",
       " '(808) 443-1679',\n",
       " '(808) 237-6340',\n",
       " '(808) 923-1802',\n",
       " '(808) 697-3599',\n",
       " '(808) 334-1381',\n",
       " '(808) 248-7779',\n",
       " '(808) 965-9205',\n",
       " '(808) 826-1011',\n",
       " '(808) 282-2276',\n",
       " '(808) 217-2307, (808) 965-1441, (808) 896-5537',\n",
       " '(808) 847-0494 Cell: (808) 554-4667',\n",
       " '(808) 877-3100',\n",
       " '(808) 965-1441, (808) 896-5537, (Cell) (808) 217-2307',\n",
       " '(808) 244-3100',\n",
       " '(808) 967-7209',\n",
       " '(808) 777-9216',\n",
       " '(808) 388-7386',\n",
       " '(808) 330-6224',\n",
       " '808-244-7643']"
      ]
     },
     "execution_count": 52,
     "metadata": {},
     "output_type": "execute_result"
    }
   ],
   "source": [
    "#Recheck Phone column\n",
    "data['Phone'].unique().tolist()"
   ]
  },
  {
   "cell_type": "markdown",
   "metadata": {},
   "source": [
    "I'll apply the same method as Time column to get consistent format for Phone column."
   ]
  },
  {
   "cell_type": "code",
   "execution_count": 53,
   "metadata": {},
   "outputs": [],
   "source": [
    "data_phone = data['Phone'].str.extractall('\\(?(\\d{3})\\)?\\W?(\\d{3})\\W(\\d{4})')"
   ]
  },
  {
   "cell_type": "code",
   "execution_count": 54,
   "metadata": {},
   "outputs": [
    {
     "data": {
      "text/html": [
       "<div>\n",
       "<style scoped>\n",
       "    .dataframe tbody tr th:only-of-type {\n",
       "        vertical-align: middle;\n",
       "    }\n",
       "\n",
       "    .dataframe tbody tr th {\n",
       "        vertical-align: top;\n",
       "    }\n",
       "\n",
       "    .dataframe thead th {\n",
       "        text-align: right;\n",
       "    }\n",
       "</style>\n",
       "<table border=\"1\" class=\"dataframe\">\n",
       "  <thead>\n",
       "    <tr style=\"text-align: right;\">\n",
       "      <th></th>\n",
       "      <th></th>\n",
       "      <th>0</th>\n",
       "      <th>1</th>\n",
       "      <th>2</th>\n",
       "    </tr>\n",
       "    <tr>\n",
       "      <th></th>\n",
       "      <th>match</th>\n",
       "      <th></th>\n",
       "      <th></th>\n",
       "      <th></th>\n",
       "    </tr>\n",
       "  </thead>\n",
       "  <tbody>\n",
       "    <tr>\n",
       "      <td>2</td>\n",
       "      <td>0</td>\n",
       "      <td>808</td>\n",
       "      <td>742</td>\n",
       "      <td>1834</td>\n",
       "    </tr>\n",
       "    <tr>\n",
       "      <td>4</td>\n",
       "      <td>0</td>\n",
       "      <td>808</td>\n",
       "      <td>225</td>\n",
       "      <td>4002</td>\n",
       "    </tr>\n",
       "    <tr>\n",
       "      <td rowspan=\"2\" valign=\"top\">5</td>\n",
       "      <td>0</td>\n",
       "      <td>808</td>\n",
       "      <td>259</td>\n",
       "      <td>8611</td>\n",
       "    </tr>\n",
       "    <tr>\n",
       "      <td>1</td>\n",
       "      <td>808</td>\n",
       "      <td>284</td>\n",
       "      <td>2575</td>\n",
       "    </tr>\n",
       "    <tr>\n",
       "      <td>6</td>\n",
       "      <td>0</td>\n",
       "      <td>808</td>\n",
       "      <td>396</td>\n",
       "      <td>0766</td>\n",
       "    </tr>\n",
       "  </tbody>\n",
       "</table>\n",
       "</div>"
      ],
      "text/plain": [
       "           0    1     2\n",
       "  match                \n",
       "2 0      808  742  1834\n",
       "4 0      808  225  4002\n",
       "5 0      808  259  8611\n",
       "  1      808  284  2575\n",
       "6 0      808  396  0766"
      ]
     },
     "execution_count": 54,
     "metadata": {},
     "output_type": "execute_result"
    }
   ],
   "source": [
    "data_phone.head()"
   ]
  },
  {
   "cell_type": "code",
   "execution_count": 55,
   "metadata": {},
   "outputs": [],
   "source": [
    "data_phone['Phone'] = '(' + data_phone[0] + ')' + ' ' + data_phone[1] + '-' + data_phone[2]"
   ]
  },
  {
   "cell_type": "code",
   "execution_count": 56,
   "metadata": {},
   "outputs": [
    {
     "data": {
      "text/html": [
       "<div>\n",
       "<style scoped>\n",
       "    .dataframe tbody tr th:only-of-type {\n",
       "        vertical-align: middle;\n",
       "    }\n",
       "\n",
       "    .dataframe tbody tr th {\n",
       "        vertical-align: top;\n",
       "    }\n",
       "\n",
       "    .dataframe thead th {\n",
       "        text-align: right;\n",
       "    }\n",
       "</style>\n",
       "<table border=\"1\" class=\"dataframe\">\n",
       "  <thead>\n",
       "    <tr style=\"text-align: right;\">\n",
       "      <th></th>\n",
       "      <th></th>\n",
       "      <th>0</th>\n",
       "      <th>1</th>\n",
       "      <th>2</th>\n",
       "      <th>Phone</th>\n",
       "    </tr>\n",
       "    <tr>\n",
       "      <th></th>\n",
       "      <th>match</th>\n",
       "      <th></th>\n",
       "      <th></th>\n",
       "      <th></th>\n",
       "      <th></th>\n",
       "    </tr>\n",
       "  </thead>\n",
       "  <tbody>\n",
       "    <tr>\n",
       "      <td>2</td>\n",
       "      <td>0</td>\n",
       "      <td>808</td>\n",
       "      <td>742</td>\n",
       "      <td>1834</td>\n",
       "      <td>(808) 742-1834</td>\n",
       "    </tr>\n",
       "    <tr>\n",
       "      <td>4</td>\n",
       "      <td>0</td>\n",
       "      <td>808</td>\n",
       "      <td>225</td>\n",
       "      <td>4002</td>\n",
       "      <td>(808) 225-4002</td>\n",
       "    </tr>\n",
       "    <tr>\n",
       "      <td rowspan=\"2\" valign=\"top\">5</td>\n",
       "      <td>0</td>\n",
       "      <td>808</td>\n",
       "      <td>259</td>\n",
       "      <td>8611</td>\n",
       "      <td>(808) 259-8611</td>\n",
       "    </tr>\n",
       "    <tr>\n",
       "      <td>1</td>\n",
       "      <td>808</td>\n",
       "      <td>284</td>\n",
       "      <td>2575</td>\n",
       "      <td>(808) 284-2575</td>\n",
       "    </tr>\n",
       "    <tr>\n",
       "      <td>6</td>\n",
       "      <td>0</td>\n",
       "      <td>808</td>\n",
       "      <td>396</td>\n",
       "      <td>0766</td>\n",
       "      <td>(808) 396-0766</td>\n",
       "    </tr>\n",
       "  </tbody>\n",
       "</table>\n",
       "</div>"
      ],
      "text/plain": [
       "           0    1     2           Phone\n",
       "  match                                \n",
       "2 0      808  742  1834  (808) 742-1834\n",
       "4 0      808  225  4002  (808) 225-4002\n",
       "5 0      808  259  8611  (808) 259-8611\n",
       "  1      808  284  2575  (808) 284-2575\n",
       "6 0      808  396  0766  (808) 396-0766"
      ]
     },
     "execution_count": 56,
     "metadata": {},
     "output_type": "execute_result"
    }
   ],
   "source": [
    "data_phone.head()"
   ]
  },
  {
   "cell_type": "code",
   "execution_count": 57,
   "metadata": {},
   "outputs": [],
   "source": [
    "data_phone = data_phone.groupby(level=[0]).agg(lambda x: ', '.join(set(x)))['Phone']\n",
    "data_phone = pd.DataFrame(data_phone)"
   ]
  },
  {
   "cell_type": "code",
   "execution_count": 58,
   "metadata": {},
   "outputs": [],
   "source": [
    "data = data.join(data_phone,rsuffix='_group')"
   ]
  },
  {
   "cell_type": "code",
   "execution_count": 59,
   "metadata": {},
   "outputs": [],
   "source": [
    "data['Phone'] = data['Phone_group']\n",
    "data.drop('Phone_group',axis=1,inplace=True)"
   ]
  },
  {
   "cell_type": "markdown",
   "metadata": {},
   "source": [
    "## Split strings that have break lines"
   ]
  },
  {
   "cell_type": "markdown",
   "metadata": {},
   "source": [
    "As we saw above, there're maximum 7 \\n in Name column, so I will split Name into 8 columns. For Location, that would be 3 columns."
   ]
  },
  {
   "cell_type": "code",
   "execution_count": 60,
   "metadata": {},
   "outputs": [],
   "source": [
    "data[['Name','col1','col2','col3','col4','col5','col6','col7']] = data['Name'].str.split(r'\\n', expand=True)\n",
    "data[['Location','col8','col9']] = data['Location'].str.split(r'\\n', expand=True)"
   ]
  },
  {
   "cell_type": "markdown",
   "metadata": {},
   "source": [
    "Strip the dataframe and replace blanks with Nans."
   ]
  },
  {
   "cell_type": "code",
   "execution_count": 61,
   "metadata": {},
   "outputs": [],
   "source": [
    "data[data.columns] = data.apply(lambda x: x.str.strip('\\n'))\n",
    "data[data.columns] = data.apply(lambda x: x.str.strip('*'))\n",
    "data[data.columns] = data.apply(lambda x: x.str.strip(' '))"
   ]
  },
  {
   "cell_type": "code",
   "execution_count": 62,
   "metadata": {},
   "outputs": [],
   "source": [
    "data.replace('^\\s*$', np.nan, regex=True, inplace = True)"
   ]
  },
  {
   "cell_type": "markdown",
   "metadata": {},
   "source": [
    "Export to csv for the next part."
   ]
  },
  {
   "cell_type": "code",
   "execution_count": 63,
   "metadata": {},
   "outputs": [],
   "source": [
    "data.to_csv('00out',index=False)"
   ]
  }
 ],
 "metadata": {
  "kernelspec": {
   "display_name": "Python 3",
   "language": "python",
   "name": "python3"
  },
  "language_info": {
   "codemirror_mode": {
    "name": "ipython",
    "version": 3
   },
   "file_extension": ".py",
   "mimetype": "text/x-python",
   "name": "python",
   "nbconvert_exporter": "python",
   "pygments_lexer": "ipython3",
   "version": "3.7.4"
  }
 },
 "nbformat": 4,
 "nbformat_minor": 2
}
